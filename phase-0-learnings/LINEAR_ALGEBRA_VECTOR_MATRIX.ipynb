{
  "cells": [
    {
      "cell_type": "code",
      "execution_count": 1,
      "metadata": {
        "id": "JlA8h_F0PXQs"
      },
      "outputs": [],
      "source": [
        "import numpy as np\n",
        "import matplotlib.pyplot as plt"
      ]
    },
    {
      "cell_type": "code",
      "execution_count": 11,
      "metadata": {
        "id": "MtQcwxMhPch2"
      },
      "outputs": [],
      "source": [
        "def plot_vector2d(vector2d, origin=[0, 0], **options):\n",
        "    return plt.arrow(origin[0], origin[1], vector2d[0], vector2d[1],\n",
        "              head_width=0.2, head_length=0.3, length_includes_head=True,\n",
        "              **options)"
      ]
    },
    {
      "cell_type": "markdown",
      "metadata": {
        "id": "NRZbfajTPikm"
      },
      "source": [
        "# **VEKTOR**"
      ]
    },
    {
      "cell_type": "code",
      "execution_count": 5,
      "metadata": {},
      "outputs": [],
      "source": [
        "a= np.array([1,2,3,4,5])\n",
        "b= np.array([2,2,2,1,2])"
      ]
    },
    {
      "cell_type": "code",
      "execution_count": 6,
      "metadata": {},
      "outputs": [
        {
          "data": {
            "text/plain": [
              "array([3, 4, 5, 5, 7])"
            ]
          },
          "execution_count": 6,
          "metadata": {},
          "output_type": "execute_result"
        }
      ],
      "source": [
        "a + b"
      ]
    },
    {
      "cell_type": "code",
      "execution_count": 3,
      "metadata": {},
      "outputs": [],
      "source": [
        "l1 = [1,2,3,4,5]\n",
        "l2 = [2,2,2,1,2]"
      ]
    },
    {
      "cell_type": "code",
      "execution_count": 4,
      "metadata": {},
      "outputs": [
        {
          "data": {
            "text/plain": [
              "[1, 2, 3, 4, 5, 2, 2, 2, 1, 2]"
            ]
          },
          "execution_count": 4,
          "metadata": {},
          "output_type": "execute_result"
        }
      ],
      "source": [
        "l1 + l2"
      ]
    },
    {
      "cell_type": "markdown",
      "metadata": {},
      "source": [
        "Di atas itu menunjukkan alasan kenapa digunakan array"
      ]
    },
    {
      "cell_type": "markdown",
      "metadata": {
        "id": "fI6nMDpJPlyn"
      },
      "source": [
        "## **Vector Norm**"
      ]
    },
    {
      "cell_type": "markdown",
      "metadata": {},
      "source": [
        "Vector norm can be defined by the .magnitude of the vector"
      ]
    },
    {
      "cell_type": "markdown",
      "metadata": {},
      "source": [
        "Kalau misalnya sebuah vector (3,4) maka panjang vectornya adalah 3 kuadrat ditambah 4 kuadrat kemudian diakarkan"
      ]
    },
    {
      "cell_type": "code",
      "execution_count": 8,
      "metadata": {},
      "outputs": [],
      "source": [
        "v = np.array([3,4])"
      ]
    },
    {
      "cell_type": "code",
      "execution_count": 12,
      "metadata": {
        "id": "g0rpQApvPlee"
      },
      "outputs": [
        {
          "data": {
            "image/png": "[encoded data removed]",
            "text/plain": [
              "<Figure size 432x288 with 1 Axes>"
            ]
          },
          "metadata": {
            "needs_background": "light"
          },
          "output_type": "display_data"
        }
      ],
      "source": [
        "plot_vector2d(v, color='r')\n",
        "plot_vector2d(v, color='g')\n",
        "plt.axis([0, 10, 0, 10])\n",
        "plt.grid()\n",
        "plt.show()"
      ]
    },
    {
      "cell_type": "code",
      "execution_count": 13,
      "metadata": {
        "id": "_p2c8-7sPvJK"
      },
      "outputs": [
        {
          "data": {
            "text/plain": [
              "5.0"
            ]
          },
          "execution_count": 13,
          "metadata": {},
          "output_type": "execute_result"
        }
      ],
      "source": [
        "# vector norm\n",
        "np.linalg.norm(v)"
      ]
    },
    {
      "cell_type": "code",
      "execution_count": 14,
      "metadata": {},
      "outputs": [
        {
          "data": {
            "text/plain": [
              "7.0"
            ]
          },
          "execution_count": 14,
          "metadata": {},
          "output_type": "execute_result"
        }
      ],
      "source": [
        "#manhattan distance\n",
        "\n",
        "np.linalg.norm(v,1)"
      ]
    },
    {
      "cell_type": "code",
      "execution_count": 15,
      "metadata": {},
      "outputs": [
        {
          "data": {
            "text/plain": [
              "1.0"
            ]
          },
          "execution_count": 15,
          "metadata": {},
          "output_type": "execute_result"
        }
      ],
      "source": [
        "# vector unit / vector satuan\n",
        "\n",
        "# vector unit untuk vector(4,3) adalah (4/5, 3/5) -> tiap elemen dibagi dengan panjangnya\n",
        "\n",
        "np.linalg.norm(np.array([4/5,3/5]))"
      ]
    },
    {
      "cell_type": "code",
      "execution_count": 17,
      "metadata": {},
      "outputs": [
        {
          "data": {
            "image/png": "[encoded data removed]",
            "text/plain": [
              "<Figure size 432x288 with 1 Axes>"
            ]
          },
          "metadata": {
            "needs_background": "light"
          },
          "output_type": "display_data"
        }
      ],
      "source": [
        "v1 = np.array([4,3])\n",
        "v2 = np.array([4/5, 3/5])\n",
        "plot_vector2d(v1, color='r')\n",
        "plot_vector2d(v2, color='g')\n",
        "plt.axis([0, 7, 0, 7])\n",
        "plt.grid()\n",
        "plt.show()"
      ]
    },
    {
      "cell_type": "markdown",
      "metadata": {
        "id": "Mqoxaff-PpnG"
      },
      "source": [
        "## **Operasi Aritmatika**"
      ]
    },
    {
      "cell_type": "markdown",
      "metadata": {
        "id": "q2c1SvROP-aj"
      },
      "source": [
        "**Penjumlahan**"
      ]
    },
    {
      "cell_type": "code",
      "execution_count": null,
      "metadata": {},
      "outputs": [],
      "source": [
        "b = np.array([2,0,1,3,1])"
      ]
    },
    {
      "cell_type": "code",
      "execution_count": 18,
      "metadata": {},
      "outputs": [
        {
          "name": "stdout",
          "output_type": "stream",
          "text": [
            "[1 2 3 4 5] [2 2 2 1 2]\n"
          ]
        }
      ],
      "source": [
        "print (a,b)"
      ]
    },
    {
      "cell_type": "code",
      "execution_count": 23,
      "metadata": {
        "id": "75Mk9QdWP94Y"
      },
      "outputs": [
        {
          "data": {
            "text/plain": [
              "array([11, 12, 13, 14, 15])"
            ]
          },
          "execution_count": 23,
          "metadata": {},
          "output_type": "execute_result"
        }
      ],
      "source": [
        "# vector terhadap skalar\n",
        "\n",
        "a + 10"
      ]
    },
    {
      "cell_type": "code",
      "execution_count": 21,
      "metadata": {
        "id": "pJj8VKU7QmM6"
      },
      "outputs": [
        {
          "data": {
            "text/plain": [
              "array([3, 4, 5, 5, 7])"
            ]
          },
          "execution_count": 21,
          "metadata": {},
          "output_type": "execute_result"
        }
      ],
      "source": [
        "# vector terhadap vector -> dijumlahkan sesuai urutan\n",
        "\n",
        "a+b"
      ]
    },
    {
      "cell_type": "code",
      "execution_count": 28,
      "metadata": {},
      "outputs": [
        {
          "data": {
            "image/png": "[encoded data removed]",
            "text/plain": [
              "<Figure size 432x288 with 1 Axes>"
            ]
          },
          "metadata": {
            "needs_background": "light"
          },
          "output_type": "display_data"
        }
      ],
      "source": [
        "v1 = np.array([2,5])\n",
        "v2 = np.array([6,2])\n",
        "# \n",
        "plot_vector2d(v1, color='r')\n",
        "plot_vector2d(v2, origin=v1, color='g')\n",
        "plot_vector2d(v1+v2, color='b')\n",
        "# \n",
        "plt.axis([0, 10, 0, 10])\n",
        "plt.grid()\n",
        "plt.show()"
      ]
    },
    {
      "cell_type": "code",
      "execution_count": null,
      "metadata": {
        "id": "XyfvADFLQq1F"
      },
      "outputs": [],
      "source": [
        "# v1 = \n",
        "# v2 = \n",
        "\n",
        "# plot_vector2d(v1, color='r')\n",
        "# plot_vector2d(v2, color='g')\n",
        "\n",
        "# plt.axis([0, 10, 0, 10])\n",
        "# plt.grid()\n",
        "# plt.show()"
      ]
    },
    {
      "cell_type": "markdown",
      "metadata": {
        "id": "BzkAB_32QAjJ"
      },
      "source": [
        "**pengurangan**"
      ]
    },
    {
      "cell_type": "code",
      "execution_count": 31,
      "metadata": {},
      "outputs": [
        {
          "name": "stdout",
          "output_type": "stream",
          "text": [
            "[1 2 3 4 5] [2 2 2 1 2]\n"
          ]
        }
      ],
      "source": [
        "print (a,b)"
      ]
    },
    {
      "cell_type": "code",
      "execution_count": 29,
      "metadata": {
        "id": "hxT4ccOVPiP4"
      },
      "outputs": [
        {
          "data": {
            "text/plain": [
              "array([-1,  0,  1,  2,  3])"
            ]
          },
          "execution_count": 29,
          "metadata": {},
          "output_type": "execute_result"
        }
      ],
      "source": [
        "# vector terhadap skalar\n",
        "\n",
        "a-2"
      ]
    },
    {
      "cell_type": "code",
      "execution_count": 30,
      "metadata": {
        "id": "iWw4MqUYQhsI"
      },
      "outputs": [
        {
          "data": {
            "text/plain": [
              "array([-1,  0,  1,  3,  3])"
            ]
          },
          "execution_count": 30,
          "metadata": {},
          "output_type": "execute_result"
        }
      ],
      "source": [
        "# vector terhadap vector\n",
        "\n",
        "a-b"
      ]
    },
    {
      "cell_type": "code",
      "execution_count": 38,
      "metadata": {},
      "outputs": [
        {
          "name": "stdout",
          "output_type": "stream",
          "text": [
            "[2 5] [6 2]\n"
          ]
        }
      ],
      "source": [
        "print(v1,v2)"
      ]
    },
    {
      "cell_type": "code",
      "execution_count": 36,
      "metadata": {},
      "outputs": [
        {
          "data": {
            "text/plain": [
              "array([-4,  3])"
            ]
          },
          "execution_count": 36,
          "metadata": {},
          "output_type": "execute_result"
        }
      ],
      "source": [
        "v1-v2"
      ]
    },
    {
      "cell_type": "code",
      "execution_count": 37,
      "metadata": {},
      "outputs": [
        {
          "data": {
            "image/png": "[encoded data removed]",
            "text/plain": [
              "<Figure size 432x288 with 1 Axes>"
            ]
          },
          "metadata": {
            "needs_background": "light"
          },
          "output_type": "display_data"
        }
      ],
      "source": [
        "v1 = np.array([2,5])\n",
        "v2 = np.array([6,2])\n",
        "# \n",
        "plot_vector2d(v1, color='r')\n",
        "plot_vector2d(-v2, origin=v1, color='g')\n",
        "plot_vector2d(v1-v2, color='b')\n",
        "# \n",
        "plt.axis([-10, 10, 0, 10])\n",
        "plt.axvline(0)\n",
        "plt.axhline(0)\n",
        "plt.grid()\n",
        "plt.show()"
      ]
    },
    {
      "cell_type": "markdown",
      "metadata": {
        "id": "fa7bSwA9QCzd"
      },
      "source": [
        "**pembagian**"
      ]
    },
    {
      "cell_type": "code",
      "execution_count": 39,
      "metadata": {
        "id": "b_hqM9GzQD5C"
      },
      "outputs": [
        {
          "data": {
            "text/plain": [
              "array([0.5, 1. , 1.5, 2. , 2.5])"
            ]
          },
          "execution_count": 39,
          "metadata": {},
          "output_type": "execute_result"
        }
      ],
      "source": [
        "# vector terhadap skalar\n",
        "\n",
        "a / 2"
      ]
    },
    {
      "cell_type": "code",
      "execution_count": 40,
      "metadata": {
        "id": "XN1ny5ErQfmo"
      },
      "outputs": [
        {
          "data": {
            "text/plain": [
              "array([0.5, 1. , 1.5, 4. , 2.5])"
            ]
          },
          "execution_count": 40,
          "metadata": {},
          "output_type": "execute_result"
        }
      ],
      "source": [
        "# vector terhadap vector\n",
        "\n",
        "a/b"
      ]
    },
    {
      "cell_type": "markdown",
      "metadata": {
        "id": "Pqj-CC5ZQEaR"
      },
      "source": [
        "**perkalian**"
      ]
    },
    {
      "cell_type": "code",
      "execution_count": 42,
      "metadata": {},
      "outputs": [
        {
          "data": {
            "text/plain": [
              "array([8, 6])"
            ]
          },
          "execution_count": 42,
          "metadata": {},
          "output_type": "execute_result"
        }
      ],
      "source": [
        "2*v"
      ]
    },
    {
      "cell_type": "code",
      "execution_count": 44,
      "metadata": {
        "id": "aX6BlECiQGBQ"
      },
      "outputs": [
        {
          "data": {
            "image/png": "[encoded data removed]",
            "text/plain": [
              "<Figure size 432x288 with 1 Axes>"
            ]
          },
          "metadata": {
            "needs_background": "light"
          },
          "output_type": "display_data"
        }
      ],
      "source": [
        "# vector terhadap skalar - scaling\n",
        "\n",
        "v = np.array([4,3])\n",
        "\n",
        "# \n",
        "plot_vector2d(2*v, color='g')\n",
        "plot_vector2d(v, color='r')\n",
        "\n",
        "# \n",
        "plt.axis([-10, 10, 0, 10])\n",
        "plt.axvline(0)\n",
        "plt.axhline(0)\n",
        "plt.grid()\n",
        "plt.show()"
      ]
    },
    {
      "cell_type": "code",
      "execution_count": 46,
      "metadata": {},
      "outputs": [
        {
          "data": {
            "image/png": "[encoded data removed]",
            "text/plain": [
              "<Figure size 432x288 with 1 Axes>"
            ]
          },
          "metadata": {
            "needs_background": "light"
          },
          "output_type": "display_data"
        }
      ],
      "source": [
        "v = np.array([4,3])\n",
        "\n",
        "# \n",
        "plot_vector2d(0.5*v, color='g')\n",
        "plot_vector2d(v, color='r')\n",
        "\n",
        "# \n",
        "plt.axis([-10, 10, 0, 10])\n",
        "plt.axvline(0)\n",
        "plt.axhline(0)\n",
        "plt.grid()\n",
        "plt.show()"
      ]
    },
    {
      "cell_type": "code",
      "execution_count": 48,
      "metadata": {},
      "outputs": [
        {
          "data": {
            "image/png": "[encoded data removed]",
            "text/plain": [
              "<Figure size 432x288 with 1 Axes>"
            ]
          },
          "metadata": {
            "needs_background": "light"
          },
          "output_type": "display_data"
        }
      ],
      "source": [
        "v = np.array([4,3])\n",
        "\n",
        "# \n",
        "plot_vector2d(-1.5*v, color='g')\n",
        "plot_vector2d(v, color='r')\n",
        "\n",
        "# \n",
        "plt.axis([-10, 10, -10, 10])\n",
        "plt.axvline(0)\n",
        "plt.axhline(0)\n",
        "plt.grid()\n",
        "plt.show()"
      ]
    },
    {
      "cell_type": "code",
      "execution_count": 49,
      "metadata": {},
      "outputs": [
        {
          "name": "stdout",
          "output_type": "stream",
          "text": [
            "[1 2 3 4 5] [2 2 2 1 2]\n"
          ]
        }
      ],
      "source": [
        "print (a,b)"
      ]
    },
    {
      "cell_type": "code",
      "execution_count": 50,
      "metadata": {
        "id": "FbsXfSAIQNlz"
      },
      "outputs": [
        {
          "data": {
            "text/plain": [
              "array([ 2,  4,  6,  4, 10])"
            ]
          },
          "execution_count": 50,
          "metadata": {},
          "output_type": "execute_result"
        }
      ],
      "source": [
        "#  vector terhadap vector\n",
        "\n",
        "a*b"
      ]
    },
    {
      "cell_type": "code",
      "execution_count": 51,
      "metadata": {
        "id": "qhoRIsn9Qbam"
      },
      "outputs": [
        {
          "data": {
            "text/plain": [
              "26"
            ]
          },
          "execution_count": 51,
          "metadata": {},
          "output_type": "execute_result"
        }
      ],
      "source": [
        "# dot product\n",
        "\n",
        "np.dot(a,b)"
      ]
    },
    {
      "cell_type": "code",
      "execution_count": 52,
      "metadata": {},
      "outputs": [
        {
          "data": {
            "text/plain": [
              "26"
            ]
          },
          "execution_count": 52,
          "metadata": {},
          "output_type": "execute_result"
        }
      ],
      "source": [
        "a @ b"
      ]
    },
    {
      "cell_type": "markdown",
      "metadata": {
        "id": "FvUFjsJpRDih"
      },
      "source": [
        "## **Cosine Similarity**"
      ]
    },
    {
      "cell_type": "code",
      "execution_count": 53,
      "metadata": {
        "id": "8xvgUo51RBoc"
      },
      "outputs": [
        {
          "data": {
            "image/png": "[encoded data removed]",
            "text/plain": [
              "<Figure size 432x288 with 1 Axes>"
            ]
          },
          "metadata": {
            "needs_background": "light"
          },
          "output_type": "display_data"
        }
      ],
      "source": [
        "v1 = np.array([4,3])\n",
        "v2 = np.array([6,3])\n",
        "# \n",
        "plot_vector2d(v1, color='g')\n",
        "plot_vector2d(v2, color='r')\n",
        "\n",
        "# \n",
        "plt.axis([-10, 10, 0, 10])\n",
        "plt.axvline(0)\n",
        "plt.axhline(0)\n",
        "plt.grid()\n",
        "plt.show()"
      ]
    },
    {
      "cell_type": "code",
      "execution_count": 54,
      "metadata": {},
      "outputs": [
        {
          "data": {
            "text/plain": [
              "0.9838699100999073"
            ]
          },
          "execution_count": 54,
          "metadata": {},
          "output_type": "execute_result"
        }
      ],
      "source": [
        "cos_theta = v1 @ v2 / (np.linalg.norm(v1) * np.linalg.norm(v2))\n",
        "\n",
        "cos_theta"
      ]
    },
    {
      "cell_type": "code",
      "execution_count": 72,
      "metadata": {},
      "outputs": [
        {
          "name": "stdout",
          "output_type": "stream",
          "text": [
            "[5 0] [8 0]\n"
          ]
        }
      ],
      "source": [
        "print (v1,v2)"
      ]
    },
    {
      "cell_type": "code",
      "execution_count": 71,
      "metadata": {},
      "outputs": [
        {
          "data": {
            "image/png": "[encoded data removed]",
            "text/plain": [
              "<Figure size 432x288 with 1 Axes>"
            ]
          },
          "metadata": {
            "needs_background": "light"
          },
          "output_type": "display_data"
        }
      ],
      "source": [
        "v1 = np.array([5,0])\n",
        "v2 = np.array([8,0])\n",
        "# \n",
        "plot_vector2d(v1, color='g')\n",
        "plot_vector2d(v2, color='r')\n",
        "\n",
        "# \n",
        "plt.axis([0, 10, 0, 10])\n",
        "plt.axvline(0)\n",
        "plt.axhline(0)\n",
        "plt.grid()\n",
        "plt.show()"
      ]
    },
    {
      "cell_type": "code",
      "execution_count": 73,
      "metadata": {},
      "outputs": [
        {
          "data": {
            "text/plain": [
              "1.0"
            ]
          },
          "execution_count": 73,
          "metadata": {},
          "output_type": "execute_result"
        }
      ],
      "source": [
        "cos_theta = v1 @ v2/(np.linalg.norm(v1) * np.linalg.norm(v2))\n",
        "\n",
        "cos_theta"
      ]
    },
    {
      "cell_type": "code",
      "execution_count": 74,
      "metadata": {},
      "outputs": [
        {
          "data": {
            "text/plain": [
              "0.0"
            ]
          },
          "execution_count": 74,
          "metadata": {},
          "output_type": "execute_result"
        }
      ],
      "source": [
        "radian = np.arccos(cos_theta)\n",
        "radian"
      ]
    },
    {
      "cell_type": "code",
      "execution_count": 67,
      "metadata": {},
      "outputs": [
        {
          "data": {
            "image/png": "[encoded data removed]",
            "text/plain": [
              "<Figure size 432x288 with 1 Axes>"
            ]
          },
          "metadata": {
            "needs_background": "light"
          },
          "output_type": "display_data"
        }
      ],
      "source": [
        "v1 = np.array([0,5])\n",
        "v2 = np.array([0,8])\n",
        "# \n",
        "plot_vector2d(v1, color='g')\n",
        "plot_vector2d(v2, color='r')\n",
        "\n",
        "# \n",
        "plt.axis([0, 10, 0, 10])\n",
        "plt.axvline(0)\n",
        "plt.axhline(0)\n",
        "plt.grid()\n",
        "plt.show()"
      ]
    },
    {
      "cell_type": "code",
      "execution_count": 68,
      "metadata": {},
      "outputs": [
        {
          "data": {
            "text/plain": [
              "1.0"
            ]
          },
          "execution_count": 68,
          "metadata": {},
          "output_type": "execute_result"
        }
      ],
      "source": [
        "cos_theta = v1@v2/(np.linalg.norm(v1) * np.linalg.norm(v2))\n",
        "\n",
        "cos_theta"
      ]
    },
    {
      "cell_type": "code",
      "execution_count": 69,
      "metadata": {},
      "outputs": [
        {
          "data": {
            "text/plain": [
              "0.0"
            ]
          },
          "execution_count": 69,
          "metadata": {},
          "output_type": "execute_result"
        }
      ],
      "source": [
        "radian = np.arccos(cos_theta)\n",
        "radian"
      ]
    },
    {
      "cell_type": "markdown",
      "metadata": {
        "id": "OCatTijvRAr2"
      },
      "source": [
        "# **MATRIX**"
      ]
    },
    {
      "cell_type": "code",
      "execution_count": 76,
      "metadata": {
        "id": "7X8o2RUpRPqC"
      },
      "outputs": [
        {
          "data": {
            "text/plain": [
              "array([[1, 2, 3],\n",
              "       [4, 5, 6],\n",
              "       [7, 8, 9]])"
            ]
          },
          "execution_count": 76,
          "metadata": {},
          "output_type": "execute_result"
        }
      ],
      "source": [
        "A = np.array([\n",
        "    [1,2,3],\n",
        "    [4,5,6,],\n",
        "    [7,8,9]\n",
        "])\n",
        "\n",
        "A"
      ]
    },
    {
      "cell_type": "code",
      "execution_count": 77,
      "metadata": {},
      "outputs": [
        {
          "data": {
            "text/plain": [
              "array([7, 8, 9])"
            ]
          },
          "execution_count": 77,
          "metadata": {},
          "output_type": "execute_result"
        }
      ],
      "source": [
        "# INDEXING MATRIX\n",
        "\n",
        "A[2,:]"
      ]
    },
    {
      "cell_type": "markdown",
      "metadata": {
        "id": "yasQ24RGRReC"
      },
      "source": [
        "## **Operasi Aritmatika**"
      ]
    },
    {
      "cell_type": "code",
      "execution_count": null,
      "metadata": {},
      "outputs": [],
      "source": []
    },
    {
      "cell_type": "markdown",
      "metadata": {
        "id": "0fshRx_HRebj"
      },
      "source": [
        "**Penjumlahan**"
      ]
    },
    {
      "cell_type": "code",
      "execution_count": null,
      "metadata": {
        "id": "umYzqz0eRQ7w"
      },
      "outputs": [],
      "source": [
        "# Matrix terhadap scalar"
      ]
    },
    {
      "cell_type": "code",
      "execution_count": null,
      "metadata": {
        "id": "iRpMtdrkR1MA"
      },
      "outputs": [],
      "source": [
        "# Matrix terhadap matrix"
      ]
    },
    {
      "cell_type": "markdown",
      "metadata": {
        "id": "ZT7HxhL_RiPn"
      },
      "source": [
        "**Pengurangan**"
      ]
    },
    {
      "cell_type": "code",
      "execution_count": null,
      "metadata": {
        "id": "wX5wsFKgRhvz"
      },
      "outputs": [],
      "source": [
        "# Matrix terhadap scalar"
      ]
    },
    {
      "cell_type": "code",
      "execution_count": null,
      "metadata": {
        "id": "XOiB3Ng-R3ZV"
      },
      "outputs": [],
      "source": [
        "# Matrix terhadap matrix"
      ]
    },
    {
      "cell_type": "markdown",
      "metadata": {
        "id": "V1uqaGXDRkes"
      },
      "source": [
        "**Pembagian**"
      ]
    },
    {
      "cell_type": "code",
      "execution_count": null,
      "metadata": {
        "id": "F8uQAKMhRkG7"
      },
      "outputs": [],
      "source": [
        "# Matrix terhadap scalar"
      ]
    },
    {
      "cell_type": "code",
      "execution_count": null,
      "metadata": {
        "id": "uO7fElhwR6Fn"
      },
      "outputs": [],
      "source": [
        "# Matrix terhadap matrix"
      ]
    },
    {
      "cell_type": "markdown",
      "metadata": {
        "id": "_e8x13v-Rmov"
      },
      "source": [
        "**Perkalian**"
      ]
    },
    {
      "cell_type": "code",
      "execution_count": null,
      "metadata": {
        "id": "5os9Jk9JRnPH"
      },
      "outputs": [],
      "source": [
        "# Matrix terhadap scalar"
      ]
    },
    {
      "cell_type": "code",
      "execution_count": null,
      "metadata": {
        "id": "f6u68ZJyR_ku"
      },
      "outputs": [],
      "source": [
        "# Hadamard Product - Element Wise Multiplication"
      ]
    },
    {
      "cell_type": "code",
      "execution_count": null,
      "metadata": {
        "id": "EK8HV8FpSEZr"
      },
      "outputs": [],
      "source": [
        "# Matrix-to-Matrix Multiplication"
      ]
    },
    {
      "cell_type": "markdown",
      "metadata": {
        "id": "Y47aYX9JSTCb"
      },
      "source": [
        "# **TENSOR**"
      ]
    },
    {
      "cell_type": "code",
      "execution_count": 78,
      "metadata": {
        "id": "cK4jgxy1SSra"
      },
      "outputs": [],
      "source": [
        "M1 = np.array([[1,2,3,4],[5,6,7,8]])\n",
        "\n",
        "M2 = np.array([[5,2,0,4],[7,7,6,2]])\n",
        "\n",
        "M3 = np.array([[7,3,6,0], [4,2,2,1]])"
      ]
    },
    {
      "cell_type": "code",
      "execution_count": null,
      "metadata": {},
      "outputs": [],
      "source": []
    },
    {
      "cell_type": "code",
      "execution_count": null,
      "metadata": {},
      "outputs": [],
      "source": []
    },
    {
      "cell_type": "code",
      "execution_count": null,
      "metadata": {},
      "outputs": [],
      "source": [
        "tensor.ndim"
      ]
    },
    {
      "cell_type": "markdown",
      "metadata": {
        "id": "Pk1MGlcjSdKB"
      },
      "source": [
        "# **PRACTICE: VECTOR - COSINE SIMILARITY**"
      ]
    },
    {
      "cell_type": "markdown",
      "metadata": {
        "id": "8tBth0geSk5L"
      },
      "source": [
        "- kalimat 1 = kemarin saya ke rumah nenek saya\n",
        "- kalimat 2 = kemarin saya ke rumah kakek saya"
      ]
    },
    {
      "cell_type": "code",
      "execution_count": 80,
      "metadata": {
        "id": "ODR24UXhScug"
      },
      "outputs": [],
      "source": [
        "kal_1 = np.array([1,2,1,1,1,0])\n",
        "kal_2 = np.array([1,2,1,1,0,1])"
      ]
    },
    {
      "cell_type": "code",
      "execution_count": 82,
      "metadata": {},
      "outputs": [
        {
          "data": {
            "text/plain": [
              "0.8749999999999998"
            ]
          },
          "execution_count": 82,
          "metadata": {},
          "output_type": "execute_result"
        }
      ],
      "source": [
        "cos_theta = kal_1 @ kal_2 / (np.linalg.norm(kal_1) * np.linalg.norm(kal_2))\n",
        "\n",
        "cos_theta"
      ]
    },
    {
      "cell_type": "code",
      "execution_count": null,
      "metadata": {
        "id": "H1E1GoQtTBls"
      },
      "outputs": [],
      "source": []
    },
    {
      "cell_type": "markdown",
      "metadata": {
        "id": "j2KPMazITCT6"
      },
      "source": [
        "- kalimat_1 = kucing mengejar tikus\n",
        "- kalimat_2 = tikus mengejar kucing\n",
        "\n",
        "|kamus|kalimat 1|kalimat 2|\n",
        "|--|--|--|\n",
        "|kucing|1|1|\n",
        "|mengejar|1|1|\n",
        "|tikus|1|1|"
      ]
    },
    {
      "cell_type": "code",
      "execution_count": null,
      "metadata": {
        "id": "_SEmEjnJTFiE"
      },
      "outputs": [],
      "source": []
    }
  ],
  "metadata": {
    "colab": {
      "collapsed_sections": [],
      "name": "LINEAR ALGEBRA: VECTOR & MATRIX.ipynb",
      "provenance": []
    },
    "kernelspec": {
      "display_name": "Python 3.9.6 64-bit",
      "language": "python",
      "name": "python3"
    },
    "language_info": {
      "codemirror_mode": {
        "name": "ipython",
        "version": 3
      },
      "file_extension": ".py",
      "mimetype": "text/x-python",
      "name": "python",
      "nbconvert_exporter": "python",
      "pygments_lexer": "ipython3",
      "version": "3.9.6"
    },
    "vscode": {
      "interpreter": {
        "hash": "f3d42ad487b2b2994e012ab0306cc0a65d83ea9d079e1ade1e8453053e613de7"
      }
    }
  },
  "nbformat": 4,
  "nbformat_minor": 0
}
