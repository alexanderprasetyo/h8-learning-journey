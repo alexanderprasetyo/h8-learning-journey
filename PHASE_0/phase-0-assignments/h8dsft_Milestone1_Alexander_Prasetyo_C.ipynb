{
 "cells": [
  {
   "cell_type": "markdown",
   "metadata": {},
   "source": [
    "# Milestone Assignment 1"
   ]
  },
  {
   "cell_type": "markdown",
   "metadata": {},
   "source": [
    "* *Name* : Alexander Prasetyo Christianto\n",
    "* *Age* : 23\n",
    "* *Last Education Background* : *Electrical Engineering*\n",
    "* *Occupation* : *Full Time Data Science Student Batch-001*"
   ]
  },
  {
   "cell_type": "markdown",
   "metadata": {},
   "source": [
    "## Description\n",
    "\n",
    "In 2016, Cyclistic launched a successful bike-share offering. Since then, the program has grown to a fleet of 5,824 bicycles that are geotracked and locked into a network of 692 stations across Chicago. The bikes can be unlocked from one station and returned to any other station in the system anytime. Until now, Cyclistic’s marketing strategy relied on building general awareness and appealing to broad consumer segments. Customers who purchase single-ride or full-day passes are referred to as casual riders. Customers who purchase annual memberships are Cyclistic members.\n",
    "\n",
    "### Problem Statement\n",
    "\n",
    "I am a freelancer data analyst and i am given a task to analyze my client data which is Divvy. **Divvy, a bike-sharing company, wants me to analyzes their user data to find key behavioral differences between two user types: “casual members” who pay per ride and \"annual members\" who pay an annual subscription to the service.** Moreno believes that maximizing the number of annual members will be key to future growth. Rather than creating a marketing campaign that targets all-new customers, Moreno believes there is a very good chance to convert casual riders into members.\n",
    "\n",
    "### Key Objectives\n",
    "\n",
    "Six questions will guide this analysis for the future marketing program in Divvy:\n",
    "\n",
    "1. Who are taking these rides, members or casuals?\n",
    "2. How long are they riding?\n",
    "3. Where is the busiest station?\n",
    "4. What day have the most customers?\n",
    "5. What type of bikes they are riding?\n",
    "6. Does the rideable type has relationship with the membership of Divvy users?\n",
    "\n",
    "**STAKEHOLDERS INCLUDE**:\n",
    "\n",
    "- Cyclistic executive team\n",
    "- Lily Moreno (fictional supervisor)"
   ]
  },
  {
   "cell_type": "markdown",
   "metadata": {},
   "source": [
    "### About Dataset\n",
    "\n",
    "The data is on an AWS server where it is easily downloadable and named correctly. I downloaded the previous 13 months data and stored it locally for the next steps in the analysis processes. It is organized by year and Fiscal Quarters. The data is current, cited, original but not reliable. There are some null values and outliers in the data.\n",
    "\n",
    "Note that data-privacy issues prohibits me from using riders’ personally identifiable information. This means that you won’t be able to connect pass purchases to credit card numbers to determine if casual riders live in the Cyclistic service area or if they have purchased multiple single passes.\n",
    "\n",
    "The files are saved in comma-seperated values (CSV).\n",
    "\n",
    "Tools used to analyze this data are Excel and Python\n",
    "\n",
    "Link to previous 12 months of Cyclistic Trip Data: https://divvy-tripdata.s3.amazonaws.com/index.html"
   ]
  },
  {
   "cell_type": "markdown",
   "metadata": {},
   "source": [
    "## Workstation"
   ]
  },
  {
   "cell_type": "markdown",
   "metadata": {},
   "source": [
    "This part contains of libraries of data analysis and visualization, data pre-processing and data processing."
   ]
  },
  {
   "cell_type": "markdown",
   "metadata": {},
   "source": [
    "#### Libraries Used"
   ]
  },
  {
   "cell_type": "markdown",
   "metadata": {},
   "source": [
    "As part of our preparation of processing the data, I am going to use all the libraries below"
   ]
  },
  {
   "cell_type": "code",
   "execution_count": 1,
   "metadata": {},
   "outputs": [],
   "source": [
    "import pandas as pd\n",
    "import numpy as np\n",
    "import seaborn as sns\n",
    "import datetime \n",
    "import matplotlib.pyplot as plt\n",
    "from scipy import stats"
   ]
  },
  {
   "cell_type": "markdown",
   "metadata": {},
   "source": [
    "#### Data Pre-processsing"
   ]
  },
  {
   "cell_type": "markdown",
   "metadata": {},
   "source": [
    "In Data Analytics, the first step is data collection were you gather, obtain, and measure the necessary data from available internal or external data sources, and then compiled the data into an established system. I will be using the Divvy dataset for the case study. The purpose of this script is to consolidate downloaded Divvy data into a single dataframe and then conduct simple analysis to help answer the key objectives."
   ]
  },
  {
   "cell_type": "code",
   "execution_count": 2,
   "metadata": {},
   "outputs": [],
   "source": [
    "# importing the data from January 2021 to December 2021\n",
    "\n",
    "df1 = pd.read_csv('202101-divvy-tripdata.csv')\n",
    "df2 = pd.read_csv('202102-divvy-tripdata.csv')\n",
    "df3 = pd.read_csv('202103-divvy-tripdata.csv')\n",
    "df4 = pd.read_csv('202104-divvy-tripdata.csv')\n",
    "df5 = pd.read_csv('202105-divvy-tripdata.csv')\n",
    "df6 = pd.read_csv('202106-divvy-tripdata.csv')\n",
    "df7 = pd.read_csv('202107-divvy-tripdata.csv')\n",
    "df8 = pd.read_csv('202108-divvy-tripdata.csv')\n",
    "df9 = pd.read_csv('202109-divvy-tripdata.csv')\n",
    "df10 = pd.read_csv('202110-divvy-tripdata.csv')\n",
    "df11 = pd.read_csv('202111-divvy-tripdata.csv')\n",
    "df12 = pd.read_csv('202112-divvy-tripdata.csv')"
   ]
  },
  {
   "cell_type": "code",
   "execution_count": 3,
   "metadata": {},
   "outputs": [
    {
     "data": {
      "text/plain": [
       "(5595063, 13)"
      ]
     },
     "execution_count": 3,
     "metadata": {},
     "output_type": "execute_result"
    }
   ],
   "source": [
    "# merging all data into one data frame\n",
    "\n",
    "cyclistic_data = pd.concat([df1, df2, df3, df4, df5, df6, df7, df8, df9, df10, df11, df12])\n",
    "cyclistic_data.shape"
   ]
  },
  {
   "cell_type": "markdown",
   "metadata": {},
   "source": [
    "Since I have multiple data sets to use for analysis, I have to perform data integration by combining all the data sets into one data set."
   ]
  },
  {
   "cell_type": "code",
   "execution_count": 4,
   "metadata": {},
   "outputs": [
    {
     "data": {
      "text/html": [
       "<div>\n",
       "<style scoped>\n",
       "    .dataframe tbody tr th:only-of-type {\n",
       "        vertical-align: middle;\n",
       "    }\n",
       "\n",
       "    .dataframe tbody tr th {\n",
       "        vertical-align: top;\n",
       "    }\n",
       "\n",
       "    .dataframe thead th {\n",
       "        text-align: right;\n",
       "    }\n",
       "</style>\n",
       "<table border=\"1\" class=\"dataframe\">\n",
       "  <thead>\n",
       "    <tr style=\"text-align: right;\">\n",
       "      <th></th>\n",
       "      <th>ride_id</th>\n",
       "      <th>rideable_type</th>\n",
       "      <th>started_at</th>\n",
       "      <th>ended_at</th>\n",
       "      <th>start_station_name</th>\n",
       "      <th>start_station_id</th>\n",
       "      <th>end_station_name</th>\n",
       "      <th>end_station_id</th>\n",
       "      <th>start_lat</th>\n",
       "      <th>start_lng</th>\n",
       "      <th>end_lat</th>\n",
       "      <th>end_lng</th>\n",
       "      <th>member_casual</th>\n",
       "    </tr>\n",
       "  </thead>\n",
       "  <tbody>\n",
       "    <tr>\n",
       "      <th>0</th>\n",
       "      <td>E19E6F1B8D4C42ED</td>\n",
       "      <td>electric_bike</td>\n",
       "      <td>2021-01-23 16:14:19</td>\n",
       "      <td>2021-01-23 16:24:44</td>\n",
       "      <td>California Ave &amp; Cortez St</td>\n",
       "      <td>17660</td>\n",
       "      <td>NaN</td>\n",
       "      <td>NaN</td>\n",
       "      <td>41.900341</td>\n",
       "      <td>-87.696743</td>\n",
       "      <td>41.89</td>\n",
       "      <td>-87.72</td>\n",
       "      <td>member</td>\n",
       "    </tr>\n",
       "    <tr>\n",
       "      <th>1</th>\n",
       "      <td>DC88F20C2C55F27F</td>\n",
       "      <td>electric_bike</td>\n",
       "      <td>2021-01-27 18:43:08</td>\n",
       "      <td>2021-01-27 18:47:12</td>\n",
       "      <td>California Ave &amp; Cortez St</td>\n",
       "      <td>17660</td>\n",
       "      <td>NaN</td>\n",
       "      <td>NaN</td>\n",
       "      <td>41.900333</td>\n",
       "      <td>-87.696707</td>\n",
       "      <td>41.90</td>\n",
       "      <td>-87.69</td>\n",
       "      <td>member</td>\n",
       "    </tr>\n",
       "    <tr>\n",
       "      <th>2</th>\n",
       "      <td>EC45C94683FE3F27</td>\n",
       "      <td>electric_bike</td>\n",
       "      <td>2021-01-21 22:35:54</td>\n",
       "      <td>2021-01-21 22:37:14</td>\n",
       "      <td>California Ave &amp; Cortez St</td>\n",
       "      <td>17660</td>\n",
       "      <td>NaN</td>\n",
       "      <td>NaN</td>\n",
       "      <td>41.900313</td>\n",
       "      <td>-87.696643</td>\n",
       "      <td>41.90</td>\n",
       "      <td>-87.70</td>\n",
       "      <td>member</td>\n",
       "    </tr>\n",
       "    <tr>\n",
       "      <th>3</th>\n",
       "      <td>4FA453A75AE377DB</td>\n",
       "      <td>electric_bike</td>\n",
       "      <td>2021-01-07 13:31:13</td>\n",
       "      <td>2021-01-07 13:42:55</td>\n",
       "      <td>California Ave &amp; Cortez St</td>\n",
       "      <td>17660</td>\n",
       "      <td>NaN</td>\n",
       "      <td>NaN</td>\n",
       "      <td>41.900399</td>\n",
       "      <td>-87.696662</td>\n",
       "      <td>41.92</td>\n",
       "      <td>-87.69</td>\n",
       "      <td>member</td>\n",
       "    </tr>\n",
       "    <tr>\n",
       "      <th>4</th>\n",
       "      <td>BE5E8EB4E7263A0B</td>\n",
       "      <td>electric_bike</td>\n",
       "      <td>2021-01-23 02:24:02</td>\n",
       "      <td>2021-01-23 02:24:45</td>\n",
       "      <td>California Ave &amp; Cortez St</td>\n",
       "      <td>17660</td>\n",
       "      <td>NaN</td>\n",
       "      <td>NaN</td>\n",
       "      <td>41.900326</td>\n",
       "      <td>-87.696697</td>\n",
       "      <td>41.90</td>\n",
       "      <td>-87.70</td>\n",
       "      <td>casual</td>\n",
       "    </tr>\n",
       "  </tbody>\n",
       "</table>\n",
       "</div>"
      ],
      "text/plain": [
       "            ride_id  rideable_type           started_at             ended_at  \\\n",
       "0  E19E6F1B8D4C42ED  electric_bike  2021-01-23 16:14:19  2021-01-23 16:24:44   \n",
       "1  DC88F20C2C55F27F  electric_bike  2021-01-27 18:43:08  2021-01-27 18:47:12   \n",
       "2  EC45C94683FE3F27  electric_bike  2021-01-21 22:35:54  2021-01-21 22:37:14   \n",
       "3  4FA453A75AE377DB  electric_bike  2021-01-07 13:31:13  2021-01-07 13:42:55   \n",
       "4  BE5E8EB4E7263A0B  electric_bike  2021-01-23 02:24:02  2021-01-23 02:24:45   \n",
       "\n",
       "           start_station_name start_station_id end_station_name  \\\n",
       "0  California Ave & Cortez St            17660              NaN   \n",
       "1  California Ave & Cortez St            17660              NaN   \n",
       "2  California Ave & Cortez St            17660              NaN   \n",
       "3  California Ave & Cortez St            17660              NaN   \n",
       "4  California Ave & Cortez St            17660              NaN   \n",
       "\n",
       "  end_station_id  start_lat  start_lng  end_lat  end_lng member_casual  \n",
       "0            NaN  41.900341 -87.696743    41.89   -87.72        member  \n",
       "1            NaN  41.900333 -87.696707    41.90   -87.69        member  \n",
       "2            NaN  41.900313 -87.696643    41.90   -87.70        member  \n",
       "3            NaN  41.900399 -87.696662    41.92   -87.69        member  \n",
       "4            NaN  41.900326 -87.696697    41.90   -87.70        casual  "
      ]
     },
     "execution_count": 4,
     "metadata": {},
     "output_type": "execute_result"
    }
   ],
   "source": [
    "cyclistic_data.head()"
   ]
  },
  {
   "cell_type": "code",
   "execution_count": 5,
   "metadata": {},
   "outputs": [
    {
     "data": {
      "text/html": [
       "<div>\n",
       "<style scoped>\n",
       "    .dataframe tbody tr th:only-of-type {\n",
       "        vertical-align: middle;\n",
       "    }\n",
       "\n",
       "    .dataframe tbody tr th {\n",
       "        vertical-align: top;\n",
       "    }\n",
       "\n",
       "    .dataframe thead th {\n",
       "        text-align: right;\n",
       "    }\n",
       "</style>\n",
       "<table border=\"1\" class=\"dataframe\">\n",
       "  <thead>\n",
       "    <tr style=\"text-align: right;\">\n",
       "      <th></th>\n",
       "      <th>ride_id</th>\n",
       "      <th>rideable_type</th>\n",
       "      <th>started_at</th>\n",
       "      <th>ended_at</th>\n",
       "      <th>start_station_name</th>\n",
       "      <th>start_station_id</th>\n",
       "      <th>end_station_name</th>\n",
       "      <th>end_station_id</th>\n",
       "      <th>start_lat</th>\n",
       "      <th>start_lng</th>\n",
       "      <th>end_lat</th>\n",
       "      <th>end_lng</th>\n",
       "      <th>member_casual</th>\n",
       "    </tr>\n",
       "  </thead>\n",
       "  <tbody>\n",
       "    <tr>\n",
       "      <th>247535</th>\n",
       "      <td>847431F3D5353AB7</td>\n",
       "      <td>electric_bike</td>\n",
       "      <td>2021-12-12 13:36:55</td>\n",
       "      <td>2021-12-12 13:56:08</td>\n",
       "      <td>Canal St &amp; Madison St</td>\n",
       "      <td>13341</td>\n",
       "      <td>NaN</td>\n",
       "      <td>NaN</td>\n",
       "      <td>41.882289</td>\n",
       "      <td>-87.639752</td>\n",
       "      <td>41.890000</td>\n",
       "      <td>-87.610000</td>\n",
       "      <td>casual</td>\n",
       "    </tr>\n",
       "    <tr>\n",
       "      <th>247536</th>\n",
       "      <td>CF407BBC3B9FAD63</td>\n",
       "      <td>electric_bike</td>\n",
       "      <td>2021-12-06 19:37:50</td>\n",
       "      <td>2021-12-06 19:44:51</td>\n",
       "      <td>Canal St &amp; Madison St</td>\n",
       "      <td>13341</td>\n",
       "      <td>Kingsbury St &amp; Kinzie St</td>\n",
       "      <td>KA1503000043</td>\n",
       "      <td>41.882123</td>\n",
       "      <td>-87.640053</td>\n",
       "      <td>41.889106</td>\n",
       "      <td>-87.638862</td>\n",
       "      <td>member</td>\n",
       "    </tr>\n",
       "    <tr>\n",
       "      <th>247537</th>\n",
       "      <td>60BB69EBF5440E92</td>\n",
       "      <td>electric_bike</td>\n",
       "      <td>2021-12-02 08:57:04</td>\n",
       "      <td>2021-12-02 09:05:21</td>\n",
       "      <td>Canal St &amp; Madison St</td>\n",
       "      <td>13341</td>\n",
       "      <td>Dearborn St &amp; Monroe St</td>\n",
       "      <td>TA1305000006</td>\n",
       "      <td>41.881956</td>\n",
       "      <td>-87.639955</td>\n",
       "      <td>41.880254</td>\n",
       "      <td>-87.629603</td>\n",
       "      <td>member</td>\n",
       "    </tr>\n",
       "    <tr>\n",
       "      <th>247538</th>\n",
       "      <td>C414F654A28635B8</td>\n",
       "      <td>electric_bike</td>\n",
       "      <td>2021-12-13 09:00:26</td>\n",
       "      <td>2021-12-13 09:14:39</td>\n",
       "      <td>Lawndale Ave &amp; 16th St</td>\n",
       "      <td>362.0</td>\n",
       "      <td>NaN</td>\n",
       "      <td>NaN</td>\n",
       "      <td>41.860000</td>\n",
       "      <td>-87.720000</td>\n",
       "      <td>41.850000</td>\n",
       "      <td>-87.710000</td>\n",
       "      <td>member</td>\n",
       "    </tr>\n",
       "    <tr>\n",
       "      <th>247539</th>\n",
       "      <td>37AC57E34B2E7E97</td>\n",
       "      <td>classic_bike</td>\n",
       "      <td>2021-12-13 08:45:32</td>\n",
       "      <td>2021-12-13 08:49:09</td>\n",
       "      <td>Michigan Ave &amp; Jackson Blvd</td>\n",
       "      <td>TA1309000002</td>\n",
       "      <td>Dearborn St &amp; Monroe St</td>\n",
       "      <td>TA1305000006</td>\n",
       "      <td>41.877850</td>\n",
       "      <td>-87.624080</td>\n",
       "      <td>41.881320</td>\n",
       "      <td>-87.629521</td>\n",
       "      <td>member</td>\n",
       "    </tr>\n",
       "  </tbody>\n",
       "</table>\n",
       "</div>"
      ],
      "text/plain": [
       "                 ride_id  rideable_type           started_at  \\\n",
       "247535  847431F3D5353AB7  electric_bike  2021-12-12 13:36:55   \n",
       "247536  CF407BBC3B9FAD63  electric_bike  2021-12-06 19:37:50   \n",
       "247537  60BB69EBF5440E92  electric_bike  2021-12-02 08:57:04   \n",
       "247538  C414F654A28635B8  electric_bike  2021-12-13 09:00:26   \n",
       "247539  37AC57E34B2E7E97   classic_bike  2021-12-13 08:45:32   \n",
       "\n",
       "                   ended_at           start_station_name start_station_id  \\\n",
       "247535  2021-12-12 13:56:08        Canal St & Madison St            13341   \n",
       "247536  2021-12-06 19:44:51        Canal St & Madison St            13341   \n",
       "247537  2021-12-02 09:05:21        Canal St & Madison St            13341   \n",
       "247538  2021-12-13 09:14:39       Lawndale Ave & 16th St            362.0   \n",
       "247539  2021-12-13 08:49:09  Michigan Ave & Jackson Blvd     TA1309000002   \n",
       "\n",
       "                end_station_name end_station_id  start_lat  start_lng  \\\n",
       "247535                       NaN            NaN  41.882289 -87.639752   \n",
       "247536  Kingsbury St & Kinzie St   KA1503000043  41.882123 -87.640053   \n",
       "247537   Dearborn St & Monroe St   TA1305000006  41.881956 -87.639955   \n",
       "247538                       NaN            NaN  41.860000 -87.720000   \n",
       "247539   Dearborn St & Monroe St   TA1305000006  41.877850 -87.624080   \n",
       "\n",
       "          end_lat    end_lng member_casual  \n",
       "247535  41.890000 -87.610000        casual  \n",
       "247536  41.889106 -87.638862        member  \n",
       "247537  41.880254 -87.629603        member  \n",
       "247538  41.850000 -87.710000        member  \n",
       "247539  41.881320 -87.629521        member  "
      ]
     },
     "execution_count": 5,
     "metadata": {},
     "output_type": "execute_result"
    }
   ],
   "source": [
    "cyclistic_data.tail()"
   ]
  },
  {
   "cell_type": "markdown",
   "metadata": {},
   "source": [
    "I am calling `head` and `tail` function to check the first 5 rows and the last 5 rows from the new data frame i just created."
   ]
  },
  {
   "cell_type": "code",
   "execution_count": 6,
   "metadata": {},
   "outputs": [
    {
     "name": "stdout",
     "output_type": "stream",
     "text": [
      "<class 'pandas.core.frame.DataFrame'>\n",
      "Int64Index: 5595063 entries, 0 to 247539\n",
      "Data columns (total 13 columns):\n",
      " #   Column              Dtype  \n",
      "---  ------              -----  \n",
      " 0   ride_id             object \n",
      " 1   rideable_type       object \n",
      " 2   started_at          object \n",
      " 3   ended_at            object \n",
      " 4   start_station_name  object \n",
      " 5   start_station_id    object \n",
      " 6   end_station_name    object \n",
      " 7   end_station_id      object \n",
      " 8   start_lat           float64\n",
      " 9   start_lng           float64\n",
      " 10  end_lat             float64\n",
      " 11  end_lng             float64\n",
      " 12  member_casual       object \n",
      "dtypes: float64(4), object(9)\n",
      "memory usage: 597.6+ MB\n"
     ]
    }
   ],
   "source": [
    "cyclistic_data.info()"
   ]
  },
  {
   "cell_type": "markdown",
   "metadata": {},
   "source": [
    "The dataset contains 5595063 rows of records and 13 columns of attributes. The data types of the attributes consist of 4 float data types, 9 object data types. The memory space usage is at least 597.6+ MB. The next step is data cleaning to remove null values, data reduction to remove redundant attributes and duplicate values. This wil ensure that data is of high quality and would produce quality analysis."
   ]
  },
  {
   "cell_type": "markdown",
   "metadata": {},
   "source": [
    "Apparently, I need to tweak the data type from several columns and renaming column name to make for easier readability. Here are the pre-processing list i am going to do:\n",
    "\n",
    "- Change the `member_casual` column name to `member_type`\n",
    "- Change the `rideable_type`, `member_type` data type from object dtype to categorical dtype.\n",
    "- The data type for `started_at`, `ended_at` were changed to a datetime datatype.\n",
    "- Creating a new column named `ride_duration` to see the duration in each trip.\n",
    "- Creating 3 new columns named `day_name`, `year` and `month` from `started_at` column.\n",
    "- Handling the missing values.\n",
    "\n",
    "During the course of my data cleaning, I discovered that 13.2% of the dataset was made up of null values which is below the 25% maximum, so i dropped them. I also sorted my data by ascending order according to `started_at` column and lastly checked for duplicate data."
   ]
  },
  {
   "cell_type": "code",
   "execution_count": 7,
   "metadata": {},
   "outputs": [],
   "source": [
    "# renaming column\n",
    "\n",
    "cyclistic_data.rename(columns={'member_casual':'member_type'}, inplace=True)"
   ]
  },
  {
   "cell_type": "markdown",
   "metadata": {},
   "source": [
    "I renamed column `member_casual` to `member_type` for easier understanding and readibility."
   ]
  },
  {
   "cell_type": "code",
   "execution_count": 8,
   "metadata": {},
   "outputs": [],
   "source": [
    "# changing data type\n",
    "\n",
    "cyclistic_data['rideable_type'] = cyclistic_data.rideable_type.astype('category')\n",
    "cyclistic_data['member_type'] = cyclistic_data.member_type.astype('category')\n",
    "cyclistic_data['started_at'] = pd.to_datetime(cyclistic_data.started_at)\n",
    "cyclistic_data['ended_at'] = pd.to_datetime(cyclistic_data.ended_at)"
   ]
  },
  {
   "cell_type": "markdown",
   "metadata": {},
   "source": [
    "As i mentioned before, changing the data types will make it easier for the analysis and saving memory."
   ]
  },
  {
   "cell_type": "code",
   "execution_count": 9,
   "metadata": {},
   "outputs": [
    {
     "data": {
      "text/plain": [
       "0        0 days 00:10:25\n",
       "1        0 days 00:04:04\n",
       "2        0 days 00:01:20\n",
       "3        0 days 00:11:42\n",
       "4        0 days 00:00:43\n",
       "               ...      \n",
       "247535   0 days 00:19:13\n",
       "247536   0 days 00:07:01\n",
       "247537   0 days 00:08:17\n",
       "247538   0 days 00:14:13\n",
       "247539   0 days 00:03:37\n",
       "Name: ride_duration, Length: 5595063, dtype: timedelta64[ns]"
      ]
     },
     "execution_count": 9,
     "metadata": {},
     "output_type": "execute_result"
    }
   ],
   "source": [
    "# adding a new column ride_length (ended_at - started_at) to calculate the time travelled\n",
    "\n",
    "cyclistic_data['ride_duration'] = cyclistic_data['ended_at'] - cyclistic_data['started_at']\n",
    "cyclistic_data['ride_duration']"
   ]
  },
  {
   "cell_type": "markdown",
   "metadata": {},
   "source": [
    "I just added a new column named `ride_duration` for further analysis. This column is created by subtracting the `end_date` column with `start_date`."
   ]
  },
  {
   "cell_type": "code",
   "execution_count": 10,
   "metadata": {},
   "outputs": [
    {
     "data": {
      "text/plain": [
       "0    2021-01-23\n",
       "1    2021-01-27\n",
       "2    2021-01-21\n",
       "3    2021-01-07\n",
       "4    2021-01-23\n",
       "Name: start_date, dtype: object"
      ]
     },
     "execution_count": 10,
     "metadata": {},
     "output_type": "execute_result"
    }
   ],
   "source": [
    "# splitting and extracting the date from the 'started_at' column\n",
    "\n",
    "cyclistic_data['start_date'] = cyclistic_data.started_at.dt.date\n",
    "cyclistic_data.start_date.head()"
   ]
  },
  {
   "cell_type": "markdown",
   "metadata": {},
   "source": [
    "Since I need the days names from the `started_at` column so I will extract the dates contained in the `started_at` column."
   ]
  },
  {
   "cell_type": "code",
   "execution_count": 11,
   "metadata": {},
   "outputs": [
    {
     "data": {
      "text/plain": [
       "ride_id                        object\n",
       "rideable_type                category\n",
       "started_at             datetime64[ns]\n",
       "ended_at               datetime64[ns]\n",
       "start_station_name             object\n",
       "start_station_id               object\n",
       "end_station_name               object\n",
       "end_station_id                 object\n",
       "start_lat                     float64\n",
       "start_lng                     float64\n",
       "end_lat                       float64\n",
       "end_lng                       float64\n",
       "member_type                  category\n",
       "ride_duration         timedelta64[ns]\n",
       "start_date             datetime64[ns]\n",
       "dtype: object"
      ]
     },
     "execution_count": 11,
     "metadata": {},
     "output_type": "execute_result"
    }
   ],
   "source": [
    "# converting 'day_of_week' into a datetime dtype\n",
    "\n",
    "cyclistic_data['start_date']= pd.to_datetime(cyclistic_data.start_date)\n",
    "cyclistic_data.dtypes"
   ]
  },
  {
   "cell_type": "markdown",
   "metadata": {},
   "source": [
    "Changing the new column i just made to a datetime dtype. And then, by using function `dt.day_name()`, i can get the names of the days."
   ]
  },
  {
   "cell_type": "code",
   "execution_count": 12,
   "metadata": {},
   "outputs": [
    {
     "data": {
      "text/plain": [
       "array(['Saturday', 'Wednesday', 'Thursday', 'Monday', 'Sunday', 'Friday',\n",
       "       'Tuesday'], dtype=object)"
      ]
     },
     "execution_count": 12,
     "metadata": {},
     "output_type": "execute_result"
    }
   ],
   "source": [
    "# finding the day name from `start_date` column\n",
    " \n",
    "cyclistic_data['day_name'] = cyclistic_data['start_date'].dt.day_name()\n",
    "cyclistic_data['day_name'].unique()\n"
   ]
  },
  {
   "cell_type": "markdown",
   "metadata": {},
   "source": [
    "Then i changed the column with day names to category datatypes."
   ]
  },
  {
   "cell_type": "code",
   "execution_count": 13,
   "metadata": {},
   "outputs": [
    {
     "name": "stdout",
     "output_type": "stream",
     "text": [
      "<class 'pandas.core.frame.DataFrame'>\n",
      "Int64Index: 5595063 entries, 0 to 247539\n",
      "Data columns (total 16 columns):\n",
      " #   Column              Dtype          \n",
      "---  ------              -----          \n",
      " 0   ride_id             object         \n",
      " 1   rideable_type       category       \n",
      " 2   started_at          datetime64[ns] \n",
      " 3   ended_at            datetime64[ns] \n",
      " 4   start_station_name  object         \n",
      " 5   start_station_id    object         \n",
      " 6   end_station_name    object         \n",
      " 7   end_station_id      object         \n",
      " 8   start_lat           float64        \n",
      " 9   start_lng           float64        \n",
      " 10  end_lat             float64        \n",
      " 11  end_lng             float64        \n",
      " 12  member_type         category       \n",
      " 13  ride_duration       timedelta64[ns]\n",
      " 14  start_date          datetime64[ns] \n",
      " 15  day_name            category       \n",
      "dtypes: category(3), datetime64[ns](3), float64(4), object(5), timedelta64[ns](1)\n",
      "memory usage: 613.6+ MB\n"
     ]
    }
   ],
   "source": [
    "# changing day_name to categorical dtype\n",
    "\n",
    "cyclistic_data['day_name']= cyclistic_data.day_name.astype('category')\n",
    "cyclistic_data.info()"
   ]
  },
  {
   "cell_type": "code",
   "execution_count": 14,
   "metadata": {},
   "outputs": [],
   "source": [
    "# extracting year and month from `start_date`\n",
    "\n",
    "cyclistic_data['year'] = pd.DatetimeIndex(cyclistic_data['start_date']).year\n",
    "cyclistic_data['month'] = pd.DatetimeIndex(cyclistic_data['start_date']).month"
   ]
  },
  {
   "cell_type": "markdown",
   "metadata": {},
   "source": [
    "I also extracted the year and month from `start_date` column for further visualization and analysis. Again, for a better readablity i sorted the data frame according `started_at` from the oldest to newest."
   ]
  },
  {
   "cell_type": "code",
   "execution_count": 15,
   "metadata": {},
   "outputs": [],
   "source": [
    "# sorting the dataframe by ascending using start date\n",
    "\n",
    "cyclistic_data.sort_values(by=['started_at'], inplace= True, ascending= True)"
   ]
  },
  {
   "cell_type": "markdown",
   "metadata": {},
   "source": [
    "I also ran a check to see if thee were any Null values. Apperently, there are a lot of null values."
   ]
  },
  {
   "cell_type": "code",
   "execution_count": 16,
   "metadata": {},
   "outputs": [
    {
     "data": {
      "text/plain": [
       "ride_id                    0\n",
       "rideable_type              0\n",
       "started_at                 0\n",
       "ended_at                   0\n",
       "start_station_name    690809\n",
       "start_station_id      690806\n",
       "end_station_name      739170\n",
       "end_station_id        739170\n",
       "start_lat                  0\n",
       "start_lng                  0\n",
       "end_lat                 4771\n",
       "end_lng                 4771\n",
       "member_type                0\n",
       "ride_duration              0\n",
       "start_date                 0\n",
       "day_name                   0\n",
       "year                       0\n",
       "month                      0\n",
       "dtype: int64"
      ]
     },
     "execution_count": 16,
     "metadata": {},
     "output_type": "execute_result"
    }
   ],
   "source": [
    "# checking the null values\n",
    "\n",
    "cyclistic_data.isnull().sum()"
   ]
  },
  {
   "cell_type": "markdown",
   "metadata": {},
   "source": [
    "Interesting find here that there are 4771 null value rows in `end_lat` and `end_lng` columns. This may indicate that there are bikes that are stollen or never returned to a station."
   ]
  },
  {
   "cell_type": "code",
   "execution_count": 17,
   "metadata": {},
   "outputs": [
    {
     "data": {
      "text/plain": [
       "(5595063, 18)"
      ]
     },
     "execution_count": 17,
     "metadata": {},
     "output_type": "execute_result"
    }
   ],
   "source": [
    "cyclistic_data.shape"
   ]
  },
  {
   "cell_type": "code",
   "execution_count": 18,
   "metadata": {},
   "outputs": [
    {
     "data": {
      "text/plain": [
       "13.211111295797743"
      ]
     },
     "execution_count": 18,
     "metadata": {},
     "output_type": "execute_result"
    }
   ],
   "source": [
    "# finding the total percentage of null values in the dataset\n",
    "\n",
    "(739170/5595063) * 100"
   ]
  },
  {
   "cell_type": "markdown",
   "metadata": {},
   "source": [
    "The null values in the dataset is occupying 13.2% of total data and the missing value is still below 25% of the data. I choose to drop the rows that are containing the null values because columns `start_station_name`, `start_station_id`, `end_station_name`, `end_station_id` have their own latitude and longitude, thus making it unable to be manipulated. Moreover latitude and longitude represents a location so it cannot be manipulated by filling with median value or mean value."
   ]
  },
  {
   "cell_type": "code",
   "execution_count": 19,
   "metadata": {},
   "outputs": [],
   "source": [
    "cyclistic_data.dropna(inplace= True)"
   ]
  },
  {
   "cell_type": "markdown",
   "metadata": {},
   "source": [
    "It is always recommended to do a double check before starting data processing. Here i checked if there are still any missing values and duplicated values."
   ]
  },
  {
   "cell_type": "code",
   "execution_count": 20,
   "metadata": {},
   "outputs": [
    {
     "data": {
      "text/plain": [
       "ride_id               0\n",
       "rideable_type         0\n",
       "started_at            0\n",
       "ended_at              0\n",
       "start_station_name    0\n",
       "start_station_id      0\n",
       "end_station_name      0\n",
       "end_station_id        0\n",
       "start_lat             0\n",
       "start_lng             0\n",
       "end_lat               0\n",
       "end_lng               0\n",
       "member_type           0\n",
       "ride_duration         0\n",
       "start_date            0\n",
       "day_name              0\n",
       "year                  0\n",
       "month                 0\n",
       "dtype: int64"
      ]
     },
     "execution_count": 20,
     "metadata": {},
     "output_type": "execute_result"
    }
   ],
   "source": [
    "cyclistic_data.isnull().sum()"
   ]
  },
  {
   "cell_type": "code",
   "execution_count": 21,
   "metadata": {},
   "outputs": [
    {
     "data": {
      "text/plain": [
       "False"
      ]
     },
     "execution_count": 21,
     "metadata": {},
     "output_type": "execute_result"
    }
   ],
   "source": [
    "cyclistic_data.duplicated().any()"
   ]
  },
  {
   "cell_type": "markdown",
   "metadata": {},
   "source": [
    "Pre-processing of the dataframe is done and now i can move on to data processing part."
   ]
  },
  {
   "cell_type": "markdown",
   "metadata": {},
   "source": [
    "#### Data Processing"
   ]
  },
  {
   "cell_type": "markdown",
   "metadata": {},
   "source": [
    "##### Who are taking these rides, members or casuals?"
   ]
  },
  {
   "cell_type": "markdown",
   "metadata": {},
   "source": [
    "The people who use Divvy bikes can be categorized based on their membership. There are 2 types of members, namely casual members and annual members. In this objective, I will find out about the number of Divvy bicycle users for 12 months starting from January 2021 to December 2021."
   ]
  },
  {
   "cell_type": "code",
   "execution_count": 22,
   "metadata": {},
   "outputs": [
    {
     "data": {
      "text/plain": [
       "member    2539923\n",
       "casual    2048379\n",
       "Name: member_type, dtype: int64"
      ]
     },
     "execution_count": 22,
     "metadata": {},
     "output_type": "execute_result"
    }
   ],
   "source": [
    "# check the number of users in each type over the past 12 months\n",
    "\n",
    "user_types = cyclistic_data['member_type'].value_counts()\n",
    "user_types"
   ]
  },
  {
   "cell_type": "markdown",
   "metadata": {},
   "source": [
    "There are 2539923 annual members and 2048379 casual members."
   ]
  },
  {
   "cell_type": "code",
   "execution_count": 23,
   "metadata": {},
   "outputs": [
    {
     "data": {
      "image/png": "[encoded data removed]",
      "text/plain": [
       "<Figure size 432x288 with 1 Axes>"
      ]
     },
     "metadata": {
      "needs_background": "light"
     },
     "output_type": "display_data"
    }
   ],
   "source": [
    "# to plot the bar chart of the number of users in each type over the past 12 months\n",
    "\n",
    "plt.title('count of users in each type')\n",
    "plt.bar(user_types.index, user_types.values)\n",
    "plt.show()"
   ]
  },
  {
   "cell_type": "code",
   "execution_count": 24,
   "metadata": {},
   "outputs": [
    {
     "data": {
      "text/plain": [
       "Text(0.5, 1.0, 'Pie Chart of users in each type')"
      ]
     },
     "execution_count": 24,
     "metadata": {},
     "output_type": "execute_result"
    },
    {
     "data": {
      "image/png": "[encoded data removed]",
      "text/plain": [
       "<Figure size 648x432 with 1 Axes>"
      ]
     },
     "metadata": {},
     "output_type": "display_data"
    }
   ],
   "source": [
    "# to plot the pie chart of users in each type \n",
    "\n",
    "plt.figure(figsize = (9,6))\n",
    "plt.pie(user_types.values, labels= user_types.index, autopct= '%1.1f%%')\n",
    "plt.legend(user_types.index)\n",
    "plt.show\n",
    "plt.title('Pie Chart of users in each type')"
   ]
  },
  {
   "cell_type": "markdown",
   "metadata": {},
   "source": [
    "Both the bar graph and the pie chart, it shows that there are more Divvy users who buy annual members than casual members. 55.4% of Divvy's users is annual member and 44.6% is casual member."
   ]
  },
  {
   "cell_type": "markdown",
   "metadata": {},
   "source": [
    "To make it more detail, i will make a figure showing the numbers of annual members and casual members per month."
   ]
  },
  {
   "cell_type": "code",
   "execution_count": 25,
   "metadata": {},
   "outputs": [
    {
     "data": {
      "text/plain": [
       "year        \n",
       "2021  member    2539923\n",
       "      casual    2048379\n",
       "Name: member_type, dtype: int64"
      ]
     },
     "execution_count": 25,
     "metadata": {},
     "output_type": "execute_result"
    }
   ],
   "source": [
    "# seggregating the number of users into members and casual over year\n",
    "\n",
    "users_over_year = cyclistic_data.groupby('year')['member_type'].value_counts()\n",
    "users_over_year"
   ]
  },
  {
   "cell_type": "code",
   "execution_count": 26,
   "metadata": {},
   "outputs": [
    {
     "data": {
      "text/plain": [
       "month        \n",
       "1      member     68819\n",
       "       casual     14690\n",
       "2      member     34383\n",
       "       casual      8613\n",
       "3      member    130049\n",
       "       casual     75642\n",
       "4      member    177787\n",
       "       casual    120420\n",
       "5      member    234165\n",
       "       casual    216829\n",
       "6      member    304586\n",
       "       casual    304192\n",
       "7      casual    369415\n",
       "       member    322906\n",
       "8      casual    341476\n",
       "       member    332933\n",
       "9      member    328219\n",
       "       casual    292931\n",
       "10     member    288855\n",
       "       casual    189117\n",
       "11     member    185926\n",
       "       casual     69978\n",
       "12     member    131295\n",
       "       casual     45076\n",
       "Name: member_type, dtype: int64"
      ]
     },
     "execution_count": 26,
     "metadata": {},
     "output_type": "execute_result"
    }
   ],
   "source": [
    "users_over_month = cyclistic_data.groupby('month')['member_type'].value_counts()\n",
    "users_over_month"
   ]
  },
  {
   "cell_type": "code",
   "execution_count": 27,
   "metadata": {},
   "outputs": [],
   "source": [
    "list_month = []\n",
    "list_x = []\n",
    "list_y = (users_over_month.values)\n",
    "for i, j in users_over_month.index:\n",
    "    list_x.append(j)\n",
    "    list_month.append(str(i))"
   ]
  },
  {
   "cell_type": "code",
   "execution_count": 28,
   "metadata": {},
   "outputs": [
    {
     "name": "stderr",
     "output_type": "stream",
     "text": [
      "c:\\Users\\alexa\\AppData\\Local\\Programs\\Python\\Python39\\lib\\site-packages\\seaborn\\_decorators.py:36: FutureWarning: Pass the following variables as keyword args: x, y. From version 0.12, the only valid positional argument will be `data`, and passing other arguments without an explicit keyword will result in an error or misinterpretation.\n",
      "  warnings.warn(\n"
     ]
    },
    {
     "data": {
      "text/plain": [
       "Text(0.5, 1.0, 'Count of Annual and Casual Over the Months')"
      ]
     },
     "execution_count": 28,
     "metadata": {},
     "output_type": "execute_result"
    },
    {
     "data": {
      "image/png": "[encoded data removed]",
      "text/plain": [
       "<Figure size 1080x504 with 1 Axes>"
      ]
     },
     "metadata": {
      "needs_background": "light"
     },
     "output_type": "display_data"
    }
   ],
   "source": [
    "# plot count of members and casual riders\n",
    "\n",
    "plt.figure(figsize= (15,7))\n",
    "sns.barplot(list_x, list_y, hue = list_month)\n",
    "plt.title('Count of Annual and Casual Over the Months')"
   ]
  },
  {
   "cell_type": "markdown",
   "metadata": {},
   "source": [
    "The graph above plots the count of annual members and casual members per month, and it correlates with the calculation i've done.\n",
    "\n",
    "From the graph, we can get information that there is a decrease in the number of members from January 2021 to February 2021. Likewise, Divvy casual users from January 2021 to February 2021 experienced a decrease, although not significantly. July 2021 is the month that has the most casual Divvy users. In addition, Divvy casual users have a more significant increase from February 2021 to July 2021. The increase in the number of annual Divvy members is also not as much as the increase in the number of casual Divvy members from February 2021 to June 2021."
   ]
  },
  {
   "cell_type": "markdown",
   "metadata": {},
   "source": [
    "---"
   ]
  },
  {
   "cell_type": "markdown",
   "metadata": {},
   "source": [
    "##### How long they are riding?"
   ]
  },
  {
   "cell_type": "markdown",
   "metadata": {},
   "source": [
    "In this objective, I will find out about the duration of cycling for Divvy users, both annual members and casual members. I will also look for the average duration of an annual and casual member's trip. In the process of finding the average trip duration, I will censor data that causes anomalies in the distribution of Divvy user trip duration data."
   ]
  },
  {
   "cell_type": "code",
   "execution_count": 29,
   "metadata": {},
   "outputs": [
    {
     "data": {
      "text/plain": [
       "count                      4588302\n",
       "mean     0 days 00:21:48.637676421\n",
       "std      0 days 03:04:25.503842186\n",
       "min              -1 days +23:04:06\n",
       "25%                0 days 00:06:57\n",
       "50%                0 days 00:12:12\n",
       "75%                0 days 00:22:07\n",
       "max               38 days 20:24:09\n",
       "Name: ride_duration, dtype: object"
      ]
     },
     "execution_count": 29,
     "metadata": {},
     "output_type": "execute_result"
    }
   ],
   "source": [
    "# quick check on the central tendecies and distribution on ride_duration column\n",
    "\n",
    "cyclistic_data.ride_duration.describe(datetime_is_numeric=True)"
   ]
  },
  {
   "cell_type": "markdown",
   "metadata": {},
   "source": [
    "I do a quick check up on the `ride_duration` column and found out that there are anomalies in `ride_duration` column. The anomalies are there are negative values and 38 days of ride duration. The negative value may be caused by system bugs and the excessive ride duration can be caused by bicycles not being returned so the Divvy system automatically timeouts. It can also be caused due to system bugs."
   ]
  },
  {
   "cell_type": "code",
   "execution_count": 30,
   "metadata": {},
   "outputs": [],
   "source": [
    "cyclistic_data['ride_duration_in_minutes'] = cyclistic_data['ride_duration'] / pd.Timedelta(minutes=1)"
   ]
  },
  {
   "cell_type": "markdown",
   "metadata": {},
   "source": [
    "Here i make a new column named `ride_duration_in_minutes`. It is a column that contains a conversion from `ride_duration` column. The conversion i just did is converting the dtype of `ride_duration` from timedelta to float to the new column i just made."
   ]
  },
  {
   "cell_type": "code",
   "execution_count": 31,
   "metadata": {},
   "outputs": [
    {
     "data": {
      "text/plain": [
       "-55.9"
      ]
     },
     "execution_count": 31,
     "metadata": {},
     "output_type": "execute_result"
    }
   ],
   "source": [
    "cyclistic_data['ride_duration_in_minutes'].min()"
   ]
  },
  {
   "cell_type": "code",
   "execution_count": 32,
   "metadata": {},
   "outputs": [
    {
     "data": {
      "text/plain": [
       "55944.15"
      ]
     },
     "execution_count": 32,
     "metadata": {},
     "output_type": "execute_result"
    }
   ],
   "source": [
    "cyclistic_data['ride_duration_in_minutes'].max()"
   ]
  },
  {
   "cell_type": "markdown",
   "metadata": {},
   "source": [
    "And after doing a manual check, it is true that there is a data anomaly in the `ride_duration` column. -55 minutes and 55944 minutes of trip doesn't make any sense at all."
   ]
  },
  {
   "cell_type": "code",
   "execution_count": 33,
   "metadata": {},
   "outputs": [
    {
     "data": {
      "text/plain": [
       "12.2"
      ]
     },
     "execution_count": 33,
     "metadata": {},
     "output_type": "execute_result"
    }
   ],
   "source": [
    "cyclistic_data['ride_duration_in_minutes'].median()"
   ]
  },
  {
   "cell_type": "code",
   "execution_count": 34,
   "metadata": {},
   "outputs": [
    {
     "data": {
      "text/plain": [
       "21.810627940357875"
      ]
     },
     "execution_count": 34,
     "metadata": {},
     "output_type": "execute_result"
    }
   ],
   "source": [
    "cyclistic_data['ride_duration_in_minutes'].mean()"
   ]
  },
  {
   "cell_type": "markdown",
   "metadata": {},
   "source": [
    "I can see that the value of median and average of ride duration is significantly different. But to make it sure, i am going to check the skewness value. The skewness value can tell me whether the data is right skewed or left skewed. Skewness can be caused by the anomalies that i have checked before, such as negative values and excessive ride duration. "
   ]
  },
  {
   "cell_type": "code",
   "execution_count": 35,
   "metadata": {},
   "outputs": [
    {
     "data": {
      "text/plain": [
       "143.38955120523843"
      ]
     },
     "execution_count": 35,
     "metadata": {},
     "output_type": "execute_result"
    }
   ],
   "source": [
    "cyclistic_data['ride_duration_in_minutes'].skew()"
   ]
  },
  {
   "cell_type": "markdown",
   "metadata": {},
   "source": [
    "And the skewness value is 143. This value is way too high and it indicates that the data in `ride_duration_in_minutes` is tailing to the right side of x axis or right skewed.\n",
    "\n",
    "This anomaly needs to be handled or it may messes with my analysis also it may give false insights about the data. I am going to censor those anomalies values with some calculation and dropping the value of ride duration less than equal to 0 minutes. "
   ]
  },
  {
   "cell_type": "markdown",
   "metadata": {},
   "source": [
    "I am going to explain how i censor the anomalies values. First, i need to calculate lower, upper quartile of ride duration and find the range between the upper and lower quartile. Next, the range value will be multiplied by 1.5 and then added to the value of the upper quartile. That way i will know the value to change the value of those anomalies."
   ]
  },
  {
   "cell_type": "code",
   "execution_count": 36,
   "metadata": {},
   "outputs": [
    {
     "data": {
      "text/plain": [
       "15.166666666666668"
      ]
     },
     "execution_count": 36,
     "metadata": {},
     "output_type": "execute_result"
    }
   ],
   "source": [
    "q1 = cyclistic_data['ride_duration_in_minutes'].quantile(q=0.25)\n",
    "q3 = cyclistic_data['ride_duration_in_minutes'].quantile(q=0.75)\n",
    "iqr = cyclistic_data['ride_duration_in_minutes'].quantile(q=0.75) - cyclistic_data['ride_duration_in_minutes'].quantile(q=0.25)\n",
    "iqr"
   ]
  },
  {
   "cell_type": "code",
   "execution_count": 37,
   "metadata": {},
   "outputs": [
    {
     "name": "stdout",
     "output_type": "stream",
     "text": [
      "44.86666666666667\n"
     ]
    }
   ],
   "source": [
    "max_for_outlier = q3 + (1.5*iqr)\n",
    "print (max_for_outlier)"
   ]
  },
  {
   "cell_type": "markdown",
   "metadata": {},
   "source": [
    "Now i am going to replace the anomaly values with number of 44.86 because that is the result of the calculatin i have explained before."
   ]
  },
  {
   "cell_type": "code",
   "execution_count": 38,
   "metadata": {},
   "outputs": [
    {
     "data": {
      "text/html": [
       "<div>\n",
       "<style scoped>\n",
       "    .dataframe tbody tr th:only-of-type {\n",
       "        vertical-align: middle;\n",
       "    }\n",
       "\n",
       "    .dataframe tbody tr th {\n",
       "        vertical-align: top;\n",
       "    }\n",
       "\n",
       "    .dataframe thead th {\n",
       "        text-align: right;\n",
       "    }\n",
       "</style>\n",
       "<table border=\"1\" class=\"dataframe\">\n",
       "  <thead>\n",
       "    <tr style=\"text-align: right;\">\n",
       "      <th></th>\n",
       "      <th>ride_id</th>\n",
       "      <th>rideable_type</th>\n",
       "      <th>started_at</th>\n",
       "      <th>ended_at</th>\n",
       "      <th>start_station_name</th>\n",
       "      <th>start_station_id</th>\n",
       "      <th>end_station_name</th>\n",
       "      <th>end_station_id</th>\n",
       "      <th>start_lat</th>\n",
       "      <th>start_lng</th>\n",
       "      <th>end_lat</th>\n",
       "      <th>end_lng</th>\n",
       "      <th>member_type</th>\n",
       "      <th>ride_duration</th>\n",
       "      <th>start_date</th>\n",
       "      <th>day_name</th>\n",
       "      <th>year</th>\n",
       "      <th>month</th>\n",
       "      <th>ride_duration_in_minutes</th>\n",
       "    </tr>\n",
       "  </thead>\n",
       "  <tbody>\n",
       "    <tr>\n",
       "      <th>41479</th>\n",
       "      <td>DC41683B55F3110C</td>\n",
       "      <td>classic_bike</td>\n",
       "      <td>2021-01-01 00:35:51</td>\n",
       "      <td>2021-01-01 14:05:57</td>\n",
       "      <td>Lincoln Ave &amp; Roscoe St</td>\n",
       "      <td>TA1307000138</td>\n",
       "      <td>Dodge Ave &amp; Main St</td>\n",
       "      <td>E011</td>\n",
       "      <td>41.943340</td>\n",
       "      <td>-87.670970</td>\n",
       "      <td>42.034632</td>\n",
       "      <td>-87.699188</td>\n",
       "      <td>casual</td>\n",
       "      <td>0 days 13:30:06</td>\n",
       "      <td>2021-01-01</td>\n",
       "      <td>Friday</td>\n",
       "      <td>2021</td>\n",
       "      <td>1</td>\n",
       "      <td>810.100000</td>\n",
       "    </tr>\n",
       "    <tr>\n",
       "      <th>94443</th>\n",
       "      <td>89E93432C2D20698</td>\n",
       "      <td>electric_bike</td>\n",
       "      <td>2021-01-01 01:18:13</td>\n",
       "      <td>2021-01-01 02:11:13</td>\n",
       "      <td>Halsted St &amp; Wrightwood Ave</td>\n",
       "      <td>TA1309000061</td>\n",
       "      <td>Lake Shore Dr &amp; Belmont Ave</td>\n",
       "      <td>TA1309000049</td>\n",
       "      <td>41.929176</td>\n",
       "      <td>-87.649229</td>\n",
       "      <td>41.940685</td>\n",
       "      <td>-87.639276</td>\n",
       "      <td>member</td>\n",
       "      <td>0 days 00:53:00</td>\n",
       "      <td>2021-01-01</td>\n",
       "      <td>Friday</td>\n",
       "      <td>2021</td>\n",
       "      <td>1</td>\n",
       "      <td>53.000000</td>\n",
       "    </tr>\n",
       "    <tr>\n",
       "      <th>39294</th>\n",
       "      <td>8CB3DEF1451E3172</td>\n",
       "      <td>docked_bike</td>\n",
       "      <td>2021-01-01 03:05:38</td>\n",
       "      <td>2021-01-01 11:46:40</td>\n",
       "      <td>Michigan Ave &amp; Pearson St</td>\n",
       "      <td>13034</td>\n",
       "      <td>Michigan Ave &amp; Lake St</td>\n",
       "      <td>TA1305000011</td>\n",
       "      <td>41.897660</td>\n",
       "      <td>-87.623510</td>\n",
       "      <td>41.886024</td>\n",
       "      <td>-87.624117</td>\n",
       "      <td>casual</td>\n",
       "      <td>0 days 08:41:02</td>\n",
       "      <td>2021-01-01</td>\n",
       "      <td>Friday</td>\n",
       "      <td>2021</td>\n",
       "      <td>1</td>\n",
       "      <td>521.033333</td>\n",
       "    </tr>\n",
       "    <tr>\n",
       "      <th>52986</th>\n",
       "      <td>23026C4233A298B1</td>\n",
       "      <td>docked_bike</td>\n",
       "      <td>2021-01-01 06:00:48</td>\n",
       "      <td>2021-01-03 19:16:01</td>\n",
       "      <td>Wood St &amp; Taylor St (Temp)</td>\n",
       "      <td>13285</td>\n",
       "      <td>Keystone Ave &amp; Montrose Ave</td>\n",
       "      <td>KA1504000164</td>\n",
       "      <td>41.869265</td>\n",
       "      <td>-87.673731</td>\n",
       "      <td>41.961108</td>\n",
       "      <td>-87.728970</td>\n",
       "      <td>casual</td>\n",
       "      <td>2 days 13:15:13</td>\n",
       "      <td>2021-01-01</td>\n",
       "      <td>Friday</td>\n",
       "      <td>2021</td>\n",
       "      <td>1</td>\n",
       "      <td>3675.216667</td>\n",
       "    </tr>\n",
       "    <tr>\n",
       "      <th>3477</th>\n",
       "      <td>969109538AFD008E</td>\n",
       "      <td>docked_bike</td>\n",
       "      <td>2021-01-01 06:44:03</td>\n",
       "      <td>2021-01-01 09:13:53</td>\n",
       "      <td>Damen Ave &amp; Charleston St</td>\n",
       "      <td>13288</td>\n",
       "      <td>Lake Shore Dr &amp; Monroe St</td>\n",
       "      <td>13300</td>\n",
       "      <td>41.920082</td>\n",
       "      <td>-87.677855</td>\n",
       "      <td>41.880958</td>\n",
       "      <td>-87.616743</td>\n",
       "      <td>casual</td>\n",
       "      <td>0 days 02:29:50</td>\n",
       "      <td>2021-01-01</td>\n",
       "      <td>Friday</td>\n",
       "      <td>2021</td>\n",
       "      <td>1</td>\n",
       "      <td>149.833333</td>\n",
       "    </tr>\n",
       "    <tr>\n",
       "      <th>...</th>\n",
       "      <td>...</td>\n",
       "      <td>...</td>\n",
       "      <td>...</td>\n",
       "      <td>...</td>\n",
       "      <td>...</td>\n",
       "      <td>...</td>\n",
       "      <td>...</td>\n",
       "      <td>...</td>\n",
       "      <td>...</td>\n",
       "      <td>...</td>\n",
       "      <td>...</td>\n",
       "      <td>...</td>\n",
       "      <td>...</td>\n",
       "      <td>...</td>\n",
       "      <td>...</td>\n",
       "      <td>...</td>\n",
       "      <td>...</td>\n",
       "      <td>...</td>\n",
       "      <td>...</td>\n",
       "    </tr>\n",
       "    <tr>\n",
       "      <th>139009</th>\n",
       "      <td>4F1974BEAEFF5EC7</td>\n",
       "      <td>docked_bike</td>\n",
       "      <td>2021-12-31 23:40:47</td>\n",
       "      <td>2022-01-01 00:26:06</td>\n",
       "      <td>Michigan Ave &amp; Washington St</td>\n",
       "      <td>13001</td>\n",
       "      <td>Millennium Park</td>\n",
       "      <td>13008</td>\n",
       "      <td>41.883984</td>\n",
       "      <td>-87.624684</td>\n",
       "      <td>41.881032</td>\n",
       "      <td>-87.624084</td>\n",
       "      <td>casual</td>\n",
       "      <td>0 days 00:45:19</td>\n",
       "      <td>2021-12-31</td>\n",
       "      <td>Friday</td>\n",
       "      <td>2021</td>\n",
       "      <td>12</td>\n",
       "      <td>45.316667</td>\n",
       "    </tr>\n",
       "    <tr>\n",
       "      <th>34620</th>\n",
       "      <td>47427D53D0714BA4</td>\n",
       "      <td>docked_bike</td>\n",
       "      <td>2021-12-31 23:40:47</td>\n",
       "      <td>2022-01-01 00:26:11</td>\n",
       "      <td>Michigan Ave &amp; Washington St</td>\n",
       "      <td>13001</td>\n",
       "      <td>Millennium Park</td>\n",
       "      <td>13008</td>\n",
       "      <td>41.883984</td>\n",
       "      <td>-87.624684</td>\n",
       "      <td>41.881032</td>\n",
       "      <td>-87.624084</td>\n",
       "      <td>casual</td>\n",
       "      <td>0 days 00:45:24</td>\n",
       "      <td>2021-12-31</td>\n",
       "      <td>Friday</td>\n",
       "      <td>2021</td>\n",
       "      <td>12</td>\n",
       "      <td>45.400000</td>\n",
       "    </tr>\n",
       "    <tr>\n",
       "      <th>150079</th>\n",
       "      <td>C5566F3C4E3601E0</td>\n",
       "      <td>classic_bike</td>\n",
       "      <td>2021-12-31 23:50:17</td>\n",
       "      <td>2022-01-01 00:49:03</td>\n",
       "      <td>Lakeview Ave &amp; Fullerton Pkwy</td>\n",
       "      <td>TA1309000019</td>\n",
       "      <td>Wells St &amp; Hubbard St</td>\n",
       "      <td>TA1307000151</td>\n",
       "      <td>41.925858</td>\n",
       "      <td>-87.638973</td>\n",
       "      <td>41.889906</td>\n",
       "      <td>-87.634266</td>\n",
       "      <td>casual</td>\n",
       "      <td>0 days 00:58:46</td>\n",
       "      <td>2021-12-31</td>\n",
       "      <td>Friday</td>\n",
       "      <td>2021</td>\n",
       "      <td>12</td>\n",
       "      <td>58.766667</td>\n",
       "    </tr>\n",
       "    <tr>\n",
       "      <th>131716</th>\n",
       "      <td>7B3D0E8AB0842D5E</td>\n",
       "      <td>classic_bike</td>\n",
       "      <td>2021-12-31 23:58:21</td>\n",
       "      <td>2022-01-01 00:46:56</td>\n",
       "      <td>Michigan Ave &amp; Lake St</td>\n",
       "      <td>TA1305000011</td>\n",
       "      <td>Clinton St &amp; Tilden St</td>\n",
       "      <td>13037</td>\n",
       "      <td>41.886024</td>\n",
       "      <td>-87.624117</td>\n",
       "      <td>41.875885</td>\n",
       "      <td>-87.640795</td>\n",
       "      <td>casual</td>\n",
       "      <td>0 days 00:48:35</td>\n",
       "      <td>2021-12-31</td>\n",
       "      <td>Friday</td>\n",
       "      <td>2021</td>\n",
       "      <td>12</td>\n",
       "      <td>48.583333</td>\n",
       "    </tr>\n",
       "    <tr>\n",
       "      <th>131717</th>\n",
       "      <td>B5AEBEF3B5F41C77</td>\n",
       "      <td>electric_bike</td>\n",
       "      <td>2021-12-31 23:58:45</td>\n",
       "      <td>2022-01-01 00:47:07</td>\n",
       "      <td>Michigan Ave &amp; Lake St</td>\n",
       "      <td>TA1305000011</td>\n",
       "      <td>Clinton St &amp; Tilden St</td>\n",
       "      <td>13037</td>\n",
       "      <td>41.885992</td>\n",
       "      <td>-87.624782</td>\n",
       "      <td>41.875885</td>\n",
       "      <td>-87.640795</td>\n",
       "      <td>casual</td>\n",
       "      <td>0 days 00:48:22</td>\n",
       "      <td>2021-12-31</td>\n",
       "      <td>Friday</td>\n",
       "      <td>2021</td>\n",
       "      <td>12</td>\n",
       "      <td>48.366667</td>\n",
       "    </tr>\n",
       "  </tbody>\n",
       "</table>\n",
       "<p>348649 rows × 19 columns</p>\n",
       "</div>"
      ],
      "text/plain": [
       "                 ride_id  rideable_type          started_at  \\\n",
       "41479   DC41683B55F3110C   classic_bike 2021-01-01 00:35:51   \n",
       "94443   89E93432C2D20698  electric_bike 2021-01-01 01:18:13   \n",
       "39294   8CB3DEF1451E3172    docked_bike 2021-01-01 03:05:38   \n",
       "52986   23026C4233A298B1    docked_bike 2021-01-01 06:00:48   \n",
       "3477    969109538AFD008E    docked_bike 2021-01-01 06:44:03   \n",
       "...                  ...            ...                 ...   \n",
       "139009  4F1974BEAEFF5EC7    docked_bike 2021-12-31 23:40:47   \n",
       "34620   47427D53D0714BA4    docked_bike 2021-12-31 23:40:47   \n",
       "150079  C5566F3C4E3601E0   classic_bike 2021-12-31 23:50:17   \n",
       "131716  7B3D0E8AB0842D5E   classic_bike 2021-12-31 23:58:21   \n",
       "131717  B5AEBEF3B5F41C77  electric_bike 2021-12-31 23:58:45   \n",
       "\n",
       "                  ended_at             start_station_name start_station_id  \\\n",
       "41479  2021-01-01 14:05:57        Lincoln Ave & Roscoe St     TA1307000138   \n",
       "94443  2021-01-01 02:11:13    Halsted St & Wrightwood Ave     TA1309000061   \n",
       "39294  2021-01-01 11:46:40      Michigan Ave & Pearson St            13034   \n",
       "52986  2021-01-03 19:16:01     Wood St & Taylor St (Temp)            13285   \n",
       "3477   2021-01-01 09:13:53      Damen Ave & Charleston St            13288   \n",
       "...                    ...                            ...              ...   \n",
       "139009 2022-01-01 00:26:06   Michigan Ave & Washington St            13001   \n",
       "34620  2022-01-01 00:26:11   Michigan Ave & Washington St            13001   \n",
       "150079 2022-01-01 00:49:03  Lakeview Ave & Fullerton Pkwy     TA1309000019   \n",
       "131716 2022-01-01 00:46:56         Michigan Ave & Lake St     TA1305000011   \n",
       "131717 2022-01-01 00:47:07         Michigan Ave & Lake St     TA1305000011   \n",
       "\n",
       "                   end_station_name end_station_id  start_lat  start_lng  \\\n",
       "41479           Dodge Ave & Main St           E011  41.943340 -87.670970   \n",
       "94443   Lake Shore Dr & Belmont Ave   TA1309000049  41.929176 -87.649229   \n",
       "39294        Michigan Ave & Lake St   TA1305000011  41.897660 -87.623510   \n",
       "52986   Keystone Ave & Montrose Ave   KA1504000164  41.869265 -87.673731   \n",
       "3477      Lake Shore Dr & Monroe St          13300  41.920082 -87.677855   \n",
       "...                             ...            ...        ...        ...   \n",
       "139009              Millennium Park          13008  41.883984 -87.624684   \n",
       "34620               Millennium Park          13008  41.883984 -87.624684   \n",
       "150079        Wells St & Hubbard St   TA1307000151  41.925858 -87.638973   \n",
       "131716       Clinton St & Tilden St          13037  41.886024 -87.624117   \n",
       "131717       Clinton St & Tilden St          13037  41.885992 -87.624782   \n",
       "\n",
       "          end_lat    end_lng member_type   ride_duration start_date day_name  \\\n",
       "41479   42.034632 -87.699188      casual 0 days 13:30:06 2021-01-01   Friday   \n",
       "94443   41.940685 -87.639276      member 0 days 00:53:00 2021-01-01   Friday   \n",
       "39294   41.886024 -87.624117      casual 0 days 08:41:02 2021-01-01   Friday   \n",
       "52986   41.961108 -87.728970      casual 2 days 13:15:13 2021-01-01   Friday   \n",
       "3477    41.880958 -87.616743      casual 0 days 02:29:50 2021-01-01   Friday   \n",
       "...           ...        ...         ...             ...        ...      ...   \n",
       "139009  41.881032 -87.624084      casual 0 days 00:45:19 2021-12-31   Friday   \n",
       "34620   41.881032 -87.624084      casual 0 days 00:45:24 2021-12-31   Friday   \n",
       "150079  41.889906 -87.634266      casual 0 days 00:58:46 2021-12-31   Friday   \n",
       "131716  41.875885 -87.640795      casual 0 days 00:48:35 2021-12-31   Friday   \n",
       "131717  41.875885 -87.640795      casual 0 days 00:48:22 2021-12-31   Friday   \n",
       "\n",
       "        year  month  ride_duration_in_minutes  \n",
       "41479   2021      1                810.100000  \n",
       "94443   2021      1                 53.000000  \n",
       "39294   2021      1                521.033333  \n",
       "52986   2021      1               3675.216667  \n",
       "3477    2021      1                149.833333  \n",
       "...      ...    ...                       ...  \n",
       "139009  2021     12                 45.316667  \n",
       "34620   2021     12                 45.400000  \n",
       "150079  2021     12                 58.766667  \n",
       "131716  2021     12                 48.583333  \n",
       "131717  2021     12                 48.366667  \n",
       "\n",
       "[348649 rows x 19 columns]"
      ]
     },
     "execution_count": 38,
     "metadata": {},
     "output_type": "execute_result"
    }
   ],
   "source": [
    "cyclistic_data[cyclistic_data['ride_duration_in_minutes']>44.86]"
   ]
  },
  {
   "cell_type": "code",
   "execution_count": 39,
   "metadata": {},
   "outputs": [
    {
     "data": {
      "text/plain": [
       "(4588302, 19)"
      ]
     },
     "execution_count": 39,
     "metadata": {},
     "output_type": "execute_result"
    }
   ],
   "source": [
    "cyclistic_data.shape"
   ]
  },
  {
   "cell_type": "code",
   "execution_count": 40,
   "metadata": {},
   "outputs": [
    {
     "data": {
      "text/plain": [
       "7.598649783732632"
      ]
     },
     "execution_count": 40,
     "metadata": {},
     "output_type": "execute_result"
    }
   ],
   "source": [
    "(348649/4588302) * 100"
   ]
  },
  {
   "cell_type": "markdown",
   "metadata": {},
   "source": [
    "Before replacing the anomalies, i have calculated the amount of anomalies in ride duration column and the anomalies is occupying 7.59% of the total data. In the pre-processing section we have dropped about 13% of our previous total data, so i am not going to drop anymore rows because i may lose important data. Also because we are doing a censoring so i am not going to drop any rows"
   ]
  },
  {
   "cell_type": "code",
   "execution_count": 41,
   "metadata": {},
   "outputs": [],
   "source": [
    "# changing the anomaly values\n",
    "\n",
    "cyclistic_data[\"ride_duration_in_minutes\"] = np.where(cyclistic_data['ride_duration_in_minutes']>44.86, 44.86,cyclistic_data['ride_duration_in_minutes'])"
   ]
  },
  {
   "cell_type": "markdown",
   "metadata": {},
   "source": [
    "Next step is to remove the values less than equal to 0 minutes in ride duration column. As per usual i will check the amount of the 0 and negative values before dropping them."
   ]
  },
  {
   "cell_type": "code",
   "execution_count": 42,
   "metadata": {},
   "outputs": [
    {
     "data": {
      "text/plain": [
       "ride_id                     198\n",
       "rideable_type               198\n",
       "started_at                  198\n",
       "ended_at                    198\n",
       "start_station_name          198\n",
       "start_station_id            198\n",
       "end_station_name            198\n",
       "end_station_id              198\n",
       "start_lat                   198\n",
       "start_lng                   198\n",
       "end_lat                     198\n",
       "end_lng                     198\n",
       "member_type                 198\n",
       "ride_duration               198\n",
       "start_date                  198\n",
       "day_name                    198\n",
       "year                        198\n",
       "month                       198\n",
       "ride_duration_in_minutes    198\n",
       "dtype: int64"
      ]
     },
     "execution_count": 42,
     "metadata": {},
     "output_type": "execute_result"
    }
   ],
   "source": [
    "# filtered the negative values\n",
    "\n",
    "negative_duration = cyclistic_data['ride_duration_in_minutes'] <= 0\n",
    "\n",
    "# showing the number of negative time duration\n",
    "cyclistic_data[negative_duration].count()"
   ]
  },
  {
   "cell_type": "markdown",
   "metadata": {},
   "source": [
    "There are only 198 rows of negative and 0 values in the ride duration column. This amount is relatively small compared to the total of the data. So it is mostly safe to drop them."
   ]
  },
  {
   "cell_type": "code",
   "execution_count": 43,
   "metadata": {},
   "outputs": [],
   "source": [
    "cyclistic_data.drop(cyclistic_data[negative_duration].index, inplace=True)"
   ]
  },
  {
   "cell_type": "markdown",
   "metadata": {},
   "source": [
    "Now let us check the skewness value again."
   ]
  },
  {
   "cell_type": "code",
   "execution_count": 44,
   "metadata": {},
   "outputs": [
    {
     "data": {
      "text/plain": [
       "1.0711302608955802"
      ]
     },
     "execution_count": 44,
     "metadata": {},
     "output_type": "execute_result"
    }
   ],
   "source": [
    "cyclistic_data['ride_duration_in_minutes'].skew()"
   ]
  },
  {
   "cell_type": "markdown",
   "metadata": {},
   "source": [
    "After checking the skewness value of `ride_duration_in_minutes` again, the skewness value has changed from 143 to only 1.03. This still indicates that the data is right skewed but it is much better than before. So, i move on to calculate the new median, average, minimum and maximum value from ride duration all member types."
   ]
  },
  {
   "cell_type": "code",
   "execution_count": 45,
   "metadata": {},
   "outputs": [
    {
     "data": {
      "text/plain": [
       "16.27139636175009"
      ]
     },
     "execution_count": 45,
     "metadata": {},
     "output_type": "execute_result"
    }
   ],
   "source": [
    "cyclistic_data[\"ride_duration_in_minutes\"].mean()"
   ]
  },
  {
   "cell_type": "code",
   "execution_count": 46,
   "metadata": {},
   "outputs": [
    {
     "data": {
      "text/plain": [
       "12.2"
      ]
     },
     "execution_count": 46,
     "metadata": {},
     "output_type": "execute_result"
    }
   ],
   "source": [
    "cyclistic_data[\"ride_duration_in_minutes\"].median()"
   ]
  },
  {
   "cell_type": "code",
   "execution_count": 47,
   "metadata": {},
   "outputs": [
    {
     "data": {
      "text/plain": [
       "0.016666666666666666"
      ]
     },
     "execution_count": 47,
     "metadata": {},
     "output_type": "execute_result"
    }
   ],
   "source": [
    "cyclistic_data[\"ride_duration_in_minutes\"].min()"
   ]
  },
  {
   "cell_type": "code",
   "execution_count": 48,
   "metadata": {},
   "outputs": [
    {
     "data": {
      "text/plain": [
       "44.86"
      ]
     },
     "execution_count": 48,
     "metadata": {},
     "output_type": "execute_result"
    }
   ],
   "source": [
    "cyclistic_data[\"ride_duration_in_minutes\"].max()"
   ]
  },
  {
   "cell_type": "markdown",
   "metadata": {},
   "source": [
    "Here's the insight i got by calculating the central tendecies from ride duration:\n",
    "- The average ride duration for all members from January 2021 to December 2021 is 16 minutes\n",
    "- The median, in this context, or the most middle duration is 12.2 minutes.\n",
    "- The shortest ride duration is 0.0116 minutes or just about 1 second. This may be caused by system glitch or some people happenly mistakes to pull out a bike and then instantly stop the trip.\n",
    "- The longest ride duration is 44.86 minutes."
   ]
  },
  {
   "cell_type": "markdown",
   "metadata": {},
   "source": [
    "How about the average duration from each member type? Below i have calculated the average ride duration from each member type."
   ]
  },
  {
   "cell_type": "code",
   "execution_count": 49,
   "metadata": {},
   "outputs": [
    {
     "data": {
      "text/plain": [
       "12.624800649258672"
      ]
     },
     "execution_count": 49,
     "metadata": {},
     "output_type": "execute_result"
    }
   ],
   "source": [
    "member_filter = cyclistic_data['member_type'] == 'member'\n",
    "cyclistic_data[member_filter].ride_duration_in_minutes.mean()"
   ]
  },
  {
   "cell_type": "code",
   "execution_count": 50,
   "metadata": {},
   "outputs": [
    {
     "data": {
      "text/plain": [
       "20.792885994824676"
      ]
     },
     "execution_count": 50,
     "metadata": {},
     "output_type": "execute_result"
    }
   ],
   "source": [
    "member_filter = cyclistic_data['member_type'] == 'casual'\n",
    "cyclistic_data[member_filter].ride_duration_in_minutes.mean()"
   ]
  },
  {
   "cell_type": "markdown",
   "metadata": {},
   "source": [
    "- The average annual member ride duration is 12.62 minutes throughout January 2021 to December 2021.\n",
    "- The average casual member ride duration is longer compared to annual member which is 20.79 minutes from January 2021 to December 2021."
   ]
  },
  {
   "cell_type": "markdown",
   "metadata": {},
   "source": [
    "For better details, i calculated the average ride duration for all members per day."
   ]
  },
  {
   "cell_type": "code",
   "execution_count": 51,
   "metadata": {},
   "outputs": [
    {
     "data": {
      "text/plain": [
       "day_name\n",
       "Friday       15.590408\n",
       "Monday       15.734380\n",
       "Saturday     18.644296\n",
       "Sunday       19.206577\n",
       "Thursday     14.368957\n",
       "Tuesday      14.583833\n",
       "Wednesday    14.409172\n",
       "Name: ride_duration_in_minutes, dtype: float64"
      ]
     },
     "execution_count": 51,
     "metadata": {},
     "output_type": "execute_result"
    }
   ],
   "source": [
    "# calculate the average ride length for all users in a week\n",
    "user_avg_rides = cyclistic_data.groupby('day_name')['ride_duration_in_minutes'].mean()\n",
    "user_avg_rides"
   ]
  },
  {
   "cell_type": "markdown",
   "metadata": {},
   "source": [
    "Here are the results of average ride duration per day:\n",
    "\n",
    "- Monday       15.734380 minutes.\n",
    "- Tuesday      14.583833 minutes.\n",
    "- Wednesday    14.409172 minutes.\n",
    "- Thursday     14.368957 minutes.\n",
    "- Friday       15.590408 minutes.\n",
    "- Saturday     18.644296 minutes.\n",
    "- Sunday       19.206577 minutes."
   ]
  },
  {
   "cell_type": "markdown",
   "metadata": {},
   "source": [
    "Now, i want to visualize the average of ride duration for each member type per day."
   ]
  },
  {
   "cell_type": "code",
   "execution_count": 52,
   "metadata": {},
   "outputs": [
    {
     "data": {
      "text/plain": [
       "day_name\n",
       "Friday       12.297368\n",
       "Monday       12.234923\n",
       "Saturday     13.998941\n",
       "Sunday       14.277267\n",
       "Thursday     11.923507\n",
       "Tuesday      11.981513\n",
       "Wednesday    12.025028\n",
       "Name: ride_duration_in_minutes, dtype: float64"
      ]
     },
     "execution_count": 52,
     "metadata": {},
     "output_type": "execute_result"
    }
   ],
   "source": [
    "# calculate the average ride length for members in a week\n",
    "\n",
    "user_avg_members = cyclistic_data[cyclistic_data['member_type'] == 'member'].groupby('day_name')['ride_duration_in_minutes'].mean()\n",
    "user_avg_members"
   ]
  },
  {
   "cell_type": "code",
   "execution_count": 53,
   "metadata": {},
   "outputs": [
    {
     "data": {
      "text/plain": [
       "day_name\n",
       "Friday       19.743287\n",
       "Monday       21.030430\n",
       "Saturday     22.186227\n",
       "Sunday       23.006046\n",
       "Thursday     18.442524\n",
       "Tuesday      19.282808\n",
       "Wednesday    18.755219\n",
       "Name: ride_duration_in_minutes, dtype: float64"
      ]
     },
     "execution_count": 53,
     "metadata": {},
     "output_type": "execute_result"
    }
   ],
   "source": [
    "# calculate the average ride length for casual_riders in a week\n",
    "\n",
    "user_avg_casual = cyclistic_data[cyclistic_data['member_type'] == 'casual'].groupby('day_name')['ride_duration_in_minutes'].mean()\n",
    "user_avg_casual"
   ]
  },
  {
   "cell_type": "code",
   "execution_count": 54,
   "metadata": {},
   "outputs": [
    {
     "data": {
      "text/plain": [
       "<function matplotlib.pyplot.show(close=None, block=None)>"
      ]
     },
     "execution_count": 54,
     "metadata": {},
     "output_type": "execute_result"
    },
    {
     "data": {
      "image/png": "[encoded data removed]",
      "text/plain": [
       "<Figure size 720x432 with 1 Axes>"
      ]
     },
     "metadata": {
      "needs_background": "light"
     },
     "output_type": "display_data"
    }
   ],
   "source": [
    "plt.figure(figsize = (10,6))\n",
    "plt.plot(user_avg_members)\n",
    "plt.plot(user_avg_casual)\n",
    "plt.title('The Average Ride Duration for Both Member Types During the week of 2021')\n",
    "plt.legend(['members', 'casual'])\n",
    "labels = ['Sunday', 'Monday', 'Tuesday', 'Wednesday', 'Thursday', 'Friday', 'Saturday']\n",
    "plt.xticks(user_avg_members.index, labels)\n",
    "plt.show"
   ]
  },
  {
   "cell_type": "markdown",
   "metadata": {},
   "source": [
    "From the graph above, it shows that casual riders spend more time on rides during the week, compared to annual riders."
   ]
  },
  {
   "cell_type": "markdown",
   "metadata": {},
   "source": [
    "---"
   ]
  },
  {
   "cell_type": "markdown",
   "metadata": {},
   "source": [
    "##### Where is the busiest station?"
   ]
  },
  {
   "cell_type": "markdown",
   "metadata": {},
   "source": [
    "The next objective is to find the starting station that is the most crowded by Divvy users. Information will be very useful for Divvy. They can target their marketing programs at the stations most visited by Divvy users."
   ]
  },
  {
   "cell_type": "markdown",
   "metadata": {},
   "source": [
    "First, I will look for the most frequently visited starting and end stations by calculating the frequency of their occurrence in the dataframe. I will only take the top 5 stations."
   ]
  },
  {
   "cell_type": "code",
   "execution_count": 55,
   "metadata": {},
   "outputs": [
    {
     "data": {
      "text/plain": [
       "Streeter Dr & Grand Ave    80293\n",
       "Michigan Ave & Oak St      42764\n",
       "Wells St & Concord Ln      41631\n",
       "Millennium Park            40469\n",
       "Clark St & Elm St          39486\n",
       "Name: start_station_name, dtype: int64"
      ]
     },
     "execution_count": 55,
     "metadata": {},
     "output_type": "execute_result"
    }
   ],
   "source": [
    "top5startstation = cyclistic_data['start_station_name'].value_counts().sort_values(ascending=False).head()\n",
    "top5startstation"
   ]
  },
  {
   "cell_type": "code",
   "execution_count": 56,
   "metadata": {},
   "outputs": [
    {
     "data": {
      "text/plain": [
       "Streeter Dr & Grand Ave    81771\n",
       "Michigan Ave & Oak St      43499\n",
       "Wells St & Concord Ln      42020\n",
       "Millennium Park            41751\n",
       "Clark St & Elm St          38920\n",
       "Name: end_station_name, dtype: int64"
      ]
     },
     "execution_count": 56,
     "metadata": {},
     "output_type": "execute_result"
    }
   ],
   "source": [
    "top5endstation = cyclistic_data['end_station_name'].value_counts().sort_values(ascending=False).head()\n",
    "top5endstation"
   ]
  },
  {
   "cell_type": "markdown",
   "metadata": {},
   "source": [
    "From the above calculation, the next step is just to add both values. Luckily enough, the top 5 most visited station, both starting and ending, are the same. So, i don't need to perform any extra steps."
   ]
  },
  {
   "cell_type": "code",
   "execution_count": 57,
   "metadata": {},
   "outputs": [
    {
     "data": {
      "text/plain": [
       "Streeter Dr & Grand Ave    162064\n",
       "Michigan Ave & Oak St       86263\n",
       "Wells St & Concord Ln       83651\n",
       "Millennium Park             82220\n",
       "Clark St & Elm St           78406\n",
       "dtype: int64"
      ]
     },
     "execution_count": 57,
     "metadata": {},
     "output_type": "execute_result"
    }
   ],
   "source": [
    "totalstationcounts = top5startstation + top5endstation\n",
    "totalstationcounts"
   ]
  },
  {
   "cell_type": "code",
   "execution_count": 58,
   "metadata": {},
   "outputs": [
    {
     "data": {
      "image/png": "[encoded data removed]",
      "text/plain": [
       "<Figure size 720x432 with 1 Axes>"
      ]
     },
     "metadata": {
      "needs_background": "light"
     },
     "output_type": "display_data"
    }
   ],
   "source": [
    "plt.figure(figsize=(10,6))\n",
    "plt.style.use('Solarize_Light2')\n",
    "plt.plot(totalstationcounts)\n",
    "plt.xlabel(\"Station Names\")\n",
    "plt.ylabel(\"Numbers Visited\")\n",
    "plt.title('Top 5 Station Visited by All Member Types')\n",
    "plt.show()"
   ]
  },
  {
   "cell_type": "markdown",
   "metadata": {},
   "source": [
    "The graph shows that the most visited stations are :\n",
    "\n",
    "1. Streeter Dr & Grand Ave\n",
    "2. Michigan Ave & Oak St\n",
    "3. Wells St & Concord Ln\n",
    "4. Millennium Park\n",
    "5. Clark St & Elm St"
   ]
  },
  {
   "cell_type": "markdown",
   "metadata": {},
   "source": [
    "Although, I do have information on which stations Divvy users visit the most. I am not satisfied with the information because it is still a little inaccurate. I don't know about the distribution of Divvy member types in the five stations. Therefore, I will look for stations that are most frequently visited by each type of Divvy member."
   ]
  },
  {
   "cell_type": "code",
   "execution_count": 59,
   "metadata": {},
   "outputs": [
    {
     "data": {
      "text/plain": [
       "member_type                          \n",
       "casual       Streeter Dr & Grand Ave     64432\n",
       "             Millennium Park             32176\n",
       "             Michigan Ave & Oak St       28657\n",
       "             Shedd Aquarium              22539\n",
       "             Theater on the Lake         20613\n",
       "member       Clark St & Elm St           23892\n",
       "             Wells St & Concord Ln       22753\n",
       "             Kingsbury St & Kinzie St    22661\n",
       "             Wells St & Elm St           20243\n",
       "             Dearborn St & Erie St       18651\n",
       "Name: start_station_name, dtype: int64"
      ]
     },
     "execution_count": 59,
     "metadata": {},
     "output_type": "execute_result"
    }
   ],
   "source": [
    "start_station_busyness = cyclistic_data.groupby('member_type')['start_station_name'].apply(lambda x: x.value_counts().head(5))\n",
    "start_station_busyness"
   ]
  },
  {
   "cell_type": "markdown",
   "metadata": {},
   "source": [
    "Now, we have the result. Next step is to plot the result above to a chart."
   ]
  },
  {
   "cell_type": "code",
   "execution_count": 60,
   "metadata": {},
   "outputs": [],
   "source": [
    "list_station = []\n",
    "list_x = []\n",
    "list_y = (start_station_busyness.values)\n",
    "for i, j in start_station_busyness.index:\n",
    "    list_x.append(j)\n",
    "    list_station.append(str(i))"
   ]
  },
  {
   "cell_type": "code",
   "execution_count": 61,
   "metadata": {},
   "outputs": [
    {
     "name": "stderr",
     "output_type": "stream",
     "text": [
      "c:\\Users\\alexa\\AppData\\Local\\Programs\\Python\\Python39\\lib\\site-packages\\seaborn\\_decorators.py:36: FutureWarning: Pass the following variables as keyword args: x, y. From version 0.12, the only valid positional argument will be `data`, and passing other arguments without an explicit keyword will result in an error or misinterpretation.\n",
      "  warnings.warn(\n"
     ]
    },
    {
     "data": {
      "text/plain": [
       "Text(0.5, 1.0, 'Count of member and casual riders starting station over the months')"
      ]
     },
     "execution_count": 61,
     "metadata": {},
     "output_type": "execute_result"
    },
    {
     "data": {
      "image/png": "[encoded data removed]",
      "text/plain": [
       "<Figure size 1440x576 with 1 Axes>"
      ]
     },
     "metadata": {},
     "output_type": "display_data"
    }
   ],
   "source": [
    "# plot count of members and casual riders\n",
    "plt.figure(figsize= (20,8))\n",
    "sns.barplot(list_x, list_y, hue =list_station)\n",
    "plt.title('Count of member and casual riders starting station over the months')"
   ]
  },
  {
   "cell_type": "markdown",
   "metadata": {},
   "source": [
    "The graph above shows us that the busiest station for casual member is Streeter Dr & Grand Ave. Meanwhile, the most frequently visited station by annual Divvy members is Clark St & Elm st."
   ]
  },
  {
   "cell_type": "code",
   "execution_count": 62,
   "metadata": {},
   "outputs": [
    {
     "data": {
      "text/plain": [
       "member_type                          \n",
       "casual       Streeter Dr & Grand Ave     67503\n",
       "             Millennium Park             33736\n",
       "             Michigan Ave & Oak St       30359\n",
       "             Theater on the Lake         22302\n",
       "             Shedd Aquarium              21152\n",
       "member       Clark St & Elm St           23961\n",
       "             Wells St & Concord Ln       23405\n",
       "             Kingsbury St & Kinzie St    22844\n",
       "             Wells St & Elm St           20794\n",
       "             Dearborn St & Erie St       19313\n",
       "Name: end_station_name, dtype: int64"
      ]
     },
     "execution_count": 62,
     "metadata": {},
     "output_type": "execute_result"
    }
   ],
   "source": [
    "end_station_busyness = cyclistic_data.groupby('member_type')['end_station_name'].apply(lambda x: x.value_counts().head(5))\n",
    "end_station_busyness"
   ]
  },
  {
   "cell_type": "code",
   "execution_count": 63,
   "metadata": {},
   "outputs": [],
   "source": [
    "list_station_end = []\n",
    "list_x_end = []\n",
    "list_y_end = (end_station_busyness.values)\n",
    "for i, j in end_station_busyness.index:\n",
    "    list_x_end.append(j)\n",
    "    list_station_end.append(str(i))"
   ]
  },
  {
   "cell_type": "code",
   "execution_count": 64,
   "metadata": {},
   "outputs": [
    {
     "name": "stderr",
     "output_type": "stream",
     "text": [
      "c:\\Users\\alexa\\AppData\\Local\\Programs\\Python\\Python39\\lib\\site-packages\\seaborn\\_decorators.py:36: FutureWarning: Pass the following variables as keyword args: x, y. From version 0.12, the only valid positional argument will be `data`, and passing other arguments without an explicit keyword will result in an error or misinterpretation.\n",
      "  warnings.warn(\n"
     ]
    },
    {
     "data": {
      "text/plain": [
       "Text(0.5, 1.0, 'Count of member and casual riders ending station over the months')"
      ]
     },
     "execution_count": 64,
     "metadata": {},
     "output_type": "execute_result"
    },
    {
     "data": {
      "image/png": "[encoded data removed]",
      "text/plain": [
       "<Figure size 1440x576 with 1 Axes>"
      ]
     },
     "metadata": {},
     "output_type": "display_data"
    }
   ],
   "source": [
    "# plot count of members and casual riders\n",
    "plt.figure(figsize= (20,8))\n",
    "sns.barplot(list_x_end, list_y_end, hue = list_station_end)\n",
    "plt.title('Count of member and casual riders ending station over the months')"
   ]
  },
  {
   "cell_type": "markdown",
   "metadata": {},
   "source": [
    "For the ending station, the most frequently visited station is still Streeter Dr & Grand Ave for casual members. Meanwhile, the most frequent station visited by annual members is still the same which is Clark St & Elm St.\n",
    "\n",
    "For summary, station Streeter Dr & Grand is the most frequently visited station both as starting and ending station for casual members. Station Clark & Elm St. is the most frequently visited station as starting and ending station for annual member. This may indicate that those two areas is where people work, live, or maybe a destination."
   ]
  },
  {
   "cell_type": "markdown",
   "metadata": {},
   "source": [
    "---"
   ]
  },
  {
   "cell_type": "markdown",
   "metadata": {},
   "source": [
    "##### What day have the most customers?"
   ]
  },
  {
   "cell_type": "markdown",
   "metadata": {},
   "source": [
    "In this objective, I wanted to find out which days of the week are the most crowded with Divvy users. By knowing the busiest days for Divvy users, I can provide useful information for Divvy marketing programs."
   ]
  },
  {
   "cell_type": "code",
   "execution_count": 65,
   "metadata": {},
   "outputs": [
    {
     "data": {
      "text/plain": [
       "0    Saturday\n",
       "Name: day_name, dtype: category\n",
       "Categories (7, object): ['Friday', 'Monday', 'Saturday', 'Sunday', 'Thursday', 'Tuesday', 'Wednesday']"
      ]
     },
     "execution_count": 65,
     "metadata": {},
     "output_type": "execute_result"
    }
   ],
   "source": [
    "mode_week_day = cyclistic_data['day_name'].mode()\n",
    "mode_week_day"
   ]
  },
  {
   "cell_type": "code",
   "execution_count": 66,
   "metadata": {},
   "outputs": [
    {
     "data": {
      "text/plain": [
       "day_name\n",
       "Friday       655624\n",
       "Monday       575245\n",
       "Saturday     825180\n",
       "Sunday       714771\n",
       "Thursday     597520\n",
       "Tuesday      602900\n",
       "Wednesday    615654\n",
       "Name: ride_id, dtype: int64"
      ]
     },
     "execution_count": 66,
     "metadata": {},
     "output_type": "execute_result"
    }
   ],
   "source": [
    "count_users = cyclistic_data.groupby('day_name')['ride_id'].count()\n",
    "count_users = count_users.sort_index()\n",
    "count_users"
   ]
  },
  {
   "cell_type": "markdown",
   "metadata": {},
   "source": [
    "So, based on the results of the formulation above, **Saturday** is the day that has the most number of Divvy users. As we know, weekend is the right time to do a little recreation around their respective homes or traveling around the area."
   ]
  },
  {
   "cell_type": "markdown",
   "metadata": {},
   "source": [
    "For a better detail, i will count the day that has the most annual member and casual member. Below here are the calculations."
   ]
  },
  {
   "cell_type": "code",
   "execution_count": 67,
   "metadata": {},
   "outputs": [
    {
     "data": {
      "text/plain": [
       "0    Wednesday\n",
       "Name: day_name, dtype: category\n",
       "Categories (7, object): ['Friday', 'Monday', 'Saturday', 'Sunday', 'Thursday', 'Tuesday', 'Wednesday']"
      ]
     },
     "execution_count": 67,
     "metadata": {},
     "output_type": "execute_result"
    }
   ],
   "source": [
    "mode_week_day_member = cyclistic_data[cyclistic_data['member_type'] == 'member']\n",
    "mode_week_day_member = mode_week_day_member['day_name'].mode()\n",
    "mode_week_day_member"
   ]
  },
  {
   "cell_type": "code",
   "execution_count": 68,
   "metadata": {},
   "outputs": [
    {
     "data": {
      "text/plain": [
       "0    Saturday\n",
       "Name: day_name, dtype: category\n",
       "Categories (7, object): ['Friday', 'Monday', 'Saturday', 'Sunday', 'Thursday', 'Tuesday', 'Wednesday']"
      ]
     },
     "execution_count": 68,
     "metadata": {},
     "output_type": "execute_result"
    }
   ],
   "source": [
    "mode_week_day_casual = cyclistic_data[cyclistic_data['member_type'] == 'casual']\n",
    "mode_week_day_casual = mode_week_day_casual['day_name'].mode()\n",
    "mode_week_day_casual"
   ]
  },
  {
   "cell_type": "markdown",
   "metadata": {},
   "source": [
    "Based on the results, Wednesday is the day that has the most annual member rides, while casual members mostly rides Divvy on Saturday."
   ]
  },
  {
   "cell_type": "code",
   "execution_count": 69,
   "metadata": {},
   "outputs": [
    {
     "data": {
      "text/plain": [
       "day_name\n",
       "Friday       365667\n",
       "Monday       346373\n",
       "Saturday     356984\n",
       "Sunday       311126\n",
       "Thursday     373375\n",
       "Tuesday      388015\n",
       "Wednesday    397561\n",
       "Name: ride_id, dtype: int64"
      ]
     },
     "execution_count": 69,
     "metadata": {},
     "output_type": "execute_result"
    }
   ],
   "source": [
    "count_members = cyclistic_data[cyclistic_data['member_type'] == 'member'].groupby('day_name')['ride_id'].count()\n",
    "count_members"
   ]
  },
  {
   "cell_type": "code",
   "execution_count": 70,
   "metadata": {},
   "outputs": [
    {
     "data": {
      "text/plain": [
       "day_name\n",
       "Friday       289957\n",
       "Monday       228872\n",
       "Saturday     468196\n",
       "Sunday       403645\n",
       "Thursday     224145\n",
       "Tuesday      214885\n",
       "Wednesday    218093\n",
       "Name: ride_id, dtype: int64"
      ]
     },
     "execution_count": 70,
     "metadata": {},
     "output_type": "execute_result"
    }
   ],
   "source": [
    "# calculate the no. of rides by casual riders in a week\n",
    "count_casual = cyclistic_data[cyclistic_data['member_type'] == 'casual'].groupby('day_name')['ride_id'].count()\n",
    "count_casual"
   ]
  },
  {
   "cell_type": "code",
   "execution_count": 71,
   "metadata": {},
   "outputs": [
    {
     "data": {
      "image/png": "[encoded data removed]",
      "text/plain": [
       "<Figure size 720x576 with 1 Axes>"
      ]
     },
     "metadata": {},
     "output_type": "display_data"
    }
   ],
   "source": [
    "# plot the graph for number of rides by casual riders and annual members \n",
    "plt.figure(figsize = (10,8))\n",
    "plt.plot(count_members.index, count_members.values)\n",
    "plt.plot(count_casual.index, count_casual.values)\n",
    "plt.title('Calculate the number of rides by Annual Members and Casual Riders')\n",
    "plt.legend(['members', 'casual'])\n",
    "labels = ['Sunday', 'Monday', 'Tuesday', 'Wednesday', 'Thursday', 'Friday', 'Saturday']\n",
    "plt.xticks(count_casual.index, labels)\n",
    "plt.show()"
   ]
  },
  {
   "cell_type": "markdown",
   "metadata": {},
   "source": [
    "A visualization of the number of rides by annual members and casual member. From this visualization, we can see that there is a spike in rides by casual riders and a sharp drop in rides by members during the midweek, also rides by members rises steadily for members during the weekends and also a heavy drop in rides by casual riders during that same period."
   ]
  },
  {
   "cell_type": "markdown",
   "metadata": {},
   "source": [
    "---"
   ]
  },
  {
   "cell_type": "markdown",
   "metadata": {},
   "source": [
    "##### What type of bikes they are riding?"
   ]
  },
  {
   "cell_type": "markdown",
   "metadata": {},
   "source": [
    "By finding out the type of bicycle used by Divvy users, the information we should be able to obtain is the preference of the annual member's bicycle type and also the casual member's."
   ]
  },
  {
   "cell_type": "code",
   "execution_count": 72,
   "metadata": {},
   "outputs": [
    {
     "data": {
      "text/plain": [
       "member_type               \n",
       "casual       classic_bike     1261197\n",
       "             electric_bike     474623\n",
       "             docked_bike       311973\n",
       "member       classic_bike     1979775\n",
       "             electric_bike     559325\n",
       "             docked_bike            1\n",
       "Name: rideable_type, dtype: int64"
      ]
     },
     "execution_count": 72,
     "metadata": {},
     "output_type": "execute_result"
    }
   ],
   "source": [
    "# To check the amount of users for a particular ride_type\n",
    "\n",
    "ride_type = cyclistic_data.groupby('member_type')['rideable_type'].value_counts()\n",
    "ride_type"
   ]
  },
  {
   "cell_type": "markdown",
   "metadata": {},
   "source": [
    "Here i just checked the amount Divvy users grouped from their member type and the bike type and then count the values. Annual member and casual member mostly uses classic bike. There is an anomaly here which is the docked bike was only used once by a single annual member throughout January 2021 to December 2021. Meanwhile, the docked bike has been used by casual members for over 300.000 times. I assume that the docked bike doesn't included in the annual membership benefits and then got mistakenly used by an annual member."
   ]
  },
  {
   "cell_type": "code",
   "execution_count": 73,
   "metadata": {},
   "outputs": [],
   "source": [
    "# to seggregate the number of users into members and casual riders based on ride type\n",
    "\n",
    "list_member = []\n",
    "list_x = []\n",
    "list_y = list(ride_type.values)\n",
    "for i, j in ride_type.index:\n",
    "    list_x.append(j)\n",
    "    list_member.append(str(i))"
   ]
  },
  {
   "cell_type": "code",
   "execution_count": 74,
   "metadata": {},
   "outputs": [
    {
     "name": "stderr",
     "output_type": "stream",
     "text": [
      "c:\\Users\\alexa\\AppData\\Local\\Programs\\Python\\Python39\\lib\\site-packages\\seaborn\\_decorators.py:36: FutureWarning: Pass the following variables as keyword args: x, y. From version 0.12, the only valid positional argument will be `data`, and passing other arguments without an explicit keyword will result in an error or misinterpretation.\n",
      "  warnings.warn(\n"
     ]
    },
    {
     "data": {
      "text/plain": [
       "Text(0.5, 1.0, 'Member and Casual riders over the months based on ride_type')"
      ]
     },
     "execution_count": 74,
     "metadata": {},
     "output_type": "execute_result"
    },
    {
     "data": {
      "image/png": "[encoded data removed]",
      "text/plain": [
       "<Figure size 864x576 with 1 Axes>"
      ]
     },
     "metadata": {},
     "output_type": "display_data"
    }
   ],
   "source": [
    "# to plot the number of users into members and casual riders based on rider type\n",
    "plt.figure(figsize=(12,8))\n",
    "sns.barplot(list_x, list_y, hue=list_member)\n",
    "plt.title('Member and Casual riders over the months based on ride_type')"
   ]
  },
  {
   "cell_type": "markdown",
   "metadata": {},
   "source": [
    "The bar graph shows that annual members used the bikes more compared to casual members."
   ]
  },
  {
   "cell_type": "markdown",
   "metadata": {},
   "source": [
    "##### Does bike type has relationship with the membership?"
   ]
  },
  {
   "cell_type": "markdown",
   "metadata": {},
   "source": [
    "Now I will do a hypothesis test on a case that I have made. The case that I made is whether the type of bike affects the membership type of Divvy users. From this case, what I will do is a hypothesis test using the chi-square method. The chi-square test is one of the methods used to convey or show the existence of a relationship (presence or absence) between the variables studied. The first step is to determine the contingency table of the 2 variables to be tested. It should be noted that these two variables must be categorical data. And in the previous key objective, I also found an anomaly where the docked bike was only used once by a Divvy annual membership user."
   ]
  },
  {
   "cell_type": "code",
   "execution_count": 75,
   "metadata": {},
   "outputs": [
    {
     "name": "stdout",
     "output_type": "stream",
     "text": [
      "<class 'pandas.core.frame.DataFrame'>\n",
      "Int64Index: 4586894 entries, 78336 to 100735\n",
      "Data columns (total 19 columns):\n",
      " #   Column                    Dtype          \n",
      "---  ------                    -----          \n",
      " 0   ride_id                   object         \n",
      " 1   rideable_type             category       \n",
      " 2   started_at                datetime64[ns] \n",
      " 3   ended_at                  datetime64[ns] \n",
      " 4   start_station_name        object         \n",
      " 5   start_station_id          object         \n",
      " 6   end_station_name          object         \n",
      " 7   end_station_id            object         \n",
      " 8   start_lat                 float64        \n",
      " 9   start_lng                 float64        \n",
      " 10  end_lat                   float64        \n",
      " 11  end_lng                   float64        \n",
      " 12  member_type               category       \n",
      " 13  ride_duration             timedelta64[ns]\n",
      " 14  start_date                datetime64[ns] \n",
      " 15  day_name                  category       \n",
      " 16  year                      int64          \n",
      " 17  month                     int64          \n",
      " 18  ride_duration_in_minutes  float64        \n",
      "dtypes: category(3), datetime64[ns](3), float64(5), int64(2), object(5), timedelta64[ns](1)\n",
      "memory usage: 608.0+ MB\n"
     ]
    }
   ],
   "source": [
    "cyclistic_data.info()"
   ]
  },
  {
   "cell_type": "markdown",
   "metadata": {},
   "source": [
    "Defining the null and alternative hypothesis:\n",
    "\n",
    "H0 : Bike type has no relationship with Divvy user membership type<br>\n",
    "H1 : Bike type has relationship with Divvy user membership type"
   ]
  },
  {
   "cell_type": "code",
   "execution_count": 76,
   "metadata": {},
   "outputs": [
    {
     "data": {
      "text/html": [
       "<div>\n",
       "<style scoped>\n",
       "    .dataframe tbody tr th:only-of-type {\n",
       "        vertical-align: middle;\n",
       "    }\n",
       "\n",
       "    .dataframe tbody tr th {\n",
       "        vertical-align: top;\n",
       "    }\n",
       "\n",
       "    .dataframe thead th {\n",
       "        text-align: right;\n",
       "    }\n",
       "</style>\n",
       "<table border=\"1\" class=\"dataframe\">\n",
       "  <thead>\n",
       "    <tr style=\"text-align: right;\">\n",
       "      <th>member_type</th>\n",
       "      <th>casual</th>\n",
       "      <th>member</th>\n",
       "    </tr>\n",
       "    <tr>\n",
       "      <th>rideable_type</th>\n",
       "      <th></th>\n",
       "      <th></th>\n",
       "    </tr>\n",
       "  </thead>\n",
       "  <tbody>\n",
       "    <tr>\n",
       "      <th>classic_bike</th>\n",
       "      <td>1261197</td>\n",
       "      <td>1979775</td>\n",
       "    </tr>\n",
       "    <tr>\n",
       "      <th>docked_bike</th>\n",
       "      <td>311973</td>\n",
       "      <td>1</td>\n",
       "    </tr>\n",
       "    <tr>\n",
       "      <th>electric_bike</th>\n",
       "      <td>474623</td>\n",
       "      <td>559325</td>\n",
       "    </tr>\n",
       "  </tbody>\n",
       "</table>\n",
       "</div>"
      ],
      "text/plain": [
       "member_type     casual   member\n",
       "rideable_type                  \n",
       "classic_bike   1261197  1979775\n",
       "docked_bike     311973        1\n",
       "electric_bike   474623   559325"
      ]
     },
     "execution_count": 76,
     "metadata": {},
     "output_type": "execute_result"
    }
   ],
   "source": [
    "contingency_table=pd.crosstab(cyclistic_data[\"rideable_type\"],cyclistic_data[\"member_type\"])\n",
    "contingency_table"
   ]
  },
  {
   "cell_type": "markdown",
   "metadata": {},
   "source": [
    "Then below is the calculation of the chi-square hypothesis test"
   ]
  },
  {
   "cell_type": "code",
   "execution_count": 77,
   "metadata": {},
   "outputs": [
    {
     "name": "stdout",
     "output_type": "stream",
     "text": [
      "p=0.000\n",
      "Probably dependent\n"
     ]
    }
   ],
   "source": [
    "stat, p, dof, expected = stats.chi2_contingency(contingency_table)\n",
    "print('p=%.3f' % (p))\n",
    "if p > 0.05:\n",
    "    print('Probably independent')\n",
    "else:\n",
    "    print('Probably dependent')"
   ]
  },
  {
   "cell_type": "markdown",
   "metadata": {},
   "source": [
    "Based on the results of the chi-square hypothesis test that was just carried out, I got the result that the null hypothesis was rejected, so that the two variables, namely bike type and member type, may have a relationship."
   ]
  },
  {
   "cell_type": "markdown",
   "metadata": {},
   "source": [
    "### Summary of Exploratory Data Analysis"
   ]
  },
  {
   "cell_type": "markdown",
   "metadata": {},
   "source": [
    "Now I will summarize the points of data exploration that I have done.\n",
    "\n",
    "The dataset used in this exploratory data analysis consists of 12 datasets which are combined into a large dataset. The dataset is pre-processed and at this stage the data type is changed, the date column is extracted to the day, month, year column, changed the column name for easier readability and also handled missing values. When handling missing values, I found information where there were bicycles that were not returned to the station. There are 4771 records that the bicycle does not return to its station. It is possible that this could be due to theft or a Divvy system error. Then the number of missing values ​​from the initial data is 13% of the total data and the missing values ​​are discarded.\n",
    "\n",
    "In the data processing section, there are 6 objective keys that are sought. First, who has used the Divvy bike? Divvy bike users are categorized into two types, namely casual and annual membership. Casual membership is a one-time or one-way membership type. Meanwhile, annual membership is a type of Divvy membership that is paid monthly for a full year. Of the total Divvy users, the number of casual members of Divvy is 45% and annual members of Divvy are 55%. there is a decrease in the number of members from January 2021 to February 2021. Likewise, Divvy casual users from January 2021 to February 2021 experienced a decrease, although not significantly. July 2021 is the month that has the most casual Divvy users. In addition, Divvy casual users have a more significant increase from February 2021 to July 2021. The next objective is to calculate the trip duration for Divvy users. In this objective analysis process, I censored anomalous values, such as too long and negative durations. After censoring, the average trip duration for Divvy users during 2021 is 16 minutes. The average duration of an annual member's trip for one year is 12 minutes, while the average duration of a casual member's trip is 20 minutes. The next objective is to find out which bicycle station is the most visited by divvy users. Overall, regardless of the member type of Divvy, the stations most frequently visited by Divvy users are Streeter Dr & Grand Ave stations. Likewise, taking into account the type of Divvy membership, Streeter Dr & Grand Ave stations are still the most frequently visited stations as starting and ending stations. Then the next objective, which day has the highest number of Divvy ride users? The answer is Saturday. For the annual member type, the day that has the highest number of rides is Wednesday, while for casual members it is Saturday. Then the next objective is to analyze the type of bicycle used by Divvy users, and based on the analysis that has been done, both annual and casual members most often use classic bicycle types. During this objective analysis, an anomaly was found, namely the docked bike type was only used once by the annual member. This may be due to a system error or the annual membership does not include the use of the docked bike type. The last objective is to test the relationship between bicycle types and Divvy membership types. In this analysis, the chi-square hypothesis testing method is used and the test results say that the type of bicycle and the type of membership may have a relationship."
   ]
  },
  {
   "cell_type": "markdown",
   "metadata": {},
   "source": [
    "## Conclusion"
   ]
  },
  {
   "cell_type": "markdown",
   "metadata": {},
   "source": [
    "From analyzing the data, i found this key behavioral between annual members and casual members :\n",
    "\n",
    "- Currently, Divvy user has more subscribed annual members than casual members.\n",
    "- There is also a surge in casual member during the months of July and August.\n",
    "- Casual members use the bikes for longer periods of time compared to annual members.\n",
    "- Casual members use the bikes heavily during the midweek (Tuesdays, Wednesdays) while annual Members use the bikes more from Thursday to the weekends.\n",
    "- Annual and casual members are concentrated at the same station which is Streeter Dr & Grand Ave. This station is a hot station for starting and ending station.\n",
    "- The classic bike is the most common to use for bot annual and casual members. Annual member used electric bike more frequent compared to casual member.\n",
    "- There is a probability that the bike type has a relationship to the membership type."
   ]
  },
  {
   "cell_type": "markdown",
   "metadata": {},
   "source": [
    "## Suggestion"
   ]
  },
  {
   "cell_type": "markdown",
   "metadata": {},
   "source": [
    "Here is my suggestion based on the analysis:\n",
    "\n",
    "- The majority of casual riders use the bikes during the weekday, Divvy marketing strategies should target casual riders that use the bikes for commutes to work.\n",
    "- The casual members spend longer trip duration compared to annual members. Divvy marketing strategies should start from these casual members and convert them to annual members so it is more cheaper for the casual members and more profit for Divvy.\n",
    "- Since Streeter Dr & Grand Ave is the busiest station, the marketing program or sales program should start at that station. We can help and influence casual riders to become members by telling them that it's more cheaper or more suitable for them if they are going to use it more frequently to become a member user type."
   ]
  }
 ],
 "metadata": {
  "kernelspec": {
   "display_name": "Python 3.9.6 64-bit",
   "language": "python",
   "name": "python3"
  },
  "language_info": {
   "codemirror_mode": {
    "name": "ipython",
    "version": 3
   },
   "file_extension": ".py",
   "mimetype": "text/x-python",
   "name": "python",
   "nbconvert_exporter": "python",
   "pygments_lexer": "ipython3",
   "version": "3.9.6"
  },
  "orig_nbformat": 4,
  "vscode": {
   "interpreter": {
    "hash": "f3d42ad487b2b2994e012ab0306cc0a65d83ea9d079e1ade1e8453053e613de7"
   }
  }
 },
 "nbformat": 4,
 "nbformat_minor": 2
}
