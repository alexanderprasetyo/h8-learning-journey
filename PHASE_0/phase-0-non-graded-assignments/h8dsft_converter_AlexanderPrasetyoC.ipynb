{
  "nbformat": 4,
  "nbformat_minor": 0,
  "metadata": {
    "colab": {
      "name": "h8dsft_converter_AlexanderPrasetyoC.ipynb",
      "provenance": [],
      "collapsed_sections": []
    },
    "kernelspec": {
      "name": "python3",
      "display_name": "Python 3"
    },
    "language_info": {
      "name": "python"
    }
  },
  "cells": [
    {
      "cell_type": "markdown",
      "source": [
        "# NON GRADED CHALLENGE 3\n",
        "\n",
        "## DESCRIPTION\n",
        "\n",
        "This is a simple python assignment to exercise about function. The assignment objectives are :\n",
        "\n",
        "* To understand the concept and framework of functions\n",
        "* Able to define a function\n",
        "* Able to implement function with its parameters.\n",
        "\n",
        "In this assignment, I am given a task to make a temperature converter. First, I need to make function that can convert temperature from Kelvin to Celsius, and Celsius to Kelvin. Then I need to make a function that converts to Fahrenheit and in the Fahrenheit function a parameter is added to ensure that the argument entered is Celsius or Kelvin by calling the first function. Lastly, I need to make a temperature converter to Fahrenheit with output in Celsius and Kelvin.\n",
        "\n",
        "Below is my code to complete the assignment."
      ],
      "metadata": {
        "id": "6z_mlww6pInC"
      }
    },
    {
      "cell_type": "markdown",
      "source": [
        "## WORKSPACE"
      ],
      "metadata": {
        "id": "Zqgf9i1rweQM"
      }
    },
    {
      "cell_type": "markdown",
      "source": [
        "Below here is the program for the temperature converter.\n",
        "\n",
        "I only use 1 funtion and I use if and elif command to read the input whether it's in Celcius, Fahrenheit, or Kelvin. If the input ends with 'c' or 'C' then the input is in Celcius degree. If the input ends with 'f' or 'F' then the input is in Fahrenheit degree. Same goes for Kelvin unit. But if the input is just a number, it will print out \"Please put the correct input\"."
      ],
      "metadata": {
        "id": "g2MJ_hblwhX_"
      }
    },
    {
      "cell_type": "code",
      "source": [
        "def temperature_converter(temperature):\n",
        "  temp = float(temperature[:-1])\n",
        "  temp_unit = temperature[-1]\n",
        "\n",
        "  if temp_unit[-1] == 'c' or temp_unit[-1] == 'C':\n",
        "    Celc_to_Fahr = (temp * 9/5) + 32\n",
        "    Celc_to_Kelv = (temp + 273.5)\n",
        "    Fahr_unit = 'F'\n",
        "    Kelv_unit = 'K'\n",
        "    print(f'Result of {temp} {temp_unit} to Fahrenheit is {Celc_to_Fahr} {Fahr_unit}')\n",
        "    print(f'Result of {temp} {temp_unit} to Kelvin is {Celc_to_Kelv} {Kelv_unit}')\n",
        "  elif temp_unit[-1] == 'K':\n",
        "    Kelv_to_Celc = temp - 273.5\n",
        "    Kelv_to_Fahr = (temp - 273.5) * 9/5 + 32\n",
        "    Celc_unit = 'C'\n",
        "    Fahr_unit = 'F'\n",
        "    print(f'Result of {temp} {temp_unit} to Celcius is {Kelv_to_Celc} {Celc_unit}')\n",
        "    print(f'Result of {temp} {temp_unit} to Fahrenheit is {Kelv_to_Fahr} {Fahr_unit}')\n",
        "  elif temp_unit[-1] == 'f' or temp_unit[-1] == 'F':\n",
        "    Fahr_to_Celc = (temp - 32) * 5/9\n",
        "    Fahr_to_Kelv = (temp - 32) * 5/9 + 273.5\n",
        "    Celc_unit = 'C'\n",
        "    Kelv_unit = 'K'\n",
        "    print(f'Result of {temp} {temp_unit} to Celcius is {Fahr_to_Celc} {Celc_unit}')\n",
        "    print(f'Result of {temp} {temp_unit} to Kelvin is {Fahr_to_Kelv} {Kelv_unit}')\n",
        "  else:\n",
        "    print(\"Please put the correct input\")\n",
        "  "
      ],
      "metadata": {
        "id": "hoNazGY72mzG"
      },
      "execution_count": 27,
      "outputs": []
    },
    {
      "cell_type": "markdown",
      "source": [
        "Now, to make it a little bit interactive, I use the 'input' command to identify the input and then call the function I just made above. "
      ],
      "metadata": {
        "id": "PmPPHubgB8GZ"
      }
    },
    {
      "cell_type": "code",
      "source": [
        "print('-'*20,'Temperature Converter','-'*20)\n",
        "temperature = input(\"Please put the temperature with its unit : \")\n",
        "temperature_converter(temperature)"
      ],
      "metadata": {
        "id": "m64SlxXj7E1B"
      },
      "execution_count": null,
      "outputs": []
    },
    {
      "cell_type": "markdown",
      "source": [
        "But you can also assign a value to variable 'temp' and call the function above to see the converting result."
      ],
      "metadata": {
        "id": "xSZI0kubCVri"
      }
    },
    {
      "cell_type": "code",
      "source": [
        "temp = '100 C'\n",
        "temperature_converter(temp)"
      ],
      "metadata": {
        "id": "tQXS3mfe_MWq"
      },
      "execution_count": null,
      "outputs": []
    },
    {
      "cell_type": "markdown",
      "source": [
        "And that's it on my assignment to make a temperature converter. This assignment definitely can be improved so feel free to use this and put some improvements. Thank you!"
      ],
      "metadata": {
        "id": "oes4UUOKBFBu"
      }
    }
  ]
}