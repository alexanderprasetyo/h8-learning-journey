{
 "cells": [
  {
   "cell_type": "code",
   "execution_count": 18,
   "metadata": {},
   "outputs": [],
   "source": [
    "import mysql.connector\n",
    "import pandas as pd"
   ]
  },
  {
   "cell_type": "code",
   "execution_count": 14,
   "metadata": {},
   "outputs": [
    {
     "name": "stdout",
     "output_type": "stream",
     "text": [
      "Koneksi sukses!\n"
     ]
    }
   ],
   "source": [
    "db = mysql.connector.connect(\n",
    "    host=\"remotemysql.com\",\n",
    "    user=\"kQkFpENNBJ\",\n",
    "    passwd=\"ZbRVpmcjR4\",\n",
    "    database=\"kQkFpENNBJ\"\n",
    ")\n",
    "\n",
    "if db.is_connected():\n",
    "    print(\"Koneksi sukses!\")\n",
    "\n",
    "    \n",
    "cur = db.cursor()"
   ]
  },
  {
   "cell_type": "code",
   "execution_count": 8,
   "metadata": {},
   "outputs": [],
   "source": [
    "sql = '''\n",
    "CREATE TABLE student (\n",
    "  student_id INT AUTO_INCREMENT PRIMARY KEY,\n",
    "  name VARCHAR(255),\n",
    "  address Varchar(255)\n",
    ")\n",
    "'''\n",
    "\n",
    "cur.execute(sql)"
   ]
  },
  {
   "cell_type": "code",
   "execution_count": 15,
   "metadata": {},
   "outputs": [],
   "source": [
    "sql1 = '''\n",
    "INSERT INTO student (name, address) VALUES (%s, %s)\n",
    "'''\n",
    "\n",
    "val = [(\"Asta\", \"Jakarta\"),\n",
    "        (\"Hedy\",\"Bengkulu\"),\n",
    "        (\"Raihan\",\"Yogyakarta\")]\n",
    "\n",
    "for val in val:\n",
    "  cur.execute(sql1, val)\n",
    "  db.commit()\n",
    "\n"
   ]
  },
  {
   "cell_type": "code",
   "execution_count": null,
   "metadata": {},
   "outputs": [],
   "source": [
    "sekolah = pd.DataFrame({\n",
    "    'name':['Aco','Excell','Putra','Daniel','Mahes','Farras'],\n",
    "    'address':['Bandung','Radio Dalam','Jakbar','Jaksel','Cirendeu','Disana dah gua gatau']\n",
    "})"
   ]
  },
  {
   "cell_type": "code",
   "execution_count": 21,
   "metadata": {},
   "outputs": [
    {
     "data": {
      "text/html": [
       "<div>\n",
       "<style scoped>\n",
       "    .dataframe tbody tr th:only-of-type {\n",
       "        vertical-align: middle;\n",
       "    }\n",
       "\n",
       "    .dataframe tbody tr th {\n",
       "        vertical-align: top;\n",
       "    }\n",
       "\n",
       "    .dataframe thead th {\n",
       "        text-align: right;\n",
       "    }\n",
       "</style>\n",
       "<table border=\"1\" class=\"dataframe\">\n",
       "  <thead>\n",
       "    <tr style=\"text-align: right;\">\n",
       "      <th></th>\n",
       "      <th>name</th>\n",
       "      <th>address</th>\n",
       "    </tr>\n",
       "  </thead>\n",
       "  <tbody>\n",
       "    <tr>\n",
       "      <th>0</th>\n",
       "      <td>Aco</td>\n",
       "      <td>Bandung</td>\n",
       "    </tr>\n",
       "    <tr>\n",
       "      <th>1</th>\n",
       "      <td>Excell</td>\n",
       "      <td>Radio Dalam</td>\n",
       "    </tr>\n",
       "    <tr>\n",
       "      <th>2</th>\n",
       "      <td>Putra</td>\n",
       "      <td>Jakbar</td>\n",
       "    </tr>\n",
       "    <tr>\n",
       "      <th>3</th>\n",
       "      <td>Daniel</td>\n",
       "      <td>Jaksel</td>\n",
       "    </tr>\n",
       "    <tr>\n",
       "      <th>4</th>\n",
       "      <td>Mahes</td>\n",
       "      <td>Cirendeu</td>\n",
       "    </tr>\n",
       "    <tr>\n",
       "      <th>5</th>\n",
       "      <td>Farras</td>\n",
       "      <td>Disana dah gua gatau</td>\n",
       "    </tr>\n",
       "  </tbody>\n",
       "</table>\n",
       "</div>"
      ],
      "text/plain": [
       "     name               address\n",
       "0     Aco               Bandung\n",
       "1  Excell           Radio Dalam\n",
       "2   Putra                Jakbar\n",
       "3  Daniel                Jaksel\n",
       "4   Mahes              Cirendeu\n",
       "5  Farras  Disana dah gua gatau"
      ]
     },
     "execution_count": 21,
     "metadata": {},
     "output_type": "execute_result"
    }
   ],
   "source": [
    "sekolah"
   ]
  },
  {
   "cell_type": "code",
   "execution_count": 23,
   "metadata": {},
   "outputs": [],
   "source": [
    "db = mysql.connector.connect(\n",
    "    host=\"remotemysql.com\",\n",
    "    user=\"kQkFpENNBJ\",\n",
    "    passwd=\"ZbRVpmcjR4\",\n",
    "    database=\"kQkFpENNBJ\"\n",
    ")\n",
    "cur = db.cursor()\n",
    "\n",
    "\n",
    "for val in zip(sekolah['name'],sekolah['address']):\n",
    "    sql2 = \"INSERT INTO student (name, address) VALUES (%s, %s)\"\n",
    "    cur.execute(sql2,val)\n",
    "    db.commit()\n",
    "\n"
   ]
  },
  {
   "cell_type": "code",
   "execution_count": 24,
   "metadata": {},
   "outputs": [],
   "source": [
    "sekolah2 = pd.DataFrame({\n",
    "    'name':['Orang','Org2','Org3',],\n",
    "    'address':['Bandung','Radio Dalam','Jakbar']\n",
    "})"
   ]
  },
  {
   "cell_type": "code",
   "execution_count": 26,
   "metadata": {},
   "outputs": [],
   "source": [
    "db = mysql.connector.connect(\n",
    "    host=\"remotemysql.com\",\n",
    "    user=\"kQkFpENNBJ\",\n",
    "    passwd=\"ZbRVpmcjR4\",\n",
    "    database=\"kQkFpENNBJ\"\n",
    ")\n",
    "cur = db.cursor()\n",
    "\n",
    "\n",
    "for i in range(len(sekolah2)):\n",
    "    sql3 = f\"INSERT INTO student (name, address) VALUES ('{sekolah2['name'][i]}', '{sekolah2['address'][i]}')\"\n",
    "    cur.execute(sql3)\n",
    "    db.commit()\n"
   ]
  },
  {
   "cell_type": "code",
   "execution_count": 28,
   "metadata": {},
   "outputs": [
    {
     "data": {
      "text/plain": [
       "[(2, 'Alex', 'Jakarta'),\n",
       " (3, 'Asta', 'Jakarta'),\n",
       " (4, 'Hedy', 'Bengkulu'),\n",
       " (5, 'Raihan', 'Yogyakarta'),\n",
       " (6, 'Aco', 'Bandung'),\n",
       " (7, 'Excell', 'Radio Dalam'),\n",
       " (8, 'Putra', 'Jakbar'),\n",
       " (9, 'Daniel', 'Jaksel'),\n",
       " (10, 'Mahes', 'Cirendeu'),\n",
       " (11, 'Farras', 'Disana dah gua gatau'),\n",
       " (12, 'Orang', 'Bandung'),\n",
       " (13, 'Org2', 'Radio Dalam'),\n",
       " (14, 'Org3', 'Jakbar')]"
      ]
     },
     "execution_count": 28,
     "metadata": {},
     "output_type": "execute_result"
    }
   ],
   "source": [
    "db = mysql.connector.connect(\n",
    "    host=\"remotemysql.com\",\n",
    "    user=\"kQkFpENNBJ\",\n",
    "    passwd=\"ZbRVpmcjR4\",\n",
    "    database=\"kQkFpENNBJ\"\n",
    ")\n",
    "cur = db.cursor()\n",
    "\n",
    "sql4 = '''\n",
    "select * from student\n",
    "'''\n",
    "\n",
    "cur.execute(sql4)\n",
    "result = cur.fetchall()\n",
    "\n",
    "result"
   ]
  },
  {
   "cell_type": "code",
   "execution_count": 30,
   "metadata": {},
   "outputs": [
    {
     "name": "stderr",
     "output_type": "stream",
     "text": [
      "c:\\Users\\alexa\\AppData\\Local\\Programs\\Python\\Python39\\lib\\site-packages\\pandas\\io\\sql.py:761: UserWarning: pandas only support SQLAlchemy connectable(engine/connection) ordatabase string URI or sqlite3 DBAPI2 connectionother DBAPI2 objects are not tested, please consider using SQLAlchemy\n",
      "  warnings.warn(\n"
     ]
    },
    {
     "data": {
      "text/html": [
       "<div>\n",
       "<style scoped>\n",
       "    .dataframe tbody tr th:only-of-type {\n",
       "        vertical-align: middle;\n",
       "    }\n",
       "\n",
       "    .dataframe tbody tr th {\n",
       "        vertical-align: top;\n",
       "    }\n",
       "\n",
       "    .dataframe thead th {\n",
       "        text-align: right;\n",
       "    }\n",
       "</style>\n",
       "<table border=\"1\" class=\"dataframe\">\n",
       "  <thead>\n",
       "    <tr style=\"text-align: right;\">\n",
       "      <th></th>\n",
       "      <th>student_id</th>\n",
       "      <th>name</th>\n",
       "      <th>address</th>\n",
       "    </tr>\n",
       "  </thead>\n",
       "  <tbody>\n",
       "    <tr>\n",
       "      <th>0</th>\n",
       "      <td>2</td>\n",
       "      <td>Alex</td>\n",
       "      <td>Jakarta</td>\n",
       "    </tr>\n",
       "    <tr>\n",
       "      <th>1</th>\n",
       "      <td>3</td>\n",
       "      <td>Asta</td>\n",
       "      <td>Jakarta</td>\n",
       "    </tr>\n",
       "    <tr>\n",
       "      <th>2</th>\n",
       "      <td>4</td>\n",
       "      <td>Hedy</td>\n",
       "      <td>Bengkulu</td>\n",
       "    </tr>\n",
       "    <tr>\n",
       "      <th>3</th>\n",
       "      <td>5</td>\n",
       "      <td>Raihan</td>\n",
       "      <td>Yogyakarta</td>\n",
       "    </tr>\n",
       "    <tr>\n",
       "      <th>4</th>\n",
       "      <td>6</td>\n",
       "      <td>Aco</td>\n",
       "      <td>Bandung</td>\n",
       "    </tr>\n",
       "    <tr>\n",
       "      <th>5</th>\n",
       "      <td>7</td>\n",
       "      <td>Excell</td>\n",
       "      <td>Radio Dalam</td>\n",
       "    </tr>\n",
       "    <tr>\n",
       "      <th>6</th>\n",
       "      <td>8</td>\n",
       "      <td>Putra</td>\n",
       "      <td>Jakbar</td>\n",
       "    </tr>\n",
       "    <tr>\n",
       "      <th>7</th>\n",
       "      <td>9</td>\n",
       "      <td>Daniel</td>\n",
       "      <td>Jaksel</td>\n",
       "    </tr>\n",
       "    <tr>\n",
       "      <th>8</th>\n",
       "      <td>10</td>\n",
       "      <td>Mahes</td>\n",
       "      <td>Cirendeu</td>\n",
       "    </tr>\n",
       "    <tr>\n",
       "      <th>9</th>\n",
       "      <td>11</td>\n",
       "      <td>Farras</td>\n",
       "      <td>Disana dah gua gatau</td>\n",
       "    </tr>\n",
       "    <tr>\n",
       "      <th>10</th>\n",
       "      <td>12</td>\n",
       "      <td>Orang</td>\n",
       "      <td>Bandung</td>\n",
       "    </tr>\n",
       "    <tr>\n",
       "      <th>11</th>\n",
       "      <td>13</td>\n",
       "      <td>Org2</td>\n",
       "      <td>Radio Dalam</td>\n",
       "    </tr>\n",
       "    <tr>\n",
       "      <th>12</th>\n",
       "      <td>14</td>\n",
       "      <td>Org3</td>\n",
       "      <td>Jakbar</td>\n",
       "    </tr>\n",
       "  </tbody>\n",
       "</table>\n",
       "</div>"
      ],
      "text/plain": [
       "    student_id    name               address\n",
       "0            2    Alex               Jakarta\n",
       "1            3    Asta               Jakarta\n",
       "2            4    Hedy              Bengkulu\n",
       "3            5  Raihan            Yogyakarta\n",
       "4            6     Aco               Bandung\n",
       "5            7  Excell           Radio Dalam\n",
       "6            8   Putra                Jakbar\n",
       "7            9  Daniel                Jaksel\n",
       "8           10   Mahes              Cirendeu\n",
       "9           11  Farras  Disana dah gua gatau\n",
       "10          12   Orang               Bandung\n",
       "11          13    Org2           Radio Dalam\n",
       "12          14    Org3                Jakbar"
      ]
     },
     "execution_count": 30,
     "metadata": {},
     "output_type": "execute_result"
    }
   ],
   "source": [
    "pembacaan = pd.read_sql_query(sql4, db)\n",
    "pembacaan"
   ]
  }
 ],
 "metadata": {
  "kernelspec": {
   "display_name": "Python 3.9.6 64-bit",
   "language": "python",
   "name": "python3"
  },
  "language_info": {
   "codemirror_mode": {
    "name": "ipython",
    "version": 3
   },
   "file_extension": ".py",
   "mimetype": "text/x-python",
   "name": "python",
   "nbconvert_exporter": "python",
   "pygments_lexer": "ipython3",
   "version": "3.9.6"
  },
  "orig_nbformat": 4,
  "vscode": {
   "interpreter": {
    "hash": "f3d42ad487b2b2994e012ab0306cc0a65d83ea9d079e1ade1e8453053e613de7"
   }
  }
 },
 "nbformat": 4,
 "nbformat_minor": 2
}
