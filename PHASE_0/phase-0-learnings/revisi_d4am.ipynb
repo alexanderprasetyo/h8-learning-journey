{
  "cells": [
    {
      "cell_type": "markdown",
      "metadata": {
        "id": "ERjHfILLxmbS"
      },
      "source": [
        "# Week 1: Day 4 AM // Pandas Basic"
      ]
    },
    {
      "cell_type": "markdown",
      "metadata": {
        "id": "fxzyarENtn5F"
      },
      "source": [
        "# Pandas Introduction\n",
        "\n",
        "Pandas is a fast, powerful, flexible and easy to use open source data analysis and manipulation tool,\n",
        "built on top of the Python programming language.\n",
        "\n",
        "Pandas is a Python library that provides extensive means for data analysis. Data scientists often work with data stored in table formats like .csv, .tsv, or .xlsx. Pandas makes it very convenient to load, process, and analyze such tabular data using SQL-like queries. In conjunction with Matplotlib and Seaborn, Pandas provides a wide range of opportunities for visual analysis of tabular data.\n",
        "\n",
        "The main data structures in Pandas are implemented with Series and DataFrame classes. The former is a one-dimensional indexed array of some fixed data type. The latter is a two-dimensional data structure - a table - where each column contains data of the same type. You can see it as a dictionary of Seriesinstances. DataFrames are great for representing real data: rows correspond to instances (objects, observations, etc.), and columns correspond to features for each of the instances.\n",
        "\n",
        "> Pandas is like Excel in Python: it uses tables (namely DataFrame) and operates transformations on the data. But it can do a lot more.\n",
        "\n",
        "**Installing Pandas**\n",
        "\n",
        "`python -m pip install pandas`\n",
        "\n",
        "or\n",
        "\n",
        "`conda install pandas`"
      ]
    },
    {
      "cell_type": "markdown",
      "metadata": {
        "id": "ggAwqSb7tn5G"
      },
      "source": [
        "## Using the Pandas Python Library\n"
      ]
    },
    {
      "cell_type": "code",
      "execution_count": 1,
      "metadata": {
        "id": "fjtT46ybtn5H"
      },
      "outputs": [],
      "source": [
        "import numpy as np\n",
        "import pandas as pd"
      ]
    },
    {
      "cell_type": "markdown",
      "metadata": {
        "id": "6nGVYOF6tn5i"
      },
      "source": [
        "## Getting to Know Pandas’ Data Structures\n",
        "\n",
        "### Understanding Series Objects\n",
        "\n",
        "Python’s most basic data structure is the list, which is also a good starting point for getting to know pandas.Series objects. Create a new Series object based on a list:"
      ]
    },
    {
      "cell_type": "code",
      "execution_count": 2,
      "metadata": {
        "id": "q7I2OEKNtn5j"
      },
      "outputs": [],
      "source": [
        "revenues = pd.Series([5555, 7000, 1980])"
      ]
    },
    {
      "cell_type": "code",
      "execution_count": 4,
      "metadata": {},
      "outputs": [
        {
          "data": {
            "text/plain": [
              "0    5555\n",
              "1    7000\n",
              "2    1980\n",
              "dtype: int64"
            ]
          },
          "execution_count": 4,
          "metadata": {},
          "output_type": "execute_result"
        }
      ],
      "source": [
        "revenues"
      ]
    },
    {
      "cell_type": "code",
      "execution_count": 5,
      "metadata": {
        "id": "hnP-ZG0R9zoR"
      },
      "outputs": [
        {
          "name": "stdout",
          "output_type": "stream",
          "text": [
            "0    5555\n",
            "1    7000\n",
            "2    1980\n",
            "dtype: int32\n"
          ]
        }
      ],
      "source": [
        "# # simple array\n",
        "data = np.array([5555, 7000, 1980])\n",
        "revenues = pd.Series(data)\n",
        "print(revenues)"
      ]
    },
    {
      "cell_type": "markdown",
      "metadata": {
        "id": "Hri_IQDDtn5j"
      },
      "source": [
        "You’ve used the list `[5555, 7000, 1980]` to create a Series object called revenues. A Series object wraps two components:\n",
        "\n",
        "- A sequence of values\n",
        "- A sequence of identifiers, which is the index\n",
        "\n",
        "You can access these components with `.values` and `.index`, respectively:"
      ]
    },
    {
      "cell_type": "code",
      "execution_count": null,
      "metadata": {
        "id": "YFdQ-ac4tn5j",
        "outputId": "356bb55e-fc82-4202-faa6-b633de1ea0a3"
      },
      "outputs": [
        {
          "data": {
            "text/plain": [
              "0    5555\n",
              "1    7000\n",
              "2    1980\n",
              "dtype: int64"
            ]
          },
          "execution_count": 20,
          "metadata": {},
          "output_type": "execute_result"
        }
      ],
      "source": [
        "revenues"
      ]
    },
    {
      "cell_type": "markdown",
      "metadata": {
        "id": "zOy9026itn5j"
      },
      "source": [
        "`revenues.values` returns the values in the Series, whereas `revenues.index` returns the positional index."
      ]
    },
    {
      "cell_type": "code",
      "execution_count": 6,
      "metadata": {
        "id": "v2lgUE02tn5j",
        "outputId": "b2d1c24a-5ccb-47b0-816b-95d039c8f8e4"
      },
      "outputs": [
        {
          "data": {
            "text/plain": [
              "array([5555, 7000, 1980])"
            ]
          },
          "execution_count": 6,
          "metadata": {},
          "output_type": "execute_result"
        }
      ],
      "source": [
        "revenues.values"
      ]
    },
    {
      "cell_type": "code",
      "execution_count": null,
      "metadata": {
        "id": "r30vA0GDtn5j",
        "outputId": "055b37ff-5693-4020-fa87-7e4b94bbf087"
      },
      "outputs": [
        {
          "data": {
            "text/plain": [
              "RangeIndex(start=0, stop=3, step=1)"
            ]
          },
          "execution_count": 22,
          "metadata": {},
          "output_type": "execute_result"
        }
      ],
      "source": [
        "revenues.index"
      ]
    },
    {
      "cell_type": "markdown",
      "metadata": {
        "id": "tsV4hi06tn5k"
      },
      "source": [
        "While Pandas builds on NumPy, a significant difference is in their indexing. Just like a NumPy array, a Pandas Series also has an integer index that’s implicitly defined. This implicit index indicates the element’s position in the Series.\n",
        "\n",
        "However, a Series can also have an arbitrary type of index. You can think of this explicit index as labels for a specific row:"
      ]
    },
    {
      "cell_type": "code",
      "execution_count": 7,
      "metadata": {
        "id": "58gs1ZE0tn5k",
        "outputId": "41781324-6e4d-4f48-9284-d244ec7f85cc"
      },
      "outputs": [
        {
          "data": {
            "text/plain": [
              "Amsterdam    4200\n",
              "Toronto      8000\n",
              "Tokyo        6500\n",
              "dtype: int64"
            ]
          },
          "execution_count": 7,
          "metadata": {},
          "output_type": "execute_result"
        }
      ],
      "source": [
        "city_revenues = pd.Series(\n",
        "    [4200, 8000, 6500],\n",
        "    index=[\"Amsterdam\", \"Toronto\", \"Tokyo\"]\n",
        ")\n",
        "city_revenues"
      ]
    },
    {
      "cell_type": "markdown",
      "metadata": {
        "id": "vUpE_EJGtn5k"
      },
      "source": [
        "Here, the index is a list of city names represented by strings. You may have noticed that Python dictionaries use string indices as well, and this is a handy analogy to keep in mind! You can use the code blocks above to distinguish between two types of Series:\n",
        "\n",
        "- revenues: This Series behaves like a Python list because it only has a positional index.\n",
        "- city_revenues: This Series acts like a Python dictionary because it features both a positional and a label index.\n",
        "\n",
        "Here’s how to construct a Series with a label index from a Python dictionary:"
      ]
    },
    {
      "cell_type": "code",
      "execution_count": 8,
      "metadata": {
        "id": "W7MtwRUvtn5k",
        "outputId": "06727849-ba75-4cd1-d01c-8c32adf64804"
      },
      "outputs": [
        {
          "data": {
            "text/plain": [
              "Amsterdam    5\n",
              "Tokyo        8\n",
              "dtype: int64"
            ]
          },
          "execution_count": 8,
          "metadata": {},
          "output_type": "execute_result"
        }
      ],
      "source": [
        "city_employee_count = pd.Series({\"Amsterdam\": 5, \"Tokyo\": 8})\n",
        "city_employee_count"
      ]
    },
    {
      "cell_type": "markdown",
      "metadata": {
        "id": "h75hV_wKtn5k"
      },
      "source": [
        "The dictionary keys become the index, and the dictionary values are the Series values.\n",
        "\n",
        "Just like dictionaries, Series also support `.keys()` and the in keyword:"
      ]
    },
    {
      "cell_type": "code",
      "execution_count": 9,
      "metadata": {
        "id": "bRVG4wsBtn5l",
        "outputId": "79d2ceac-d463-44fa-b4dd-a0445d3f36de"
      },
      "outputs": [
        {
          "data": {
            "text/plain": [
              "Index(['Amsterdam', 'Tokyo'], dtype='object')"
            ]
          },
          "execution_count": 9,
          "metadata": {},
          "output_type": "execute_result"
        }
      ],
      "source": [
        "city_employee_count.keys()"
      ]
    },
    {
      "cell_type": "code",
      "execution_count": 10,
      "metadata": {
        "id": "V_38F57Btn5l",
        "outputId": "4a8c112e-f077-404e-e8b3-ed8f601f4eb8"
      },
      "outputs": [
        {
          "data": {
            "text/plain": [
              "True"
            ]
          },
          "execution_count": 10,
          "metadata": {},
          "output_type": "execute_result"
        }
      ],
      "source": [
        "#pengecekan index\n",
        "\n",
        "\"Tokyo\" in city_employee_count"
      ]
    },
    {
      "cell_type": "code",
      "execution_count": null,
      "metadata": {
        "id": "5iLoqVPVtn5l",
        "outputId": "31b870fd-21d6-411f-83e3-fc7b9b4fd1e0",
        "scrolled": true
      },
      "outputs": [
        {
          "data": {
            "text/plain": [
              "False"
            ]
          },
          "execution_count": 27,
          "metadata": {},
          "output_type": "execute_result"
        }
      ],
      "source": [
        "\"New York\" in city_employee_count"
      ]
    },
    {
      "cell_type": "markdown",
      "metadata": {
        "id": "sBys_1s2tn5l"
      },
      "source": [
        "You can use these methods to answer questions about your dataset quickly."
      ]
    },
    {
      "cell_type": "markdown",
      "metadata": {
        "id": "Kdw38kYqtn5l"
      },
      "source": [
        "### Understanding DataFrame Objects\n",
        "\n",
        "While a Series is a pretty powerful data structure, it has its limitations. For example, you can only store one attribute per key. \n",
        "\n",
        "If you’ve followed along with the Series examples, then you should already have two Series objects with cities as keys:\n",
        "\n",
        "- city_revenues\n",
        "- city_employee_count\n",
        "\n",
        "You can combine these objects into a DataFrame by providing a dictionary in the constructor. The dictionary keys will become the column names, and the values should contain the Series objects:"
      ]
    },
    {
      "cell_type": "code",
      "execution_count": 12,
      "metadata": {},
      "outputs": [
        {
          "data": {
            "text/html": [
              "<div>\n",
              "<style scoped>\n",
              "    .dataframe tbody tr th:only-of-type {\n",
              "        vertical-align: middle;\n",
              "    }\n",
              "\n",
              "    .dataframe tbody tr th {\n",
              "        vertical-align: top;\n",
              "    }\n",
              "\n",
              "    .dataframe thead th {\n",
              "        text-align: right;\n",
              "    }\n",
              "</style>\n",
              "<table border=\"1\" class=\"dataframe\">\n",
              "  <thead>\n",
              "    <tr style=\"text-align: right;\">\n",
              "      <th></th>\n",
              "      <th>kolom 1</th>\n",
              "      <th>kolom 2</th>\n",
              "    </tr>\n",
              "  </thead>\n",
              "  <tbody>\n",
              "    <tr>\n",
              "      <th>0</th>\n",
              "      <td>a</td>\n",
              "      <td>a</td>\n",
              "    </tr>\n",
              "    <tr>\n",
              "      <th>1</th>\n",
              "      <td>b</td>\n",
              "      <td>b</td>\n",
              "    </tr>\n",
              "    <tr>\n",
              "      <th>2</th>\n",
              "      <td>c</td>\n",
              "      <td>c</td>\n",
              "    </tr>\n",
              "    <tr>\n",
              "      <th>3</th>\n",
              "      <td>d</td>\n",
              "      <td>d</td>\n",
              "    </tr>\n",
              "  </tbody>\n",
              "</table>\n",
              "</div>"
            ],
            "text/plain": [
              "  kolom 1 kolom 2\n",
              "0       a       a\n",
              "1       b       b\n",
              "2       c       c\n",
              "3       d       d"
            ]
          },
          "execution_count": 12,
          "metadata": {},
          "output_type": "execute_result"
        }
      ],
      "source": [
        "pd.DataFrame({'kolom 1': ['a', 'b' , 'c', 'd'],\n",
        "            'kolom 2': ['a', 'b' , 'c', 'd']})"
      ]
    },
    {
      "cell_type": "code",
      "execution_count": 13,
      "metadata": {
        "id": "5N4FJ7_wtn5m"
      },
      "outputs": [],
      "source": [
        "city_data = pd.DataFrame({\n",
        "    \"revenue\": city_revenues,\n",
        "    \"employee_count\": city_employee_count\n",
        "})"
      ]
    },
    {
      "cell_type": "code",
      "execution_count": 14,
      "metadata": {
        "id": "W_26uNk7tn5m",
        "outputId": "f980a696-587b-4e24-81eb-c15d469c1165"
      },
      "outputs": [
        {
          "data": {
            "text/html": [
              "<div>\n",
              "<style scoped>\n",
              "    .dataframe tbody tr th:only-of-type {\n",
              "        vertical-align: middle;\n",
              "    }\n",
              "\n",
              "    .dataframe tbody tr th {\n",
              "        vertical-align: top;\n",
              "    }\n",
              "\n",
              "    .dataframe thead th {\n",
              "        text-align: right;\n",
              "    }\n",
              "</style>\n",
              "<table border=\"1\" class=\"dataframe\">\n",
              "  <thead>\n",
              "    <tr style=\"text-align: right;\">\n",
              "      <th></th>\n",
              "      <th>revenue</th>\n",
              "      <th>employee_count</th>\n",
              "    </tr>\n",
              "  </thead>\n",
              "  <tbody>\n",
              "    <tr>\n",
              "      <th>Amsterdam</th>\n",
              "      <td>4200</td>\n",
              "      <td>5.0</td>\n",
              "    </tr>\n",
              "    <tr>\n",
              "      <th>Tokyo</th>\n",
              "      <td>6500</td>\n",
              "      <td>8.0</td>\n",
              "    </tr>\n",
              "    <tr>\n",
              "      <th>Toronto</th>\n",
              "      <td>8000</td>\n",
              "      <td>NaN</td>\n",
              "    </tr>\n",
              "  </tbody>\n",
              "</table>\n",
              "</div>"
            ],
            "text/plain": [
              "           revenue  employee_count\n",
              "Amsterdam     4200             5.0\n",
              "Tokyo         6500             8.0\n",
              "Toronto       8000             NaN"
            ]
          },
          "execution_count": 14,
          "metadata": {},
          "output_type": "execute_result"
        }
      ],
      "source": [
        "city_data"
      ]
    },
    {
      "cell_type": "markdown",
      "metadata": {
        "id": "s2XnPBB_tn5m"
      },
      "source": [
        "Note how Pandas replaced the missing employee_count value for Toronto with NaN.\n",
        "\n",
        "The new DataFrame index is the union of the two Series indices:"
      ]
    },
    {
      "cell_type": "code",
      "execution_count": 15,
      "metadata": {
        "id": "yxs_gCZutn5n",
        "outputId": "fb5fba66-6532-4686-8d6a-7f1c8c97773e"
      },
      "outputs": [
        {
          "data": {
            "text/plain": [
              "Index(['Amsterdam', 'Tokyo', 'Toronto'], dtype='object')"
            ]
          },
          "execution_count": 15,
          "metadata": {},
          "output_type": "execute_result"
        }
      ],
      "source": [
        "city_data.index"
      ]
    },
    {
      "cell_type": "markdown",
      "metadata": {
        "id": "_G7EVVaztn5n"
      },
      "source": [
        "Just like a Series, a DataFrame also stores its values in a NumPy array:"
      ]
    },
    {
      "cell_type": "code",
      "execution_count": 16,
      "metadata": {
        "id": "MS_P0V2otn5n",
        "outputId": "7272e9c2-54d2-484b-bc30-ec0170d7387b"
      },
      "outputs": [
        {
          "data": {
            "text/plain": [
              "array([[4.2e+03, 5.0e+00],\n",
              "       [6.5e+03, 8.0e+00],\n",
              "       [8.0e+03,     nan]])"
            ]
          },
          "execution_count": 16,
          "metadata": {},
          "output_type": "execute_result"
        }
      ],
      "source": [
        "city_data.values"
      ]
    },
    {
      "cell_type": "markdown",
      "metadata": {
        "id": "SKraBI0Ttn5n"
      },
      "source": [
        "You can also refer to the 2 dimensions of a DataFrame as axes:"
      ]
    },
    {
      "cell_type": "code",
      "execution_count": null,
      "metadata": {
        "id": "jyFhtn2vtn5n",
        "outputId": "40211395-5be8-4ba8-93f2-733f24ea9a4c"
      },
      "outputs": [
        {
          "data": {
            "text/plain": [
              "[Index(['Amsterdam', 'Tokyo', 'Toronto'], dtype='object'),\n",
              " Index(['revenue', 'employee_count'], dtype='object')]"
            ]
          },
          "execution_count": 32,
          "metadata": {},
          "output_type": "execute_result"
        }
      ],
      "source": [
        "city_data.axes"
      ]
    },
    {
      "cell_type": "code",
      "execution_count": null,
      "metadata": {
        "id": "YliPK2Tptn5n",
        "outputId": "d3910a81-8da9-445e-8855-aa5bc6f8de58"
      },
      "outputs": [
        {
          "data": {
            "text/plain": [
              "Index(['Amsterdam', 'Tokyo', 'Toronto'], dtype='object')"
            ]
          },
          "execution_count": 33,
          "metadata": {},
          "output_type": "execute_result"
        }
      ],
      "source": [
        "city_data.axes[0]"
      ]
    },
    {
      "cell_type": "code",
      "execution_count": null,
      "metadata": {
        "id": "ajLOGOFwtn5o",
        "outputId": "516ce2aa-e6dc-4e2f-f0d9-2e4f762ae83c"
      },
      "outputs": [
        {
          "data": {
            "text/plain": [
              "Index(['revenue', 'employee_count'], dtype='object')"
            ]
          },
          "execution_count": 34,
          "metadata": {},
          "output_type": "execute_result"
        }
      ],
      "source": [
        "city_data.axes[1]"
      ]
    },
    {
      "cell_type": "markdown",
      "metadata": {
        "id": "QkDXGZZctn5o"
      },
      "source": [
        "The axis marked with 0 is the row index, and the axis marked with 1 is the column index. This terminology is important to know because you’ll encounter several DataFrame methods that accept an axis parameter.\n",
        "\n",
        "A DataFrame is also a dictionary-like data structure, so it also supports .keys() and the in keyword. However, for a DataFrame these don’t relate to the index, but to the columns:"
      ]
    },
    {
      "cell_type": "code",
      "execution_count": 17,
      "metadata": {},
      "outputs": [
        {
          "data": {
            "text/html": [
              "<div>\n",
              "<style scoped>\n",
              "    .dataframe tbody tr th:only-of-type {\n",
              "        vertical-align: middle;\n",
              "    }\n",
              "\n",
              "    .dataframe tbody tr th {\n",
              "        vertical-align: top;\n",
              "    }\n",
              "\n",
              "    .dataframe thead th {\n",
              "        text-align: right;\n",
              "    }\n",
              "</style>\n",
              "<table border=\"1\" class=\"dataframe\">\n",
              "  <thead>\n",
              "    <tr style=\"text-align: right;\">\n",
              "      <th></th>\n",
              "      <th>revenue</th>\n",
              "      <th>employee_count</th>\n",
              "    </tr>\n",
              "  </thead>\n",
              "  <tbody>\n",
              "    <tr>\n",
              "      <th>Amsterdam</th>\n",
              "      <td>4200</td>\n",
              "      <td>5.0</td>\n",
              "    </tr>\n",
              "    <tr>\n",
              "      <th>Tokyo</th>\n",
              "      <td>6500</td>\n",
              "      <td>8.0</td>\n",
              "    </tr>\n",
              "    <tr>\n",
              "      <th>Toronto</th>\n",
              "      <td>8000</td>\n",
              "      <td>NaN</td>\n",
              "    </tr>\n",
              "  </tbody>\n",
              "</table>\n",
              "</div>"
            ],
            "text/plain": [
              "           revenue  employee_count\n",
              "Amsterdam     4200             5.0\n",
              "Tokyo         6500             8.0\n",
              "Toronto       8000             NaN"
            ]
          },
          "execution_count": 17,
          "metadata": {},
          "output_type": "execute_result"
        }
      ],
      "source": [
        "city_data"
      ]
    },
    {
      "cell_type": "code",
      "execution_count": 18,
      "metadata": {
        "id": "RtfImb5Ftn5o",
        "outputId": "9f35219a-d853-4f66-c36a-2a7e89db715a"
      },
      "outputs": [
        {
          "data": {
            "text/plain": [
              "Index(['revenue', 'employee_count'], dtype='object')"
            ]
          },
          "execution_count": 18,
          "metadata": {},
          "output_type": "execute_result"
        }
      ],
      "source": [
        "city_data.keys()"
      ]
    },
    {
      "cell_type": "code",
      "execution_count": 19,
      "metadata": {
        "id": "nLpWiLEYtn5o",
        "outputId": "007465fa-1fae-45fd-dbb9-b35eedd3b3b6"
      },
      "outputs": [
        {
          "data": {
            "text/plain": [
              "False"
            ]
          },
          "execution_count": 19,
          "metadata": {},
          "output_type": "execute_result"
        }
      ],
      "source": [
        "\"Amsterdam\" in city_data #ini karena amsterdam merupakan value, bukan sebuah index"
      ]
    },
    {
      "cell_type": "code",
      "execution_count": 20,
      "metadata": {
        "id": "dzqoNkqbtn5o",
        "outputId": "1fdb5595-c04a-4a3b-cffa-b8948163d247"
      },
      "outputs": [
        {
          "data": {
            "text/plain": [
              "True"
            ]
          },
          "execution_count": 20,
          "metadata": {},
          "output_type": "execute_result"
        }
      ],
      "source": [
        "\"revenue\" in city_data"
      ]
    },
    {
      "cell_type": "markdown",
      "metadata": {
        "id": "xAGpKHCmtn5q"
      },
      "source": [
        "### Accessing Series Elements\n",
        "\n",
        "In the section above, you’ve created a Pandas Series based on a Python list and compared the two data structures. You’ve seen how a Series object is similar to lists and dictionaries in several ways. A further similarity is that you can use the indexing operator `([])` for Series as well.\n",
        "\n",
        "You’ll also learn how to use two Pandas-specific access methods:\n",
        "\n",
        "- `.loc`\n",
        "- `.iloc`\n",
        "\n",
        "You’ll see that these data access methods can be much more readable than the indexing operator.\n",
        "\n",
        "**Using the Indexing Operator**\n",
        "\n",
        "Recall that a Series has two indices:\n",
        "\n",
        "- A positional or implicit index, which is always a RangeIndex\n",
        "- A label or explicit index, which can contain any hashable objects\n",
        "\n",
        "Next, revisit the `city_revenues` object:"
      ]
    },
    {
      "cell_type": "code",
      "execution_count": 21,
      "metadata": {
        "id": "b2fb7Mlutn5q",
        "outputId": "cf2bcbd3-acae-4671-bf53-68acd425a238"
      },
      "outputs": [
        {
          "data": {
            "text/plain": [
              "Amsterdam    4200\n",
              "Toronto      8000\n",
              "Tokyo        6500\n",
              "dtype: int64"
            ]
          },
          "execution_count": 21,
          "metadata": {},
          "output_type": "execute_result"
        }
      ],
      "source": [
        "city_revenues"
      ]
    },
    {
      "cell_type": "markdown",
      "metadata": {
        "id": "PuwusmTktn5q"
      },
      "source": [
        "You can conveniently access the values in a Series with both the label and positional indices:"
      ]
    },
    {
      "cell_type": "code",
      "execution_count": 22,
      "metadata": {
        "id": "Nlsosoxptn5r",
        "outputId": "e1d098b9-b792-4865-da93-df4ed7244e1c"
      },
      "outputs": [
        {
          "data": {
            "text/plain": [
              "8000"
            ]
          },
          "execution_count": 22,
          "metadata": {},
          "output_type": "execute_result"
        }
      ],
      "source": [
        "city_revenues[\"Toronto\"]"
      ]
    },
    {
      "cell_type": "code",
      "execution_count": 25,
      "metadata": {
        "id": "hvK17aM6tn5r",
        "outputId": "7cd8c49a-c5f7-4aa5-d611-1a1035dbdcf6"
      },
      "outputs": [
        {
          "data": {
            "text/plain": [
              "8000"
            ]
          },
          "execution_count": 25,
          "metadata": {},
          "output_type": "execute_result"
        }
      ],
      "source": [
        "city_revenues[1]"
      ]
    },
    {
      "cell_type": "markdown",
      "metadata": {
        "id": "TB8Ujlwutn5r"
      },
      "source": [
        "You can also use negative indices and slices, just like you would for a list:"
      ]
    },
    {
      "cell_type": "code",
      "execution_count": 26,
      "metadata": {
        "id": "fU-FEDDEtn5r",
        "outputId": "74db3ff0-bfd2-4fc0-b9a9-80a19340bb1d"
      },
      "outputs": [
        {
          "data": {
            "text/plain": [
              "6500"
            ]
          },
          "execution_count": 26,
          "metadata": {},
          "output_type": "execute_result"
        }
      ],
      "source": [
        "city_revenues[-1]"
      ]
    },
    {
      "cell_type": "code",
      "execution_count": 27,
      "metadata": {
        "id": "TL5HYZWStn5r",
        "outputId": "4a0d9678-b5b2-4594-e14a-7b4fe7579f11"
      },
      "outputs": [
        {
          "data": {
            "text/plain": [
              "Toronto    8000\n",
              "Tokyo      6500\n",
              "dtype: int64"
            ]
          },
          "execution_count": 27,
          "metadata": {},
          "output_type": "execute_result"
        }
      ],
      "source": [
        "city_revenues[1:]"
      ]
    },
    {
      "cell_type": "code",
      "execution_count": 28,
      "metadata": {
        "id": "5X6xZ_Fntn5r",
        "outputId": "5a90ff03-c901-4ae8-fee3-841251b233ed"
      },
      "outputs": [
        {
          "data": {
            "text/plain": [
              "Toronto    8000\n",
              "Tokyo      6500\n",
              "dtype: int64"
            ]
          },
          "execution_count": 28,
          "metadata": {},
          "output_type": "execute_result"
        }
      ],
      "source": [
        "city_revenues[\"Toronto\":]"
      ]
    },
    {
      "cell_type": "markdown",
      "metadata": {
        "id": "lKDOjjBktn5s"
      },
      "source": [
        "**Using .loc and .iloc**\n",
        "\n",
        "The indexing operator `([])` is convenient, but there’s a caveat. What if the labels are also numbers? Say you have to work with a Series object like this:"
      ]
    },
    {
      "cell_type": "code",
      "execution_count": 29,
      "metadata": {
        "id": "WozxOLRQtn5s"
      },
      "outputs": [],
      "source": [
        "colors = pd.Series(\n",
        "    [\"red\", \"purple\", \"blue\", \"green\", \"yellow\"],\n",
        "    index=[1, 2, 3, 5, 8]\n",
        ")"
      ]
    },
    {
      "cell_type": "code",
      "execution_count": 30,
      "metadata": {
        "id": "kFRA1uFhtn5s",
        "outputId": "4ce1b56c-0ecd-4061-d068-6f0c0a4f7584"
      },
      "outputs": [
        {
          "data": {
            "text/plain": [
              "1       red\n",
              "2    purple\n",
              "3      blue\n",
              "5     green\n",
              "8    yellow\n",
              "dtype: object"
            ]
          },
          "execution_count": 30,
          "metadata": {},
          "output_type": "execute_result"
        }
      ],
      "source": [
        "colors"
      ]
    },
    {
      "cell_type": "code",
      "execution_count": 31,
      "metadata": {},
      "outputs": [
        {
          "data": {
            "text/plain": [
              "'red'"
            ]
          },
          "execution_count": 31,
          "metadata": {},
          "output_type": "execute_result"
        }
      ],
      "source": [
        "colors[1]"
      ]
    },
    {
      "cell_type": "markdown",
      "metadata": {
        "id": "_BYQA6nbtn5s"
      },
      "source": [
        "What will `colors[1]` return? For a positional index, `colors[1]` is \"purple\". However, if you go by the label index, then `colors[1]` is referring to \"red\".\n",
        "\n",
        "The good news is, you don’t have to figure it out! Instead, to avoid confusion, the Pandas Python library provides two data access methods:\n",
        "\n",
        "- .loc refers to the label index.\n",
        "- .iloc refers to the positional index.\n",
        "\n",
        "These data access methods are much more readable:"
      ]
    },
    {
      "cell_type": "code",
      "execution_count": null,
      "metadata": {
        "id": "z3mqrTbStn5s",
        "outputId": "2feba578-4652-4777-b938-ad102447bd59"
      },
      "outputs": [
        {
          "data": {
            "text/plain": [
              "'red'"
            ]
          },
          "execution_count": 50,
          "metadata": {},
          "output_type": "execute_result"
        }
      ],
      "source": [
        "colors.loc[1]"
      ]
    },
    {
      "cell_type": "code",
      "execution_count": null,
      "metadata": {
        "id": "gkEKmOaMtn5t",
        "outputId": "0222133c-e91c-4ffc-a453-d1188032214d"
      },
      "outputs": [
        {
          "data": {
            "text/plain": [
              "'purple'"
            ]
          },
          "execution_count": 51,
          "metadata": {},
          "output_type": "execute_result"
        }
      ],
      "source": [
        "colors.iloc[1]"
      ]
    },
    {
      "cell_type": "code",
      "execution_count": 32,
      "metadata": {},
      "outputs": [
        {
          "data": {
            "text/plain": [
              "2    purple\n",
              "3      blue\n",
              "dtype: object"
            ]
          },
          "execution_count": 32,
          "metadata": {},
          "output_type": "execute_result"
        }
      ],
      "source": [
        "colors.iloc[1:3]"
      ]
    },
    {
      "cell_type": "markdown",
      "metadata": {
        "id": "lPbJQacCtn5t"
      },
      "source": [
        "`colors.loc[1]` returned \"red\", the element with the label 1. `colors.iloc[1]` returned \"purple\", the element with the index 1."
      ]
    },
    {
      "cell_type": "markdown",
      "metadata": {
        "id": "AqEebEuWtn5t"
      },
      "source": [
        "It’s easier to keep in mind the distinction between .loc and .iloc than it is to figure out what the indexing operator will return. Even if you’re familiar with all the quirks of the indexing operator, it can be dangerous to assume that everybody who reads your code has internalized those rules as well!\n",
        "\n",
        "`.loc` and `.iloc` also support the features you would expect from indexing operators, like slicing. However, these data access methods have an important difference. While `.iloc` excludes the closing element, `.loc` includes it. Take a look at this code block:"
      ]
    },
    {
      "cell_type": "code",
      "execution_count": 33,
      "metadata": {
        "id": "Wq879huxtn5t",
        "outputId": "0f39b604-108d-4f7b-c703-dca3a4ab03d2"
      },
      "outputs": [
        {
          "data": {
            "text/plain": [
              "2    purple\n",
              "3      blue\n",
              "dtype: object"
            ]
          },
          "execution_count": 33,
          "metadata": {},
          "output_type": "execute_result"
        }
      ],
      "source": [
        "# Return the elements with the implicit index: 1, 2\n",
        "\n",
        "colors.iloc[1:3]"
      ]
    },
    {
      "cell_type": "markdown",
      "metadata": {
        "id": "hG024dqRtn5u"
      },
      "source": [
        "If you compare this code with the image above, then you can see that `colors.iloc[1:3]` returns the elements with the positional indices of 1 and 2. The closing item \"green\" with a positional index of 3 is excluded.\n",
        "\n",
        "On the other hand, `.loc` includes the closing element:"
      ]
    },
    {
      "cell_type": "code",
      "execution_count": 34,
      "metadata": {
        "id": "2LJdWE9Vtn5u",
        "outputId": "b86ead78-f992-471b-f980-648bbed4b44a"
      },
      "outputs": [
        {
          "data": {
            "text/plain": [
              "3      blue\n",
              "5     green\n",
              "8    yellow\n",
              "dtype: object"
            ]
          },
          "execution_count": 34,
          "metadata": {},
          "output_type": "execute_result"
        }
      ],
      "source": [
        "# Return the elements with the explicit index between 3 and 8\n",
        "\n",
        "colors.loc[3:8]"
      ]
    },
    {
      "cell_type": "markdown",
      "metadata": {
        "id": "nQh8IaCxtn5w"
      },
      "source": [
        "This code block says to return all elements with a label index between 3 and 8. Here, the closing item \"yellow\" has a label index of 8 and is included in the output.\n",
        "\n",
        "You can also pass a negative positional index to `.iloc`:"
      ]
    },
    {
      "cell_type": "code",
      "execution_count": 35,
      "metadata": {
        "id": "yegfB3HBtn5w",
        "outputId": "63086c92-737c-47bd-9edd-d5b900a2f80f"
      },
      "outputs": [
        {
          "data": {
            "text/plain": [
              "'green'"
            ]
          },
          "execution_count": 35,
          "metadata": {},
          "output_type": "execute_result"
        }
      ],
      "source": [
        "colors.iloc[-2]"
      ]
    },
    {
      "cell_type": "markdown",
      "metadata": {
        "id": "XU849Da0tn5w"
      },
      "source": [
        "You start from the end of the Series and return the second element.\n",
        "\n",
        "You can use the code blocks above to distinguish between two Series behaviors:\n",
        "\n",
        "- You can use `.iloc` on a Series similar to using `[]` on a list.\n",
        "- You can use `.loc` on a Series similar to using `[]` on a dictionary."
      ]
    },
    {
      "cell_type": "markdown",
      "metadata": {
        "id": "d5aTBPiWtn5w"
      },
      "source": [
        "### Accessing DataFrame Elements\n",
        "\n",
        "Since a DataFrame consists of Series objects, you can use the very same tools to access its elements. The crucial difference is the additional dimension of the DataFrame. You’ll use the indexing operator for the columns and the access methods `.loc` and `.iloc` on the rows.\n",
        "\n",
        "**Using the Indexing Operator**\n",
        "\n",
        "If you think of a DataFrame as a dictionary whose values are Series, then it makes sense that you can access its columns with the indexing operator:"
      ]
    },
    {
      "cell_type": "code",
      "execution_count": 36,
      "metadata": {
        "id": "1XfCWgH8tn5x",
        "outputId": "e152746a-9332-48c1-8915-239c35c182e1"
      },
      "outputs": [
        {
          "data": {
            "text/plain": [
              "Amsterdam    4200\n",
              "Tokyo        6500\n",
              "Toronto      8000\n",
              "Name: revenue, dtype: int64"
            ]
          },
          "execution_count": 36,
          "metadata": {},
          "output_type": "execute_result"
        }
      ],
      "source": [
        "city_data[\"revenue\"]"
      ]
    },
    {
      "cell_type": "markdown",
      "metadata": {
        "id": "TN9U5tystn5x"
      },
      "source": [
        "Here, you use the indexing operator to select the column labeled \"revenue\".\n",
        "\n",
        "If the column name is a string, then you can use attribute-style accessing with dot notation as well:"
      ]
    },
    {
      "cell_type": "code",
      "execution_count": 37,
      "metadata": {
        "id": "fLOJPhUYtn5x",
        "outputId": "57dc2d52-71a2-4b64-8ef6-825ad91115d6"
      },
      "outputs": [
        {
          "data": {
            "text/plain": [
              "Amsterdam    4200\n",
              "Tokyo        6500\n",
              "Toronto      8000\n",
              "Name: revenue, dtype: int64"
            ]
          },
          "execution_count": 37,
          "metadata": {},
          "output_type": "execute_result"
        }
      ],
      "source": [
        "city_data.revenue"
      ]
    },
    {
      "cell_type": "markdown",
      "metadata": {
        "id": "IPhhY8Oftn5y"
      },
      "source": [
        "`city_data[\"revenue\"]` and `city_data.revenue` return the same output.\n",
        "\n",
        "There’s one situation where accessing DataFrame elements with dot notation may not work or may lead to surprises. This is when a column name coincides with a DataFrame attribute or method name:"
      ]
    },
    {
      "cell_type": "code",
      "execution_count": 38,
      "metadata": {
        "id": "CUCbXuJHtn5z"
      },
      "outputs": [],
      "source": [
        "toys = pd.DataFrame([\n",
        "    {\"name\": \"ball\", \"shape\": \"sphere\"},\n",
        "    {\"name\": \"Rubik's cube\", \"shape\": \"cube\"}\n",
        "])"
      ]
    },
    {
      "cell_type": "code",
      "execution_count": null,
      "metadata": {
        "id": "hrRSiIFvtn5z",
        "outputId": "9ff5716b-3656-45c7-bdfc-67af63606ee0"
      },
      "outputs": [
        {
          "data": {
            "text/plain": [
              "0    sphere\n",
              "1      cube\n",
              "Name: shape, dtype: object"
            ]
          },
          "execution_count": 58,
          "metadata": {},
          "output_type": "execute_result"
        }
      ],
      "source": [
        "toys[\"shape\"]"
      ]
    },
    {
      "cell_type": "code",
      "execution_count": 39,
      "metadata": {
        "id": "Uw-zeuTwtn5z",
        "outputId": "0409e8de-3db6-4c94-f1d5-ee01406d7c04"
      },
      "outputs": [
        {
          "data": {
            "text/plain": [
              "(2, 2)"
            ]
          },
          "execution_count": 39,
          "metadata": {},
          "output_type": "execute_result"
        }
      ],
      "source": [
        "toys.shape #2,2 maksudnya ada 2 baris dan 2 kolom"
      ]
    },
    {
      "cell_type": "markdown",
      "metadata": {
        "id": "K919IxhDtn5z"
      },
      "source": [
        "The indexing operation `toys[\"shape\"]` returns the correct data, but the attribute-style operation `toys.shape `still returns the shape of the DataFrame. You should only use attribute-style accessing in interactive sessions or for read operations. You shouldn’t use it for production code or for manipulating data (such as defining new columns).\n",
        "\n",
        "**Using .loc and .iloc**\n",
        "\n",
        "Similar to Series, a DataFrame also provides `.loc` and `.iloc` data access methods. Remember, `.loc` uses the label and `.iloc` the positional index:"
      ]
    },
    {
      "cell_type": "code",
      "execution_count": 43,
      "metadata": {},
      "outputs": [
        {
          "data": {
            "text/html": [
              "<div>\n",
              "<style scoped>\n",
              "    .dataframe tbody tr th:only-of-type {\n",
              "        vertical-align: middle;\n",
              "    }\n",
              "\n",
              "    .dataframe tbody tr th {\n",
              "        vertical-align: top;\n",
              "    }\n",
              "\n",
              "    .dataframe thead th {\n",
              "        text-align: right;\n",
              "    }\n",
              "</style>\n",
              "<table border=\"1\" class=\"dataframe\">\n",
              "  <thead>\n",
              "    <tr style=\"text-align: right;\">\n",
              "      <th></th>\n",
              "      <th>revenue</th>\n",
              "      <th>employee_count</th>\n",
              "    </tr>\n",
              "  </thead>\n",
              "  <tbody>\n",
              "    <tr>\n",
              "      <th>Amsterdam</th>\n",
              "      <td>4200</td>\n",
              "      <td>5.0</td>\n",
              "    </tr>\n",
              "    <tr>\n",
              "      <th>Tokyo</th>\n",
              "      <td>6500</td>\n",
              "      <td>8.0</td>\n",
              "    </tr>\n",
              "    <tr>\n",
              "      <th>Toronto</th>\n",
              "      <td>8000</td>\n",
              "      <td>NaN</td>\n",
              "    </tr>\n",
              "  </tbody>\n",
              "</table>\n",
              "</div>"
            ],
            "text/plain": [
              "           revenue  employee_count\n",
              "Amsterdam     4200             5.0\n",
              "Tokyo         6500             8.0\n",
              "Toronto       8000             NaN"
            ]
          },
          "execution_count": 43,
          "metadata": {},
          "output_type": "execute_result"
        }
      ],
      "source": [
        "city_data"
      ]
    },
    {
      "cell_type": "code",
      "execution_count": 40,
      "metadata": {
        "id": "_anI2kVftn50",
        "outputId": "6b91da5d-d036-49e6-e1ad-d6eb18a32a87"
      },
      "outputs": [
        {
          "data": {
            "text/plain": [
              "revenue           4200.0\n",
              "employee_count       5.0\n",
              "Name: Amsterdam, dtype: float64"
            ]
          },
          "execution_count": 40,
          "metadata": {},
          "output_type": "execute_result"
        }
      ],
      "source": [
        "city_data.loc[\"Amsterdam\"]"
      ]
    },
    {
      "cell_type": "code",
      "execution_count": 44,
      "metadata": {},
      "outputs": [
        {
          "data": {
            "text/plain": [
              "revenue           4200.0\n",
              "employee_count       5.0\n",
              "Name: Amsterdam, dtype: float64"
            ]
          },
          "execution_count": 44,
          "metadata": {},
          "output_type": "execute_result"
        }
      ],
      "source": [
        "city_data.loc[\"Amsterdam\",:] # titik dua adalah defaultnya"
      ]
    },
    {
      "cell_type": "code",
      "execution_count": 45,
      "metadata": {},
      "outputs": [
        {
          "data": {
            "text/html": [
              "<div>\n",
              "<style scoped>\n",
              "    .dataframe tbody tr th:only-of-type {\n",
              "        vertical-align: middle;\n",
              "    }\n",
              "\n",
              "    .dataframe tbody tr th {\n",
              "        vertical-align: top;\n",
              "    }\n",
              "\n",
              "    .dataframe thead th {\n",
              "        text-align: right;\n",
              "    }\n",
              "</style>\n",
              "<table border=\"1\" class=\"dataframe\">\n",
              "  <thead>\n",
              "    <tr style=\"text-align: right;\">\n",
              "      <th></th>\n",
              "      <th>revenue</th>\n",
              "      <th>employee_count</th>\n",
              "    </tr>\n",
              "  </thead>\n",
              "  <tbody>\n",
              "    <tr>\n",
              "      <th>Amsterdam</th>\n",
              "      <td>4200</td>\n",
              "      <td>5.0</td>\n",
              "    </tr>\n",
              "    <tr>\n",
              "      <th>Tokyo</th>\n",
              "      <td>6500</td>\n",
              "      <td>8.0</td>\n",
              "    </tr>\n",
              "    <tr>\n",
              "      <th>Toronto</th>\n",
              "      <td>8000</td>\n",
              "      <td>NaN</td>\n",
              "    </tr>\n",
              "  </tbody>\n",
              "</table>\n",
              "</div>"
            ],
            "text/plain": [
              "           revenue  employee_count\n",
              "Amsterdam     4200             5.0\n",
              "Tokyo         6500             8.0\n",
              "Toronto       8000             NaN"
            ]
          },
          "execution_count": 45,
          "metadata": {},
          "output_type": "execute_result"
        }
      ],
      "source": [
        "city_data.loc[\"Amsterdam\":\"Toronto\"]"
      ]
    },
    {
      "cell_type": "code",
      "execution_count": 41,
      "metadata": {
        "id": "9MbjhImLtn50",
        "outputId": "2463f879-846f-4a31-b742-a211881a6ca8"
      },
      "outputs": [
        {
          "data": {
            "text/html": [
              "<div>\n",
              "<style scoped>\n",
              "    .dataframe tbody tr th:only-of-type {\n",
              "        vertical-align: middle;\n",
              "    }\n",
              "\n",
              "    .dataframe tbody tr th {\n",
              "        vertical-align: top;\n",
              "    }\n",
              "\n",
              "    .dataframe thead th {\n",
              "        text-align: right;\n",
              "    }\n",
              "</style>\n",
              "<table border=\"1\" class=\"dataframe\">\n",
              "  <thead>\n",
              "    <tr style=\"text-align: right;\">\n",
              "      <th></th>\n",
              "      <th>revenue</th>\n",
              "      <th>employee_count</th>\n",
              "    </tr>\n",
              "  </thead>\n",
              "  <tbody>\n",
              "    <tr>\n",
              "      <th>Tokyo</th>\n",
              "      <td>6500</td>\n",
              "      <td>8.0</td>\n",
              "    </tr>\n",
              "    <tr>\n",
              "      <th>Toronto</th>\n",
              "      <td>8000</td>\n",
              "      <td>NaN</td>\n",
              "    </tr>\n",
              "  </tbody>\n",
              "</table>\n",
              "</div>"
            ],
            "text/plain": [
              "         revenue  employee_count\n",
              "Tokyo       6500             8.0\n",
              "Toronto     8000             NaN"
            ]
          },
          "execution_count": 41,
          "metadata": {},
          "output_type": "execute_result"
        }
      ],
      "source": [
        "city_data.loc[\"Tokyo\": \"Toronto\"]"
      ]
    },
    {
      "cell_type": "code",
      "execution_count": 42,
      "metadata": {
        "id": "ia_50uMstn50",
        "outputId": "07c74df7-8734-427b-bbdd-61ec71b7459f"
      },
      "outputs": [
        {
          "data": {
            "text/plain": [
              "revenue           6500.0\n",
              "employee_count       8.0\n",
              "Name: Tokyo, dtype: float64"
            ]
          },
          "execution_count": 42,
          "metadata": {},
          "output_type": "execute_result"
        }
      ],
      "source": [
        "city_data.iloc[1]"
      ]
    },
    {
      "cell_type": "code",
      "execution_count": 46,
      "metadata": {},
      "outputs": [
        {
          "data": {
            "text/plain": [
              "revenue           8000.0\n",
              "employee_count       NaN\n",
              "Name: Toronto, dtype: float64"
            ]
          },
          "execution_count": 46,
          "metadata": {},
          "output_type": "execute_result"
        }
      ],
      "source": [
        "city_data.iloc[2]"
      ]
    },
    {
      "cell_type": "markdown",
      "metadata": {
        "id": "siwtoZL6tn50"
      },
      "source": [
        "Each line of code selects a different row from city_data:\n",
        "\n",
        "- `city_data.loc[\"Amsterdam\"]` selects the row with the label index \"Amsterdam\".\n",
        "- `city_data.loc[\"Tokyo\": \"Toronto\"]` selects the rows with label indices from \"Tokyo\" to \"Toronto\". Remember, `.loc` is inclusive.\n",
        "- `city_data.iloc[1]` selects the row with the positional index 1, which is \"Tokyo\".\n",
        "\n"
      ]
    },
    {
      "cell_type": "markdown",
      "metadata": {
        "id": "hPk81Kmitn51"
      },
      "source": [
        "For a DataFrame, the data access methods .loc and .iloc also accept a second parameter. While the first parameter selects rows based on the indices, the second parameter selects the columns. You can use these parameters together to select a subset of rows and columns from your DataFrame:"
      ]
    },
    {
      "cell_type": "code",
      "execution_count": 47,
      "metadata": {
        "id": "MbGklfIetn51",
        "outputId": "feee0a8c-8f7f-44f1-cc80-3ea2762c8353"
      },
      "outputs": [
        {
          "data": {
            "text/plain": [
              "Amsterdam    4200\n",
              "Tokyo        6500\n",
              "Name: revenue, dtype: int64"
            ]
          },
          "execution_count": 47,
          "metadata": {},
          "output_type": "execute_result"
        }
      ],
      "source": [
        "city_data.loc[\"Amsterdam\": \"Tokyo\", \"revenue\"]"
      ]
    },
    {
      "cell_type": "markdown",
      "metadata": {
        "id": "pXmFceS-tn51"
      },
      "source": [
        "Note that you separate the parameters with a comma `(,)`. The first parameter, `\"Amsterdam\" : \"Tokyo,\"` says to select all rows between those two labels. The second parameter comes after the comma and says to select the `\"revenue\"` column."
      ]
    },
    {
      "cell_type": "code",
      "execution_count": null,
      "metadata": {
        "id": "5jCY7-Matn55",
        "outputId": "219f0183-88f2-4195-a73f-bd435835f8ab"
      },
      "outputs": [
        {
          "data": {
            "text/plain": [
              "18700"
            ]
          },
          "execution_count": 75,
          "metadata": {},
          "output_type": "execute_result"
        }
      ],
      "source": [
        "city_revenues.sum()"
      ]
    },
    {
      "cell_type": "code",
      "execution_count": null,
      "metadata": {
        "id": "RfxYS0ZStn55",
        "outputId": "2e2b0a72-a5c6-4b78-a233-4fe45e6bddf3"
      },
      "outputs": [
        {
          "data": {
            "text/plain": [
              "8000"
            ]
          },
          "execution_count": 76,
          "metadata": {},
          "output_type": "execute_result"
        }
      ],
      "source": [
        "city_revenues.max()"
      ]
    },
    {
      "cell_type": "markdown",
      "metadata": {
        "id": "9WHpzipztn55"
      },
      "source": [
        "The first method returns the total of city_revenues, while the second returns the max value. There are other methods you can use, like `.min()` and `.mean()`."
      ]
    },
    {
      "cell_type": "markdown",
      "metadata": {
        "id": "m2-kfd6I-_7v"
      },
      "source": [
        "## Filter Pandas DataFrame with numpy"
      ]
    },
    {
      "cell_type": "code",
      "execution_count": 58,
      "metadata": {
        "colab": {
          "base_uri": "https://localhost:8080/"
        },
        "id": "1ZcwkJey_Alm",
        "outputId": "b0bbb67e-b69a-46d6-afe4-82627a911c31"
      },
      "outputs": [
        {
          "name": "stdout",
          "output_type": "stream",
          "text": [
            "DataFrame...\n",
            "       Product  Opening_Stock  Closing_Stock\n",
            "0     SmartTV            300            200\n",
            "1  ChromeCast            700            500\n",
            "2     Speaker           1200           1000\n",
            "3    Earphone           1500            900\n",
            "\n",
            "Filtered DataFrame Value = \n",
            "       Product  Opening_Stock  Closing_Stock\n",
            "1  ChromeCast            700            500\n",
            "3    Earphone           1500            900\n",
            "\n",
            "Filtered DataFrame Value = \n",
            "       Product  Opening_Stock  Closing_Stock\n",
            "1  ChromeCast            700            500\n"
          ]
        }
      ],
      "source": [
        "dataFrame = pd.DataFrame({\"Product\": [\"SmartTV\", \"ChromeCast\", \"Speaker\", \"Earphone\"],\n",
        "                          \"Opening_Stock\": [300, 700, 1200, 1500],\n",
        "                          \"Closing_Stock\": [200, 500, 1000, 900]})\n",
        "\n",
        "print(\"DataFrame...\\n\",dataFrame)\n",
        "\n",
        "# using numpy where() to filter DataFrame with 2 Conditions\n",
        "resValues1 = np.where((dataFrame['Opening_Stock']>=700) & (dataFrame['Closing_Stock']< 1000))\n",
        "\n",
        "print(\"\\nFiltered DataFrame Value = \\n\",dataFrame.loc[resValues1])\n",
        "\n",
        "# using numpy where() to filter DataFrame with 3 conditions\n",
        "resValues2 = np.where((dataFrame['Opening_Stock']>=500) & (dataFrame['Closing_Stock']< 1000) & (dataFrame['Product'].str.startswith('C')))\n",
        "\n",
        "print(\"\\nFiltered DataFrame Value = \\n\",dataFrame.loc[resValues2])"
      ]
    },
    {
      "cell_type": "code",
      "execution_count": 50,
      "metadata": {},
      "outputs": [
        {
          "data": {
            "text/html": [
              "<div>\n",
              "<style scoped>\n",
              "    .dataframe tbody tr th:only-of-type {\n",
              "        vertical-align: middle;\n",
              "    }\n",
              "\n",
              "    .dataframe tbody tr th {\n",
              "        vertical-align: top;\n",
              "    }\n",
              "\n",
              "    .dataframe thead th {\n",
              "        text-align: right;\n",
              "    }\n",
              "</style>\n",
              "<table border=\"1\" class=\"dataframe\">\n",
              "  <thead>\n",
              "    <tr style=\"text-align: right;\">\n",
              "      <th></th>\n",
              "      <th>Product</th>\n",
              "      <th>Opening_Stock</th>\n",
              "      <th>Closing_Stock</th>\n",
              "    </tr>\n",
              "  </thead>\n",
              "  <tbody>\n",
              "    <tr>\n",
              "      <th>0</th>\n",
              "      <td>SmartTV</td>\n",
              "      <td>300</td>\n",
              "      <td>200</td>\n",
              "    </tr>\n",
              "    <tr>\n",
              "      <th>1</th>\n",
              "      <td>ChromeCast</td>\n",
              "      <td>700</td>\n",
              "      <td>500</td>\n",
              "    </tr>\n",
              "    <tr>\n",
              "      <th>2</th>\n",
              "      <td>Speaker</td>\n",
              "      <td>1200</td>\n",
              "      <td>1000</td>\n",
              "    </tr>\n",
              "    <tr>\n",
              "      <th>3</th>\n",
              "      <td>Earphone</td>\n",
              "      <td>1500</td>\n",
              "      <td>900</td>\n",
              "    </tr>\n",
              "  </tbody>\n",
              "</table>\n",
              "</div>"
            ],
            "text/plain": [
              "      Product  Opening_Stock  Closing_Stock\n",
              "0     SmartTV            300            200\n",
              "1  ChromeCast            700            500\n",
              "2     Speaker           1200           1000\n",
              "3    Earphone           1500            900"
            ]
          },
          "execution_count": 50,
          "metadata": {},
          "output_type": "execute_result"
        }
      ],
      "source": [
        "dataFrame"
      ]
    },
    {
      "cell_type": "code",
      "execution_count": 55,
      "metadata": {},
      "outputs": [
        {
          "data": {
            "text/plain": [
              "0    False\n",
              "1    False\n",
              "2     True\n",
              "3     True\n",
              "Name: Opening_Stock, dtype: bool"
            ]
          },
          "execution_count": 55,
          "metadata": {},
          "output_type": "execute_result"
        }
      ],
      "source": [
        "dataFrame [\"Opening_Stock\"]>1000"
      ]
    },
    {
      "cell_type": "code",
      "execution_count": 56,
      "metadata": {},
      "outputs": [
        {
          "data": {
            "text/html": [
              "<div>\n",
              "<style scoped>\n",
              "    .dataframe tbody tr th:only-of-type {\n",
              "        vertical-align: middle;\n",
              "    }\n",
              "\n",
              "    .dataframe tbody tr th {\n",
              "        vertical-align: top;\n",
              "    }\n",
              "\n",
              "    .dataframe thead th {\n",
              "        text-align: right;\n",
              "    }\n",
              "</style>\n",
              "<table border=\"1\" class=\"dataframe\">\n",
              "  <thead>\n",
              "    <tr style=\"text-align: right;\">\n",
              "      <th></th>\n",
              "      <th>Product</th>\n",
              "      <th>Opening_Stock</th>\n",
              "      <th>Closing_Stock</th>\n",
              "    </tr>\n",
              "  </thead>\n",
              "  <tbody>\n",
              "    <tr>\n",
              "      <th>2</th>\n",
              "      <td>Speaker</td>\n",
              "      <td>1200</td>\n",
              "      <td>1000</td>\n",
              "    </tr>\n",
              "    <tr>\n",
              "      <th>3</th>\n",
              "      <td>Earphone</td>\n",
              "      <td>1500</td>\n",
              "      <td>900</td>\n",
              "    </tr>\n",
              "  </tbody>\n",
              "</table>\n",
              "</div>"
            ],
            "text/plain": [
              "    Product  Opening_Stock  Closing_Stock\n",
              "2   Speaker           1200           1000\n",
              "3  Earphone           1500            900"
            ]
          },
          "execution_count": 56,
          "metadata": {},
          "output_type": "execute_result"
        }
      ],
      "source": [
        "dataFrame[dataFrame [\"Opening_Stock\"]>1000]"
      ]
    },
    {
      "cell_type": "code",
      "execution_count": 61,
      "metadata": {},
      "outputs": [
        {
          "data": {
            "text/html": [
              "<div>\n",
              "<style scoped>\n",
              "    .dataframe tbody tr th:only-of-type {\n",
              "        vertical-align: middle;\n",
              "    }\n",
              "\n",
              "    .dataframe tbody tr th {\n",
              "        vertical-align: top;\n",
              "    }\n",
              "\n",
              "    .dataframe thead th {\n",
              "        text-align: right;\n",
              "    }\n",
              "</style>\n",
              "<table border=\"1\" class=\"dataframe\">\n",
              "  <thead>\n",
              "    <tr style=\"text-align: right;\">\n",
              "      <th></th>\n",
              "      <th>Product</th>\n",
              "      <th>Opening_Stock</th>\n",
              "    </tr>\n",
              "  </thead>\n",
              "  <tbody>\n",
              "    <tr>\n",
              "      <th>2</th>\n",
              "      <td>Speaker</td>\n",
              "      <td>1200</td>\n",
              "    </tr>\n",
              "    <tr>\n",
              "      <th>3</th>\n",
              "      <td>Earphone</td>\n",
              "      <td>1500</td>\n",
              "    </tr>\n",
              "  </tbody>\n",
              "</table>\n",
              "</div>"
            ],
            "text/plain": [
              "    Product  Opening_Stock\n",
              "2   Speaker           1200\n",
              "3  Earphone           1500"
            ]
          },
          "execution_count": 61,
          "metadata": {},
          "output_type": "execute_result"
        }
      ],
      "source": [
        "dataFrame[dataFrame [\"Opening_Stock\"]>1000][['Product', 'Opening_Stock']]"
      ]
    },
    {
      "cell_type": "code",
      "execution_count": 63,
      "metadata": {},
      "outputs": [
        {
          "data": {
            "text/html": [
              "<div>\n",
              "<style scoped>\n",
              "    .dataframe tbody tr th:only-of-type {\n",
              "        vertical-align: middle;\n",
              "    }\n",
              "\n",
              "    .dataframe tbody tr th {\n",
              "        vertical-align: top;\n",
              "    }\n",
              "\n",
              "    .dataframe thead th {\n",
              "        text-align: right;\n",
              "    }\n",
              "</style>\n",
              "<table border=\"1\" class=\"dataframe\">\n",
              "  <thead>\n",
              "    <tr style=\"text-align: right;\">\n",
              "      <th></th>\n",
              "      <th>Opening_Stock</th>\n",
              "      <th>Closing_Stock</th>\n",
              "    </tr>\n",
              "    <tr>\n",
              "      <th>Product</th>\n",
              "      <th></th>\n",
              "      <th></th>\n",
              "    </tr>\n",
              "  </thead>\n",
              "  <tbody>\n",
              "    <tr>\n",
              "      <th>SmartTV</th>\n",
              "      <td>300</td>\n",
              "      <td>200</td>\n",
              "    </tr>\n",
              "    <tr>\n",
              "      <th>ChromeCast</th>\n",
              "      <td>700</td>\n",
              "      <td>500</td>\n",
              "    </tr>\n",
              "    <tr>\n",
              "      <th>Speaker</th>\n",
              "      <td>1200</td>\n",
              "      <td>1000</td>\n",
              "    </tr>\n",
              "    <tr>\n",
              "      <th>Earphone</th>\n",
              "      <td>1500</td>\n",
              "      <td>900</td>\n",
              "    </tr>\n",
              "  </tbody>\n",
              "</table>\n",
              "</div>"
            ],
            "text/plain": [
              "            Opening_Stock  Closing_Stock\n",
              "Product                                 \n",
              "SmartTV               300            200\n",
              "ChromeCast            700            500\n",
              "Speaker              1200           1000\n",
              "Earphone             1500            900"
            ]
          },
          "execution_count": 63,
          "metadata": {},
          "output_type": "execute_result"
        }
      ],
      "source": [
        "df = dataFrame.set_index('Product')\n",
        "\n",
        "df"
      ]
    },
    {
      "cell_type": "code",
      "execution_count": 64,
      "metadata": {},
      "outputs": [
        {
          "data": {
            "text/plain": [
              "Product\n",
              "SmartTV       200\n",
              "ChromeCast    500\n",
              "Name: Closing_Stock, dtype: int64"
            ]
          },
          "execution_count": 64,
          "metadata": {},
          "output_type": "execute_result"
        }
      ],
      "source": [
        "#.loc + condition\n",
        "#return data with closing under 600\n",
        "\n",
        "df.loc[df['Closing_Stock'] < 600, 'Closing_Stock']"
      ]
    },
    {
      "cell_type": "code",
      "execution_count": 65,
      "metadata": {},
      "outputs": [
        {
          "data": {
            "text/plain": [
              "500"
            ]
          },
          "execution_count": 65,
          "metadata": {},
          "output_type": "execute_result"
        }
      ],
      "source": [
        "# .iloc + condition\n",
        "# return data with closing under 600\n",
        "\n",
        "df.iloc[1,1]"
      ]
    },
    {
      "cell_type": "markdown",
      "metadata": {
        "id": "JhUtjUU5tn6H"
      },
      "source": [
        "## Combining Multiple Datasets\n",
        "\n",
        "In the previous section, you’ve learned how to clean a messy dataset. Another aspect of real-world data is that it often comes in multiple pieces. In this section, you’ll learn how to grab those pieces and combine them into one dataset that’s ready for analysis.\n",
        "\n",
        "Earlier, you combined two Series objects into a DataFrame based on their indices. Now, you’ll take this one step further and use `.concat()` to combine city_data with another DataFrame. Say you’ve managed to gather some data on two more cities:"
      ]
    },
    {
      "cell_type": "code",
      "execution_count": 66,
      "metadata": {
        "id": "9jhW5_ybtn6I"
      },
      "outputs": [],
      "source": [
        "further_city_data = pd.DataFrame(\n",
        "    {\"revenue\": [7000, 3400], \"employee_count\": [2, 2]},\n",
        "    index=[\"New York\", \"Barcelona\"]\n",
        ")"
      ]
    },
    {
      "cell_type": "code",
      "execution_count": 67,
      "metadata": {
        "id": "TRWEe-2Ntn6I",
        "outputId": "3a87ccb5-b34a-4773-c483-6fb58ae138c4"
      },
      "outputs": [
        {
          "data": {
            "text/html": [
              "<div>\n",
              "<style scoped>\n",
              "    .dataframe tbody tr th:only-of-type {\n",
              "        vertical-align: middle;\n",
              "    }\n",
              "\n",
              "    .dataframe tbody tr th {\n",
              "        vertical-align: top;\n",
              "    }\n",
              "\n",
              "    .dataframe thead th {\n",
              "        text-align: right;\n",
              "    }\n",
              "</style>\n",
              "<table border=\"1\" class=\"dataframe\">\n",
              "  <thead>\n",
              "    <tr style=\"text-align: right;\">\n",
              "      <th></th>\n",
              "      <th>revenue</th>\n",
              "      <th>employee_count</th>\n",
              "    </tr>\n",
              "  </thead>\n",
              "  <tbody>\n",
              "    <tr>\n",
              "      <th>New York</th>\n",
              "      <td>7000</td>\n",
              "      <td>2</td>\n",
              "    </tr>\n",
              "    <tr>\n",
              "      <th>Barcelona</th>\n",
              "      <td>3400</td>\n",
              "      <td>2</td>\n",
              "    </tr>\n",
              "  </tbody>\n",
              "</table>\n",
              "</div>"
            ],
            "text/plain": [
              "           revenue  employee_count\n",
              "New York      7000               2\n",
              "Barcelona     3400               2"
            ]
          },
          "execution_count": 67,
          "metadata": {},
          "output_type": "execute_result"
        }
      ],
      "source": [
        "further_city_data"
      ]
    },
    {
      "cell_type": "code",
      "execution_count": 68,
      "metadata": {
        "id": "lI1VdaS5tn6I",
        "outputId": "e314eb5e-3ff2-446c-a805-5031d3052352"
      },
      "outputs": [
        {
          "data": {
            "text/html": [
              "<div>\n",
              "<style scoped>\n",
              "    .dataframe tbody tr th:only-of-type {\n",
              "        vertical-align: middle;\n",
              "    }\n",
              "\n",
              "    .dataframe tbody tr th {\n",
              "        vertical-align: top;\n",
              "    }\n",
              "\n",
              "    .dataframe thead th {\n",
              "        text-align: right;\n",
              "    }\n",
              "</style>\n",
              "<table border=\"1\" class=\"dataframe\">\n",
              "  <thead>\n",
              "    <tr style=\"text-align: right;\">\n",
              "      <th></th>\n",
              "      <th>revenue</th>\n",
              "      <th>employee_count</th>\n",
              "    </tr>\n",
              "  </thead>\n",
              "  <tbody>\n",
              "    <tr>\n",
              "      <th>Amsterdam</th>\n",
              "      <td>4200</td>\n",
              "      <td>5.0</td>\n",
              "    </tr>\n",
              "    <tr>\n",
              "      <th>Tokyo</th>\n",
              "      <td>6500</td>\n",
              "      <td>8.0</td>\n",
              "    </tr>\n",
              "    <tr>\n",
              "      <th>Toronto</th>\n",
              "      <td>8000</td>\n",
              "      <td>NaN</td>\n",
              "    </tr>\n",
              "  </tbody>\n",
              "</table>\n",
              "</div>"
            ],
            "text/plain": [
              "           revenue  employee_count\n",
              "Amsterdam     4200             5.0\n",
              "Tokyo         6500             8.0\n",
              "Toronto       8000             NaN"
            ]
          },
          "execution_count": 68,
          "metadata": {},
          "output_type": "execute_result"
        }
      ],
      "source": [
        "city_data"
      ]
    },
    {
      "cell_type": "markdown",
      "metadata": {
        "id": "rPx4qxJctn6I"
      },
      "source": [
        "This second DataFrame contains info on the cities \"New York\" and \"Barcelona\".\n",
        "\n",
        "You can add these cities to city_data using `.concat()`:"
      ]
    },
    {
      "cell_type": "code",
      "execution_count": 69,
      "metadata": {
        "id": "PFcjqXGmtn6I"
      },
      "outputs": [],
      "source": [
        "all_city_data = pd.concat([city_data, further_city_data], sort=False)"
      ]
    },
    {
      "cell_type": "code",
      "execution_count": 70,
      "metadata": {
        "id": "sv6EmWENtn6I",
        "outputId": "7a6f17fc-1e2d-4157-d198-82f66b1654f6"
      },
      "outputs": [
        {
          "data": {
            "text/html": [
              "<div>\n",
              "<style scoped>\n",
              "    .dataframe tbody tr th:only-of-type {\n",
              "        vertical-align: middle;\n",
              "    }\n",
              "\n",
              "    .dataframe tbody tr th {\n",
              "        vertical-align: top;\n",
              "    }\n",
              "\n",
              "    .dataframe thead th {\n",
              "        text-align: right;\n",
              "    }\n",
              "</style>\n",
              "<table border=\"1\" class=\"dataframe\">\n",
              "  <thead>\n",
              "    <tr style=\"text-align: right;\">\n",
              "      <th></th>\n",
              "      <th>revenue</th>\n",
              "      <th>employee_count</th>\n",
              "    </tr>\n",
              "  </thead>\n",
              "  <tbody>\n",
              "    <tr>\n",
              "      <th>Amsterdam</th>\n",
              "      <td>4200</td>\n",
              "      <td>5.0</td>\n",
              "    </tr>\n",
              "    <tr>\n",
              "      <th>Tokyo</th>\n",
              "      <td>6500</td>\n",
              "      <td>8.0</td>\n",
              "    </tr>\n",
              "    <tr>\n",
              "      <th>Toronto</th>\n",
              "      <td>8000</td>\n",
              "      <td>NaN</td>\n",
              "    </tr>\n",
              "    <tr>\n",
              "      <th>New York</th>\n",
              "      <td>7000</td>\n",
              "      <td>2.0</td>\n",
              "    </tr>\n",
              "    <tr>\n",
              "      <th>Barcelona</th>\n",
              "      <td>3400</td>\n",
              "      <td>2.0</td>\n",
              "    </tr>\n",
              "  </tbody>\n",
              "</table>\n",
              "</div>"
            ],
            "text/plain": [
              "           revenue  employee_count\n",
              "Amsterdam     4200             5.0\n",
              "Tokyo         6500             8.0\n",
              "Toronto       8000             NaN\n",
              "New York      7000             2.0\n",
              "Barcelona     3400             2.0"
            ]
          },
          "execution_count": 70,
          "metadata": {},
          "output_type": "execute_result"
        }
      ],
      "source": [
        "all_city_data"
      ]
    },
    {
      "cell_type": "markdown",
      "metadata": {
        "id": "dN3YcNdUtn6I"
      },
      "source": [
        "Now, the new variable `all_city_data` contains the values from both DataFrame objects.\n",
        "\n",
        "By default, `concat()` combines along axis=0. In other words, it appends rows. You can also use it to append columns by supplying the parameter `axis=1`:"
      ]
    },
    {
      "cell_type": "code",
      "execution_count": 71,
      "metadata": {
        "id": "dh0L3Seltn6J"
      },
      "outputs": [],
      "source": [
        "city_countries = pd.DataFrame({\n",
        "    \"country\": [\"Holland\", \"Japan\", \"Holland\", \"Canada\", \"Spain\"],\n",
        "    \"capital\": [1, 1, 0, 0, 0]},\n",
        "    index=[\"Amsterdam\", \"Tokyo\", \"Rotterdam\", \"Toronto\", \"Barcelona\"]\n",
        ")"
      ]
    },
    {
      "cell_type": "code",
      "execution_count": 72,
      "metadata": {
        "id": "jUlLTwSstn6J",
        "outputId": "a1cde7a1-55b8-49cd-bf5f-956237d302c2"
      },
      "outputs": [
        {
          "data": {
            "text/html": [
              "<div>\n",
              "<style scoped>\n",
              "    .dataframe tbody tr th:only-of-type {\n",
              "        vertical-align: middle;\n",
              "    }\n",
              "\n",
              "    .dataframe tbody tr th {\n",
              "        vertical-align: top;\n",
              "    }\n",
              "\n",
              "    .dataframe thead th {\n",
              "        text-align: right;\n",
              "    }\n",
              "</style>\n",
              "<table border=\"1\" class=\"dataframe\">\n",
              "  <thead>\n",
              "    <tr style=\"text-align: right;\">\n",
              "      <th></th>\n",
              "      <th>country</th>\n",
              "      <th>capital</th>\n",
              "    </tr>\n",
              "  </thead>\n",
              "  <tbody>\n",
              "    <tr>\n",
              "      <th>Amsterdam</th>\n",
              "      <td>Holland</td>\n",
              "      <td>1</td>\n",
              "    </tr>\n",
              "    <tr>\n",
              "      <th>Tokyo</th>\n",
              "      <td>Japan</td>\n",
              "      <td>1</td>\n",
              "    </tr>\n",
              "    <tr>\n",
              "      <th>Rotterdam</th>\n",
              "      <td>Holland</td>\n",
              "      <td>0</td>\n",
              "    </tr>\n",
              "    <tr>\n",
              "      <th>Toronto</th>\n",
              "      <td>Canada</td>\n",
              "      <td>0</td>\n",
              "    </tr>\n",
              "    <tr>\n",
              "      <th>Barcelona</th>\n",
              "      <td>Spain</td>\n",
              "      <td>0</td>\n",
              "    </tr>\n",
              "  </tbody>\n",
              "</table>\n",
              "</div>"
            ],
            "text/plain": [
              "           country  capital\n",
              "Amsterdam  Holland        1\n",
              "Tokyo        Japan        1\n",
              "Rotterdam  Holland        0\n",
              "Toronto     Canada        0\n",
              "Barcelona    Spain        0"
            ]
          },
          "execution_count": 72,
          "metadata": {},
          "output_type": "execute_result"
        }
      ],
      "source": [
        "city_countries"
      ]
    },
    {
      "cell_type": "code",
      "execution_count": 73,
      "metadata": {
        "id": "NBRPR1oetn6J",
        "outputId": "640b0505-c125-4619-97e0-480707b0515c"
      },
      "outputs": [
        {
          "data": {
            "text/html": [
              "<div>\n",
              "<style scoped>\n",
              "    .dataframe tbody tr th:only-of-type {\n",
              "        vertical-align: middle;\n",
              "    }\n",
              "\n",
              "    .dataframe tbody tr th {\n",
              "        vertical-align: top;\n",
              "    }\n",
              "\n",
              "    .dataframe thead th {\n",
              "        text-align: right;\n",
              "    }\n",
              "</style>\n",
              "<table border=\"1\" class=\"dataframe\">\n",
              "  <thead>\n",
              "    <tr style=\"text-align: right;\">\n",
              "      <th></th>\n",
              "      <th>revenue</th>\n",
              "      <th>employee_count</th>\n",
              "    </tr>\n",
              "  </thead>\n",
              "  <tbody>\n",
              "    <tr>\n",
              "      <th>Amsterdam</th>\n",
              "      <td>4200</td>\n",
              "      <td>5.0</td>\n",
              "    </tr>\n",
              "    <tr>\n",
              "      <th>Tokyo</th>\n",
              "      <td>6500</td>\n",
              "      <td>8.0</td>\n",
              "    </tr>\n",
              "    <tr>\n",
              "      <th>Toronto</th>\n",
              "      <td>8000</td>\n",
              "      <td>NaN</td>\n",
              "    </tr>\n",
              "    <tr>\n",
              "      <th>New York</th>\n",
              "      <td>7000</td>\n",
              "      <td>2.0</td>\n",
              "    </tr>\n",
              "    <tr>\n",
              "      <th>Barcelona</th>\n",
              "      <td>3400</td>\n",
              "      <td>2.0</td>\n",
              "    </tr>\n",
              "  </tbody>\n",
              "</table>\n",
              "</div>"
            ],
            "text/plain": [
              "           revenue  employee_count\n",
              "Amsterdam     4200             5.0\n",
              "Tokyo         6500             8.0\n",
              "Toronto       8000             NaN\n",
              "New York      7000             2.0\n",
              "Barcelona     3400             2.0"
            ]
          },
          "execution_count": 73,
          "metadata": {},
          "output_type": "execute_result"
        }
      ],
      "source": [
        "all_city_data"
      ]
    },
    {
      "cell_type": "code",
      "execution_count": 74,
      "metadata": {
        "id": "qZLBuJ76tn6J"
      },
      "outputs": [],
      "source": [
        "cities = pd.concat([all_city_data, city_countries], axis=1, sort=False)"
      ]
    },
    {
      "cell_type": "code",
      "execution_count": 75,
      "metadata": {
        "id": "56LEyfdxtn6J",
        "outputId": "85bb7100-b120-4abc-a487-02814f3f9646"
      },
      "outputs": [
        {
          "data": {
            "text/html": [
              "<div>\n",
              "<style scoped>\n",
              "    .dataframe tbody tr th:only-of-type {\n",
              "        vertical-align: middle;\n",
              "    }\n",
              "\n",
              "    .dataframe tbody tr th {\n",
              "        vertical-align: top;\n",
              "    }\n",
              "\n",
              "    .dataframe thead th {\n",
              "        text-align: right;\n",
              "    }\n",
              "</style>\n",
              "<table border=\"1\" class=\"dataframe\">\n",
              "  <thead>\n",
              "    <tr style=\"text-align: right;\">\n",
              "      <th></th>\n",
              "      <th>revenue</th>\n",
              "      <th>employee_count</th>\n",
              "      <th>country</th>\n",
              "      <th>capital</th>\n",
              "    </tr>\n",
              "  </thead>\n",
              "  <tbody>\n",
              "    <tr>\n",
              "      <th>Amsterdam</th>\n",
              "      <td>4200.0</td>\n",
              "      <td>5.0</td>\n",
              "      <td>Holland</td>\n",
              "      <td>1.0</td>\n",
              "    </tr>\n",
              "    <tr>\n",
              "      <th>Tokyo</th>\n",
              "      <td>6500.0</td>\n",
              "      <td>8.0</td>\n",
              "      <td>Japan</td>\n",
              "      <td>1.0</td>\n",
              "    </tr>\n",
              "    <tr>\n",
              "      <th>Toronto</th>\n",
              "      <td>8000.0</td>\n",
              "      <td>NaN</td>\n",
              "      <td>Canada</td>\n",
              "      <td>0.0</td>\n",
              "    </tr>\n",
              "    <tr>\n",
              "      <th>New York</th>\n",
              "      <td>7000.0</td>\n",
              "      <td>2.0</td>\n",
              "      <td>NaN</td>\n",
              "      <td>NaN</td>\n",
              "    </tr>\n",
              "    <tr>\n",
              "      <th>Barcelona</th>\n",
              "      <td>3400.0</td>\n",
              "      <td>2.0</td>\n",
              "      <td>Spain</td>\n",
              "      <td>0.0</td>\n",
              "    </tr>\n",
              "    <tr>\n",
              "      <th>Rotterdam</th>\n",
              "      <td>NaN</td>\n",
              "      <td>NaN</td>\n",
              "      <td>Holland</td>\n",
              "      <td>0.0</td>\n",
              "    </tr>\n",
              "  </tbody>\n",
              "</table>\n",
              "</div>"
            ],
            "text/plain": [
              "           revenue  employee_count  country  capital\n",
              "Amsterdam   4200.0             5.0  Holland      1.0\n",
              "Tokyo       6500.0             8.0    Japan      1.0\n",
              "Toronto     8000.0             NaN   Canada      0.0\n",
              "New York    7000.0             2.0      NaN      NaN\n",
              "Barcelona   3400.0             2.0    Spain      0.0\n",
              "Rotterdam      NaN             NaN  Holland      0.0"
            ]
          },
          "execution_count": 75,
          "metadata": {},
          "output_type": "execute_result"
        }
      ],
      "source": [
        "cities"
      ]
    },
    {
      "cell_type": "markdown",
      "metadata": {
        "id": "GNOJj4nptn6J"
      },
      "source": [
        "Note how Pandas added NaN for the missing values.\n",
        "\n",
        "If you want to combine only the cities that appear in both DataFrame objects, then you can set the join parameter to inner:"
      ]
    },
    {
      "cell_type": "code",
      "execution_count": 76,
      "metadata": {
        "id": "Rg_aX1Hqtn6K",
        "outputId": "c79d2a9c-99ec-458a-b861-ef9dcec1cf8e"
      },
      "outputs": [
        {
          "data": {
            "text/html": [
              "<div>\n",
              "<style scoped>\n",
              "    .dataframe tbody tr th:only-of-type {\n",
              "        vertical-align: middle;\n",
              "    }\n",
              "\n",
              "    .dataframe tbody tr th {\n",
              "        vertical-align: top;\n",
              "    }\n",
              "\n",
              "    .dataframe thead th {\n",
              "        text-align: right;\n",
              "    }\n",
              "</style>\n",
              "<table border=\"1\" class=\"dataframe\">\n",
              "  <thead>\n",
              "    <tr style=\"text-align: right;\">\n",
              "      <th></th>\n",
              "      <th>revenue</th>\n",
              "      <th>employee_count</th>\n",
              "      <th>country</th>\n",
              "      <th>capital</th>\n",
              "    </tr>\n",
              "  </thead>\n",
              "  <tbody>\n",
              "    <tr>\n",
              "      <th>Amsterdam</th>\n",
              "      <td>4200</td>\n",
              "      <td>5.0</td>\n",
              "      <td>Holland</td>\n",
              "      <td>1</td>\n",
              "    </tr>\n",
              "    <tr>\n",
              "      <th>Tokyo</th>\n",
              "      <td>6500</td>\n",
              "      <td>8.0</td>\n",
              "      <td>Japan</td>\n",
              "      <td>1</td>\n",
              "    </tr>\n",
              "    <tr>\n",
              "      <th>Toronto</th>\n",
              "      <td>8000</td>\n",
              "      <td>NaN</td>\n",
              "      <td>Canada</td>\n",
              "      <td>0</td>\n",
              "    </tr>\n",
              "    <tr>\n",
              "      <th>Barcelona</th>\n",
              "      <td>3400</td>\n",
              "      <td>2.0</td>\n",
              "      <td>Spain</td>\n",
              "      <td>0</td>\n",
              "    </tr>\n",
              "  </tbody>\n",
              "</table>\n",
              "</div>"
            ],
            "text/plain": [
              "           revenue  employee_count  country  capital\n",
              "Amsterdam     4200             5.0  Holland        1\n",
              "Tokyo         6500             8.0    Japan        1\n",
              "Toronto       8000             NaN   Canada        0\n",
              "Barcelona     3400             2.0    Spain        0"
            ]
          },
          "execution_count": 76,
          "metadata": {},
          "output_type": "execute_result"
        }
      ],
      "source": [
        "pd.concat([all_city_data, city_countries], axis=1, join=\"inner\")"
      ]
    },
    {
      "cell_type": "markdown",
      "metadata": {
        "id": "t7l_xltttn6K"
      },
      "source": [
        "While it’s most straightforward to combine data based on the index, it’s not the only possibility. You can use `.merge()` to implement a join operation similar to the one from SQL:"
      ]
    },
    {
      "cell_type": "code",
      "execution_count": 77,
      "metadata": {
        "id": "Xl-ACB1ktn6K"
      },
      "outputs": [],
      "source": [
        "countries = pd.DataFrame({\n",
        "    \"population_millions\": [17, 127, 37],\n",
        "    \"continent\": [\"Europe\", \"Asia\", \"North America\"]\n",
        "}, index=[\"Holland\", \"Japan\", \"Canada\"])"
      ]
    },
    {
      "cell_type": "markdown",
      "metadata": {
        "id": "fErXZShEtn6K"
      },
      "source": [
        "Here, you pass the parameter `left_on=\"country\"` to `.merge()` to indicate what column you want to join on. The result is a bigger DataFrame that contains not only city data, but also the population and continent of the respective countries:"
      ]
    },
    {
      "cell_type": "code",
      "execution_count": 78,
      "metadata": {
        "id": "p92eiADZtn6K",
        "outputId": "774757cf-2ccf-4272-e4d2-bcb4d6f750db"
      },
      "outputs": [
        {
          "data": {
            "text/html": [
              "<div>\n",
              "<style scoped>\n",
              "    .dataframe tbody tr th:only-of-type {\n",
              "        vertical-align: middle;\n",
              "    }\n",
              "\n",
              "    .dataframe tbody tr th {\n",
              "        vertical-align: top;\n",
              "    }\n",
              "\n",
              "    .dataframe thead th {\n",
              "        text-align: right;\n",
              "    }\n",
              "</style>\n",
              "<table border=\"1\" class=\"dataframe\">\n",
              "  <thead>\n",
              "    <tr style=\"text-align: right;\">\n",
              "      <th></th>\n",
              "      <th>population_millions</th>\n",
              "      <th>continent</th>\n",
              "    </tr>\n",
              "  </thead>\n",
              "  <tbody>\n",
              "    <tr>\n",
              "      <th>Holland</th>\n",
              "      <td>17</td>\n",
              "      <td>Europe</td>\n",
              "    </tr>\n",
              "    <tr>\n",
              "      <th>Japan</th>\n",
              "      <td>127</td>\n",
              "      <td>Asia</td>\n",
              "    </tr>\n",
              "    <tr>\n",
              "      <th>Canada</th>\n",
              "      <td>37</td>\n",
              "      <td>North America</td>\n",
              "    </tr>\n",
              "  </tbody>\n",
              "</table>\n",
              "</div>"
            ],
            "text/plain": [
              "         population_millions      continent\n",
              "Holland                   17         Europe\n",
              "Japan                    127           Asia\n",
              "Canada                    37  North America"
            ]
          },
          "execution_count": 78,
          "metadata": {},
          "output_type": "execute_result"
        }
      ],
      "source": [
        "countries"
      ]
    },
    {
      "cell_type": "code",
      "execution_count": 79,
      "metadata": {
        "id": "h6TSgpKbtn6K",
        "outputId": "70680e7b-28b3-4bc7-dc44-10c90741065f"
      },
      "outputs": [
        {
          "data": {
            "text/html": [
              "<div>\n",
              "<style scoped>\n",
              "    .dataframe tbody tr th:only-of-type {\n",
              "        vertical-align: middle;\n",
              "    }\n",
              "\n",
              "    .dataframe tbody tr th {\n",
              "        vertical-align: top;\n",
              "    }\n",
              "\n",
              "    .dataframe thead th {\n",
              "        text-align: right;\n",
              "    }\n",
              "</style>\n",
              "<table border=\"1\" class=\"dataframe\">\n",
              "  <thead>\n",
              "    <tr style=\"text-align: right;\">\n",
              "      <th></th>\n",
              "      <th>revenue</th>\n",
              "      <th>employee_count</th>\n",
              "      <th>country</th>\n",
              "      <th>capital</th>\n",
              "    </tr>\n",
              "  </thead>\n",
              "  <tbody>\n",
              "    <tr>\n",
              "      <th>Amsterdam</th>\n",
              "      <td>4200.0</td>\n",
              "      <td>5.0</td>\n",
              "      <td>Holland</td>\n",
              "      <td>1.0</td>\n",
              "    </tr>\n",
              "    <tr>\n",
              "      <th>Tokyo</th>\n",
              "      <td>6500.0</td>\n",
              "      <td>8.0</td>\n",
              "      <td>Japan</td>\n",
              "      <td>1.0</td>\n",
              "    </tr>\n",
              "    <tr>\n",
              "      <th>Toronto</th>\n",
              "      <td>8000.0</td>\n",
              "      <td>NaN</td>\n",
              "      <td>Canada</td>\n",
              "      <td>0.0</td>\n",
              "    </tr>\n",
              "    <tr>\n",
              "      <th>New York</th>\n",
              "      <td>7000.0</td>\n",
              "      <td>2.0</td>\n",
              "      <td>NaN</td>\n",
              "      <td>NaN</td>\n",
              "    </tr>\n",
              "    <tr>\n",
              "      <th>Barcelona</th>\n",
              "      <td>3400.0</td>\n",
              "      <td>2.0</td>\n",
              "      <td>Spain</td>\n",
              "      <td>0.0</td>\n",
              "    </tr>\n",
              "    <tr>\n",
              "      <th>Rotterdam</th>\n",
              "      <td>NaN</td>\n",
              "      <td>NaN</td>\n",
              "      <td>Holland</td>\n",
              "      <td>0.0</td>\n",
              "    </tr>\n",
              "  </tbody>\n",
              "</table>\n",
              "</div>"
            ],
            "text/plain": [
              "           revenue  employee_count  country  capital\n",
              "Amsterdam   4200.0             5.0  Holland      1.0\n",
              "Tokyo       6500.0             8.0    Japan      1.0\n",
              "Toronto     8000.0             NaN   Canada      0.0\n",
              "New York    7000.0             2.0      NaN      NaN\n",
              "Barcelona   3400.0             2.0    Spain      0.0\n",
              "Rotterdam      NaN             NaN  Holland      0.0"
            ]
          },
          "execution_count": 79,
          "metadata": {},
          "output_type": "execute_result"
        }
      ],
      "source": [
        "cities"
      ]
    },
    {
      "cell_type": "code",
      "execution_count": 82,
      "metadata": {
        "id": "E2etmKDttn6L",
        "outputId": "4b330e76-9e6a-439e-c6df-1a047a972869"
      },
      "outputs": [
        {
          "data": {
            "text/html": [
              "<div>\n",
              "<style scoped>\n",
              "    .dataframe tbody tr th:only-of-type {\n",
              "        vertical-align: middle;\n",
              "    }\n",
              "\n",
              "    .dataframe tbody tr th {\n",
              "        vertical-align: top;\n",
              "    }\n",
              "\n",
              "    .dataframe thead th {\n",
              "        text-align: right;\n",
              "    }\n",
              "</style>\n",
              "<table border=\"1\" class=\"dataframe\">\n",
              "  <thead>\n",
              "    <tr style=\"text-align: right;\">\n",
              "      <th></th>\n",
              "      <th>revenue</th>\n",
              "      <th>employee_count</th>\n",
              "      <th>country</th>\n",
              "      <th>capital</th>\n",
              "      <th>population_millions</th>\n",
              "      <th>continent</th>\n",
              "    </tr>\n",
              "  </thead>\n",
              "  <tbody>\n",
              "    <tr>\n",
              "      <th>Amsterdam</th>\n",
              "      <td>4200.0</td>\n",
              "      <td>5.0</td>\n",
              "      <td>Holland</td>\n",
              "      <td>1.0</td>\n",
              "      <td>17</td>\n",
              "      <td>Europe</td>\n",
              "    </tr>\n",
              "    <tr>\n",
              "      <th>Rotterdam</th>\n",
              "      <td>NaN</td>\n",
              "      <td>NaN</td>\n",
              "      <td>Holland</td>\n",
              "      <td>0.0</td>\n",
              "      <td>17</td>\n",
              "      <td>Europe</td>\n",
              "    </tr>\n",
              "    <tr>\n",
              "      <th>Tokyo</th>\n",
              "      <td>6500.0</td>\n",
              "      <td>8.0</td>\n",
              "      <td>Japan</td>\n",
              "      <td>1.0</td>\n",
              "      <td>127</td>\n",
              "      <td>Asia</td>\n",
              "    </tr>\n",
              "    <tr>\n",
              "      <th>Toronto</th>\n",
              "      <td>8000.0</td>\n",
              "      <td>NaN</td>\n",
              "      <td>Canada</td>\n",
              "      <td>0.0</td>\n",
              "      <td>37</td>\n",
              "      <td>North America</td>\n",
              "    </tr>\n",
              "  </tbody>\n",
              "</table>\n",
              "</div>"
            ],
            "text/plain": [
              "           revenue  employee_count  country  capital  population_millions  \\\n",
              "Amsterdam   4200.0             5.0  Holland      1.0                   17   \n",
              "Rotterdam      NaN             NaN  Holland      0.0                   17   \n",
              "Tokyo       6500.0             8.0    Japan      1.0                  127   \n",
              "Toronto     8000.0             NaN   Canada      0.0                   37   \n",
              "\n",
              "               continent  \n",
              "Amsterdam         Europe  \n",
              "Rotterdam         Europe  \n",
              "Tokyo               Asia  \n",
              "Toronto    North America  "
            ]
          },
          "execution_count": 82,
          "metadata": {},
          "output_type": "execute_result"
        }
      ],
      "source": [
        "pd.merge(cities, countries, left_on=\"country\", right_index=True) #posisi berpengaruh sebelah kiri mengacu ke kolom country, sebelah kanan mengacu ke kolom index"
      ]
    },
    {
      "cell_type": "code",
      "execution_count": 85,
      "metadata": {},
      "outputs": [
        {
          "data": {
            "text/html": [
              "<div>\n",
              "<style scoped>\n",
              "    .dataframe tbody tr th:only-of-type {\n",
              "        vertical-align: middle;\n",
              "    }\n",
              "\n",
              "    .dataframe tbody tr th {\n",
              "        vertical-align: top;\n",
              "    }\n",
              "\n",
              "    .dataframe thead th {\n",
              "        text-align: right;\n",
              "    }\n",
              "</style>\n",
              "<table border=\"1\" class=\"dataframe\">\n",
              "  <thead>\n",
              "    <tr style=\"text-align: right;\">\n",
              "      <th></th>\n",
              "      <th>revenue</th>\n",
              "      <th>employee_count</th>\n",
              "      <th>country</th>\n",
              "      <th>capital</th>\n",
              "      <th>population_millions</th>\n",
              "      <th>continent</th>\n",
              "    </tr>\n",
              "  </thead>\n",
              "  <tbody>\n",
              "    <tr>\n",
              "      <th>Amsterdam</th>\n",
              "      <td>4200.0</td>\n",
              "      <td>5.0</td>\n",
              "      <td>Holland</td>\n",
              "      <td>1.0</td>\n",
              "      <td>17.0</td>\n",
              "      <td>Europe</td>\n",
              "    </tr>\n",
              "    <tr>\n",
              "      <th>Tokyo</th>\n",
              "      <td>6500.0</td>\n",
              "      <td>8.0</td>\n",
              "      <td>Japan</td>\n",
              "      <td>1.0</td>\n",
              "      <td>127.0</td>\n",
              "      <td>Asia</td>\n",
              "    </tr>\n",
              "    <tr>\n",
              "      <th>Toronto</th>\n",
              "      <td>8000.0</td>\n",
              "      <td>NaN</td>\n",
              "      <td>Canada</td>\n",
              "      <td>0.0</td>\n",
              "      <td>37.0</td>\n",
              "      <td>North America</td>\n",
              "    </tr>\n",
              "    <tr>\n",
              "      <th>New York</th>\n",
              "      <td>7000.0</td>\n",
              "      <td>2.0</td>\n",
              "      <td>NaN</td>\n",
              "      <td>NaN</td>\n",
              "      <td>NaN</td>\n",
              "      <td>NaN</td>\n",
              "    </tr>\n",
              "    <tr>\n",
              "      <th>Barcelona</th>\n",
              "      <td>3400.0</td>\n",
              "      <td>2.0</td>\n",
              "      <td>Spain</td>\n",
              "      <td>0.0</td>\n",
              "      <td>NaN</td>\n",
              "      <td>NaN</td>\n",
              "    </tr>\n",
              "    <tr>\n",
              "      <th>Rotterdam</th>\n",
              "      <td>NaN</td>\n",
              "      <td>NaN</td>\n",
              "      <td>Holland</td>\n",
              "      <td>0.0</td>\n",
              "      <td>17.0</td>\n",
              "      <td>Europe</td>\n",
              "    </tr>\n",
              "  </tbody>\n",
              "</table>\n",
              "</div>"
            ],
            "text/plain": [
              "           revenue  employee_count  country  capital  population_millions  \\\n",
              "Amsterdam   4200.0             5.0  Holland      1.0                 17.0   \n",
              "Tokyo       6500.0             8.0    Japan      1.0                127.0   \n",
              "Toronto     8000.0             NaN   Canada      0.0                 37.0   \n",
              "New York    7000.0             2.0      NaN      NaN                  NaN   \n",
              "Barcelona   3400.0             2.0    Spain      0.0                  NaN   \n",
              "Rotterdam      NaN             NaN  Holland      0.0                 17.0   \n",
              "\n",
              "               continent  \n",
              "Amsterdam         Europe  \n",
              "Tokyo               Asia  \n",
              "Toronto    North America  \n",
              "New York             NaN  \n",
              "Barcelona            NaN  \n",
              "Rotterdam         Europe  "
            ]
          },
          "execution_count": 85,
          "metadata": {},
          "output_type": "execute_result"
        }
      ],
      "source": [
        "pd.merge(cities, countries, left_on=\"country\", right_index=True, how='left')"
      ]
    },
    {
      "cell_type": "markdown",
      "metadata": {
        "id": "r6TYVkzFtn6L"
      },
      "source": [
        "Note that the result contains only the cities where the country is known and appears in the joined DataFrame.\n",
        "\n",
        "`.merge()` performs an inner join by default. If you want to include all cities in the result, then you need to provide the how parameter:"
      ]
    },
    {
      "cell_type": "code",
      "execution_count": null,
      "metadata": {
        "id": "KT489rS0tn6L",
        "outputId": "af868d99-76c5-401a-9f8f-6a10f957a0a3"
      },
      "outputs": [
        {
          "data": {
            "text/html": [
              "<div>\n",
              "<style scoped>\n",
              "    .dataframe tbody tr th:only-of-type {\n",
              "        vertical-align: middle;\n",
              "    }\n",
              "\n",
              "    .dataframe tbody tr th {\n",
              "        vertical-align: top;\n",
              "    }\n",
              "\n",
              "    .dataframe thead th {\n",
              "        text-align: right;\n",
              "    }\n",
              "</style>\n",
              "<table border=\"1\" class=\"dataframe\">\n",
              "  <thead>\n",
              "    <tr style=\"text-align: right;\">\n",
              "      <th></th>\n",
              "      <th>revenue</th>\n",
              "      <th>employee_count</th>\n",
              "      <th>country</th>\n",
              "      <th>capital</th>\n",
              "      <th>population_millions</th>\n",
              "      <th>continent</th>\n",
              "    </tr>\n",
              "  </thead>\n",
              "  <tbody>\n",
              "    <tr>\n",
              "      <th>Amsterdam</th>\n",
              "      <td>4200.0</td>\n",
              "      <td>5.0</td>\n",
              "      <td>Holland</td>\n",
              "      <td>1.0</td>\n",
              "      <td>17.0</td>\n",
              "      <td>Europe</td>\n",
              "    </tr>\n",
              "    <tr>\n",
              "      <th>Tokyo</th>\n",
              "      <td>6500.0</td>\n",
              "      <td>8.0</td>\n",
              "      <td>Japan</td>\n",
              "      <td>1.0</td>\n",
              "      <td>127.0</td>\n",
              "      <td>Asia</td>\n",
              "    </tr>\n",
              "    <tr>\n",
              "      <th>Toronto</th>\n",
              "      <td>8000.0</td>\n",
              "      <td>NaN</td>\n",
              "      <td>Canada</td>\n",
              "      <td>0.0</td>\n",
              "      <td>37.0</td>\n",
              "      <td>North America</td>\n",
              "    </tr>\n",
              "    <tr>\n",
              "      <th>New York</th>\n",
              "      <td>7000.0</td>\n",
              "      <td>2.0</td>\n",
              "      <td>NaN</td>\n",
              "      <td>NaN</td>\n",
              "      <td>NaN</td>\n",
              "      <td>NaN</td>\n",
              "    </tr>\n",
              "    <tr>\n",
              "      <th>Barcelona</th>\n",
              "      <td>3400.0</td>\n",
              "      <td>2.0</td>\n",
              "      <td>Spain</td>\n",
              "      <td>0.0</td>\n",
              "      <td>NaN</td>\n",
              "      <td>NaN</td>\n",
              "    </tr>\n",
              "    <tr>\n",
              "      <th>Rotterdam</th>\n",
              "      <td>NaN</td>\n",
              "      <td>NaN</td>\n",
              "      <td>Holland</td>\n",
              "      <td>0.0</td>\n",
              "      <td>17.0</td>\n",
              "      <td>Europe</td>\n",
              "    </tr>\n",
              "  </tbody>\n",
              "</table>\n",
              "</div>"
            ],
            "text/plain": [
              "           revenue  employee_count  country  capital  population_millions  \\\n",
              "Amsterdam   4200.0             5.0  Holland      1.0                 17.0   \n",
              "Tokyo       6500.0             8.0    Japan      1.0                127.0   \n",
              "Toronto     8000.0             NaN   Canada      0.0                 37.0   \n",
              "New York    7000.0             2.0      NaN      NaN                  NaN   \n",
              "Barcelona   3400.0             2.0    Spain      0.0                  NaN   \n",
              "Rotterdam      NaN             NaN  Holland      0.0                 17.0   \n",
              "\n",
              "               continent  \n",
              "Amsterdam         Europe  \n",
              "Tokyo               Asia  \n",
              "Toronto    North America  \n",
              "New York             NaN  \n",
              "Barcelona            NaN  \n",
              "Rotterdam         Europe  "
            ]
          },
          "execution_count": 120,
          "metadata": {},
          "output_type": "execute_result"
        }
      ],
      "source": [
        "pd.merge(\n",
        "    cities,\n",
        "    countries,\n",
        "    left_on=\"country\",\n",
        "    right_index=True,\n",
        "    how=\"left\"\n",
        ")"
      ]
    },
    {
      "cell_type": "markdown",
      "metadata": {
        "id": "J55fWejItn6L"
      },
      "source": [
        "With this left join, you’ll see all the cities, including those without country data."
      ]
    }
  ],
  "metadata": {
    "colab": {
      "collapsed_sections": [
        "fxzyarENtn5F",
        "ggAwqSb7tn5G",
        "6nGVYOF6tn5i",
        "m2-kfd6I-_7v"
      ],
      "name": "revisi_d4am.ipynb",
      "provenance": []
    },
    "kernelspec": {
      "display_name": "Python 3.9.6 64-bit",
      "language": "python",
      "name": "python3"
    },
    "language_info": {
      "codemirror_mode": {
        "name": "ipython",
        "version": 3
      },
      "file_extension": ".py",
      "mimetype": "text/x-python",
      "name": "python",
      "nbconvert_exporter": "python",
      "pygments_lexer": "ipython3",
      "version": "3.9.6"
    },
    "toc": {
      "base_numbering": 1,
      "nav_menu": {},
      "number_sections": true,
      "sideBar": true,
      "skip_h1_title": false,
      "title_cell": "Table of Contents",
      "title_sidebar": "Contents",
      "toc_cell": false,
      "toc_position": {},
      "toc_section_display": true,
      "toc_window_display": false
    },
    "vscode": {
      "interpreter": {
        "hash": "f3d42ad487b2b2994e012ab0306cc0a65d83ea9d079e1ade1e8453053e613de7"
      }
    }
  },
  "nbformat": 4,
  "nbformat_minor": 0
}
