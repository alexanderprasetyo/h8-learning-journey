{
  "nbformat": 4,
  "nbformat_minor": 0,
  "metadata": {
    "colab": {
      "name": "P0W3D3PM - Data Wrangling in SQL.ipynb",
      "provenance": [],
      "collapsed_sections": []
    },
    "kernelspec": {
      "name": "python3",
      "display_name": "Python 3"
    },
    "language_info": {
      "name": "python"
    }
  },
  "cells": [
    {
      "cell_type": "markdown",
      "source": [
        "## **BASIC SQL**\n",
        "SQL (Standard Query Language) is a standard language for storing, manipulating, and retrieving data in databases. Contrasting Python, SQL is not a case-sensitive language so both of lower and upper case are the same meaning. However, usually to differentiate the command to others, we used UPPERCASE to write the commands. SQL commands list diagram is shown below:\n",
        "![diagram](https://media.geeksforgeeks.org/wp-content/cdn-uploads/20190826175059/Types-of-SQL-Commands.jpg)\n",
        "\n",
        "However, in this lesson, we are going to learn 5 basic commands of SQL only which are **CREATE**,**INSERT**,**UPDATE**, **DELETE**, and **SELECT**. Futhermore, we will focus on the querying commands which is **SELECT** and its several derivatives. \n",
        "\n",
        "\n",
        "\n",
        "\n"
      ],
      "metadata": {
        "id": "g58EDi9aX0hp"
      }
    },
    {
      "cell_type": "markdown",
      "source": [
        "### **CREATE**\n",
        "**CREATE** command used for creating a table or database. In general, the **CREATE** syntax are:\n",
        "```mysql\n",
        "-- create new database\n",
        "CREATE DATABASE database_name;\n",
        "\n",
        "-- to select database you want to query, run this command\n",
        "USE database_name;\n",
        "\n",
        "-- create new table\n",
        "CREATE TABLE TABLENAME(\n",
        "    COLUMN1 datatype,\n",
        "    COLUMN2 datatype,\n",
        "    ...\n",
        "    );\n",
        "```\n",
        "\n",
        "**For example:**\n",
        "```mysql\n",
        "CREATE TABLE teachers (\n",
        "    id INT PRIMARY KEY ,\n",
        "    first_name varchar(25),\n",
        "    last_name varchar(50),\n",
        "    school varchar(50),\n",
        "    hire_date varchar(20),\n",
        "    salary numeric\n",
        "    );\n",
        "```\n",
        "\n",
        "You will have a table named teachers with empty columns like this:\n",
        "\n",
        "|id|first_name|last_name|school|hire_date|salary|\n",
        "|---|---|---|---|---|---|\n",
        "\n",
        "To make the id or Primary key is auto incremental which means it's automatically filled based on the row order, you can add keyword AUTO_INCREMENT after keyword PRIMARY KEY just like this:\n",
        "\n",
        "```mysql\n",
        "CREATE TABLE teachers (\n",
        "    id INT PRIMARY KEY AUTO_INCREMENT,\n",
        "    first_name varchar(25),\n",
        "    last_name varchar(50),\n",
        "    school varchar(50),\n",
        "    hire_date varchar(20),\n",
        "    salary numeric\n",
        "    );\n",
        "```\n",
        "\n",
        "However, SQLite uses `id INTEGER KEY AUTOINCREMENT` to make the primary key is auto incremental. Futhermore, it is slightly different in PostgreSQL. the keyword SERIAL is used to create columns that increment automatically. For example `id SERIAL PRIMARY KEY`.\n",
        "\n",
        "There is another way to define a primary key, for example:\n",
        "\n",
        "```mysql\n",
        "CREATE TABLE teachers (\n",
        "    id INT,\n",
        "    first_name varchar(25),\n",
        "    last_name varchar(50),\n",
        "    school varchar(50),\n",
        "    hire_date varchar(20),\n",
        "    salary numeric,\n",
        "    PRIMARY KEY (id)\n",
        "    );\n",
        "```\n",
        "\n",
        "Also, you can define a foreign key with similar way:\n",
        "\n",
        "```mysql\n",
        "CREATE TABLE teachers (\n",
        "    id INT,\n",
        "    school_id INT,\n",
        "    first_name varchar(25),\n",
        "    last_name varchar(50),\n",
        "    school varchar(50),\n",
        "    hire_date varchar(20),\n",
        "    salary numeric,\n",
        "    PRIMARY KEY (id)\n",
        "    FOREIGN KEY(school_id) REFERENCES School(school_id)\n",
        "    );\n",
        "```\n",
        "\n",
        "'School' after keyword REFERENCES is a another table that have connection with the table."
      ],
      "metadata": {
        "id": "iOBq4yn4Ym4c"
      }
    },
    {
      "cell_type": "markdown",
      "source": [
        "### **INSERT**\n",
        "**INSERT** command used for adding value(s)/row(s) into a table. In general, the **INSERT** syntax are:\n",
        "```mysql\n",
        "INSERT INTO Table_Name (colomn1,colomn2,...) VALUES (value1,value2,...);\n",
        "```\n",
        "\n",
        "**For example:**\n",
        "```mysql\n",
        "INSERT INTO teachers (id,first_name, last_name, school, hire_date, salary)\n",
        "    VALUES (1,'Janet', 'Smith', 'F.D. Roosevelt HS', '2011-10-30', 36200),\n",
        "           (2,'Lee', 'Reynolds', 'F.D. Roosevelt HS', '1993-05-22', 65000),\n",
        "           (3,'Samuel', 'Cole', 'Myers Middle School', '2005-08-01', 43500),\n",
        "           (4,'Samantha', 'Bush', 'Myers Middle School', '2011-10-30', 36200),\n",
        "           (5,'Betty', 'Diaz', 'Myers Middle School', '2005-08-30', 43500),\n",
        "           (6,'Kathleen', 'Roush', 'F.D. Roosevelt HS', '2010-10-22', 38500);\n",
        "```\n",
        "\n",
        "You will the result like this:\n",
        "\n",
        "|id|first_name|last_name|school|hire_date|salary|\n",
        "|---|---|---|---|---|---|\n",
        "|1|Janet|Smith|F.D. Roosevelt HS|2011-10-30|36200|\n",
        "|2|Lee|Reynolds|F.D. Roosevelt HS|1993-05-22|65000|\n",
        "|3|Samuel|Cole|Myers Middle School|2005-08-01|43500|\n",
        "|4|Samantha|Bush|Myers Middle School|2011-10-30|36200|\n",
        "|5|Betty|Diaz|Myers Middle School|2005-08-30|43500|\n",
        "|6|Kathleen|Roush|F.D. Roosevelt HS|2010-10-22|38500|"
      ],
      "metadata": {
        "id": "mdpUJbwyYcQd"
      }
    },
    {
      "cell_type": "markdown",
      "source": [
        "### **ALTER**\n",
        "\n",
        "**ALTER TABLE** changes the structure of a table. For example, you can add or delete columns, create or destroy indexes, change the type of existing columns, or rename columns or the table itself. You can also change characteristics such as the storage engine used for the table or the table comment.\n",
        "\n",
        "Here we will try several operations on ALTER TABLE command: `RENAME`, `ADD`, and `MODIFY`.\n",
        "\n",
        "Remember that following the table name, specify the alterations to be made. If none are given, ALTER TABLE does nothing.\n",
        "\n",
        "- **RENAME**\n",
        "\n",
        "  Used to change a column name but not its definition.\n",
        "  ```mysql\n",
        "  ALTER TABLE table_name RENAME COLUMN column_name TO new_column_name;\n",
        "  ```\n",
        "  for example:\n",
        "  ```mysql\n",
        "  ALTER TABLE teachers RENAME COLUMN salary TO wage;\n",
        "  ```\n",
        "\n",
        "- **ADD & DROP COLUMNS**\n",
        "\n",
        "  Use **ADD** to add new columns to a table, and **DROP** to remove existing **columns**.\n",
        "  ```mysql\n",
        "  ALTER TABLE table_name ADD COLUMN column_name datatype;\n",
        "\n",
        "  ALTER TABLE table_name DROP COLUMN column_name;\n",
        "  ```\n",
        "  example\n",
        "  ```mysql\n",
        "  ALTER TABLE teachers ADD COLUMN Age INT;\n",
        "\n",
        "  ALTER TABLE teachers DROP COLUMN Age;\n",
        "  ```\n",
        "\n",
        "- **MODIFY**\n",
        "\n",
        "  Used to change the data definition/data type of a column in a table, but not it's column name.\n",
        "  ```mysql\n",
        "  ALTER TABLE table_name\n",
        "  MODIFY COLUMN column_name datatype;\n",
        "  ```\n",
        "  for example\n",
        "  ```mysql\n",
        "  ALTER TABLE teachers\n",
        "  MODIFY COLUMN hire_date DATE;\n",
        "  ```\n",
        "  Now, we have been successfully change data type in hire_date column from VARCHAR(20) to DATE."
      ],
      "metadata": {
        "id": "lrPJQdp7Ywtc"
      }
    },
    {
      "cell_type": "markdown",
      "source": [
        "### **UPDATE**\n",
        "**UPDATE** command used for changing the value of certain column(s) in a table. In general, the **UPDATE** syntax are:\n",
        "```mysql\n",
        "UPDATE Table_Name SET column1=value1 WHERE <condition>;\n",
        "```\n",
        "\n",
        "**For example:**\n",
        "```mysql\n",
        "UPDATE teachers\n",
        "    SET salary=56000\n",
        "    WHERE teachers.first_name='Samuel';\n",
        "    \n",
        "    #or\n",
        "\n",
        "UPDATE teachers\n",
        "    SET salary=56000\n",
        "    WHERE teachers.id=3;   \n",
        "```\n",
        "\n",
        "Your table 'teachers' will updated on column salary row 3 from 43500 to 56000.\n",
        "\n",
        "|id|first_name|last_name|school|hire_date|salary|\n",
        "|---|---|---|---|---|---|\n",
        "|1|Janet|Smith|F.D. Roosevelt HS|2011-10-30|36200|\n",
        "|2|Lee|Reynolds|F.D. Roosevelt HS|1993-05-22|65000|\n",
        "|3|Samuel|Cole|Myers Middle School|2005-08-01|**56000**|\n",
        "|4|Samantha|Bush|Myers Middle School|2011-10-30|36200|\n",
        "|5|Betty|Diaz|Myers Middle School|2005-08-30|43500|\n",
        "|6|Kathleen|Roush|F.D. Roosevelt HS|2010-10-22|38500|"
      ],
      "metadata": {
        "id": "Qa3amT4dYSXa"
      }
    },
    {
      "cell_type": "markdown",
      "source": [
        "### **DELETE**\n",
        "**DELETE** command used for removing certain **row(s)** or the whole entries. In general, the syntax are:\n",
        "```mysql\n",
        "DELETE FROM Table_Name; #For removing all rows without deleting the table\n",
        "\n",
        "    #or\n",
        "    \n",
        "DELETE FROM Table_Name WHERE <conditions>; #For removing a certain row\n",
        "```\n",
        "\n",
        "**For Example:**\n",
        "```mysql\n",
        "DELETE FROM teachers; #For removing all rows without deleting the table\n",
        "\n",
        "    #or\n",
        "    \n",
        "DELETE FROM teachers\n",
        "       WHERE id=6;    #For removing a certain row\n",
        "```\n",
        "\n",
        "The row 6 will be vanished from the table:\n",
        "\n",
        "|id|first_name|last_name|school|hire_date|salary|\n",
        "|---|---|---|---|---|---|\n",
        "|1|Janet|Smith|F.D. Roosevelt HS|2011-10-30|36200|\n",
        "|2|Lee|Reynolds|F.D. Roosevelt HS|1993-05-22|65000|\n",
        "|3|Samuel|Cole|Myers Middle School|2005-08-01|56000|\n",
        "|4|Samantha|Bush|Myers Middle School|2011-10-30|36200|\n",
        "|5|Betty|Diaz|Myers Middle School|2005-08-30|43500|"
      ],
      "metadata": {
        "id": "R4n0bqc2YJNU"
      }
    },
    {
      "cell_type": "markdown",
      "source": [
        "### **DROP**\n",
        "**DROP** command removes one or more existing **table(s)** in database.\n",
        "\n",
        "```mysql\n",
        "DROP TABLE table_name;\n",
        "```\n",
        "**For Example**\n",
        "```mysql\n",
        "DROP TABLE teachers;\n",
        "```\n",
        "\n",
        "We can also remove multiple table by listing the table names, like this:\n",
        "```mysql\n",
        "DROP TABLE IF EXISTS teachers, marks, students;\n",
        "```\n",
        "If any tables named in the argument list do not exist, DROP TABLE behavior depends on whether the **IF EXISTS** clause is given:\n",
        "\n",
        "- Without IF EXISTS, the statement fails with an error indicating which nonexisting tables it was unable to drop, and no changes are made.\n",
        "\n",
        "- With IF EXISTS, no error occurs for nonexisting tables. The statement drops all named tables that do exist, and generates a NOTE diagnostic for each nonexistent table."
      ],
      "metadata": {
        "id": "ofvV48kNY5Rw"
      }
    },
    {
      "cell_type": "markdown",
      "source": [
        "*Little side note, just in case you are confusing about the difference between `DROP COLUMN`, `DELETE` and `DROP`. Here are some quick tips:*\n",
        "- *If you want to remove **column** from a table, use `ALTER TABLE ... DROP COLUMN ...;`*\n",
        "- *If you want to remove certain **row(s)** from a table without deleting the table, use `DELETE FROM ... WHERE ...;`*\n",
        "- *If you want to remove the **table(s)**, use `DROP TABLE ...;`*"
      ],
      "metadata": {
        "id": "EhBeqO2RdwDO"
      }
    },
    {
      "cell_type": "markdown",
      "source": [
        "## **DATA WRANGLING**\n",
        "\n",
        "What is Data Wrangling ?\n",
        "\n",
        "1. Data wrangling or data munging, is the process of **transforming** and **mapping** data from one \"raw\" data-source data-form into another format with the intent of making it more appropriate and valuable for a variety of downstream purposes such as analytics.\n",
        "\n",
        "2. We can simply say that the data wrangling process is a **method of data cleaning and data preparation** by converting it from one form to a more understandable form mainly for preliminary data analytics.\n",
        "\n",
        "3. The process of transformation such as :\n",
        "  * Data Exploration\n",
        "  * Data Preparation\n",
        "  * Data Cleaning\n",
        "  * Data Validation \n",
        "  * Data Enrichment\n",
        "  * etc.\n",
        "\n",
        "4. This might mean modifying all of the values in a given column in a certain way, or merging multiple columns together. \n",
        "\n",
        "5. The necessity for data wrangling is often a biproduct of poorly collected or presented data. Data that is entered manually by humans is typically fraught with errors; data collected from websites is often optimized to be displayed on websites, not to be sorted and aggregated.\n",
        "\n",
        "6. You can think Data Wrangling is like Preprocessing in Machine Learning. But, we are using SQL to cleaning the data rather than using Python.\n",
        "\n",
        "7. We will also use DDL and DML syntax that we’ve already learn in previous session."
      ],
      "metadata": {
        "id": "5mvlLUUWq2f3"
      }
    },
    {
      "cell_type": "markdown",
      "source": [
        "### **DATASET**\n",
        "**IMPORTANT NOTES :**\n",
        "1. For this DDL and DML that will explain in this notebook, **it runs smoothly in MySQL**. So, it will be nice if you have MySQL in your computer.\n",
        "\n",
        "2. **If you don't have MySQL in your computer, you can still follow the instructions with online MySQL. Go to [sqliteonline.com](https://sqliteonline.com/)**. In the left menu, choose MySQL and click `Click to connect`.\n",
        "\n",
        "3. Sometimes, if you try to run the code with non MySQL, it will error for several reasons. Mainly, this is because different way of writing a particular syntax. For example : for automatically write integer \n",
        "  * In MySQL, you must write `AUTO INCREMENT`.\n",
        "  * In SQLite, you must write `AUTOINCREMENT`.\n"
      ],
      "metadata": {
        "id": "ep5WE7bFwYtZ"
      }
    },
    {
      "cell_type": "markdown",
      "source": [
        "#### Table `crunchbase_companies_clean_data`\n",
        "\n",
        "We will use this data for Date Format Wrangling session. Data Definition Language (DDL):\n",
        "```mysql\n",
        "CREATE TABLE crunchbase_companies_clean_data (\n",
        "    permalink VARCHAR(50),\n",
        "    name VARCHAR(50),\n",
        "    homepage_url VARCHAR(50),\n",
        "    category_code VARCHAR(50),\n",
        "    funding_total_usd BIGINT,\n",
        "    status VARCHAR(20),\n",
        "    country_code VARCHAR(5),\n",
        "    state_code VARCHAR(5),\n",
        "    region VARCHAR(50),\n",
        "    city VARCHAR(50),\n",
        "    funding_rounds INT,\n",
        "    founded_at VARCHAR(20),\n",
        "    founded_at_clean VARCHAR(20),\n",
        "    id INT NOT NULL PRIMARY KEY AUTO_INCREMENT\n",
        "    );\n",
        "```\n",
        "\n",
        "Data Manipulation Language (DML) : You can see the data for DML in this [link](https://github.com/ardhiraka/FSDS_Guidelines/blob/master/p1/w2_new/d4am-extra/crunchbase_companies_clean_data.sql)."
      ],
      "metadata": {
        "id": "txCdIFKdx5uf"
      }
    },
    {
      "cell_type": "markdown",
      "source": [
        "#### Table `dc_bikeshare_q1_2012`\n",
        "\n",
        "As for String/Varchar Format Wrangling session, we will use this data. Data Definition Language (DDL):\n",
        "```mysql\n",
        "CREATE TABLE dc_bikeshare_q1_2012 (\n",
        "    id INT NOT NULL PRIMARY KEY AUTO_INCREMENT,\n",
        "    duration VARCHAR(20),\n",
        "    duration_seconds INT,\n",
        "    start_time DATETIME,\n",
        "    start_station VARCHAR(70),\n",
        "    start_terminal INT,\n",
        "    end_time DATETIME,\n",
        "    end_station VARCHAR(70),\n",
        "    end_terminal INT,\n",
        "    bike_number VARCHAR(10),\n",
        "    rider_type VARCHAR(20)\n",
        "    );\n",
        "```\n",
        "\n",
        "Data Manipulation Language (DML) : You can see the data for DML in this [link](https://github.com/ardhiraka/FSDS_Guidelines/blob/master/p1/w2_new/d4am-extra/dc_bikeshare_q1_2012.sql)."
      ],
      "metadata": {
        "id": "qNhPXcZvxlWN"
      }
    },
    {
      "cell_type": "markdown",
      "source": [
        "#### **Data Exploration**\n",
        "\n",
        "First, you need to know about your dataset. You learned that certain functions work on some data types, but not others.\n",
        "\n",
        "For example, COUNT works with any data type, but SUM only works for numerical data. In order to use SUM, the data must appear to be numeric, but it must also be stored in the database in a numeric form.\n",
        "\n",
        "You might run into this problem, for example, if you have a column that appears to be entirely numeric, but happens to contain spaces or commas. If you upload data to particular SQL databases software with commas in a column full of numbers, that SQL database software will treat that column as non-numeric.\n",
        "\n",
        "Generally, numeric column types in various SQL databases do not support commas or currency symbols. To make things more complicated, SQL databases can store data in many different formats with different levels of precision.\n",
        "\n",
        "To see a list of data types, you can visit the website of each SQL database software, or at a glance, you can visit [this](https://www.w3schools.com/sql/sql_datatypes.asp)."
      ],
      "metadata": {
        "id": "zmgidlGPytP2"
      }
    },
    {
      "cell_type": "markdown",
      "source": [
        "### **DATE FORMAT**"
      ],
      "metadata": {
        "id": "ZEmcrS3oZv27"
      }
    },
    {
      "cell_type": "markdown",
      "source": [
        "#### **Converting Datatype**\n",
        "\n",
        "In our table, you can see in the table `crunchbase_companies_clean_data`, there is a column named `founded_at` and `founded_at_clean`. Let's check the difference between those two with this query : \n",
        "```mysql\n",
        "SELECT `founded_at`, `founded_at_clean`\n",
        "FROM crunchbase_companies_clean_data;\n",
        "```\n",
        "It looks like these two columns contain same information but it have different time format. While `founded_at` uses US date format and `founded_at_clean` uses MySQL default date format.\n",
        "\n",
        "Let's check further which date format should we use:\n",
        "```mysql\n",
        "SELECT `founded_at`, `founded_at_clean`\n",
        "FROM crunchbase_companies_clean_data\n",
        "ORDER BY `founded_at`;\n",
        "```\n",
        "As you can see, the result is not ordered properly. So we can conclude that it's better to make sure our date/datetime format follows SQL defaults. While we're at it, let's practice to change the `founded_at` date format. \n",
        "\n",
        "We can convert data type at the time of querying so that it doesn't change original dataset, using:\n",
        "```mysql\n",
        "CONVERT(value, type)\n",
        "```\n",
        "or\n",
        "```mysql\n",
        "CAST(value AS type)\n",
        "```\n",
        "Whops, It seems that `CONVERT(founded_at, DATE)` didn't return the result we expected. Since this function assume the value has SQL default format. So we need another command, we can use STR_TO_DATE to add DATE format information of our value then convert it to DATE format.\n",
        "```mysql\n",
        "STR_TO_DATE(founded_at, '%m/%d/%y');\n",
        "```\n",
        "\n",
        "You can also apply data type formatting with `ALTER TABLE ... MODIFY COLUMN ...`. This way, your change will be saved and stored in database. Normally we can use:\n",
        "```mysql\n",
        "ALTER TABLE crunchbase_companies_clean_data\n",
        "MODIFY COLUMN founded_at DATE\n",
        "```\n",
        "But, since our DATE format is in US Format, you will get error message. To overcome this, we need a little workaround:\n",
        "```mysql\n",
        "UPDATE crunchbase_companies_clean_data \n",
        "set founded_at = STR_TO_DATE(founded_at, '%m/%d/%y');\n",
        "\n",
        "ALTER TABLE crunchbase_companies_clean_data\n",
        "MODIFY founded_at DATE;\n",
        "```\n",
        "Now, our founded_at column has SQL DATE format and DATE type.\n"
      ],
      "metadata": {
        "id": "epvWhZu-tz_e"
      }
    },
    {
      "cell_type": "markdown",
      "source": [
        "---\n",
        "#### ****Deconstruct DATE/DATETIME/TIMESTAMP Format****\n",
        "\n",
        "You've learned how to construct a date field, but what if you want to deconstruct one? You can use EXTRACT to pull the pieces apart one-by-one:\n",
        "\n",
        "```mysql\n",
        "SELECT founded_at,\n",
        "       EXTRACT(year FROM founded_at) AS year,\n",
        "       EXTRACT(MONTH FROM founded_at) AS month,\n",
        "       EXTRACT(DAY FROM founded_at) AS day,\n",
        "       EXTRACT(QUARTER FROM founded_at) AS quarter\n",
        "FROM crunchbase_companies_clean_data;\n",
        "```\n",
        "You can also use `HOUR`, `MINUTE` and `SECOND` if your data type is DATETIME or TIME.\n",
        "\n",
        "What if you want to include today's date or time? You can instruct your query to pull the local date and time at the time the query is run using any number of functions. Interestingly, you can run them without a `FROM` clause:\n",
        "\n",
        "```mysql\n",
        "SELECT CURRENT_DATE AS date,\n",
        "       CURRENT_TIME AS time,\n",
        "       CURRENT_TIMESTAMP AS timestamp,\n",
        "       LOCALTIME AS local_time,\n",
        "       LOCALTIMESTAMP AS local_timestamp,\n",
        "       NOW() AS now\n",
        "```\n",
        "\n",
        "As you can see, the different options vary in precision. You might notice that these times probably aren't actually your local time. If you run a current time function against a connected database, you might get a result in a different time zone.\n",
        "\n",
        "We can also calculate the time interval using `DATE_ADD` or `DATE_DIFF`. You just need to make sure the value/variable used in this function is in `DATE`, `DATETIME` or `TIMESTAMP` type.\n",
        "```mysql\n",
        "SELECT founded_at,\n",
        "       CURRENT_DATE AS local_time,\n",
        "\t   DATEDIFF(CURRENT_DATE, founded_at) AS founded_time_ago,\n",
        "       DATE_ADD(founded_at, INTERVAL 10 DAY) AS plus_10_days\n",
        "FROM crunchbase_companies_clean_data;\n",
        "```\n",
        "\n",
        "There is a lot function related to Date & Time. This is example those functions in [MySQL](https://dev.mysql.com/doc/refman/8.0/en/date-and-time-functions.html/)."
      ],
      "metadata": {
        "id": "cNQCM0-AQc83"
      }
    },
    {
      "cell_type": "markdown",
      "source": [
        "---\n",
        "#### **Handling Missing Value**\n",
        "\n",
        "Before we are moving into our next dataset, we can see that founded_at column has several missing value. we can handle these with `COALESCE`. It will impute the missing value with value we put into the function:\n",
        "```mysql\n",
        "SELECT founded_at, COALESCE(founded_at, 'No Date')\n",
        "FROM crunchbase_companies_clean_data;\n",
        "```"
      ],
      "metadata": {
        "id": "1Dlx5_KCX6YU"
      }
    },
    {
      "cell_type": "markdown",
      "source": [
        "### **STRING FORMAT**\n"
      ],
      "metadata": {
        "id": "OxuQxktMWgGw"
      }
    },
    {
      "cell_type": "markdown",
      "source": [
        "#### **LEFT, RIGHT, SUBSTR**\n",
        "You can use `LEFT` to pull a certain number of characters from the left side of a string and present them as a separate string. The syntax is `LEFT(string, number of characters)`.\n",
        "\n",
        "`RIGHT` does the same thing, but from the right side.\n",
        "\n",
        "While `LEFT` and `RIGHT` both create substrings of a specified length, but they only do so starting from the sides of an existing string. If you want to start in the middle of a string, you can use `SUBSTR`. The syntax is `SUBSTR(*string*, *starting character position*, *# of characters*)`\n",
        "\n",
        "As a practical example, we can see that the date field in this dataset begins with a 10-digit date, and include the timestamp to the right of it. We can pull either date, timestamp or minute using this query.\n",
        "\n",
        "```mysql\n",
        "SELECT start_time,\n",
        "\tLEFT(start_time, 10) as selected_date,\n",
        "    RIGHT(start_time, 8) as selected_time,\n",
        "    SUBSTR(start_time, 15, 2) AS selected_minute\n",
        "from dc_bikeshare_q1_2012;\n",
        "```\n",
        "The `LENGTH` function returns the length of a string. So `LENGTH(date)` will always return 19 in this dataset. Since we know that the first 10 characters will be the date, and they will be followed by a space (total 11 characters), we could represent the `RIGHT` function like this:\n",
        "\n",
        "```mysql\n",
        "SELECT start_time,\n",
        "       RIGHT(start_time, LENGTH(start_time) - 11) as selected_time,\n",
        "from dc_bikeshare_q1_2012;\n",
        "```\n",
        "When using functions within other functions, it's important to remember that **the innermost functions will be evaluated first, followed by the functions that encapsulate them**."
      ],
      "metadata": {
        "id": "ZMmcmZDBY2D0"
      }
    },
    {
      "cell_type": "markdown",
      "source": [
        "#### **TRIM**\n",
        "The `TRIM` function is used to remove characters from the beginning and end of a string. Here's an example:\n",
        "```mysql\n",
        "SELECT bike_number,\n",
        "\t   TRIM(leading 'W0' FROM bike_number) AS trimmed\n",
        "from dc_bikeshare_q1_2012;\n",
        "```\n",
        "The `TRIM` function takes 3 arguments. First, you have to specify whether you want to remove characters from the beginning ('leading'), the end ('trailing'), or both ('both'). Next you must specify all characters to be trimmed. Any characters included in the single quotes will be removed from both beginning, end, or both sides of the string. Finally, you must specify the text you want to trim using `FROM`."
      ],
      "metadata": {
        "id": "L3a0yD_OZGGq"
      }
    },
    {
      "cell_type": "markdown",
      "source": [
        "#### **POSITION**\n",
        "`POSITION` allows you to specify a substring, then returns a numerical value equal to the character number (counting from left) where that substring first appears in the target string. For example, the following query will return the position of the character 'A' (case-sensitive) where it first appears in the `descript` field:\n",
        "```mysql\n",
        "SELECT bike_number,\n",
        "       POSITION('1' in bike_number) as pos\n",
        "FROM dc_bikeshare_q1_2012;\n",
        "```"
      ],
      "metadata": {
        "id": "ybGxJ90HaVrT"
      }
    },
    {
      "cell_type": "markdown",
      "source": [
        "#### **UPPER AND LOWER**\n",
        "Sometimes, you just don't want your data to look like it's screaming at you. \n",
        "* You can use **`LOWER` to force every character in a string to become lower-case**. \n",
        "* Similarly, you can use **`UPPER` to make all the letters appear in upper-case**:\n",
        "\n",
        "```mysql\n",
        "SELECT start_station,\n",
        "    LOWER(start_station) AS lowered,\n",
        "    UPPER(start_station) AS uppered\n",
        "FROM dc_bikeshare_q1_2012;\n",
        "```"
      ],
      "metadata": {
        "id": "L0QwesuwZGfo"
      }
    },
    {
      "cell_type": "markdown",
      "source": [
        "#### **CONCAT**\n",
        "You can combine strings from several columns together (and with hard-coded values) using `CONCAT`. Simply order the values you want to concatenate and separate them with commas. If you want to hard-code values, enclose them in single quotes. Here's an example:\n",
        "```mysql\n",
        "SELECT start_station,\n",
        "\t   start_terminal,\n",
        "       CONCAT(start_terminal, \" - \", start_station) AS station_id_name\n",
        "FROM dc_bikeshare_q1_2012;\n",
        "```"
      ],
      "metadata": {
        "id": "Ej-sI7HTZGxC"
      }
    }
  ]
}