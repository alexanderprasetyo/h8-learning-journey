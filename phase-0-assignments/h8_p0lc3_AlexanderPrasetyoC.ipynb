{
  "cells": [
    {
      "cell_type": "markdown",
      "metadata": {
        "id": "p_1CAKNubfwy"
      },
      "source": [
        "# LIVE CODE 3\n",
        "\n",
        "* *Name* : Alexander Prasetyo Christianto\n",
        "* *Age* : 23\n",
        "* *Last Education Background* : *Electrical Engineering*\n",
        "* *Occupation* : *Full Time Data Science Student Batch-001*\n",
        "\n",
        "\n",
        "---"
      ]
    },
    {
      "cell_type": "markdown",
      "metadata": {
        "id": "k6CUOrlXbyK2"
      },
      "source": [
        "## Description"
      ]
    },
    {
      "cell_type": "markdown",
      "metadata": {
        "id": "uJnFQxxrb0Xl"
      },
      "source": [
        "Saya adalah seorang data scientist di salah satu perusahaan asuransi. Saat ini, kamu sedang membuat model machine learning untuk memprediksi apakah klaim asuransi perjalanan seseorang diterima atau tidak berdasarkan beberapa parameter.\n",
        "\n",
        "### Problem Statement\n",
        "\n",
        "1. Tim Travel Insurance ingin mengetahui berapa banyak klaim asuransi diterima yang dilakukan oleh nasabah untuk setiap agensi.\n",
        "2. Tim Travel Insurance ingin mengetahui tipe travel agensi apa yang paling banyak menerima klaim dan diterima.\n",
        "3. Dimana negara yang paling banyak menerima klaim asuransi?\n",
        "4. Apakah umur menjadi faktor yang mempengaruhi dalam melakukan klaim asuransi?\n",
        "5. Berapa banyak komisi yang bisa didapatkan untuk negara tertentu seperti Singapura, Thailand, dan Malaysia?\n",
        "\n",
        "---"
      ]
    },
    {
      "cell_type": "markdown",
      "metadata": {},
      "source": [
        "## Working Station"
      ]
    },
    {
      "cell_type": "markdown",
      "metadata": {},
      "source": [
        "Langkah pertama adalah melakukan *import libraries* yang akan digunakan dan melakukan koneksi ke SQL Database yang akan digunakan."
      ]
    },
    {
      "cell_type": "code",
      "execution_count": 187,
      "metadata": {
        "id": "2TXC_aU-bCY5"
      },
      "outputs": [],
      "source": [
        "import mysql.connector\n",
        "import pandas as pd"
      ]
    },
    {
      "cell_type": "code",
      "execution_count": 188,
      "metadata": {
        "id": "169iq4KUbnDz"
      },
      "outputs": [
        {
          "name": "stdout",
          "output_type": "stream",
          "text": [
            "Koneksi sukses!\n"
          ]
        }
      ],
      "source": [
        "db = mysql.connector.connect(\n",
        "    host=\"remotemysql.com\",\n",
        "    user=\"cESOsiaUiy\",\n",
        "    passwd=\"saecUeCNAL\",\n",
        "    database=\"cESOsiaUiy\"\n",
        ")\n",
        "\n",
        "if db.is_connected():\n",
        "    print(\"Koneksi sukses!\")\n",
        "\n",
        "    \n",
        "cur = db.cursor()"
      ]
    },
    {
      "cell_type": "markdown",
      "metadata": {},
      "source": [
        "#### Masalah 1"
      ]
    },
    {
      "cell_type": "code",
      "execution_count": 189,
      "metadata": {},
      "outputs": [
        {
          "data": {
            "text/html": [
              "<div>\n",
              "<style scoped>\n",
              "    .dataframe tbody tr th:only-of-type {\n",
              "        vertical-align: middle;\n",
              "    }\n",
              "\n",
              "    .dataframe tbody tr th {\n",
              "        vertical-align: top;\n",
              "    }\n",
              "\n",
              "    .dataframe thead th {\n",
              "        text-align: right;\n",
              "    }\n",
              "</style>\n",
              "<table border=\"1\" class=\"dataframe\">\n",
              "  <thead>\n",
              "    <tr style=\"text-align: right;\">\n",
              "      <th></th>\n",
              "      <th>id</th>\n",
              "      <th>agency</th>\n",
              "      <th>agency_type</th>\n",
              "      <th>distribution_channel</th>\n",
              "      <th>product_name</th>\n",
              "      <th>claim</th>\n",
              "      <th>duration</th>\n",
              "      <th>destination</th>\n",
              "      <th>net_sales</th>\n",
              "      <th>commission</th>\n",
              "      <th>gender</th>\n",
              "      <th>age</th>\n",
              "    </tr>\n",
              "  </thead>\n",
              "  <tbody>\n",
              "    <tr>\n",
              "      <th>0</th>\n",
              "      <td>1</td>\n",
              "      <td>CBH</td>\n",
              "      <td>Travel Agency</td>\n",
              "      <td>Offline</td>\n",
              "      <td>Comprehensive Plan</td>\n",
              "      <td>No</td>\n",
              "      <td>186</td>\n",
              "      <td>MALAYSIA</td>\n",
              "      <td>-29</td>\n",
              "      <td>9.57</td>\n",
              "      <td>F</td>\n",
              "      <td>81</td>\n",
              "    </tr>\n",
              "    <tr>\n",
              "      <th>1</th>\n",
              "      <td>2</td>\n",
              "      <td>CBH</td>\n",
              "      <td>Travel Agency</td>\n",
              "      <td>Offline</td>\n",
              "      <td>Comprehensive Plan</td>\n",
              "      <td>No</td>\n",
              "      <td>186</td>\n",
              "      <td>MALAYSIA</td>\n",
              "      <td>-29</td>\n",
              "      <td>9.57</td>\n",
              "      <td>F</td>\n",
              "      <td>71</td>\n",
              "    </tr>\n",
              "    <tr>\n",
              "      <th>2</th>\n",
              "      <td>3</td>\n",
              "      <td>JZI</td>\n",
              "      <td>Airlines</td>\n",
              "      <td>Online</td>\n",
              "      <td>Value Plan</td>\n",
              "      <td>No</td>\n",
              "      <td>66</td>\n",
              "      <td>UNITED STATES</td>\n",
              "      <td>-121</td>\n",
              "      <td>42.35</td>\n",
              "      <td>F</td>\n",
              "      <td>44</td>\n",
              "    </tr>\n",
              "    <tr>\n",
              "      <th>3</th>\n",
              "      <td>4</td>\n",
              "      <td>JZI</td>\n",
              "      <td>Airlines</td>\n",
              "      <td>Online</td>\n",
              "      <td>Basic Plan</td>\n",
              "      <td>No</td>\n",
              "      <td>1</td>\n",
              "      <td>MALAYSIA</td>\n",
              "      <td>-18</td>\n",
              "      <td>6.30</td>\n",
              "      <td>M</td>\n",
              "      <td>47</td>\n",
              "    </tr>\n",
              "    <tr>\n",
              "      <th>4</th>\n",
              "      <td>5</td>\n",
              "      <td>KML</td>\n",
              "      <td>Travel Agency</td>\n",
              "      <td>Online</td>\n",
              "      <td>Premier Plan</td>\n",
              "      <td>No</td>\n",
              "      <td>53</td>\n",
              "      <td>NORWAY</td>\n",
              "      <td>-130</td>\n",
              "      <td>49.40</td>\n",
              "      <td>F</td>\n",
              "      <td>48</td>\n",
              "    </tr>\n",
              "  </tbody>\n",
              "</table>\n",
              "</div>"
            ],
            "text/plain": [
              "   id agency    agency_type distribution_channel        product_name claim  \\\n",
              "0   1    CBH  Travel Agency              Offline  Comprehensive Plan    No   \n",
              "1   2    CBH  Travel Agency              Offline  Comprehensive Plan    No   \n",
              "2   3    JZI       Airlines               Online          Value Plan    No   \n",
              "3   4    JZI       Airlines               Online          Basic Plan    No   \n",
              "4   5    KML  Travel Agency               Online        Premier Plan    No   \n",
              "\n",
              "   duration    destination  net_sales  commission gender  age  \n",
              "0       186       MALAYSIA        -29        9.57      F   81  \n",
              "1       186       MALAYSIA        -29        9.57      F   71  \n",
              "2        66  UNITED STATES       -121       42.35      F   44  \n",
              "3         1       MALAYSIA        -18        6.30      M   47  \n",
              "4        53         NORWAY       -130       49.40      F   48  "
            ]
          },
          "execution_count": 189,
          "metadata": {},
          "output_type": "execute_result"
        }
      ],
      "source": [
        "sql = '''\n",
        "SELECT * FROM travel_insurance\n",
        "'''\n",
        "\n",
        "df = pd.read_sql_query(sql, db)\n",
        "\n",
        "df.head(5)"
      ]
    },
    {
      "cell_type": "markdown",
      "metadata": {},
      "source": [
        "#### Masalah 2"
      ]
    },
    {
      "cell_type": "code",
      "execution_count": 190,
      "metadata": {},
      "outputs": [
        {
          "name": "stderr",
          "output_type": "stream",
          "text": [
            "c:\\Users\\alexa\\AppData\\Local\\Programs\\Python\\Python39\\lib\\site-packages\\pandas\\io\\sql.py:761: UserWarning: pandas only support SQLAlchemy connectable(engine/connection) ordatabase string URI or sqlite3 DBAPI2 connectionother DBAPI2 objects are not tested, please consider using SQLAlchemy\n",
            "  warnings.warn(\n"
          ]
        },
        {
          "data": {
            "text/html": [
              "<div>\n",
              "<style scoped>\n",
              "    .dataframe tbody tr th:only-of-type {\n",
              "        vertical-align: middle;\n",
              "    }\n",
              "\n",
              "    .dataframe tbody tr th {\n",
              "        vertical-align: top;\n",
              "    }\n",
              "\n",
              "    .dataframe thead th {\n",
              "        text-align: right;\n",
              "    }\n",
              "</style>\n",
              "<table border=\"1\" class=\"dataframe\">\n",
              "  <thead>\n",
              "    <tr style=\"text-align: right;\">\n",
              "      <th></th>\n",
              "      <th>agency</th>\n",
              "      <th>amount_of_claim</th>\n",
              "      <th>claim</th>\n",
              "    </tr>\n",
              "  </thead>\n",
              "  <tbody>\n",
              "    <tr>\n",
              "      <th>0</th>\n",
              "      <td>C2B</td>\n",
              "      <td>547</td>\n",
              "      <td>Yes</td>\n",
              "    </tr>\n",
              "    <tr>\n",
              "      <th>1</th>\n",
              "      <td>LWC</td>\n",
              "      <td>36</td>\n",
              "      <td>Yes</td>\n",
              "    </tr>\n",
              "    <tr>\n",
              "      <th>2</th>\n",
              "      <td>JZI</td>\n",
              "      <td>31</td>\n",
              "      <td>Yes</td>\n",
              "    </tr>\n",
              "    <tr>\n",
              "      <th>3</th>\n",
              "      <td>KML</td>\n",
              "      <td>8</td>\n",
              "      <td>Yes</td>\n",
              "    </tr>\n",
              "    <tr>\n",
              "      <th>4</th>\n",
              "      <td>TTW</td>\n",
              "      <td>4</td>\n",
              "      <td>Yes</td>\n",
              "    </tr>\n",
              "    <tr>\n",
              "      <th>5</th>\n",
              "      <td>JWT</td>\n",
              "      <td>4</td>\n",
              "      <td>Yes</td>\n",
              "    </tr>\n",
              "    <tr>\n",
              "      <th>6</th>\n",
              "      <td>CCR</td>\n",
              "      <td>3</td>\n",
              "      <td>Yes</td>\n",
              "    </tr>\n",
              "    <tr>\n",
              "      <th>7</th>\n",
              "      <td>TST</td>\n",
              "      <td>2</td>\n",
              "      <td>Yes</td>\n",
              "    </tr>\n",
              "    <tr>\n",
              "      <th>8</th>\n",
              "      <td>RAB</td>\n",
              "      <td>1</td>\n",
              "      <td>Yes</td>\n",
              "    </tr>\n",
              "    <tr>\n",
              "      <th>9</th>\n",
              "      <td>CSR</td>\n",
              "      <td>1</td>\n",
              "      <td>Yes</td>\n",
              "    </tr>\n",
              "    <tr>\n",
              "      <th>10</th>\n",
              "      <td>CBH</td>\n",
              "      <td>1</td>\n",
              "      <td>Yes</td>\n",
              "    </tr>\n",
              "    <tr>\n",
              "      <th>11</th>\n",
              "      <td>ART</td>\n",
              "      <td>1</td>\n",
              "      <td>Yes</td>\n",
              "    </tr>\n",
              "  </tbody>\n",
              "</table>\n",
              "</div>"
            ],
            "text/plain": [
              "   agency  amount_of_claim claim\n",
              "0     C2B              547   Yes\n",
              "1     LWC               36   Yes\n",
              "2     JZI               31   Yes\n",
              "3     KML                8   Yes\n",
              "4     TTW                4   Yes\n",
              "5     JWT                4   Yes\n",
              "6     CCR                3   Yes\n",
              "7     TST                2   Yes\n",
              "8     RAB                1   Yes\n",
              "9     CSR                1   Yes\n",
              "10    CBH                1   Yes\n",
              "11    ART                1   Yes"
            ]
          },
          "execution_count": 190,
          "metadata": {},
          "output_type": "execute_result"
        }
      ],
      "source": [
        "sql2 = '''\n",
        "select agency, count(agency) as amount_of_claim, claim FROM travel_insurance\n",
        "where claim = \"Yes\"\n",
        "group by agency\n",
        "order by amount_of_claim desc\n",
        "'''\n",
        "\n",
        "df2 = pd.read_sql_query(sql2, db)\n",
        "\n",
        "df2"
      ]
    },
    {
      "cell_type": "markdown",
      "metadata": {},
      "source": [
        "Agensi yang paling banyak menerima klaim adalah agensi C2B dimana jumlah klaim yang diajukan dan diterima adalah sebanyak 547 klaim."
      ]
    },
    {
      "cell_type": "markdown",
      "metadata": {},
      "source": [
        "#### Masalah 3"
      ]
    },
    {
      "cell_type": "code",
      "execution_count": 195,
      "metadata": {},
      "outputs": [
        {
          "name": "stderr",
          "output_type": "stream",
          "text": [
            "c:\\Users\\alexa\\AppData\\Local\\Programs\\Python\\Python39\\lib\\site-packages\\pandas\\io\\sql.py:761: UserWarning: pandas only support SQLAlchemy connectable(engine/connection) ordatabase string URI or sqlite3 DBAPI2 connectionother DBAPI2 objects are not tested, please consider using SQLAlchemy\n",
            "  warnings.warn(\n"
          ]
        },
        {
          "data": {
            "text/html": [
              "<div>\n",
              "<style scoped>\n",
              "    .dataframe tbody tr th:only-of-type {\n",
              "        vertical-align: middle;\n",
              "    }\n",
              "\n",
              "    .dataframe tbody tr th {\n",
              "        vertical-align: top;\n",
              "    }\n",
              "\n",
              "    .dataframe thead th {\n",
              "        text-align: right;\n",
              "    }\n",
              "</style>\n",
              "<table border=\"1\" class=\"dataframe\">\n",
              "  <thead>\n",
              "    <tr style=\"text-align: right;\">\n",
              "      <th></th>\n",
              "      <th>agency_type</th>\n",
              "      <th>amount_of_accepted_claim</th>\n",
              "      <th>claim_status</th>\n",
              "    </tr>\n",
              "  </thead>\n",
              "  <tbody>\n",
              "    <tr>\n",
              "      <th>0</th>\n",
              "      <td>Airlines</td>\n",
              "      <td>584</td>\n",
              "      <td>Yes</td>\n",
              "    </tr>\n",
              "    <tr>\n",
              "      <th>1</th>\n",
              "      <td>Travel Agency</td>\n",
              "      <td>55</td>\n",
              "      <td>Yes</td>\n",
              "    </tr>\n",
              "  </tbody>\n",
              "</table>\n",
              "</div>"
            ],
            "text/plain": [
              "     agency_type  amount_of_accepted_claim claim_status\n",
              "0       Airlines                       584          Yes\n",
              "1  Travel Agency                        55          Yes"
            ]
          },
          "execution_count": 195,
          "metadata": {},
          "output_type": "execute_result"
        }
      ],
      "source": [
        "sql3 = '''\n",
        "select agency_type, count(agency_type) as amount_of_accepted_claim, claim as claim_status FROM travel_insurance\n",
        "where claim = \"Yes\"\n",
        "group by agency_type\n",
        "'''\n",
        "\n",
        "df3 = pd.read_sql_query(sql3, db)\n",
        "\n",
        "df3 "
      ]
    },
    {
      "cell_type": "markdown",
      "metadata": {},
      "source": [
        "Tipe agensi `Airlines` paling banyak menerima klaim yang diterima. Hal ini dapat dikarenakan orang lebih banyak menggunakan jasa penerbangan dibandingkan jasa travel darat."
      ]
    },
    {
      "cell_type": "markdown",
      "metadata": {},
      "source": [
        "#### Masalah 4"
      ]
    },
    {
      "cell_type": "code",
      "execution_count": 197,
      "metadata": {},
      "outputs": [
        {
          "name": "stderr",
          "output_type": "stream",
          "text": [
            "c:\\Users\\alexa\\AppData\\Local\\Programs\\Python\\Python39\\lib\\site-packages\\pandas\\io\\sql.py:761: UserWarning: pandas only support SQLAlchemy connectable(engine/connection) ordatabase string URI or sqlite3 DBAPI2 connectionother DBAPI2 objects are not tested, please consider using SQLAlchemy\n",
            "  warnings.warn(\n"
          ]
        },
        {
          "data": {
            "text/html": [
              "<div>\n",
              "<style scoped>\n",
              "    .dataframe tbody tr th:only-of-type {\n",
              "        vertical-align: middle;\n",
              "    }\n",
              "\n",
              "    .dataframe tbody tr th {\n",
              "        vertical-align: top;\n",
              "    }\n",
              "\n",
              "    .dataframe thead th {\n",
              "        text-align: right;\n",
              "    }\n",
              "</style>\n",
              "<table border=\"1\" class=\"dataframe\">\n",
              "  <thead>\n",
              "    <tr style=\"text-align: right;\">\n",
              "      <th></th>\n",
              "      <th>destination</th>\n",
              "      <th>count(destination)</th>\n",
              "      <th>claim</th>\n",
              "    </tr>\n",
              "  </thead>\n",
              "  <tbody>\n",
              "    <tr>\n",
              "      <th>0</th>\n",
              "      <td>SINGAPORE</td>\n",
              "      <td>550</td>\n",
              "      <td>Yes</td>\n",
              "    </tr>\n",
              "    <tr>\n",
              "      <th>1</th>\n",
              "      <td>VIET NAM</td>\n",
              "      <td>4</td>\n",
              "      <td>Yes</td>\n",
              "    </tr>\n",
              "    <tr>\n",
              "      <th>2</th>\n",
              "      <td>THAILAND</td>\n",
              "      <td>6</td>\n",
              "      <td>Yes</td>\n",
              "    </tr>\n",
              "    <tr>\n",
              "      <th>3</th>\n",
              "      <td>AUSTRALIA</td>\n",
              "      <td>2</td>\n",
              "      <td>Yes</td>\n",
              "    </tr>\n",
              "    <tr>\n",
              "      <th>4</th>\n",
              "      <td>NETHERLANDS</td>\n",
              "      <td>2</td>\n",
              "      <td>Yes</td>\n",
              "    </tr>\n",
              "    <tr>\n",
              "      <th>5</th>\n",
              "      <td>KOREA, REPUBLIC OF</td>\n",
              "      <td>5</td>\n",
              "      <td>Yes</td>\n",
              "    </tr>\n",
              "    <tr>\n",
              "      <th>6</th>\n",
              "      <td>UNITED STATES</td>\n",
              "      <td>16</td>\n",
              "      <td>Yes</td>\n",
              "    </tr>\n",
              "    <tr>\n",
              "      <th>7</th>\n",
              "      <td>CANADA</td>\n",
              "      <td>2</td>\n",
              "      <td>Yes</td>\n",
              "    </tr>\n",
              "    <tr>\n",
              "      <th>8</th>\n",
              "      <td>HONG KONG</td>\n",
              "      <td>5</td>\n",
              "      <td>Yes</td>\n",
              "    </tr>\n",
              "    <tr>\n",
              "      <th>9</th>\n",
              "      <td>CHINA</td>\n",
              "      <td>12</td>\n",
              "      <td>Yes</td>\n",
              "    </tr>\n",
              "    <tr>\n",
              "      <th>10</th>\n",
              "      <td>INDIA</td>\n",
              "      <td>4</td>\n",
              "      <td>Yes</td>\n",
              "    </tr>\n",
              "    <tr>\n",
              "      <th>11</th>\n",
              "      <td>INDONESIA</td>\n",
              "      <td>10</td>\n",
              "      <td>Yes</td>\n",
              "    </tr>\n",
              "    <tr>\n",
              "      <th>12</th>\n",
              "      <td>NEW ZEALAND</td>\n",
              "      <td>1</td>\n",
              "      <td>Yes</td>\n",
              "    </tr>\n",
              "    <tr>\n",
              "      <th>13</th>\n",
              "      <td>BRUNEI DARUSSALAM</td>\n",
              "      <td>1</td>\n",
              "      <td>Yes</td>\n",
              "    </tr>\n",
              "    <tr>\n",
              "      <th>14</th>\n",
              "      <td>JAPAN</td>\n",
              "      <td>5</td>\n",
              "      <td>Yes</td>\n",
              "    </tr>\n",
              "    <tr>\n",
              "      <th>15</th>\n",
              "      <td>MALAYSIA</td>\n",
              "      <td>8</td>\n",
              "      <td>Yes</td>\n",
              "    </tr>\n",
              "    <tr>\n",
              "      <th>16</th>\n",
              "      <td>TAIWAN, PROVINCE OF CHINA</td>\n",
              "      <td>2</td>\n",
              "      <td>Yes</td>\n",
              "    </tr>\n",
              "    <tr>\n",
              "      <th>17</th>\n",
              "      <td>SWITZERLAND</td>\n",
              "      <td>1</td>\n",
              "      <td>Yes</td>\n",
              "    </tr>\n",
              "    <tr>\n",
              "      <th>18</th>\n",
              "      <td>UNITED KINGDOM</td>\n",
              "      <td>1</td>\n",
              "      <td>Yes</td>\n",
              "    </tr>\n",
              "    <tr>\n",
              "      <th>19</th>\n",
              "      <td>FRANCE</td>\n",
              "      <td>2</td>\n",
              "      <td>Yes</td>\n",
              "    </tr>\n",
              "  </tbody>\n",
              "</table>\n",
              "</div>"
            ],
            "text/plain": [
              "                  destination  count(destination) claim\n",
              "0                   SINGAPORE                 550   Yes\n",
              "1                    VIET NAM                   4   Yes\n",
              "2                    THAILAND                   6   Yes\n",
              "3                   AUSTRALIA                   2   Yes\n",
              "4                 NETHERLANDS                   2   Yes\n",
              "5          KOREA, REPUBLIC OF                   5   Yes\n",
              "6               UNITED STATES                  16   Yes\n",
              "7                      CANADA                   2   Yes\n",
              "8                   HONG KONG                   5   Yes\n",
              "9                       CHINA                  12   Yes\n",
              "10                      INDIA                   4   Yes\n",
              "11                  INDONESIA                  10   Yes\n",
              "12                NEW ZEALAND                   1   Yes\n",
              "13          BRUNEI DARUSSALAM                   1   Yes\n",
              "14                      JAPAN                   5   Yes\n",
              "15                   MALAYSIA                   8   Yes\n",
              "16  TAIWAN, PROVINCE OF CHINA                   2   Yes\n",
              "17                SWITZERLAND                   1   Yes\n",
              "18             UNITED KINGDOM                   1   Yes\n",
              "19                     FRANCE                   2   Yes"
            ]
          },
          "execution_count": 197,
          "metadata": {},
          "output_type": "execute_result"
        }
      ],
      "source": [
        "sql4 = '''\n",
        "select destination, count(destination), claim FROM travel_insurance\n",
        "where claim = \"Yes\"\n",
        "group by destination\n",
        "'''\n",
        "\n",
        "df4 = pd.read_sql_query(sql4, db)\n",
        "\n",
        "df4"
      ]
    },
    {
      "cell_type": "markdown",
      "metadata": {},
      "source": [
        "Negara Singapura merupakan negara yang memiliki destinasi dengan jumlah klaim diterima yang terbanyak."
      ]
    },
    {
      "cell_type": "markdown",
      "metadata": {},
      "source": [
        "#### Masalah 5"
      ]
    },
    {
      "cell_type": "code",
      "execution_count": 193,
      "metadata": {},
      "outputs": [
        {
          "name": "stderr",
          "output_type": "stream",
          "text": [
            "c:\\Users\\alexa\\AppData\\Local\\Programs\\Python\\Python39\\lib\\site-packages\\pandas\\io\\sql.py:761: UserWarning: pandas only support SQLAlchemy connectable(engine/connection) ordatabase string URI or sqlite3 DBAPI2 connectionother DBAPI2 objects are not tested, please consider using SQLAlchemy\n",
            "  warnings.warn(\n"
          ]
        },
        {
          "data": {
            "text/html": [
              "<div>\n",
              "<style scoped>\n",
              "    .dataframe tbody tr th:only-of-type {\n",
              "        vertical-align: middle;\n",
              "    }\n",
              "\n",
              "    .dataframe tbody tr th {\n",
              "        vertical-align: top;\n",
              "    }\n",
              "\n",
              "    .dataframe thead th {\n",
              "        text-align: right;\n",
              "    }\n",
              "</style>\n",
              "<table border=\"1\" class=\"dataframe\">\n",
              "  <thead>\n",
              "    <tr style=\"text-align: right;\">\n",
              "      <th></th>\n",
              "      <th>max(age)</th>\n",
              "      <th>avg(age)</th>\n",
              "      <th>min(age)</th>\n",
              "    </tr>\n",
              "  </thead>\n",
              "  <tbody>\n",
              "    <tr>\n",
              "      <th>0</th>\n",
              "      <td>118</td>\n",
              "      <td>38.8294</td>\n",
              "      <td>14</td>\n",
              "    </tr>\n",
              "  </tbody>\n",
              "</table>\n",
              "</div>"
            ],
            "text/plain": [
              "   max(age)  avg(age)  min(age)\n",
              "0       118   38.8294        14"
            ]
          },
          "execution_count": 193,
          "metadata": {},
          "output_type": "execute_result"
        }
      ],
      "source": [
        "sql5 = '''\n",
        "select max(age), avg(age), min(age) from (select age, claim FROM travel_insurance\n",
        "where claim = \"Yes\") as abc\n",
        "'''\n",
        "\n",
        "df5 = pd.read_sql_query(sql5, db)\n",
        "\n",
        "df5"
      ]
    },
    {
      "cell_type": "markdown",
      "metadata": {},
      "source": [
        "Usia tertua yang melakukan klaim asuransi adalah 118 tahun, usia termuda yang melakukan klaim asuransi adalah 14 tahun dan rata-rata usia usia melakukan klaim asuransi adalah 38.82 tahun"
      ]
    },
    {
      "cell_type": "markdown",
      "metadata": {},
      "source": [
        "#### Masalah 6"
      ]
    },
    {
      "cell_type": "code",
      "execution_count": 194,
      "metadata": {},
      "outputs": [
        {
          "name": "stderr",
          "output_type": "stream",
          "text": [
            "c:\\Users\\alexa\\AppData\\Local\\Programs\\Python\\Python39\\lib\\site-packages\\pandas\\io\\sql.py:761: UserWarning: pandas only support SQLAlchemy connectable(engine/connection) ordatabase string URI or sqlite3 DBAPI2 connectionother DBAPI2 objects are not tested, please consider using SQLAlchemy\n",
            "  warnings.warn(\n"
          ]
        },
        {
          "data": {
            "text/html": [
              "<div>\n",
              "<style scoped>\n",
              "    .dataframe tbody tr th:only-of-type {\n",
              "        vertical-align: middle;\n",
              "    }\n",
              "\n",
              "    .dataframe tbody tr th {\n",
              "        vertical-align: top;\n",
              "    }\n",
              "\n",
              "    .dataframe thead th {\n",
              "        text-align: right;\n",
              "    }\n",
              "</style>\n",
              "<table border=\"1\" class=\"dataframe\">\n",
              "  <thead>\n",
              "    <tr style=\"text-align: right;\">\n",
              "      <th></th>\n",
              "      <th>total_commision</th>\n",
              "    </tr>\n",
              "  </thead>\n",
              "  <tbody>\n",
              "    <tr>\n",
              "      <th>0</th>\n",
              "      <td>184437.65</td>\n",
              "    </tr>\n",
              "  </tbody>\n",
              "</table>\n",
              "</div>"
            ],
            "text/plain": [
              "   total_commision\n",
              "0        184437.65"
            ]
          },
          "execution_count": 194,
          "metadata": {},
          "output_type": "execute_result"
        }
      ],
      "source": [
        "sql6 = '''\n",
        "select sum(commission) as total_commision from travel_insurance\n",
        "Where destination='SINGAPORE' or \n",
        "destination='THAILAND' or \n",
        "destination='MALAYSIA' and claim='Yes'\n",
        "'''\n",
        "\n",
        "df6 = pd.read_sql_query(sql6, db)\n",
        "\n",
        "df6"
      ]
    },
    {
      "cell_type": "markdown",
      "metadata": {},
      "source": [
        "---"
      ]
    },
    {
      "cell_type": "markdown",
      "metadata": {},
      "source": [
        "## Poin Analisis\n",
        "\n",
        "1. Agen C2B menerima jumlah klaim yang diterima terbanyak dibandingkan dengan agen lainnya, yaitu sejumlah 547 klaim asuransi.\n",
        "2. Tipe agensi `Airlines` menerima klaim yang diterima sebanyak 584 klaim, hal ini dapat mengindikasikan banyak orang menggunakan jasa penerbangan.\n",
        "3. Singapura merupakan negara yang menerima klaim asuransi diterima yang paling banyak, yaitu sejumlah 550 klaim.\n",
        "4. Umur termuda yang melakukan klaim asuransi adalah 14 tahun dan umur tertua yang melakukakn klaim asuransi adalah 118 tahun dan rata-rata umur orang melakukan klaim asuransi adalah 38.82 tahun atau 38-39 tahun.\n",
        "5.  Jika tim Travel Insurance hanya menerima klaim asuransi untuk destinasi negara Singapura, Thailand dan Malaysia maka jumlah klaim bisa diperoleh berdasarkan data yang sudah ada adalah sebesar 184437.65 USD."
      ]
    }
  ],
  "metadata": {
    "colab": {
      "name": "h8_p0lc3_AlexanderPrasetyoC.ipynb",
      "provenance": []
    },
    "kernelspec": {
      "display_name": "Python 3.9.6 64-bit",
      "language": "python",
      "name": "python3"
    },
    "language_info": {
      "codemirror_mode": {
        "name": "ipython",
        "version": 3
      },
      "file_extension": ".py",
      "mimetype": "text/x-python",
      "name": "python",
      "nbconvert_exporter": "python",
      "pygments_lexer": "ipython3",
      "version": "3.9.6"
    },
    "vscode": {
      "interpreter": {
        "hash": "f3d42ad487b2b2994e012ab0306cc0a65d83ea9d079e1ade1e8453053e613de7"
      }
    }
  },
  "nbformat": 4,
  "nbformat_minor": 0
}
