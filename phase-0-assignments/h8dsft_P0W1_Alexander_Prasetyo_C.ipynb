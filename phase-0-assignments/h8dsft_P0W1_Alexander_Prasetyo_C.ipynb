{
 "cells": [
  {
   "cell_type": "markdown",
   "metadata": {},
   "source": [
    "# <center>**Graded Challenge 1**</center>"
   ]
  },
  {
   "cell_type": "markdown",
   "metadata": {},
   "source": [
    "* *Name* : Alexander Prasetyo Christianto\n",
    "* *Age* : 23\n",
    "* *Last Education Background* : *Electrical Engineering*\n",
    "* *Occupation* : *Full Time Data Science Student Batch-001*\n"
   ]
  },
  {
   "cell_type": "markdown",
   "metadata": {},
   "source": [
    "## Description\n",
    "\n",
    "### Objective\n",
    "\n",
    "This task is the first assessment task given by Hacktiv8. This task is a task that aims to explore data from the Google BigQuery Public Dataset. In this task, the dataset is retrieved from the 'summary' table in the covid19_jhu_csse_eu database.\n",
    "\n",
    "In this assignment, I will discuss about the covid that occurred in Russia. Data exploration will be adjusted based on the assessment rubric provided by Hacktiv8. The assessment rubric will assess data retrieval, data loading, missing value handling, columns manipulation, data query, grouping and aggregating, pandas visualization, whether all code can run without errors.\n",
    "\n",
    "### Problem Statement\n",
    "\n",
    "Russia is one of the countries with the 9th most populous population. As the 9th most populous population country, finding the the province with the highest confirmed and death covid cases, also average covid cases per province will help the goverment to distribute the vaccine or medical personnels.\n",
    "\n",
    "In this assignment, we will try to analyze the given data to find the highest confirmed and death covid cases per province and average covid cases per province in Russia."
   ]
  },
  {
   "cell_type": "markdown",
   "metadata": {},
   "source": [
    "## Working Station"
   ]
  },
  {
   "cell_type": "markdown",
   "metadata": {},
   "source": [
    "### SQL Query For the Dataset"
   ]
  },
  {
   "cell_type": "markdown",
   "metadata": {},
   "source": [
    "SELECT province_state, country_region, date, latitude, longitude, location_geom, confirmed, deaths, active FROM `bigquery-public-data.covid19_jhu_csse_eu.summary`\n",
    "WHERE country_region = \"Russia\""
   ]
  },
  {
   "cell_type": "markdown",
   "metadata": {},
   "source": [
    "### Libraries Used"
   ]
  },
  {
   "cell_type": "markdown",
   "metadata": {},
   "source": [
    "In this assignment, we are going to use just 2 libraries, namely pandas and matplotlib."
   ]
  },
  {
   "cell_type": "code",
   "execution_count": 1,
   "metadata": {},
   "outputs": [],
   "source": [
    "import pandas as pd\n",
    "import matplotlib.pyplot as plt"
   ]
  },
  {
   "cell_type": "markdown",
   "metadata": {},
   "source": [
    "### Data Loading and Dataset Preview"
   ]
  },
  {
   "cell_type": "markdown",
   "metadata": {},
   "source": [
    "SELECT province_state, country_region, date, latitude, longitude, location_geom, confirmed, deaths, active FROM `bigquery-public-data.covid19_jhu_csse_eu.summary`\n",
    "WHERE country_region = \"Russia\""
   ]
  },
  {
   "cell_type": "markdown",
   "metadata": {},
   "source": [
    "Next step is, we load the data and set it into a new data frame named 'df'."
   ]
  },
  {
   "cell_type": "code",
   "execution_count": 2,
   "metadata": {},
   "outputs": [],
   "source": [
    "df = pd.read_csv('https://raw.githubusercontent.com/alexanderprasetyo/h8-learning-journey/graded_challenge/h8dsft_P0GC1_Alexander_Prasetyo_C.csv')"
   ]
  },
  {
   "cell_type": "markdown",
   "metadata": {},
   "source": [
    "After we load the data, we must check whether the data is loaded without any error by using the .head() and .tail() command. This is the preview of first 5 rows from the dataset."
   ]
  },
  {
   "cell_type": "code",
   "execution_count": 3,
   "metadata": {},
   "outputs": [
    {
     "data": {
      "text/html": [
       "<div>\n",
       "<style scoped>\n",
       "    .dataframe tbody tr th:only-of-type {\n",
       "        vertical-align: middle;\n",
       "    }\n",
       "\n",
       "    .dataframe tbody tr th {\n",
       "        vertical-align: top;\n",
       "    }\n",
       "\n",
       "    .dataframe thead th {\n",
       "        text-align: right;\n",
       "    }\n",
       "</style>\n",
       "<table border=\"1\" class=\"dataframe\">\n",
       "  <thead>\n",
       "    <tr style=\"text-align: right;\">\n",
       "      <th></th>\n",
       "      <th>province_state</th>\n",
       "      <th>country_region</th>\n",
       "      <th>date</th>\n",
       "      <th>latitude</th>\n",
       "      <th>longitude</th>\n",
       "      <th>location_geom</th>\n",
       "      <th>confirmed</th>\n",
       "      <th>deaths</th>\n",
       "      <th>active</th>\n",
       "    </tr>\n",
       "  </thead>\n",
       "  <tbody>\n",
       "    <tr>\n",
       "      <th>0</th>\n",
       "      <td>Altai Krai</td>\n",
       "      <td>Russia</td>\n",
       "      <td>2022-01-31</td>\n",
       "      <td>52.693224</td>\n",
       "      <td>82.693142</td>\n",
       "      <td>POINT(82.6931424 52.6932243)</td>\n",
       "      <td>132806</td>\n",
       "      <td>7348.0</td>\n",
       "      <td>NaN</td>\n",
       "    </tr>\n",
       "    <tr>\n",
       "      <th>1</th>\n",
       "      <td>Bryansk Oblast</td>\n",
       "      <td>Russia</td>\n",
       "      <td>2022-01-31</td>\n",
       "      <td>52.887332</td>\n",
       "      <td>33.415853</td>\n",
       "      <td>POINT(33.415853 52.8873315)</td>\n",
       "      <td>104377</td>\n",
       "      <td>3249.0</td>\n",
       "      <td>NaN</td>\n",
       "    </tr>\n",
       "    <tr>\n",
       "      <th>2</th>\n",
       "      <td>Buryatia Republic</td>\n",
       "      <td>Russia</td>\n",
       "      <td>2022-01-31</td>\n",
       "      <td>52.718243</td>\n",
       "      <td>109.492143</td>\n",
       "      <td>POINT(109.492143 52.7182426)</td>\n",
       "      <td>86668</td>\n",
       "      <td>2605.0</td>\n",
       "      <td>NaN</td>\n",
       "    </tr>\n",
       "    <tr>\n",
       "      <th>3</th>\n",
       "      <td>Irkutsk Oblast</td>\n",
       "      <td>Russia</td>\n",
       "      <td>2022-01-31</td>\n",
       "      <td>56.637012</td>\n",
       "      <td>104.719221</td>\n",
       "      <td>POINT(104.719221 56.6370122)</td>\n",
       "      <td>170417</td>\n",
       "      <td>7423.0</td>\n",
       "      <td>NaN</td>\n",
       "    </tr>\n",
       "    <tr>\n",
       "      <th>4</th>\n",
       "      <td>Kabardino-Balkarian Republic</td>\n",
       "      <td>Russia</td>\n",
       "      <td>2022-01-31</td>\n",
       "      <td>43.480605</td>\n",
       "      <td>43.597898</td>\n",
       "      <td>POINT(43.5978976 43.4806048)</td>\n",
       "      <td>45423</td>\n",
       "      <td>1577.0</td>\n",
       "      <td>NaN</td>\n",
       "    </tr>\n",
       "  </tbody>\n",
       "</table>\n",
       "</div>"
      ],
      "text/plain": [
       "                 province_state country_region        date   latitude  \\\n",
       "0                    Altai Krai         Russia  2022-01-31  52.693224   \n",
       "1                Bryansk Oblast         Russia  2022-01-31  52.887332   \n",
       "2             Buryatia Republic         Russia  2022-01-31  52.718243   \n",
       "3                Irkutsk Oblast         Russia  2022-01-31  56.637012   \n",
       "4  Kabardino-Balkarian Republic         Russia  2022-01-31  43.480605   \n",
       "\n",
       "    longitude                 location_geom  confirmed  deaths  active  \n",
       "0   82.693142  POINT(82.6931424 52.6932243)     132806  7348.0     NaN  \n",
       "1   33.415853   POINT(33.415853 52.8873315)     104377  3249.0     NaN  \n",
       "2  109.492143  POINT(109.492143 52.7182426)      86668  2605.0     NaN  \n",
       "3  104.719221  POINT(104.719221 56.6370122)     170417  7423.0     NaN  \n",
       "4   43.597898  POINT(43.5978976 43.4806048)      45423  1577.0     NaN  "
      ]
     },
     "execution_count": 3,
     "metadata": {},
     "output_type": "execute_result"
    }
   ],
   "source": [
    "df.head()"
   ]
  },
  {
   "cell_type": "code",
   "execution_count": 4,
   "metadata": {},
   "outputs": [
    {
     "data": {
      "text/html": [
       "<div>\n",
       "<style scoped>\n",
       "    .dataframe tbody tr th:only-of-type {\n",
       "        vertical-align: middle;\n",
       "    }\n",
       "\n",
       "    .dataframe tbody tr th {\n",
       "        vertical-align: top;\n",
       "    }\n",
       "\n",
       "    .dataframe thead th {\n",
       "        text-align: right;\n",
       "    }\n",
       "</style>\n",
       "<table border=\"1\" class=\"dataframe\">\n",
       "  <thead>\n",
       "    <tr style=\"text-align: right;\">\n",
       "      <th></th>\n",
       "      <th>province_state</th>\n",
       "      <th>country_region</th>\n",
       "      <th>date</th>\n",
       "      <th>latitude</th>\n",
       "      <th>longitude</th>\n",
       "      <th>location_geom</th>\n",
       "      <th>confirmed</th>\n",
       "      <th>deaths</th>\n",
       "      <th>active</th>\n",
       "    </tr>\n",
       "  </thead>\n",
       "  <tbody>\n",
       "    <tr>\n",
       "      <th>66848</th>\n",
       "      <td>Tatarstan Republic</td>\n",
       "      <td>Russia</td>\n",
       "      <td>2021-11-21</td>\n",
       "      <td>55.764857</td>\n",
       "      <td>52.431043</td>\n",
       "      <td>POINT(52.43104273 55.7648572)</td>\n",
       "      <td>35794</td>\n",
       "      <td>1164.0</td>\n",
       "      <td>NaN</td>\n",
       "    </tr>\n",
       "    <tr>\n",
       "      <th>66849</th>\n",
       "      <td>Tatarstan Republic</td>\n",
       "      <td>Russia</td>\n",
       "      <td>2021-05-08</td>\n",
       "      <td>55.764857</td>\n",
       "      <td>52.431043</td>\n",
       "      <td>POINT(52.43104273 55.7648572)</td>\n",
       "      <td>20738</td>\n",
       "      <td>471.0</td>\n",
       "      <td>2555.0</td>\n",
       "    </tr>\n",
       "    <tr>\n",
       "      <th>66850</th>\n",
       "      <td>Tatarstan Republic</td>\n",
       "      <td>Russia</td>\n",
       "      <td>2022-04-27</td>\n",
       "      <td>55.764857</td>\n",
       "      <td>52.431043</td>\n",
       "      <td>POINT(52.43104273 55.7648572)</td>\n",
       "      <td>143971</td>\n",
       "      <td>1972.0</td>\n",
       "      <td>NaN</td>\n",
       "    </tr>\n",
       "    <tr>\n",
       "      <th>66851</th>\n",
       "      <td>Tatarstan Republic</td>\n",
       "      <td>Russia</td>\n",
       "      <td>2021-08-21</td>\n",
       "      <td>55.764857</td>\n",
       "      <td>52.431043</td>\n",
       "      <td>POINT(52.43104273 55.7648572)</td>\n",
       "      <td>24978</td>\n",
       "      <td>664.0</td>\n",
       "      <td>NaN</td>\n",
       "    </tr>\n",
       "    <tr>\n",
       "      <th>66852</th>\n",
       "      <td>Tatarstan Republic</td>\n",
       "      <td>Russia</td>\n",
       "      <td>2022-03-10</td>\n",
       "      <td>55.764857</td>\n",
       "      <td>52.431043</td>\n",
       "      <td>POINT(52.43104273 55.7648572)</td>\n",
       "      <td>128718</td>\n",
       "      <td>1772.0</td>\n",
       "      <td>NaN</td>\n",
       "    </tr>\n",
       "  </tbody>\n",
       "</table>\n",
       "</div>"
      ],
      "text/plain": [
       "           province_state country_region        date   latitude  longitude  \\\n",
       "66848  Tatarstan Republic         Russia  2021-11-21  55.764857  52.431043   \n",
       "66849  Tatarstan Republic         Russia  2021-05-08  55.764857  52.431043   \n",
       "66850  Tatarstan Republic         Russia  2022-04-27  55.764857  52.431043   \n",
       "66851  Tatarstan Republic         Russia  2021-08-21  55.764857  52.431043   \n",
       "66852  Tatarstan Republic         Russia  2022-03-10  55.764857  52.431043   \n",
       "\n",
       "                       location_geom  confirmed  deaths  active  \n",
       "66848  POINT(52.43104273 55.7648572)      35794  1164.0     NaN  \n",
       "66849  POINT(52.43104273 55.7648572)      20738   471.0  2555.0  \n",
       "66850  POINT(52.43104273 55.7648572)     143971  1972.0     NaN  \n",
       "66851  POINT(52.43104273 55.7648572)      24978   664.0     NaN  \n",
       "66852  POINT(52.43104273 55.7648572)     128718  1772.0     NaN  "
      ]
     },
     "execution_count": 4,
     "metadata": {},
     "output_type": "execute_result"
    }
   ],
   "source": [
    "df.tail()"
   ]
  },
  {
   "cell_type": "markdown",
   "metadata": {},
   "source": [
    "### Data Cleaning"
   ]
  },
  {
   "cell_type": "markdown",
   "metadata": {},
   "source": [
    "Now the data is loaded into our workspace. Before we begin exploration and the analysis, it is required to do an overview of the dataset and handle any kind of missing value that may interfere with the process of data exploration and analysis."
   ]
  },
  {
   "cell_type": "code",
   "execution_count": 5,
   "metadata": {},
   "outputs": [
    {
     "data": {
      "text/plain": [
       "(66853, 9)"
      ]
     },
     "execution_count": 5,
     "metadata": {},
     "output_type": "execute_result"
    }
   ],
   "source": [
    "df.shape"
   ]
  },
  {
   "cell_type": "markdown",
   "metadata": {},
   "source": [
    "The command above is used to get a tuple representing the dimensionality of the DataFrame. There are 66853 rows and 9 columns in our data frame"
   ]
  },
  {
   "cell_type": "code",
   "execution_count": 6,
   "metadata": {},
   "outputs": [
    {
     "name": "stdout",
     "output_type": "stream",
     "text": [
      "<class 'pandas.core.frame.DataFrame'>\n",
      "RangeIndex: 66853 entries, 0 to 66852\n",
      "Data columns (total 9 columns):\n",
      " #   Column          Non-Null Count  Dtype  \n",
      "---  ------          --------------  -----  \n",
      " 0   province_state  66732 non-null  object \n",
      " 1   country_region  66853 non-null  object \n",
      " 2   date            66853 non-null  object \n",
      " 3   latitude        66823 non-null  float64\n",
      " 4   longitude       66823 non-null  float64\n",
      " 5   location_geom   66823 non-null  object \n",
      " 6   confirmed       66853 non-null  int64  \n",
      " 7   deaths          66852 non-null  float64\n",
      " 8   active          35761 non-null  float64\n",
      "dtypes: float64(4), int64(1), object(4)\n",
      "memory usage: 4.6+ MB\n"
     ]
    }
   ],
   "source": [
    "df.info()"
   ]
  },
  {
   "cell_type": "markdown",
   "metadata": {},
   "source": [
    "The info() method prints information about the DataFrame. The information contains the number of columns, column labels, column data types, memory usage, range index, and the number of cells in each column (non-null values). Note: the info() method actually prints the info.\n",
    "\n",
    "From the command above, we get information that there are rows with null values in the province_state and active columns. Therefore, we will do the missing value handling on these two columns."
   ]
  },
  {
   "cell_type": "markdown",
   "metadata": {},
   "source": [
    "To perform missing value handling, we will use the command below"
   ]
  },
  {
   "cell_type": "code",
   "execution_count": 7,
   "metadata": {},
   "outputs": [],
   "source": [
    "df2 = df.drop(['active'], axis=1)"
   ]
  },
  {
   "cell_type": "markdown",
   "metadata": {},
   "source": [
    "Because we have lots of null values in 'active' column, we will not be using the 'active' column for the data analysis and exploration. Then we save the result into a new variable named 'df2'."
   ]
  },
  {
   "cell_type": "code",
   "execution_count": 8,
   "metadata": {},
   "outputs": [
    {
     "data": {
      "text/plain": [
       "(66853, 8)"
      ]
     },
     "execution_count": 8,
     "metadata": {},
     "output_type": "execute_result"
    }
   ],
   "source": [
    "df2.shape"
   ]
  },
  {
   "cell_type": "markdown",
   "metadata": {},
   "source": [
    "We made a new variable called 'df2' so it is better to check shape of the data frame and we now know that there are 66853 rows and 8 columns."
   ]
  },
  {
   "cell_type": "code",
   "execution_count": 9,
   "metadata": {},
   "outputs": [
    {
     "name": "stdout",
     "output_type": "stream",
     "text": [
      "<class 'pandas.core.frame.DataFrame'>\n",
      "RangeIndex: 66853 entries, 0 to 66852\n",
      "Data columns (total 8 columns):\n",
      " #   Column          Non-Null Count  Dtype  \n",
      "---  ------          --------------  -----  \n",
      " 0   province_state  66732 non-null  object \n",
      " 1   country_region  66853 non-null  object \n",
      " 2   date            66853 non-null  object \n",
      " 3   latitude        66823 non-null  float64\n",
      " 4   longitude       66823 non-null  float64\n",
      " 5   location_geom   66823 non-null  object \n",
      " 6   confirmed       66853 non-null  int64  \n",
      " 7   deaths          66852 non-null  float64\n",
      "dtypes: float64(3), int64(1), object(4)\n",
      "memory usage: 4.1+ MB\n"
     ]
    }
   ],
   "source": [
    "df2.info()"
   ]
  },
  {
   "cell_type": "markdown",
   "metadata": {},
   "source": [
    "As we can see by using the command above, the 'active' column has been dropped."
   ]
  },
  {
   "cell_type": "code",
   "execution_count": 10,
   "metadata": {},
   "outputs": [],
   "source": [
    "df3 = df2.dropna(axis=0)"
   ]
  },
  {
   "cell_type": "markdown",
   "metadata": {},
   "source": [
    "The command above is used for dropping any row that contains null value from variable 'df2'. Then we assign the result into a new variable called 'df3'."
   ]
  },
  {
   "cell_type": "markdown",
   "metadata": {},
   "source": [
    "Next step is to rename our columns into our fitting taste. Personally, I like my column names start with capital alphabet. So, the code below is renaming the columns in variable 'df3'."
   ]
  },
  {
   "cell_type": "code",
   "execution_count": 11,
   "metadata": {},
   "outputs": [
    {
     "name": "stderr",
     "output_type": "stream",
     "text": [
      "C:\\Users\\alexa\\AppData\\Local\\Temp\\ipykernel_19348\\1230531004.py:1: SettingWithCopyWarning: \n",
      "A value is trying to be set on a copy of a slice from a DataFrame\n",
      "\n",
      "See the caveats in the documentation: https://pandas.pydata.org/pandas-docs/stable/user_guide/indexing.html#returning-a-view-versus-a-copy\n",
      "  df3.rename(\n"
     ]
    }
   ],
   "source": [
    "df3.rename(\n",
    "    columns = {\n",
    "        'province_state': 'Province',\n",
    "        'country_region':'Country',\n",
    "        'date': 'Date',\n",
    "        'latitude': 'Latitude',\n",
    "        'longitude': 'Longitude',\n",
    "        'location_geom': 'Location_Pinpoint',\n",
    "        'confirmed': 'Confirmed_Cases',\n",
    "        'deaths': 'Death_Cases'\n",
    "    }, inplace = True\n",
    ")"
   ]
  },
  {
   "cell_type": "markdown",
   "metadata": {},
   "source": [
    "### Data Exploration"
   ]
  },
  {
   "cell_type": "markdown",
   "metadata": {},
   "source": [
    "From now on, we will be using dataframe that is contained in variable 'df3' because we have handled any missing value from the previous dataframe in variable 'df'."
   ]
  },
  {
   "cell_type": "code",
   "execution_count": 12,
   "metadata": {},
   "outputs": [
    {
     "data": {
      "text/html": [
       "<div>\n",
       "<style scoped>\n",
       "    .dataframe tbody tr th:only-of-type {\n",
       "        vertical-align: middle;\n",
       "    }\n",
       "\n",
       "    .dataframe tbody tr th {\n",
       "        vertical-align: top;\n",
       "    }\n",
       "\n",
       "    .dataframe thead th {\n",
       "        text-align: right;\n",
       "    }\n",
       "</style>\n",
       "<table border=\"1\" class=\"dataframe\">\n",
       "  <thead>\n",
       "    <tr style=\"text-align: right;\">\n",
       "      <th></th>\n",
       "      <th>Province</th>\n",
       "      <th>Country</th>\n",
       "      <th>Date</th>\n",
       "      <th>Latitude</th>\n",
       "      <th>Longitude</th>\n",
       "      <th>Location_Pinpoint</th>\n",
       "      <th>Confirmed_Cases</th>\n",
       "      <th>Death_Cases</th>\n",
       "    </tr>\n",
       "  </thead>\n",
       "  <tbody>\n",
       "    <tr>\n",
       "      <th>0</th>\n",
       "      <td>Altai Krai</td>\n",
       "      <td>Russia</td>\n",
       "      <td>2022-01-31</td>\n",
       "      <td>52.693224</td>\n",
       "      <td>82.693142</td>\n",
       "      <td>POINT(82.6931424 52.6932243)</td>\n",
       "      <td>132806</td>\n",
       "      <td>7348.0</td>\n",
       "    </tr>\n",
       "    <tr>\n",
       "      <th>1</th>\n",
       "      <td>Bryansk Oblast</td>\n",
       "      <td>Russia</td>\n",
       "      <td>2022-01-31</td>\n",
       "      <td>52.887332</td>\n",
       "      <td>33.415853</td>\n",
       "      <td>POINT(33.415853 52.8873315)</td>\n",
       "      <td>104377</td>\n",
       "      <td>3249.0</td>\n",
       "    </tr>\n",
       "    <tr>\n",
       "      <th>2</th>\n",
       "      <td>Buryatia Republic</td>\n",
       "      <td>Russia</td>\n",
       "      <td>2022-01-31</td>\n",
       "      <td>52.718243</td>\n",
       "      <td>109.492143</td>\n",
       "      <td>POINT(109.492143 52.7182426)</td>\n",
       "      <td>86668</td>\n",
       "      <td>2605.0</td>\n",
       "    </tr>\n",
       "    <tr>\n",
       "      <th>3</th>\n",
       "      <td>Irkutsk Oblast</td>\n",
       "      <td>Russia</td>\n",
       "      <td>2022-01-31</td>\n",
       "      <td>56.637012</td>\n",
       "      <td>104.719221</td>\n",
       "      <td>POINT(104.719221 56.6370122)</td>\n",
       "      <td>170417</td>\n",
       "      <td>7423.0</td>\n",
       "    </tr>\n",
       "    <tr>\n",
       "      <th>4</th>\n",
       "      <td>Kabardino-Balkarian Republic</td>\n",
       "      <td>Russia</td>\n",
       "      <td>2022-01-31</td>\n",
       "      <td>43.480605</td>\n",
       "      <td>43.597898</td>\n",
       "      <td>POINT(43.5978976 43.4806048)</td>\n",
       "      <td>45423</td>\n",
       "      <td>1577.0</td>\n",
       "    </tr>\n",
       "    <tr>\n",
       "      <th>...</th>\n",
       "      <td>...</td>\n",
       "      <td>...</td>\n",
       "      <td>...</td>\n",
       "      <td>...</td>\n",
       "      <td>...</td>\n",
       "      <td>...</td>\n",
       "      <td>...</td>\n",
       "      <td>...</td>\n",
       "    </tr>\n",
       "    <tr>\n",
       "      <th>66848</th>\n",
       "      <td>Tatarstan Republic</td>\n",
       "      <td>Russia</td>\n",
       "      <td>2021-11-21</td>\n",
       "      <td>55.764857</td>\n",
       "      <td>52.431043</td>\n",
       "      <td>POINT(52.43104273 55.7648572)</td>\n",
       "      <td>35794</td>\n",
       "      <td>1164.0</td>\n",
       "    </tr>\n",
       "    <tr>\n",
       "      <th>66849</th>\n",
       "      <td>Tatarstan Republic</td>\n",
       "      <td>Russia</td>\n",
       "      <td>2021-05-08</td>\n",
       "      <td>55.764857</td>\n",
       "      <td>52.431043</td>\n",
       "      <td>POINT(52.43104273 55.7648572)</td>\n",
       "      <td>20738</td>\n",
       "      <td>471.0</td>\n",
       "    </tr>\n",
       "    <tr>\n",
       "      <th>66850</th>\n",
       "      <td>Tatarstan Republic</td>\n",
       "      <td>Russia</td>\n",
       "      <td>2022-04-27</td>\n",
       "      <td>55.764857</td>\n",
       "      <td>52.431043</td>\n",
       "      <td>POINT(52.43104273 55.7648572)</td>\n",
       "      <td>143971</td>\n",
       "      <td>1972.0</td>\n",
       "    </tr>\n",
       "    <tr>\n",
       "      <th>66851</th>\n",
       "      <td>Tatarstan Republic</td>\n",
       "      <td>Russia</td>\n",
       "      <td>2021-08-21</td>\n",
       "      <td>55.764857</td>\n",
       "      <td>52.431043</td>\n",
       "      <td>POINT(52.43104273 55.7648572)</td>\n",
       "      <td>24978</td>\n",
       "      <td>664.0</td>\n",
       "    </tr>\n",
       "    <tr>\n",
       "      <th>66852</th>\n",
       "      <td>Tatarstan Republic</td>\n",
       "      <td>Russia</td>\n",
       "      <td>2022-03-10</td>\n",
       "      <td>55.764857</td>\n",
       "      <td>52.431043</td>\n",
       "      <td>POINT(52.43104273 55.7648572)</td>\n",
       "      <td>128718</td>\n",
       "      <td>1772.0</td>\n",
       "    </tr>\n",
       "  </tbody>\n",
       "</table>\n",
       "<p>66732 rows × 8 columns</p>\n",
       "</div>"
      ],
      "text/plain": [
       "                           Province Country        Date   Latitude  \\\n",
       "0                        Altai Krai  Russia  2022-01-31  52.693224   \n",
       "1                    Bryansk Oblast  Russia  2022-01-31  52.887332   \n",
       "2                 Buryatia Republic  Russia  2022-01-31  52.718243   \n",
       "3                    Irkutsk Oblast  Russia  2022-01-31  56.637012   \n",
       "4      Kabardino-Balkarian Republic  Russia  2022-01-31  43.480605   \n",
       "...                             ...     ...         ...        ...   \n",
       "66848            Tatarstan Republic  Russia  2021-11-21  55.764857   \n",
       "66849            Tatarstan Republic  Russia  2021-05-08  55.764857   \n",
       "66850            Tatarstan Republic  Russia  2022-04-27  55.764857   \n",
       "66851            Tatarstan Republic  Russia  2021-08-21  55.764857   \n",
       "66852            Tatarstan Republic  Russia  2022-03-10  55.764857   \n",
       "\n",
       "        Longitude              Location_Pinpoint  Confirmed_Cases  Death_Cases  \n",
       "0       82.693142   POINT(82.6931424 52.6932243)           132806       7348.0  \n",
       "1       33.415853    POINT(33.415853 52.8873315)           104377       3249.0  \n",
       "2      109.492143   POINT(109.492143 52.7182426)            86668       2605.0  \n",
       "3      104.719221   POINT(104.719221 56.6370122)           170417       7423.0  \n",
       "4       43.597898   POINT(43.5978976 43.4806048)            45423       1577.0  \n",
       "...           ...                            ...              ...          ...  \n",
       "66848   52.431043  POINT(52.43104273 55.7648572)            35794       1164.0  \n",
       "66849   52.431043  POINT(52.43104273 55.7648572)            20738        471.0  \n",
       "66850   52.431043  POINT(52.43104273 55.7648572)           143971       1972.0  \n",
       "66851   52.431043  POINT(52.43104273 55.7648572)            24978        664.0  \n",
       "66852   52.431043  POINT(52.43104273 55.7648572)           128718       1772.0  \n",
       "\n",
       "[66732 rows x 8 columns]"
      ]
     },
     "execution_count": 12,
     "metadata": {},
     "output_type": "execute_result"
    }
   ],
   "source": [
    "df3"
   ]
  },
  {
   "cell_type": "markdown",
   "metadata": {},
   "source": [
    "Here, we check again our df3 variable."
   ]
  },
  {
   "cell_type": "markdown",
   "metadata": {},
   "source": [
    "After we did the variable checking, we proceed to our data exploration. First, we group the data according to the province name and find the max value of confirmed cases for each province. And then we assign the grouping and aggregation value into a new variable named 'Max_Confirmed_Cases_Per_Province'"
   ]
  },
  {
   "cell_type": "code",
   "execution_count": 13,
   "metadata": {},
   "outputs": [],
   "source": [
    "Max_Confirmed_Cases_Per_Provice = df3.groupby('Province')['Confirmed_Cases'].max().reset_index()"
   ]
  },
  {
   "cell_type": "markdown",
   "metadata": {},
   "source": [
    "Then, we set a parameter to variable 'b' where the variable 'b' only contain of which province that has confirmed cases more than 450000 cases."
   ]
  },
  {
   "cell_type": "code",
   "execution_count": 14,
   "metadata": {},
   "outputs": [],
   "source": [
    "b = Max_Confirmed_Cases_Per_Provice[\n",
    "    Max_Confirmed_Cases_Per_Provice[\"Confirmed_Cases\"]>450000] \\\n",
    "        [[\"Province\", \"Confirmed_Cases\"]].reset_index()"
   ]
  },
  {
   "cell_type": "markdown",
   "metadata": {},
   "source": [
    "Plot the result into a bar chart where the X axis from the 'Province' column and the Y axis is from 'Confirmed_Cases' column."
   ]
  },
  {
   "cell_type": "code",
   "execution_count": 15,
   "metadata": {},
   "outputs": [
    {
     "data": {
      "text/plain": [
       "<function matplotlib.pyplot.show(close=None, block=None)>"
      ]
     },
     "execution_count": 15,
     "metadata": {},
     "output_type": "execute_result"
    },
    {
     "data": {
      "image/png": "[encoded data removed]",
      "text/plain": [
       "<Figure size 432x288 with 1 Axes>"
      ]
     },
     "metadata": {
      "needs_background": "light"
     },
     "output_type": "display_data"
    }
   ],
   "source": [
    "b.plot(x='Province', y='Confirmed_Cases', kind='bar')\n",
    "plt.show"
   ]
  },
  {
   "cell_type": "markdown",
   "metadata": {},
   "source": [
    "The chart shows that Moscow, Moscow Oblast, Saint Petersburg and Sverdlovsk Oblast are the top four of confirmed covid cases."
   ]
  },
  {
   "cell_type": "markdown",
   "metadata": {},
   "source": [
    "Next, to find which province in Russia that has the most death covid cases, we do a grouping again by each province and then find the max value of death cases from each province."
   ]
  },
  {
   "cell_type": "code",
   "execution_count": 16,
   "metadata": {},
   "outputs": [],
   "source": [
    "Max_Death_Cases_Per_Province = df3.groupby('Province')['Death_Cases'].max().reset_index()"
   ]
  },
  {
   "cell_type": "code",
   "execution_count": 17,
   "metadata": {},
   "outputs": [
    {
     "data": {
      "text/html": [
       "<div>\n",
       "<style scoped>\n",
       "    .dataframe tbody tr th:only-of-type {\n",
       "        vertical-align: middle;\n",
       "    }\n",
       "\n",
       "    .dataframe tbody tr th {\n",
       "        vertical-align: top;\n",
       "    }\n",
       "\n",
       "    .dataframe thead th {\n",
       "        text-align: right;\n",
       "    }\n",
       "</style>\n",
       "<table border=\"1\" class=\"dataframe\">\n",
       "  <thead>\n",
       "    <tr style=\"text-align: right;\">\n",
       "      <th></th>\n",
       "      <th>Province</th>\n",
       "      <th>Death_Cases</th>\n",
       "    </tr>\n",
       "  </thead>\n",
       "  <tbody>\n",
       "    <tr>\n",
       "      <th>0</th>\n",
       "      <td>Adygea Republic</td>\n",
       "      <td>1004.0</td>\n",
       "    </tr>\n",
       "    <tr>\n",
       "      <th>1</th>\n",
       "      <td>Altai Krai</td>\n",
       "      <td>8706.0</td>\n",
       "    </tr>\n",
       "    <tr>\n",
       "      <th>2</th>\n",
       "      <td>Altai Republic</td>\n",
       "      <td>622.0</td>\n",
       "    </tr>\n",
       "    <tr>\n",
       "      <th>3</th>\n",
       "      <td>Amur Oblast</td>\n",
       "      <td>764.0</td>\n",
       "    </tr>\n",
       "    <tr>\n",
       "      <th>4</th>\n",
       "      <td>Arkhangelsk Oblast</td>\n",
       "      <td>1767.0</td>\n",
       "    </tr>\n",
       "    <tr>\n",
       "      <th>...</th>\n",
       "      <td>...</td>\n",
       "      <td>...</td>\n",
       "    </tr>\n",
       "    <tr>\n",
       "      <th>78</th>\n",
       "      <td>Vologda Oblast</td>\n",
       "      <td>3879.0</td>\n",
       "    </tr>\n",
       "    <tr>\n",
       "      <th>79</th>\n",
       "      <td>Voronezh Oblast</td>\n",
       "      <td>8365.0</td>\n",
       "    </tr>\n",
       "    <tr>\n",
       "      <th>80</th>\n",
       "      <td>Yamalo-Nenets Autonomous Okrug</td>\n",
       "      <td>1043.0</td>\n",
       "    </tr>\n",
       "    <tr>\n",
       "      <th>81</th>\n",
       "      <td>Yaroslavl Oblast</td>\n",
       "      <td>2830.0</td>\n",
       "    </tr>\n",
       "    <tr>\n",
       "      <th>82</th>\n",
       "      <td>Zabaykalsky Krai</td>\n",
       "      <td>2349.0</td>\n",
       "    </tr>\n",
       "  </tbody>\n",
       "</table>\n",
       "<p>83 rows × 2 columns</p>\n",
       "</div>"
      ],
      "text/plain": [
       "                          Province  Death_Cases\n",
       "0                  Adygea Republic       1004.0\n",
       "1                       Altai Krai       8706.0\n",
       "2                   Altai Republic        622.0\n",
       "3                      Amur Oblast        764.0\n",
       "4               Arkhangelsk Oblast       1767.0\n",
       "..                             ...          ...\n",
       "78                  Vologda Oblast       3879.0\n",
       "79                 Voronezh Oblast       8365.0\n",
       "80  Yamalo-Nenets Autonomous Okrug       1043.0\n",
       "81                Yaroslavl Oblast       2830.0\n",
       "82                Zabaykalsky Krai       2349.0\n",
       "\n",
       "[83 rows x 2 columns]"
      ]
     },
     "execution_count": 17,
     "metadata": {},
     "output_type": "execute_result"
    }
   ],
   "source": [
    "Max_Death_Cases_Per_Province"
   ]
  },
  {
   "cell_type": "code",
   "execution_count": 18,
   "metadata": {},
   "outputs": [],
   "source": [
    "d = Max_Death_Cases_Per_Province[\n",
    "    Max_Death_Cases_Per_Province[\"Death_Cases\"]>11000] \\\n",
    "        [[\"Province\", \"Death_Cases\"]].reset_index()"
   ]
  },
  {
   "cell_type": "markdown",
   "metadata": {},
   "source": [
    "Assign the grouping value into a new variable named 'd'"
   ]
  },
  {
   "cell_type": "code",
   "execution_count": 19,
   "metadata": {},
   "outputs": [
    {
     "data": {
      "text/plain": [
       "<function matplotlib.pyplot.show(close=None, block=None)>"
      ]
     },
     "execution_count": 19,
     "metadata": {},
     "output_type": "execute_result"
    },
    {
     "data": {
      "image/png": "[encoded data removed]",
      "text/plain": [
       "<Figure size 432x288 with 1 Axes>"
      ]
     },
     "metadata": {
      "needs_background": "light"
     },
     "output_type": "display_data"
    }
   ],
   "source": [
    "d.plot(x='Province', y='Death_Cases', kind='bar')\n",
    "plt.show"
   ]
  },
  {
   "cell_type": "markdown",
   "metadata": {},
   "source": [
    "From the bar chart above, we now know that Moscow, Saint Petersburg, Moscow Oblast, and Nizhny Novgorod Oblast are the top 4 provinces in death covid cases."
   ]
  },
  {
   "cell_type": "markdown",
   "metadata": {},
   "source": [
    "Now, we find the average death cases per province"
   ]
  },
  {
   "cell_type": "code",
   "execution_count": 20,
   "metadata": {},
   "outputs": [
    {
     "name": "stderr",
     "output_type": "stream",
     "text": [
      "C:\\Users\\alexa\\AppData\\Local\\Temp\\ipykernel_19348\\1228349587.py:1: FutureWarning: Indexing with multiple keys (implicitly converted to a tuple of keys) will be deprecated, use a list instead.\n",
      "  Death_Cases_Per_Province = df3.groupby('Province')['Date','Death_Cases'].mean().reset_index()\n"
     ]
    }
   ],
   "source": [
    "Death_Cases_Per_Province = df3.groupby('Province')['Date','Death_Cases'].mean().reset_index()"
   ]
  },
  {
   "cell_type": "markdown",
   "metadata": {},
   "source": [
    "Assign the new grouping into a new variable called variable 'f'."
   ]
  },
  {
   "cell_type": "code",
   "execution_count": 21,
   "metadata": {},
   "outputs": [],
   "source": [
    "f = Death_Cases_Per_Province[\n",
    "    (Death_Cases_Per_Province[\"Death_Cases\"] > 5500)][[\"Province\",\"Death_Cases\"]]"
   ]
  },
  {
   "cell_type": "code",
   "execution_count": 22,
   "metadata": {},
   "outputs": [
    {
     "data": {
      "text/plain": [
       "<function matplotlib.pyplot.show(close=None, block=None)>"
      ]
     },
     "execution_count": 22,
     "metadata": {},
     "output_type": "execute_result"
    },
    {
     "data": {
      "image/png": "[encoded data removed]",
      "text/plain": [
       "<Figure size 432x288 with 1 Axes>"
      ]
     },
     "metadata": {
      "needs_background": "light"
     },
     "output_type": "display_data"
    }
   ],
   "source": [
    "f.plot(x='Province', y='Death_Cases', kind='bar')\n",
    "plt.show"
   ]
  },
  {
   "cell_type": "markdown",
   "metadata": {},
   "source": [
    "### Conclusion"
   ]
  },
  {
   "cell_type": "markdown",
   "metadata": {},
   "source": [
    "From the analysis that we have done in the Data Exploration section, the conclusions are mentioned below:\n",
    "\n",
    "* Provinces with the highest confirmed covid cases are Moscow then followed by Moscow Oblast, Saint Petersburg and Sverdlovsk Oblast.\n",
    "* Provinces with the highest death covid cases are Moscow then followed by Saint Petersburg, Moscow Oblast, and Nizhny Novgorod Oblast.\n",
    "* Provinces with the highest average of death covid cases are Moscow followed by Saint Petersburg, Moscow Oblast, Rostov Oblast, Nizhny Novgorod Oblast."
   ]
  }
 ],
 "metadata": {
  "kernelspec": {
   "display_name": "Python 3.9.12 ('base')",
   "language": "python",
   "name": "python3"
  },
  "language_info": {
   "codemirror_mode": {
    "name": "ipython",
    "version": 3
   },
   "file_extension": ".py",
   "mimetype": "text/x-python",
   "name": "python",
   "nbconvert_exporter": "python",
   "pygments_lexer": "ipython3",
   "version": "3.9.12"
  },
  "orig_nbformat": 4,
  "vscode": {
   "interpreter": {
    "hash": "ad2bdc8ecc057115af97d19610ffacc2b4e99fae6737bb82f5d7fb13d2f2c186"
   }
  }
 },
 "nbformat": 4,
 "nbformat_minor": 2
}
