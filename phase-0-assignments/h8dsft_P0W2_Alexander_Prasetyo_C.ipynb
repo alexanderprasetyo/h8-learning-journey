{
 "cells": [
  {
   "cell_type": "markdown",
   "metadata": {},
   "source": [
    "# <center>**Graded Challenge 2**</center>"
   ]
  },
  {
   "cell_type": "markdown",
   "metadata": {},
   "source": [
    "* *Name* : Alexander Prasetyo Christianto\n",
    "* *Age* : 23\n",
    "* *Last Education Background* : *Electrical Engineering*\n",
    "* *Occupation* : *Full Time Data Science Student Batch-001*"
   ]
  },
  {
   "cell_type": "markdown",
   "metadata": {},
   "source": [
    "## Description\n",
    "\n",
    "### Objective\n",
    "\n",
    "This challenge is made to evaluate Statistics Descriptive and Inferential as follows:\n",
    "\n",
    "- Able to get data using BigQuery\n",
    "- Able to perform data processing before performing calculations\n",
    "- Able to apply statistical descriptive and inferential concepts to a problem\n",
    "- Able to understand the concepts of descriptive and inferential statistics"
   ]
  },
  {
   "cell_type": "markdown",
   "metadata": {},
   "source": [
    "## Working Station Problem 1 (Statistics)"
   ]
  },
  {
   "cell_type": "markdown",
   "metadata": {},
   "source": [
    "### Problem Statement\n",
    "\n",
    "I am a member of the Data Science team at the Austin Smart City and am currently working on a project to analyze the city's waste management and disposal systems. As a team member, based on the available data, i am trying to analyze the data using descriptive and inferential statistics, and provide insight to the city of Austin regarding the state of the waste disposal and management system."
   ]
  },
  {
   "cell_type": "markdown",
   "metadata": {},
   "source": [
    "---"
   ]
  },
  {
   "cell_type": "markdown",
   "metadata": {},
   "source": [
    "### SQL Query For the Dataset"
   ]
  },
  {
   "cell_type": "markdown",
   "metadata": {},
   "source": [
    "SELECT report_date, load_time, load_type, load_weight, dropoff_site FROM `bigquery-public-data.austin_waste.waste_and_diversion`\n",
    "WHERE report_date BETWEEN '2021-01-01' and '2021-07-09'"
   ]
  },
  {
   "cell_type": "markdown",
   "metadata": {},
   "source": [
    "---"
   ]
  },
  {
   "cell_type": "markdown",
   "metadata": {},
   "source": [
    "### Libraries Used"
   ]
  },
  {
   "cell_type": "markdown",
   "metadata": {},
   "source": [
    "In this assignment, we are going to use several libraries. The libraries are `pandas`, `matplotlib`, `scipy`, `seaborn` and `numpy`. These libraries are used to help me in doing data analysis."
   ]
  },
  {
   "cell_type": "code",
   "execution_count": 73,
   "metadata": {},
   "outputs": [],
   "source": [
    "import pandas as pd\n",
    "import matplotlib.pyplot as plt\n",
    "from scipy import stats\n",
    "import seaborn as sns\n",
    "import numpy as np"
   ]
  },
  {
   "cell_type": "markdown",
   "metadata": {},
   "source": [
    "---"
   ]
  },
  {
   "cell_type": "markdown",
   "metadata": {},
   "source": [
    "### Data Loading and Dataset Preview"
   ]
  },
  {
   "cell_type": "markdown",
   "metadata": {},
   "source": [
    "We load the data and set it into a new data frame named `df`."
   ]
  },
  {
   "cell_type": "code",
   "execution_count": 74,
   "metadata": {},
   "outputs": [],
   "source": [
    "df = pd.read_csv('datasetinibenerbro.csv')"
   ]
  },
  {
   "cell_type": "code",
   "execution_count": 75,
   "metadata": {},
   "outputs": [
    {
     "data": {
      "text/html": [
       "<div>\n",
       "<style scoped>\n",
       "    .dataframe tbody tr th:only-of-type {\n",
       "        vertical-align: middle;\n",
       "    }\n",
       "\n",
       "    .dataframe tbody tr th {\n",
       "        vertical-align: top;\n",
       "    }\n",
       "\n",
       "    .dataframe thead th {\n",
       "        text-align: right;\n",
       "    }\n",
       "</style>\n",
       "<table border=\"1\" class=\"dataframe\">\n",
       "  <thead>\n",
       "    <tr style=\"text-align: right;\">\n",
       "      <th></th>\n",
       "      <th>report_date</th>\n",
       "      <th>load_time</th>\n",
       "      <th>load_type</th>\n",
       "      <th>load_weight</th>\n",
       "      <th>dropoff_site</th>\n",
       "    </tr>\n",
       "  </thead>\n",
       "  <tbody>\n",
       "    <tr>\n",
       "      <th>0</th>\n",
       "      <td>2021-07-08</td>\n",
       "      <td>2021-07-08 12:00:00 UTC</td>\n",
       "      <td>TIRES</td>\n",
       "      <td>2260.0</td>\n",
       "      <td>MRF</td>\n",
       "    </tr>\n",
       "    <tr>\n",
       "      <th>1</th>\n",
       "      <td>2021-07-08</td>\n",
       "      <td>2021-07-08 11:00:00 UTC</td>\n",
       "      <td>TIRES</td>\n",
       "      <td>1260.0</td>\n",
       "      <td>MRF</td>\n",
       "    </tr>\n",
       "    <tr>\n",
       "      <th>2</th>\n",
       "      <td>2021-07-08</td>\n",
       "      <td>2021-07-08 03:00:00 UTC</td>\n",
       "      <td>TIRES</td>\n",
       "      <td>800.0</td>\n",
       "      <td>MRF</td>\n",
       "    </tr>\n",
       "    <tr>\n",
       "      <th>3</th>\n",
       "      <td>2021-05-01</td>\n",
       "      <td>2021-05-01 12:29:00 UTC</td>\n",
       "      <td>TIRES</td>\n",
       "      <td>760.0</td>\n",
       "      <td>MRF</td>\n",
       "    </tr>\n",
       "    <tr>\n",
       "      <th>4</th>\n",
       "      <td>2021-07-03</td>\n",
       "      <td>2021-07-03 12:09:00 UTC</td>\n",
       "      <td>TIRES</td>\n",
       "      <td>1400.0</td>\n",
       "      <td>MRF</td>\n",
       "    </tr>\n",
       "  </tbody>\n",
       "</table>\n",
       "</div>"
      ],
      "text/plain": [
       "  report_date                load_time load_type  load_weight dropoff_site\n",
       "0  2021-07-08  2021-07-08 12:00:00 UTC     TIRES       2260.0          MRF\n",
       "1  2021-07-08  2021-07-08 11:00:00 UTC     TIRES       1260.0          MRF\n",
       "2  2021-07-08  2021-07-08 03:00:00 UTC     TIRES        800.0          MRF\n",
       "3  2021-05-01  2021-05-01 12:29:00 UTC     TIRES        760.0          MRF\n",
       "4  2021-07-03  2021-07-03 12:09:00 UTC     TIRES       1400.0          MRF"
      ]
     },
     "execution_count": 75,
     "metadata": {},
     "output_type": "execute_result"
    }
   ],
   "source": [
    "df.head()"
   ]
  },
  {
   "cell_type": "code",
   "execution_count": 76,
   "metadata": {},
   "outputs": [
    {
     "data": {
      "text/html": [
       "<div>\n",
       "<style scoped>\n",
       "    .dataframe tbody tr th:only-of-type {\n",
       "        vertical-align: middle;\n",
       "    }\n",
       "\n",
       "    .dataframe tbody tr th {\n",
       "        vertical-align: top;\n",
       "    }\n",
       "\n",
       "    .dataframe thead th {\n",
       "        text-align: right;\n",
       "    }\n",
       "</style>\n",
       "<table border=\"1\" class=\"dataframe\">\n",
       "  <thead>\n",
       "    <tr style=\"text-align: right;\">\n",
       "      <th></th>\n",
       "      <th>report_date</th>\n",
       "      <th>load_time</th>\n",
       "      <th>load_type</th>\n",
       "      <th>load_weight</th>\n",
       "      <th>dropoff_site</th>\n",
       "    </tr>\n",
       "  </thead>\n",
       "  <tbody>\n",
       "    <tr>\n",
       "      <th>26152</th>\n",
       "      <td>2021-03-01</td>\n",
       "      <td>2021-03-01 11:26:00 UTC</td>\n",
       "      <td>ORGANICS</td>\n",
       "      <td>12100.0</td>\n",
       "      <td>ORGANICS BY GOSH</td>\n",
       "    </tr>\n",
       "    <tr>\n",
       "      <th>26153</th>\n",
       "      <td>2021-03-01</td>\n",
       "      <td>2021-03-01 04:27:00 UTC</td>\n",
       "      <td>ORGANICS</td>\n",
       "      <td>10900.0</td>\n",
       "      <td>ORGANICS BY GOSH</td>\n",
       "    </tr>\n",
       "    <tr>\n",
       "      <th>26154</th>\n",
       "      <td>2021-03-01</td>\n",
       "      <td>2021-03-01 05:55:00 UTC</td>\n",
       "      <td>ORGANICS</td>\n",
       "      <td>21800.0</td>\n",
       "      <td>ORGANICS BY GOSH</td>\n",
       "    </tr>\n",
       "    <tr>\n",
       "      <th>26155</th>\n",
       "      <td>2021-03-01</td>\n",
       "      <td>2021-03-02 01:10:00 UTC</td>\n",
       "      <td>ORGANICS</td>\n",
       "      <td>5640.0</td>\n",
       "      <td>ORGANICS BY GOSH</td>\n",
       "    </tr>\n",
       "    <tr>\n",
       "      <th>26156</th>\n",
       "      <td>2021-03-01</td>\n",
       "      <td>2021-03-01 10:22:00 UTC</td>\n",
       "      <td>RECYCLED METAL</td>\n",
       "      <td>360.0</td>\n",
       "      <td>AUSTIN IRON AND METAL</td>\n",
       "    </tr>\n",
       "  </tbody>\n",
       "</table>\n",
       "</div>"
      ],
      "text/plain": [
       "      report_date                load_time       load_type  load_weight  \\\n",
       "26152  2021-03-01  2021-03-01 11:26:00 UTC        ORGANICS      12100.0   \n",
       "26153  2021-03-01  2021-03-01 04:27:00 UTC        ORGANICS      10900.0   \n",
       "26154  2021-03-01  2021-03-01 05:55:00 UTC        ORGANICS      21800.0   \n",
       "26155  2021-03-01  2021-03-02 01:10:00 UTC        ORGANICS       5640.0   \n",
       "26156  2021-03-01  2021-03-01 10:22:00 UTC  RECYCLED METAL        360.0   \n",
       "\n",
       "                dropoff_site  \n",
       "26152       ORGANICS BY GOSH  \n",
       "26153       ORGANICS BY GOSH  \n",
       "26154       ORGANICS BY GOSH  \n",
       "26155       ORGANICS BY GOSH  \n",
       "26156  AUSTIN IRON AND METAL  "
      ]
     },
     "execution_count": 76,
     "metadata": {},
     "output_type": "execute_result"
    }
   ],
   "source": [
    "df.tail()"
   ]
  },
  {
   "cell_type": "markdown",
   "metadata": {},
   "source": [
    "---"
   ]
  },
  {
   "cell_type": "markdown",
   "metadata": {},
   "source": [
    "### Data Cleaning"
   ]
  },
  {
   "cell_type": "markdown",
   "metadata": {},
   "source": [
    "Now the data is loaded into our workspace. Before we begin exploration and the analysis, it is required to do an overview of the dataset and handle any kind of missing value that may interfere with the process of data exploration and analysis."
   ]
  },
  {
   "cell_type": "code",
   "execution_count": 77,
   "metadata": {},
   "outputs": [
    {
     "data": {
      "text/plain": [
       "(26157, 5)"
      ]
     },
     "execution_count": 77,
     "metadata": {},
     "output_type": "execute_result"
    }
   ],
   "source": [
    "df.shape"
   ]
  },
  {
   "cell_type": "markdown",
   "metadata": {},
   "source": [
    "The command above is used to get a tuple representing the dimensionality of the DataFrame. There are 26157 rows and 5 columns in our data frame"
   ]
  },
  {
   "cell_type": "code",
   "execution_count": 78,
   "metadata": {},
   "outputs": [
    {
     "name": "stdout",
     "output_type": "stream",
     "text": [
      "<class 'pandas.core.frame.DataFrame'>\n",
      "RangeIndex: 26157 entries, 0 to 26156\n",
      "Data columns (total 5 columns):\n",
      " #   Column        Non-Null Count  Dtype  \n",
      "---  ------        --------------  -----  \n",
      " 0   report_date   26157 non-null  object \n",
      " 1   load_time     26157 non-null  object \n",
      " 2   load_type     26157 non-null  object \n",
      " 3   load_weight   25109 non-null  float64\n",
      " 4   dropoff_site  26157 non-null  object \n",
      "dtypes: float64(1), object(4)\n",
      "memory usage: 1021.9+ KB\n"
     ]
    }
   ],
   "source": [
    "df.info()"
   ]
  },
  {
   "cell_type": "markdown",
   "metadata": {},
   "source": [
    "The info() method prints information about the Data Frame. The information contains the number of columns, column labels, column data types, memory usage, range index, and the number of cells in each column (non-null values). Note: the info() method actually prints the info.\n",
    "\n",
    "Previously, by using '.shape' function, we know that we have 26157 rows in total, but there are 25109 rows in 'load_weight' column. It means that there are about a thousand rows have null values. Therefore, we will do the missing value handling on 'load_weight' column."
   ]
  },
  {
   "cell_type": "markdown",
   "metadata": {},
   "source": [
    "There are several methods to perform null value handling. The two most common methods are drop and fill.\n",
    "\n",
    "The drop function will remove all null values in the dataset while the fill function will fill the null values with the desired value.\n",
    "\n",
    "Before choosing the method to be used, I will do a little analysis of the dataset that has been loaded."
   ]
  },
  {
   "cell_type": "code",
   "execution_count": 79,
   "metadata": {},
   "outputs": [
    {
     "data": {
      "text/html": [
       "<div>\n",
       "<style scoped>\n",
       "    .dataframe tbody tr th:only-of-type {\n",
       "        vertical-align: middle;\n",
       "    }\n",
       "\n",
       "    .dataframe tbody tr th {\n",
       "        vertical-align: top;\n",
       "    }\n",
       "\n",
       "    .dataframe thead th {\n",
       "        text-align: right;\n",
       "    }\n",
       "</style>\n",
       "<table border=\"1\" class=\"dataframe\">\n",
       "  <thead>\n",
       "    <tr style=\"text-align: right;\">\n",
       "      <th></th>\n",
       "      <th>report_date</th>\n",
       "      <th>load_time</th>\n",
       "      <th>load_type</th>\n",
       "      <th>load_weight</th>\n",
       "      <th>dropoff_site</th>\n",
       "    </tr>\n",
       "  </thead>\n",
       "  <tbody>\n",
       "    <tr>\n",
       "      <th>18</th>\n",
       "      <td>2021-07-08</td>\n",
       "      <td>2021-07-08 10:20:00 UTC</td>\n",
       "      <td>SWEEPING</td>\n",
       "      <td>NaN</td>\n",
       "      <td>ONION CREEK</td>\n",
       "    </tr>\n",
       "    <tr>\n",
       "      <th>19</th>\n",
       "      <td>2021-07-08</td>\n",
       "      <td>2021-07-08 01:15:00 UTC</td>\n",
       "      <td>SWEEPING</td>\n",
       "      <td>NaN</td>\n",
       "      <td>ONION CREEK</td>\n",
       "    </tr>\n",
       "    <tr>\n",
       "      <th>20</th>\n",
       "      <td>2021-07-08</td>\n",
       "      <td>2021-07-08 12:40:00 UTC</td>\n",
       "      <td>SWEEPING</td>\n",
       "      <td>NaN</td>\n",
       "      <td>ONION CREEK</td>\n",
       "    </tr>\n",
       "    <tr>\n",
       "      <th>21</th>\n",
       "      <td>2021-07-08</td>\n",
       "      <td>2021-07-08 01:05:00 UTC</td>\n",
       "      <td>SWEEPING</td>\n",
       "      <td>NaN</td>\n",
       "      <td>ONION CREEK</td>\n",
       "    </tr>\n",
       "    <tr>\n",
       "      <th>22</th>\n",
       "      <td>2021-07-08</td>\n",
       "      <td>2021-07-08 12:30:00 UTC</td>\n",
       "      <td>SWEEPING</td>\n",
       "      <td>NaN</td>\n",
       "      <td>ONION CREEK</td>\n",
       "    </tr>\n",
       "    <tr>\n",
       "      <th>...</th>\n",
       "      <td>...</td>\n",
       "      <td>...</td>\n",
       "      <td>...</td>\n",
       "      <td>...</td>\n",
       "      <td>...</td>\n",
       "    </tr>\n",
       "    <tr>\n",
       "      <th>25698</th>\n",
       "      <td>2021-02-26</td>\n",
       "      <td>2021-02-26 12:00:00 UTC</td>\n",
       "      <td>SWEEPING</td>\n",
       "      <td>NaN</td>\n",
       "      <td>ONION CREEK</td>\n",
       "    </tr>\n",
       "    <tr>\n",
       "      <th>25699</th>\n",
       "      <td>2021-02-26</td>\n",
       "      <td>2021-02-26 12:00:00 UTC</td>\n",
       "      <td>SWEEPING</td>\n",
       "      <td>NaN</td>\n",
       "      <td>ONION CREEK</td>\n",
       "    </tr>\n",
       "    <tr>\n",
       "      <th>25700</th>\n",
       "      <td>2021-02-26</td>\n",
       "      <td>2021-02-26 12:50:00 UTC</td>\n",
       "      <td>SWEEPING</td>\n",
       "      <td>NaN</td>\n",
       "      <td>ONION CREEK</td>\n",
       "    </tr>\n",
       "    <tr>\n",
       "      <th>25701</th>\n",
       "      <td>2021-02-26</td>\n",
       "      <td>2021-02-26 08:15:00 UTC</td>\n",
       "      <td>SWEEPING</td>\n",
       "      <td>NaN</td>\n",
       "      <td>ONION CREEK</td>\n",
       "    </tr>\n",
       "    <tr>\n",
       "      <th>25702</th>\n",
       "      <td>2021-02-26</td>\n",
       "      <td>2021-02-26 03:30:00 UTC</td>\n",
       "      <td>SWEEPING</td>\n",
       "      <td>NaN</td>\n",
       "      <td>ONION CREEK</td>\n",
       "    </tr>\n",
       "  </tbody>\n",
       "</table>\n",
       "<p>1048 rows × 5 columns</p>\n",
       "</div>"
      ],
      "text/plain": [
       "      report_date                load_time load_type  load_weight dropoff_site\n",
       "18     2021-07-08  2021-07-08 10:20:00 UTC  SWEEPING          NaN  ONION CREEK\n",
       "19     2021-07-08  2021-07-08 01:15:00 UTC  SWEEPING          NaN  ONION CREEK\n",
       "20     2021-07-08  2021-07-08 12:40:00 UTC  SWEEPING          NaN  ONION CREEK\n",
       "21     2021-07-08  2021-07-08 01:05:00 UTC  SWEEPING          NaN  ONION CREEK\n",
       "22     2021-07-08  2021-07-08 12:30:00 UTC  SWEEPING          NaN  ONION CREEK\n",
       "...           ...                      ...       ...          ...          ...\n",
       "25698  2021-02-26  2021-02-26 12:00:00 UTC  SWEEPING          NaN  ONION CREEK\n",
       "25699  2021-02-26  2021-02-26 12:00:00 UTC  SWEEPING          NaN  ONION CREEK\n",
       "25700  2021-02-26  2021-02-26 12:50:00 UTC  SWEEPING          NaN  ONION CREEK\n",
       "25701  2021-02-26  2021-02-26 08:15:00 UTC  SWEEPING          NaN  ONION CREEK\n",
       "25702  2021-02-26  2021-02-26 03:30:00 UTC  SWEEPING          NaN  ONION CREEK\n",
       "\n",
       "[1048 rows x 5 columns]"
      ]
     },
     "execution_count": 79,
     "metadata": {},
     "output_type": "execute_result"
    }
   ],
   "source": [
    "df[df.isna().any(axis=1)]"
   ]
  },
  {
   "cell_type": "markdown",
   "metadata": {},
   "source": [
    "By using the `isna` function, I get the result that most of the null values come from the `load_type` column with category `SWEEPING`.\n",
    "\n",
    "The `isna` function is used to find null values in the dataset and by using the `axis = 1` parameter, the search will be based on the columns in the dataset."
   ]
  },
  {
   "cell_type": "markdown",
   "metadata": {},
   "source": [
    "Next, I will calculate how significant is `load_type` sweeping is on the dataset in order to maintain the distribution of the data."
   ]
  },
  {
   "cell_type": "code",
   "execution_count": 80,
   "metadata": {},
   "outputs": [
    {
     "data": {
      "text/plain": [
       "TDS LANDFILL             10694\n",
       "ORGANICS BY GOSH          5755\n",
       "BALCONES RECYCLING        3837\n",
       "TDS - MRF                 2948\n",
       "HORNSBY BEND              1655\n",
       "ONION CREEK                813\n",
       "MRF                        168\n",
       "ON ROUTE HIGH DUMP          81\n",
       "PARK CENTER                 75\n",
       "GREAT NORTHERN              70\n",
       "AUSTIN IRON AND METAL       50\n",
       "PARK BEND                    4\n",
       "AUSTIN WOOD RECYCLING        2\n",
       "BALCONES WOODS               1\n",
       "STEINER LANDFILL             1\n",
       "WESTFIELD                    1\n",
       "ST. EDWARDS                  1\n",
       "WILCAB                       1\n",
       "Name: dropoff_site, dtype: int64"
      ]
     },
     "execution_count": 80,
     "metadata": {},
     "output_type": "execute_result"
    }
   ],
   "source": [
    "# count the number of times each category appears on `dropoff_site` in the dataset.\n",
    "\n",
    "df['dropoff_site'].value_counts()"
   ]
  },
  {
   "cell_type": "code",
   "execution_count": 81,
   "metadata": {},
   "outputs": [
    {
     "data": {
      "text/plain": [
       "GARBAGE COLLECTIONS          8242\n",
       "RECYCLING - SINGLE STREAM    6760\n",
       "ORGANICS                     5763\n",
       "BULK                         1594\n",
       "BRUSH                        1517\n",
       "SWEEPING                     1390\n",
       "MIXED LITTER                  329\n",
       "TIRES                         175\n",
       "DEAD ANIMAL                   150\n",
       "YARD TRIMMING                 137\n",
       "RECYCLED METAL                 57\n",
       "LITTER                         41\n",
       "CONTAMINATED RECYCLING          1\n",
       "CONTAMINATED ORGANICS           1\n",
       "Name: load_type, dtype: int64"
      ]
     },
     "execution_count": 81,
     "metadata": {},
     "output_type": "execute_result"
    }
   ],
   "source": [
    "# count the frequency of occurrence of each category on `load_type` in the dataset\n",
    "\n",
    "df['load_type'].value_counts()"
   ]
  },
  {
   "cell_type": "markdown",
   "metadata": {},
   "source": [
    "After getting the `.value_count` result from the `dropoff_site` and `load_type` columns, it can be seen that the `SWEEPING` category in the `load_type` column has a large amount of data (1390 rows). Therefore, I chose the null value handling method using the `fillna` method."
   ]
  },
  {
   "cell_type": "markdown",
   "metadata": {},
   "source": [
    "Below I am displaying a data snippet from a dataset to display the `dropoff_site` location of the `SWEEPING` category."
   ]
  },
  {
   "cell_type": "code",
   "execution_count": 82,
   "metadata": {},
   "outputs": [
    {
     "data": {
      "text/html": [
       "<div>\n",
       "<style scoped>\n",
       "    .dataframe tbody tr th:only-of-type {\n",
       "        vertical-align: middle;\n",
       "    }\n",
       "\n",
       "    .dataframe tbody tr th {\n",
       "        vertical-align: top;\n",
       "    }\n",
       "\n",
       "    .dataframe thead th {\n",
       "        text-align: right;\n",
       "    }\n",
       "</style>\n",
       "<table border=\"1\" class=\"dataframe\">\n",
       "  <thead>\n",
       "    <tr style=\"text-align: right;\">\n",
       "      <th></th>\n",
       "      <th>load_type</th>\n",
       "      <th>load_weight</th>\n",
       "      <th>dropoff_site</th>\n",
       "    </tr>\n",
       "  </thead>\n",
       "  <tbody>\n",
       "    <tr>\n",
       "      <th>18</th>\n",
       "      <td>SWEEPING</td>\n",
       "      <td>NaN</td>\n",
       "      <td>ONION CREEK</td>\n",
       "    </tr>\n",
       "    <tr>\n",
       "      <th>19</th>\n",
       "      <td>SWEEPING</td>\n",
       "      <td>NaN</td>\n",
       "      <td>ONION CREEK</td>\n",
       "    </tr>\n",
       "    <tr>\n",
       "      <th>20</th>\n",
       "      <td>SWEEPING</td>\n",
       "      <td>NaN</td>\n",
       "      <td>ONION CREEK</td>\n",
       "    </tr>\n",
       "    <tr>\n",
       "      <th>21</th>\n",
       "      <td>SWEEPING</td>\n",
       "      <td>NaN</td>\n",
       "      <td>ONION CREEK</td>\n",
       "    </tr>\n",
       "    <tr>\n",
       "      <th>22</th>\n",
       "      <td>SWEEPING</td>\n",
       "      <td>NaN</td>\n",
       "      <td>ONION CREEK</td>\n",
       "    </tr>\n",
       "    <tr>\n",
       "      <th>...</th>\n",
       "      <td>...</td>\n",
       "      <td>...</td>\n",
       "      <td>...</td>\n",
       "    </tr>\n",
       "    <tr>\n",
       "      <th>25702</th>\n",
       "      <td>SWEEPING</td>\n",
       "      <td>NaN</td>\n",
       "      <td>ONION CREEK</td>\n",
       "    </tr>\n",
       "    <tr>\n",
       "      <th>25823</th>\n",
       "      <td>SWEEPING</td>\n",
       "      <td>1780.0</td>\n",
       "      <td>TDS LANDFILL</td>\n",
       "    </tr>\n",
       "    <tr>\n",
       "      <th>25824</th>\n",
       "      <td>SWEEPING</td>\n",
       "      <td>3000.0</td>\n",
       "      <td>TDS LANDFILL</td>\n",
       "    </tr>\n",
       "    <tr>\n",
       "      <th>26110</th>\n",
       "      <td>SWEEPING</td>\n",
       "      <td>7280.0</td>\n",
       "      <td>TDS LANDFILL</td>\n",
       "    </tr>\n",
       "    <tr>\n",
       "      <th>26111</th>\n",
       "      <td>SWEEPING</td>\n",
       "      <td>4320.0</td>\n",
       "      <td>TDS LANDFILL</td>\n",
       "    </tr>\n",
       "  </tbody>\n",
       "</table>\n",
       "<p>1390 rows × 3 columns</p>\n",
       "</div>"
      ],
      "text/plain": [
       "      load_type  load_weight  dropoff_site\n",
       "18     SWEEPING          NaN   ONION CREEK\n",
       "19     SWEEPING          NaN   ONION CREEK\n",
       "20     SWEEPING          NaN   ONION CREEK\n",
       "21     SWEEPING          NaN   ONION CREEK\n",
       "22     SWEEPING          NaN   ONION CREEK\n",
       "...         ...          ...           ...\n",
       "25702  SWEEPING          NaN   ONION CREEK\n",
       "25823  SWEEPING       1780.0  TDS LANDFILL\n",
       "25824  SWEEPING       3000.0  TDS LANDFILL\n",
       "26110  SWEEPING       7280.0  TDS LANDFILL\n",
       "26111  SWEEPING       4320.0  TDS LANDFILL\n",
       "\n",
       "[1390 rows x 3 columns]"
      ]
     },
     "execution_count": 82,
     "metadata": {},
     "output_type": "execute_result"
    }
   ],
   "source": [
    "show_dropoff_site_has_sweeping = df[\n",
    "    (df[\"load_type\"] == \"SWEEPING\") \n",
    "][[\"load_type\", \"load_weight\", \"dropoff_site\"]]\n",
    "\n",
    "show_dropoff_site_has_sweeping"
   ]
  },
  {
   "cell_type": "markdown",
   "metadata": {},
   "source": [
    "To see the full list of waste streams to each site run this:"
   ]
  },
  {
   "cell_type": "code",
   "execution_count": 83,
   "metadata": {},
   "outputs": [
    {
     "name": "stdout",
     "output_type": "stream",
     "text": [
      "\n",
      "AUSTIN IRON AND METAL: \n",
      "\tRECYCLED METAL\n",
      "\n",
      "AUSTIN WOOD RECYCLING: \n",
      "\tRECYCLING - SINGLE STREAM\n",
      "\n",
      "BALCONES RECYCLING: \n",
      "\tRECYCLING - SINGLE STREAM\n",
      "\n",
      "BALCONES WOODS: \n",
      "\tRECYCLING - SINGLE STREAM\n",
      "\n",
      "GREAT NORTHERN: \n",
      "\tSWEEPING\n",
      "\tGARBAGE COLLECTIONS\n",
      "\n",
      "HORNSBY BEND: \n",
      "\tBRUSH\n",
      "\tGARBAGE COLLECTIONS\n",
      "\tYARD TRIMMING\n",
      "\tORGANICS\n",
      "\n",
      "MRF: \n",
      "\tTIRES\n",
      "\tBULK\n",
      "\tRECYCLED METAL\n",
      "\n",
      "ON ROUTE HIGH DUMP: \n",
      "\tORGANICS\n",
      "\tSWEEPING\n",
      "\n",
      "ONION CREEK: \n",
      "\tSWEEPING\n",
      "\n",
      "ORGANICS BY GOSH: \n",
      "\tORGANICS\n",
      "\tDEAD ANIMAL\n",
      "\tRECYCLED METAL\n",
      "\tSWEEPING\n",
      "\tGARBAGE COLLECTIONS\n",
      "\n",
      "PARK BEND: \n",
      "\tORGANICS\n",
      "\n",
      "PARK CENTER: \n",
      "\tSWEEPING\n",
      "\n",
      "ST. EDWARDS: \n",
      "\tSWEEPING\n",
      "\n",
      "STEINER LANDFILL: \n",
      "\tGARBAGE COLLECTIONS\n",
      "\n",
      "TDS - MRF: \n",
      "\tRECYCLING - SINGLE STREAM\n",
      "\tGARBAGE COLLECTIONS\n",
      "\tBULK\n",
      "\tLITTER\n",
      "\n",
      "TDS LANDFILL: \n",
      "\tBULK\n",
      "\tDEAD ANIMAL\n",
      "\tORGANICS\n",
      "\tGARBAGE COLLECTIONS\n",
      "\tMIXED LITTER\n",
      "\tSWEEPING\n",
      "\tLITTER\n",
      "\tCONTAMINATED RECYCLING\n",
      "\tTIRES\n",
      "\tCONTAMINATED ORGANICS\n",
      "\tRECYCLING - SINGLE STREAM\n",
      "\tBRUSH\n",
      "\tRECYCLED METAL\n",
      "\n",
      "WESTFIELD: \n",
      "\tGARBAGE COLLECTIONS\n",
      "\n",
      "WILCAB: \n",
      "\tSWEEPING\n"
     ]
    }
   ],
   "source": [
    "dropoff_site_load_types = df.groupby('dropoff_site')['load_type'].unique()\n",
    "for i in dropoff_site_load_types.index:\n",
    "    print('\\n{}: '.format(i))\n",
    "    for j in dropoff_site_load_types[i]:\n",
    "        print('\\t{}'.format(j))"
   ]
  },
  {
   "cell_type": "code",
   "execution_count": 84,
   "metadata": {},
   "outputs": [
    {
     "data": {
      "text/plain": [
       "dropoff_site\n",
       "AUSTIN IRON AND METAL                                     [RECYCLED METAL]\n",
       "AUSTIN WOOD RECYCLING                          [RECYCLING - SINGLE STREAM]\n",
       "BALCONES RECYCLING                             [RECYCLING - SINGLE STREAM]\n",
       "BALCONES WOODS                                 [RECYCLING - SINGLE STREAM]\n",
       "GREAT NORTHERN                             [SWEEPING, GARBAGE COLLECTIONS]\n",
       "HORNSBY BEND             [BRUSH, GARBAGE COLLECTIONS, YARD TRIMMING, OR...\n",
       "MRF                                          [TIRES, BULK, RECYCLED METAL]\n",
       "ON ROUTE HIGH DUMP                                    [ORGANICS, SWEEPING]\n",
       "ONION CREEK                                                     [SWEEPING]\n",
       "ORGANICS BY GOSH         [ORGANICS, DEAD ANIMAL, RECYCLED METAL, SWEEPI...\n",
       "PARK BEND                                                       [ORGANICS]\n",
       "PARK CENTER                                                     [SWEEPING]\n",
       "ST. EDWARDS                                                     [SWEEPING]\n",
       "STEINER LANDFILL                                     [GARBAGE COLLECTIONS]\n",
       "TDS - MRF                [RECYCLING - SINGLE STREAM, GARBAGE COLLECTION...\n",
       "TDS LANDFILL             [BULK, DEAD ANIMAL, ORGANICS, GARBAGE COLLECTI...\n",
       "WESTFIELD                                            [GARBAGE COLLECTIONS]\n",
       "WILCAB                                                          [SWEEPING]\n",
       "Name: load_type, dtype: object"
      ]
     },
     "execution_count": 84,
     "metadata": {},
     "output_type": "execute_result"
    }
   ],
   "source": [
    "dropoff_site_load_types"
   ]
  },
  {
   "cell_type": "markdown",
   "metadata": {},
   "source": [
    "I assume the `SWEEPING` category in `load_type` is an activity such as sweeping the streets or sweeping a certain site. Hence there is no load to be carried. And because of that I will fill the null value in the `SWEEPING` category with a value of 0."
   ]
  },
  {
   "cell_type": "code",
   "execution_count": 85,
   "metadata": {},
   "outputs": [],
   "source": [
    "df['load_weight'] = df['load_weight'].fillna(0)"
   ]
  },
  {
   "cell_type": "markdown",
   "metadata": {},
   "source": [
    "---"
   ]
  },
  {
   "cell_type": "markdown",
   "metadata": {},
   "source": [
    "After the dataset is cleared of null values, I will now calculate the central tendency of the dataset.\n",
    "\n",
    "Central Tendency is a value that shows the midpoint of a dataset to find out where the position of many data values gather in the distribution. The Mean, Median, and Mode values are the most commonly used measures of Central Tendency. All three indicate the location of data collection, but with different methods and meanings."
   ]
  },
  {
   "cell_type": "code",
   "execution_count": 86,
   "metadata": {},
   "outputs": [],
   "source": [
    "mode = df.groupby('dropoff_site')['load_weight'].apply(pd.Series.mode)\n",
    "mean = df.groupby('dropoff_site')['load_weight'].apply(pd.Series.mean)\n",
    "median = df.groupby('dropoff_site')['load_weight'].apply(pd.Series.median)"
   ]
  },
  {
   "cell_type": "markdown",
   "metadata": {},
   "source": [
    "I have assigned the calculated mean, median, and mode of each site in the `dropoff_site` column of the `mean`, `median`, and `mode` variables. If you want to see the results of the calculations, all you need to do is call the three variables."
   ]
  },
  {
   "cell_type": "code",
   "execution_count": 87,
   "metadata": {},
   "outputs": [
    {
     "data": {
      "text/plain": [
       "dropoff_site            \n",
       "AUSTIN IRON AND METAL  0      260.0\n",
       "                       1      320.0\n",
       "                       2      520.0\n",
       "AUSTIN WOOD RECYCLING  0     2340.0\n",
       "                       1     5760.0\n",
       "BALCONES RECYCLING     0    11880.0\n",
       "BALCONES WOODS         0     8460.0\n",
       "GREAT NORTHERN         0        0.0\n",
       "HORNSBY BEND           0     5500.0\n",
       "MRF                    0      960.0\n",
       "ON ROUTE HIGH DUMP     0        0.0\n",
       "ONION CREEK            0        0.0\n",
       "ORGANICS BY GOSH       0    14580.0\n",
       "PARK BEND              0     8480.0\n",
       "                       1     8960.0\n",
       "                       2    15700.0\n",
       "                       3    20400.0\n",
       "PARK CENTER            0        0.0\n",
       "ST. EDWARDS            0        0.0\n",
       "STEINER LANDFILL       0      780.0\n",
       "TDS - MRF              0    10360.0\n",
       "TDS LANDFILL           0       20.0\n",
       "                       1       60.0\n",
       "                       2    12020.0\n",
       "WESTFIELD              0    16020.0\n",
       "WILCAB                 0        0.0\n",
       "Name: load_weight, dtype: float64"
      ]
     },
     "execution_count": 87,
     "metadata": {},
     "output_type": "execute_result"
    }
   ],
   "source": [
    "mode"
   ]
  },
  {
   "cell_type": "code",
   "execution_count": 88,
   "metadata": {},
   "outputs": [
    {
     "data": {
      "text/plain": [
       "dropoff_site\n",
       "AUSTIN IRON AND METAL      451.200000\n",
       "AUSTIN WOOD RECYCLING     4050.000000\n",
       "BALCONES RECYCLING        9464.652072\n",
       "BALCONES WOODS            8460.000000\n",
       "GREAT NORTHERN            1641.714286\n",
       "HORNSBY BEND              6616.628399\n",
       "MRF                       1799.982143\n",
       "ON ROUTE HIGH DUMP        1082.469136\n",
       "ONION CREEK                  0.000000\n",
       "ORGANICS BY GOSH         11789.731712\n",
       "PARK BEND                13385.000000\n",
       "PARK CENTER                  0.000000\n",
       "ST. EDWARDS                  0.000000\n",
       "STEINER LANDFILL           780.000000\n",
       "TDS - MRF                 9872.550882\n",
       "TDS LANDFILL             15165.151724\n",
       "WESTFIELD                16020.000000\n",
       "WILCAB                       0.000000\n",
       "Name: load_weight, dtype: float64"
      ]
     },
     "execution_count": 88,
     "metadata": {},
     "output_type": "execute_result"
    }
   ],
   "source": [
    "mean"
   ]
  },
  {
   "cell_type": "code",
   "execution_count": 89,
   "metadata": {},
   "outputs": [
    {
     "data": {
      "text/plain": [
       "dropoff_site\n",
       "AUSTIN IRON AND METAL      400.0\n",
       "AUSTIN WOOD RECYCLING     4050.0\n",
       "BALCONES RECYCLING        9840.0\n",
       "BALCONES WOODS            8460.0\n",
       "GREAT NORTHERN               0.0\n",
       "HORNSBY BEND              6380.0\n",
       "MRF                       1360.0\n",
       "ON ROUTE HIGH DUMP           0.0\n",
       "ONION CREEK                  0.0\n",
       "ORGANICS BY GOSH         11900.0\n",
       "PARK BEND                12330.0\n",
       "PARK CENTER                  0.0\n",
       "ST. EDWARDS                  0.0\n",
       "STEINER LANDFILL           780.0\n",
       "TDS - MRF                10330.0\n",
       "TDS LANDFILL             14920.0\n",
       "WESTFIELD                16020.0\n",
       "WILCAB                       0.0\n",
       "Name: load_weight, dtype: float64"
      ]
     },
     "execution_count": 89,
     "metadata": {},
     "output_type": "execute_result"
    }
   ],
   "source": [
    "median"
   ]
  },
  {
   "cell_type": "markdown",
   "metadata": {},
   "source": [
    "From calculating the central tendency for each dropoff site, we may get information about something like **a glimpse of the data distribution**.\n",
    "\n",
    "For example, i will take the mean and median of `AUSTIN IRON AND METAL`. The mean is 451.2 kg and the median is 400 kg. It is possible that the weight of the waste disposed of in `AUSTIN IRON AND METAL` varies each time it receives disposal so that there is a difference between the median and the average. "
   ]
  },
  {
   "cell_type": "markdown",
   "metadata": {},
   "source": [
    "Below I have also searched the mode for the `load_type` column as this column is a categorical column so it makes more sense to look for the mode in this column."
   ]
  },
  {
   "cell_type": "code",
   "execution_count": 90,
   "metadata": {},
   "outputs": [
    {
     "data": {
      "text/plain": [
       "dropoff_site            \n",
       "AUSTIN IRON AND METAL  0               RECYCLED METAL\n",
       "AUSTIN WOOD RECYCLING  0    RECYCLING - SINGLE STREAM\n",
       "BALCONES RECYCLING     0    RECYCLING - SINGLE STREAM\n",
       "BALCONES WOODS         0    RECYCLING - SINGLE STREAM\n",
       "GREAT NORTHERN         0                     SWEEPING\n",
       "HORNSBY BEND           0                        BRUSH\n",
       "MRF                    0                        TIRES\n",
       "ON ROUTE HIGH DUMP     0                     SWEEPING\n",
       "ONION CREEK            0                     SWEEPING\n",
       "ORGANICS BY GOSH       0                     ORGANICS\n",
       "PARK BEND              0                     ORGANICS\n",
       "PARK CENTER            0                     SWEEPING\n",
       "ST. EDWARDS            0                     SWEEPING\n",
       "STEINER LANDFILL       0          GARBAGE COLLECTIONS\n",
       "TDS - MRF              0    RECYCLING - SINGLE STREAM\n",
       "TDS LANDFILL           0          GARBAGE COLLECTIONS\n",
       "WESTFIELD              0          GARBAGE COLLECTIONS\n",
       "WILCAB                 0                     SWEEPING\n",
       "Name: load_type, dtype: object"
      ]
     },
     "execution_count": 90,
     "metadata": {},
     "output_type": "execute_result"
    }
   ],
   "source": [
    "modus_loadtype = df.groupby('dropoff_site')['load_type'].apply(pd.Series.mode)\n",
    "modus_loadtype"
   ]
  },
  {
   "cell_type": "markdown",
   "metadata": {},
   "source": [
    "---"
   ]
  },
  {
   "cell_type": "markdown",
   "metadata": {},
   "source": [
    "Now I will analyze the `TDS Landfill` site from the `dropoff_site` column because `TDS Landfill` is the `dropoff_site` which has the highest dropoff frequency."
   ]
  },
  {
   "cell_type": "markdown",
   "metadata": {},
   "source": [
    "I am slicing `TDS Landfill` data from variable `df` into a new variable called `tds_landfill`."
   ]
  },
  {
   "cell_type": "code",
   "execution_count": 91,
   "metadata": {},
   "outputs": [],
   "source": [
    "tds_landfill = df[df['dropoff_site']=='TDS LANDFILL']"
   ]
  },
  {
   "cell_type": "markdown",
   "metadata": {},
   "source": [
    "Now I will further analyze the data already stored in the `tds_landfill` variable.\n",
    "\n",
    "The analysis that will be carried out is to calculate the central tendency, the value of the first quartile, the third quartile and also the standard deviation of the variable `tds_landfill`. This is done to see the distribution of data in `tds_landfill`."
   ]
  },
  {
   "cell_type": "code",
   "execution_count": 92,
   "metadata": {},
   "outputs": [],
   "source": [
    "a = tds_landfill['load_weight'].mean()\n",
    "b = tds_landfill['load_weight'].median()\n",
    "c = tds_landfill['load_weight'].mode()\n",
    "tds_landfill['load_weight'].std()\n",
    "tds_landfill['load_weight'].min()\n",
    "tds_landfill['load_weight'].max()\n",
    "q1 = tds_landfill['load_weight'].quantile(q=0.25)\n",
    "q3 = tds_landfill['load_weight'].quantile(q=0.75)\n",
    "iqr = tds_landfill['load_weight'].quantile(q=0.75) - tds_landfill['load_weight'].quantile(q=0.25)"
   ]
  },
  {
   "cell_type": "markdown",
   "metadata": {},
   "source": [
    "The following is the result of the above calculation in the `load_weight` column in the `tds_landfill` data.\n",
    "\n",
    "- mean = 15165.1517 kg\n",
    "- std = 8593.5800 kg\n",
    "- median = 14920 kg\n",
    "- q1 = 8820 kg\n",
    "- q3 = 21660 kg\n",
    "- min = 0 kg\n",
    "- max = 245540.0 kg"
   ]
  },
  {
   "cell_type": "markdown",
   "metadata": {},
   "source": [
    "Now I will calculate the skew value in the `load_weight` column of the `tds_landfill` data. This skew value is used to determine whether a data has a normal or skewed data distribution. If the skew value is above 0.5 to 1 then the data is right skewed data, while if the skew value is below -0.5 to -1 then the data distribution is left skewed."
   ]
  },
  {
   "cell_type": "markdown",
   "metadata": {},
   "source": [
    "**Put it simply, the load weight data at TDS Landfill is not evenly distributed.**"
   ]
  },
  {
   "cell_type": "code",
   "execution_count": 93,
   "metadata": {},
   "outputs": [
    {
     "name": "stdout",
     "output_type": "stream",
     "text": [
      "3.69050338333085\n"
     ]
    }
   ],
   "source": [
    "print(tds_landfill['load_weight'].skew())"
   ]
  },
  {
   "cell_type": "markdown",
   "metadata": {},
   "source": [
    "Because the `tds landfill` data has a skewness value of 3.69050, the data has a right skewed distribution."
   ]
  },
  {
   "cell_type": "markdown",
   "metadata": {},
   "source": [
    "To provide a better visualization of the `tds_landfill` data, I will plot the `tds_landfill` data."
   ]
  },
  {
   "cell_type": "code",
   "execution_count": 94,
   "metadata": {},
   "outputs": [
    {
     "data": {
      "text/plain": [
       "<seaborn.axisgrid.FacetGrid at 0x13777bbec10>"
      ]
     },
     "execution_count": 94,
     "metadata": {},
     "output_type": "execute_result"
    },
    {
     "data": {
      "image/png": "[encoded data removed]",
      "text/plain": [
       "<Figure size 432x288 with 1 Axes>"
      ]
     },
     "metadata": {
      "needs_background": "light"
     },
     "output_type": "display_data"
    },
    {
     "data": {
      "image/png": "[encoded data removed]",
      "text/plain": [
       "<Figure size 360x360 with 1 Axes>"
      ]
     },
     "metadata": {
      "needs_background": "light"
     },
     "output_type": "display_data"
    }
   ],
   "source": [
    "### HISTOGRAM DENGAN AXIS LINE\n",
    "lw = tds_landfill['load_weight']\n",
    "plt.hist(tds_landfill['load_weight'], color = 'white', edgecolor = 'black',\n",
    "         bins = int(500/5))\n",
    "\n",
    "plt.title('Data Distribution in TDS Landfill')\n",
    "plt.xlabel('Load Weight')\n",
    "plt.ylabel('Count')\n",
    "plt.axvline(lw.mean(), color='magenta', linestyle='dashed', linewidth=2)\n",
    "plt.axvline(lw.median(), color='green', linestyle='dotted', linewidth=2)\n",
    "plt.show\n",
    "\n",
    "\n",
    "### displot\n",
    "sns.displot(tds_landfill.load_weight, kde=True, label='Load Weight in TDS Landfill')"
   ]
  },
  {
   "cell_type": "code",
   "execution_count": 95,
   "metadata": {},
   "outputs": [
    {
     "data": {
      "text/plain": [
       "<AxesSubplot:ylabel='load_weight'>"
      ]
     },
     "execution_count": 95,
     "metadata": {},
     "output_type": "execute_result"
    },
    {
     "data": {
      "image/png": "[encoded data removed]",
      "text/plain": [
       "<Figure size 432x288 with 1 Axes>"
      ]
     },
     "metadata": {
      "needs_background": "light"
     },
     "output_type": "display_data"
    }
   ],
   "source": [
    "sns.boxplot(data=tds_landfill, y='load_weight')"
   ]
  },
  {
   "cell_type": "markdown",
   "metadata": {},
   "source": [
    "Because the `tds_landfill` data has a right skewed data distribution, there are outliers in the `tds_landfill` data. Outliers are data points that are far from other data points.\n",
    "\n",
    "The next step to be taken is to handle the outliers.\n",
    "\n",
    "Some popular concepts for handling the outliers are:\n",
    "\n",
    "- Dropping the outliers - it prevents skewing of the data\n",
    "- Cap them - i.e. define a max/min point and assign that value to the outlier. This holds if the data suggests that after some point the bigger/smaller value did not change the outcome.\n",
    "- Double check them - they could be wrong. In that case, you may input as missing/mean/median value.\n",
    "- Change the scale - use normalization, etc.\n",
    "\n"
   ]
  },
  {
   "cell_type": "markdown",
   "metadata": {},
   "source": [
    "In the `tds_landfill` data, the number of outliers in the data only adds up to 7 data. Data `tds_landfill` has a total of 10694 rows of data. **The percentage of extreme value is 0.06% of the total data**. The number of extreme value is still very small when compared to the total amount of data. So I will use the capping method to handle the extreme values. "
   ]
  },
  {
   "cell_type": "markdown",
   "metadata": {},
   "source": [
    "Since the `tds_landfill` data is right skewed, the way to detect outliers is to look for values that are above the IQR (Interquartile Range). The formula is Q3 + (1.5 * IQR)"
   ]
  },
  {
   "cell_type": "code",
   "execution_count": 96,
   "metadata": {},
   "outputs": [
    {
     "name": "stdout",
     "output_type": "stream",
     "text": [
      "40920.0\n"
     ]
    }
   ],
   "source": [
    "max_for_outlier = q3 + (1.5*iqr)\n",
    "print (max_for_outlier)"
   ]
  },
  {
   "cell_type": "markdown",
   "metadata": {},
   "source": [
    "Below is the data that is an outlier in the `tds_landfill` data."
   ]
  },
  {
   "cell_type": "code",
   "execution_count": 97,
   "metadata": {},
   "outputs": [
    {
     "data": {
      "text/html": [
       "<div>\n",
       "<style scoped>\n",
       "    .dataframe tbody tr th:only-of-type {\n",
       "        vertical-align: middle;\n",
       "    }\n",
       "\n",
       "    .dataframe tbody tr th {\n",
       "        vertical-align: top;\n",
       "    }\n",
       "\n",
       "    .dataframe thead th {\n",
       "        text-align: right;\n",
       "    }\n",
       "</style>\n",
       "<table border=\"1\" class=\"dataframe\">\n",
       "  <thead>\n",
       "    <tr style=\"text-align: right;\">\n",
       "      <th></th>\n",
       "      <th>report_date</th>\n",
       "      <th>load_time</th>\n",
       "      <th>load_type</th>\n",
       "      <th>load_weight</th>\n",
       "      <th>dropoff_site</th>\n",
       "    </tr>\n",
       "  </thead>\n",
       "  <tbody>\n",
       "    <tr>\n",
       "      <th>2381</th>\n",
       "      <td>2021-03-09</td>\n",
       "      <td>2021-03-09 01:30:00 UTC</td>\n",
       "      <td>GARBAGE COLLECTIONS</td>\n",
       "      <td>145160.0</td>\n",
       "      <td>TDS LANDFILL</td>\n",
       "    </tr>\n",
       "    <tr>\n",
       "      <th>5507</th>\n",
       "      <td>2021-03-29</td>\n",
       "      <td>2021-03-29 05:08:00 UTC</td>\n",
       "      <td>GARBAGE COLLECTIONS</td>\n",
       "      <td>58600.0</td>\n",
       "      <td>TDS LANDFILL</td>\n",
       "    </tr>\n",
       "    <tr>\n",
       "      <th>13632</th>\n",
       "      <td>2021-05-26</td>\n",
       "      <td>2021-05-26 11:40:00 UTC</td>\n",
       "      <td>GARBAGE COLLECTIONS</td>\n",
       "      <td>80697.0</td>\n",
       "      <td>TDS LANDFILL</td>\n",
       "    </tr>\n",
       "    <tr>\n",
       "      <th>13817</th>\n",
       "      <td>2021-05-27</td>\n",
       "      <td>2021-05-27 11:33:00 UTC</td>\n",
       "      <td>GARBAGE COLLECTIONS</td>\n",
       "      <td>245540.0</td>\n",
       "      <td>TDS LANDFILL</td>\n",
       "    </tr>\n",
       "    <tr>\n",
       "      <th>16964</th>\n",
       "      <td>2021-06-21</td>\n",
       "      <td>2021-06-21 01:05:00 UTC</td>\n",
       "      <td>GARBAGE COLLECTIONS</td>\n",
       "      <td>227780.0</td>\n",
       "      <td>TDS LANDFILL</td>\n",
       "    </tr>\n",
       "    <tr>\n",
       "      <th>19960</th>\n",
       "      <td>2021-01-07</td>\n",
       "      <td>2021-01-07 02:45:00 UTC</td>\n",
       "      <td>GARBAGE COLLECTIONS</td>\n",
       "      <td>44980.0</td>\n",
       "      <td>TDS LANDFILL</td>\n",
       "    </tr>\n",
       "    <tr>\n",
       "      <th>24239</th>\n",
       "      <td>2021-02-09</td>\n",
       "      <td>2021-02-09 01:08:00 UTC</td>\n",
       "      <td>GARBAGE COLLECTIONS</td>\n",
       "      <td>102680.0</td>\n",
       "      <td>TDS LANDFILL</td>\n",
       "    </tr>\n",
       "  </tbody>\n",
       "</table>\n",
       "</div>"
      ],
      "text/plain": [
       "      report_date                load_time            load_type  load_weight  \\\n",
       "2381   2021-03-09  2021-03-09 01:30:00 UTC  GARBAGE COLLECTIONS     145160.0   \n",
       "5507   2021-03-29  2021-03-29 05:08:00 UTC  GARBAGE COLLECTIONS      58600.0   \n",
       "13632  2021-05-26  2021-05-26 11:40:00 UTC  GARBAGE COLLECTIONS      80697.0   \n",
       "13817  2021-05-27  2021-05-27 11:33:00 UTC  GARBAGE COLLECTIONS     245540.0   \n",
       "16964  2021-06-21  2021-06-21 01:05:00 UTC  GARBAGE COLLECTIONS     227780.0   \n",
       "19960  2021-01-07  2021-01-07 02:45:00 UTC  GARBAGE COLLECTIONS      44980.0   \n",
       "24239  2021-02-09  2021-02-09 01:08:00 UTC  GARBAGE COLLECTIONS     102680.0   \n",
       "\n",
       "       dropoff_site  \n",
       "2381   TDS LANDFILL  \n",
       "5507   TDS LANDFILL  \n",
       "13632  TDS LANDFILL  \n",
       "13817  TDS LANDFILL  \n",
       "16964  TDS LANDFILL  \n",
       "19960  TDS LANDFILL  \n",
       "24239  TDS LANDFILL  "
      ]
     },
     "execution_count": 97,
     "metadata": {},
     "output_type": "execute_result"
    }
   ],
   "source": [
    "tds_landfill[tds_landfill['load_weight']>40920.0]"
   ]
  },
  {
   "cell_type": "markdown",
   "metadata": {},
   "source": [
    "The following is a boxplot to see the distribution of data with existing outliers."
   ]
  },
  {
   "cell_type": "code",
   "execution_count": 98,
   "metadata": {},
   "outputs": [
    {
     "data": {
      "text/plain": [
       "<AxesSubplot:ylabel='load_weight'>"
      ]
     },
     "execution_count": 98,
     "metadata": {},
     "output_type": "execute_result"
    },
    {
     "data": {
      "image/png": "[encoded data removed]",
      "text/plain": [
       "<Figure size 432x288 with 1 Axes>"
      ]
     },
     "metadata": {
      "needs_background": "light"
     },
     "output_type": "display_data"
    }
   ],
   "source": [
    "sns.boxplot(data=tds_landfill, y='load_weight')"
   ]
  },
  {
   "cell_type": "markdown",
   "metadata": {},
   "source": [
    "The command below will do the capping of the existing outliers"
   ]
  },
  {
   "cell_type": "code",
   "execution_count": 99,
   "metadata": {},
   "outputs": [
    {
     "name": "stderr",
     "output_type": "stream",
     "text": [
      "C:\\Users\\alexa\\AppData\\Local\\Temp\\ipykernel_27472\\2276956327.py:1: SettingWithCopyWarning: \n",
      "A value is trying to be set on a copy of a slice from a DataFrame.\n",
      "Try using .loc[row_indexer,col_indexer] = value instead\n",
      "\n",
      "See the caveats in the documentation: https://pandas.pydata.org/pandas-docs/stable/user_guide/indexing.html#returning-a-view-versus-a-copy\n",
      "  tds_landfill[\"load_weight\"] = np.where(tds_landfill['load_weight']>40920.0, 40920.0,tds_landfill['load_weight'])\n"
     ]
    }
   ],
   "source": [
    "tds_landfill[\"load_weight\"] = np.where(tds_landfill['load_weight']>40920.0, 40920.0,tds_landfill['load_weight'])"
   ]
  },
  {
   "cell_type": "markdown",
   "metadata": {},
   "source": [
    "Below is the plotting of `tds_landfill` data after capping."
   ]
  },
  {
   "cell_type": "code",
   "execution_count": 100,
   "metadata": {},
   "outputs": [
    {
     "data": {
      "text/plain": [
       "<seaborn.axisgrid.FacetGrid at 0x13777d453d0>"
      ]
     },
     "execution_count": 100,
     "metadata": {},
     "output_type": "execute_result"
    },
    {
     "data": {
      "image/png": "[encoded data removed]",
      "text/plain": [
       "<Figure size 432x288 with 1 Axes>"
      ]
     },
     "metadata": {
      "needs_background": "light"
     },
     "output_type": "display_data"
    },
    {
     "data": {
      "image/png": "[encoded data removed]",
      "text/plain": [
       "<Figure size 360x360 with 1 Axes>"
      ]
     },
     "metadata": {
      "needs_background": "light"
     },
     "output_type": "display_data"
    }
   ],
   "source": [
    "### HISTOGRAM DENGAN AXIS LINE\n",
    "lw = tds_landfill['load_weight']\n",
    "plt.hist(tds_landfill['load_weight'], color = 'white', edgecolor = 'black',\n",
    "         bins = int(500/5))\n",
    "\n",
    "plt.title('Data Distribution in TDS Landfill')\n",
    "plt.xlabel('Load Weight')\n",
    "plt.ylabel('Count')\n",
    "plt.axvline(lw.mean(), color='magenta', linestyle='dashed', linewidth=2)\n",
    "plt.axvline(lw.median(), color='green', linestyle='dotted', linewidth=2)\n",
    "plt.show\n",
    "\n",
    "\n",
    "### displot\n",
    "sns.displot(tds_landfill.load_weight, kde=True, label='Load Weight in TDS Landfill')"
   ]
  },
  {
   "cell_type": "markdown",
   "metadata": {},
   "source": [
    "Below is the skewness value of the `tds_landfill` data after capping."
   ]
  },
  {
   "cell_type": "code",
   "execution_count": 101,
   "metadata": {},
   "outputs": [
    {
     "name": "stdout",
     "output_type": "stream",
     "text": [
      "0.03433380896786613\n"
     ]
    }
   ],
   "source": [
    "print(tds_landfill['load_weight'].skew())"
   ]
  },
  {
   "cell_type": "code",
   "execution_count": 102,
   "metadata": {},
   "outputs": [],
   "source": [
    "d = tds_landfill['load_weight'].mean()\n",
    "e= tds_landfill['load_weight'].median()\n",
    "f = tds_landfill['load_weight'].mode()"
   ]
  },
  {
   "cell_type": "markdown",
   "metadata": {},
   "source": [
    "**The following is a comparison of the mean, median, and mode of the data `tds_landfill` with outliers and `tds_landfill` without any extreme values.**"
   ]
  },
  {
   "cell_type": "code",
   "execution_count": 103,
   "metadata": {},
   "outputs": [
    {
     "data": {
      "text/html": [
       "<div>\n",
       "<style scoped>\n",
       "    .dataframe tbody tr th:only-of-type {\n",
       "        vertical-align: middle;\n",
       "    }\n",
       "\n",
       "    .dataframe tbody tr th {\n",
       "        vertical-align: top;\n",
       "    }\n",
       "\n",
       "    .dataframe thead th {\n",
       "        text-align: right;\n",
       "    }\n",
       "</style>\n",
       "<table border=\"1\" class=\"dataframe\">\n",
       "  <thead>\n",
       "    <tr style=\"text-align: right;\">\n",
       "      <th></th>\n",
       "      <th>Data Condition</th>\n",
       "      <th>Mean</th>\n",
       "      <th>Median</th>\n",
       "      <th>Modus</th>\n",
       "    </tr>\n",
       "  </thead>\n",
       "  <tbody>\n",
       "    <tr>\n",
       "      <th>0</th>\n",
       "      <td>With Outliers</td>\n",
       "      <td>15165.151724</td>\n",
       "      <td>14920.0</td>\n",
       "      <td>0       20.0\n",
       "1       60.0\n",
       "2    12020.0\n",
       "Name: l...</td>\n",
       "    </tr>\n",
       "    <tr>\n",
       "      <th>1</th>\n",
       "      <td>Without Outliers</td>\n",
       "      <td>15107.269080</td>\n",
       "      <td>14920.0</td>\n",
       "      <td>0       20.0\n",
       "1       60.0\n",
       "2    12020.0\n",
       "Name: l...</td>\n",
       "    </tr>\n",
       "  </tbody>\n",
       "</table>\n",
       "</div>"
      ],
      "text/plain": [
       "     Data Condition          Mean   Median  \\\n",
       "0     With Outliers  15165.151724  14920.0   \n",
       "1  Without Outliers  15107.269080  14920.0   \n",
       "\n",
       "                                               Modus  \n",
       "0  0       20.0\n",
       "1       60.0\n",
       "2    12020.0\n",
       "Name: l...  \n",
       "1  0       20.0\n",
       "1       60.0\n",
       "2    12020.0\n",
       "Name: l...  "
      ]
     },
     "execution_count": 103,
     "metadata": {},
     "output_type": "execute_result"
    }
   ],
   "source": [
    "comparison_1 = pd.DataFrame({'Data Condition': ['With Outliers', 'Without Outliers'],\n",
    "                   'Mean':[a,d],\n",
    "                   'Median':[b,e],\n",
    "                   'Modus':[c,f]\n",
    "                   })\n",
    "comparison_1"
   ]
  },
  {
   "cell_type": "markdown",
   "metadata": {},
   "source": [
    "Since the data is clear of extreme values, I will now calculate the range, variance, and standard deviation values."
   ]
  },
  {
   "cell_type": "code",
   "execution_count": 104,
   "metadata": {},
   "outputs": [],
   "source": [
    "max_tds_landfill = tds_landfill['load_weight'].max()\n",
    "min_tds_landfill = tds_landfill['load_weight'].min()\n",
    "\n",
    "range_tds_landfill = max_tds_landfill - min_tds_landfill\n",
    "\n",
    "std_tds_landfill = tds_landfill['load_weight'].std()\n",
    "var_tds_landfill = tds_landfill['load_weight'].var()\n"
   ]
  },
  {
   "cell_type": "markdown",
   "metadata": {},
   "source": [
    "Based on the results of the above calculations, the values obtained are:\n",
    "\n",
    "- Range = 40920.0 kg\n",
    "- Standard deviation = 7882.3780\n",
    "- Variance = 621318843887 kg"
   ]
  },
  {
   "cell_type": "markdown",
   "metadata": {},
   "source": [
    "**From the results above, the information obtained is the diversity of the weight of waste disposal at the TDS Landfill site, the value of waste disposal at the TDS Landfill is far from the average value.**\n",
    "\n",
    "\n",
    "The standard deviation is derived from variance and tells you, on average, how far each value lies from the mean.\n",
    "\n",
    "Both measures reflect variability in a distribution, but their units differ:\n",
    "\n",
    "- **Standard deviation** is expressed in the same units as the original values (e.g., meters).\n",
    "- **Variance is expressed** in much larger units (e.g., meters squared)\n",
    "\n",
    "Since the units of variance are much larger than those of a typical value of a data set, it’s harder to interpret the variance number intuitively. That’s why standard deviation is often preferred as a main measure of variability.\n",
    "\n",
    "However, the variance is more informative about variability than the standard deviation, and it’s used in making statistical inferences."
   ]
  },
  {
   "cell_type": "markdown",
   "metadata": {},
   "source": [
    "---"
   ]
  },
  {
   "cell_type": "markdown",
   "metadata": {},
   "source": [
    "Now if the city government plans to add a new site. I have to provide analysis and suggestions regarding the amount of storage capacity at the new site based on the calculation of the confidence interval. What data do I use you may ask. Is it only from one site or from the whole site?\n",
    "\n",
    "In my perspective, it would make more sense and fit the facts if the new site capacity was taken from the average of all drop off sites. With a note, the average drop off site value used is the average that has been cleared of outliers"
   ]
  },
  {
   "cell_type": "markdown",
   "metadata": {},
   "source": [
    "The analytical steps to be carried out are in accordance with the analysis stages carried out in the `tds_landfill` data analysis. "
   ]
  },
  {
   "cell_type": "markdown",
   "metadata": {},
   "source": [
    "The analysis steps to be carried out are in accordance with the analysis stages carried out in the `tds_landfill` data analysis. Briefly, the steps are as follows:\n",
    "\n",
    "- Find the skew value\n",
    "- View data distribution\n",
    "- Choose the outlier handling method"
   ]
  },
  {
   "cell_type": "markdown",
   "metadata": {},
   "source": [
    "Below is calculating `df` skewness :"
   ]
  },
  {
   "cell_type": "code",
   "execution_count": 105,
   "metadata": {},
   "outputs": [
    {
     "data": {
      "text/plain": [
       "2.899277178790662"
      ]
     },
     "execution_count": 105,
     "metadata": {},
     "output_type": "execute_result"
    }
   ],
   "source": [
    "df['load_weight'].skew()"
   ]
  },
  {
   "cell_type": "markdown",
   "metadata": {},
   "source": [
    "The skew value is 2.89"
   ]
  },
  {
   "cell_type": "code",
   "execution_count": 106,
   "metadata": {},
   "outputs": [
    {
     "data": {
      "text/plain": [
       "<AxesSubplot:ylabel='load_weight'>"
      ]
     },
     "execution_count": 106,
     "metadata": {},
     "output_type": "execute_result"
    },
    {
     "data": {
      "image/png": "[encoded data removed]",
      "text/plain": [
       "<Figure size 432x288 with 1 Axes>"
      ]
     },
     "metadata": {
      "needs_background": "light"
     },
     "output_type": "display_data"
    }
   ],
   "source": [
    "sns.boxplot(data=df, y='load_weight')"
   ]
  },
  {
   "cell_type": "code",
   "execution_count": 107,
   "metadata": {},
   "outputs": [
    {
     "data": {
      "text/plain": [
       "<function matplotlib.pyplot.show(close=None, block=None)>"
      ]
     },
     "execution_count": 107,
     "metadata": {},
     "output_type": "execute_result"
    },
    {
     "data": {
      "image/png": "[encoded data removed]",
      "text/plain": [
       "<Figure size 432x288 with 1 Axes>"
      ]
     },
     "metadata": {
      "needs_background": "light"
     },
     "output_type": "display_data"
    }
   ],
   "source": [
    "no7 = df['load_weight']\n",
    "plt.hist(df['load_weight'], color = 'white', edgecolor = 'black',\n",
    "         bins = int(500/5))\n",
    "\n",
    "plt.title('Data Distribution All Site')\n",
    "plt.xlabel('Load Weight')\n",
    "plt.ylabel('Count')\n",
    "plt.show"
   ]
  },
  {
   "cell_type": "markdown",
   "metadata": {},
   "source": [
    "I am going to use capping method to handle the outliers."
   ]
  },
  {
   "cell_type": "code",
   "execution_count": 108,
   "metadata": {},
   "outputs": [],
   "source": [
    "a1 = df['load_weight'].mean()\n",
    "b1 = df['load_weight'].median()\n",
    "c1 = df['load_weight'].std()\n",
    "df['load_weight'].min()\n",
    "df['load_weight'].max()\n",
    "q1_all_site = df['load_weight'].quantile(q=0.25)\n",
    "q3_all_site = df['load_weight'].quantile(q=0.75)\n",
    "iqr_all_site = df['load_weight'].quantile(q=0.75) - df['load_weight'].quantile(q=0.25)"
   ]
  },
  {
   "cell_type": "code",
   "execution_count": 109,
   "metadata": {},
   "outputs": [
    {
     "name": "stdout",
     "output_type": "stream",
     "text": [
      "30460.0\n"
     ]
    }
   ],
   "source": [
    "max_outlier_for_all_site = q3_all_site + (1.5*iqr_all_site)\n",
    "print(max_outlier_for_all_site)"
   ]
  },
  {
   "cell_type": "markdown",
   "metadata": {},
   "source": [
    "Here I capped the upper outliers"
   ]
  },
  {
   "cell_type": "code",
   "execution_count": 110,
   "metadata": {},
   "outputs": [],
   "source": [
    "df[\"load_weight\"] = np.where(df['load_weight']>30460.0, 30460.0,df['load_weight'])"
   ]
  },
  {
   "cell_type": "code",
   "execution_count": 111,
   "metadata": {},
   "outputs": [
    {
     "data": {
      "text/plain": [
       "0.4540237194735292"
      ]
     },
     "execution_count": 111,
     "metadata": {},
     "output_type": "execute_result"
    }
   ],
   "source": [
    "df['load_weight'].skew()"
   ]
  },
  {
   "cell_type": "code",
   "execution_count": 112,
   "metadata": {},
   "outputs": [],
   "source": [
    "d1 = df['load_weight'].mean()\n",
    "e1 = df['load_weight'].median()\n",
    "f1 = df['load_weight'].std()"
   ]
  },
  {
   "cell_type": "markdown",
   "metadata": {},
   "source": [
    "And, lastly, I give the comparison of old `df` with the new `df`."
   ]
  },
  {
   "cell_type": "code",
   "execution_count": 113,
   "metadata": {},
   "outputs": [
    {
     "data": {
      "text/html": [
       "<div>\n",
       "<style scoped>\n",
       "    .dataframe tbody tr th:only-of-type {\n",
       "        vertical-align: middle;\n",
       "    }\n",
       "\n",
       "    .dataframe tbody tr th {\n",
       "        vertical-align: top;\n",
       "    }\n",
       "\n",
       "    .dataframe thead th {\n",
       "        text-align: right;\n",
       "    }\n",
       "</style>\n",
       "<table border=\"1\" class=\"dataframe\">\n",
       "  <thead>\n",
       "    <tr style=\"text-align: right;\">\n",
       "      <th></th>\n",
       "      <th>Data Condition</th>\n",
       "      <th>Mean</th>\n",
       "      <th>Median</th>\n",
       "      <th>STD</th>\n",
       "    </tr>\n",
       "  </thead>\n",
       "  <tbody>\n",
       "    <tr>\n",
       "      <th>0</th>\n",
       "      <td>With Outliers</td>\n",
       "      <td>11737.246838</td>\n",
       "      <td>11000.0</td>\n",
       "      <td>7390.497943</td>\n",
       "    </tr>\n",
       "    <tr>\n",
       "      <th>1</th>\n",
       "      <td>Without Outliers</td>\n",
       "      <td>11703.781341</td>\n",
       "      <td>11000.0</td>\n",
       "      <td>7018.028180</td>\n",
       "    </tr>\n",
       "  </tbody>\n",
       "</table>\n",
       "</div>"
      ],
      "text/plain": [
       "     Data Condition          Mean   Median          STD\n",
       "0     With Outliers  11737.246838  11000.0  7390.497943\n",
       "1  Without Outliers  11703.781341  11000.0  7018.028180"
      ]
     },
     "execution_count": 113,
     "metadata": {},
     "output_type": "execute_result"
    }
   ],
   "source": [
    "comparison_2 = pd.DataFrame({'Data Condition': ['With Outliers', 'Without Outliers'],\n",
    "                   'Mean':[a1,d1],\n",
    "                   'Median':[b1,e1],\n",
    "                   'STD':[c1,f1]\n",
    "                   })\n",
    "\n",
    "comparison_2"
   ]
  },
  {
   "cell_type": "markdown",
   "metadata": {},
   "source": [
    "Here is the plot from the new `df`"
   ]
  },
  {
   "cell_type": "code",
   "execution_count": 114,
   "metadata": {},
   "outputs": [
    {
     "data": {
      "text/plain": [
       "<function matplotlib.pyplot.show(close=None, block=None)>"
      ]
     },
     "execution_count": 114,
     "metadata": {},
     "output_type": "execute_result"
    },
    {
     "data": {
      "image/png": "[encoded data removed]",
      "text/plain": [
       "<Figure size 432x288 with 1 Axes>"
      ]
     },
     "metadata": {
      "needs_background": "light"
     },
     "output_type": "display_data"
    }
   ],
   "source": [
    "no7 = df['load_weight']\n",
    "plt.hist(df['load_weight'], color = 'white', edgecolor = 'black',\n",
    "         bins = int(500/5))\n",
    "\n",
    "plt.title('Data Distribution All Site')\n",
    "plt.xlabel('Load Weight')\n",
    "plt.ylabel('Count')\n",
    "plt.show"
   ]
  },
  {
   "cell_type": "markdown",
   "metadata": {},
   "source": [
    "As can be seen from the graph above, the data distribution is normal"
   ]
  },
  {
   "cell_type": "code",
   "execution_count": 115,
   "metadata": {},
   "outputs": [
    {
     "data": {
      "text/plain": [
       "<AxesSubplot:ylabel='load_weight'>"
      ]
     },
     "execution_count": 115,
     "metadata": {},
     "output_type": "execute_result"
    },
    {
     "data": {
      "image/png": "[encoded data removed]",
      "text/plain": [
       "<Figure size 432x288 with 1 Axes>"
      ]
     },
     "metadata": {
      "needs_background": "light"
     },
     "output_type": "display_data"
    }
   ],
   "source": [
    "sns.boxplot(data=df, y='load_weight')"
   ]
  },
  {
   "cell_type": "markdown",
   "metadata": {},
   "source": [
    "---"
   ]
  },
  {
   "cell_type": "markdown",
   "metadata": {},
   "source": [
    "Furthermore, because the `df` data is clear of outliers, we can calculate the confidence interval for the garbage load capacity for the new drop off site.\n",
    "\n",
    "CI (Confidence Interval) is a range of values where 95% of the garbage load that has occurred is in that range."
   ]
  },
  {
   "cell_type": "code",
   "execution_count": 116,
   "metadata": {},
   "outputs": [
    {
     "data": {
      "text/plain": [
       "(-2051.3011340955272, 25458.863816314435)"
      ]
     },
     "execution_count": 116,
     "metadata": {},
     "output_type": "execute_result"
    }
   ],
   "source": [
    "ci = stats.norm.interval(0.95, df['load_weight'].mean(), df['load_weight'].std())\n",
    "ci"
   ]
  },
  {
   "cell_type": "markdown",
   "metadata": {},
   "source": [
    "Based on the calculation results above, **the load weight capacity for the new site can be valued greater equal to 25458.86 kg**.\n",
    "\n",
    "Why do I provide this range of values? This is because the calculation is based on the average load weight of all waste disposal sites. So, I am suggesting a value for the capacity of the new waste disposal site that is within the range of the average weight of the waste disposal site, that would result in a possibility of an overload at the new waste disposal site. And I am pretty sure that the government do not want that to happen."
   ]
  },
  {
   "cell_type": "markdown",
   "metadata": {},
   "source": [
    "Here is the plot for the confidence interval"
   ]
  },
  {
   "cell_type": "code",
   "execution_count": 117,
   "metadata": {},
   "outputs": [
    {
     "data": {
      "text/plain": [
       "<matplotlib.legend.Legend at 0x137781965e0>"
      ]
     },
     "execution_count": 117,
     "metadata": {},
     "output_type": "execute_result"
    },
    {
     "data": {
      "image/png": "[encoded data removed]",
      "text/plain": [
       "<Figure size 1152x360 with 1 Axes>"
      ]
     },
     "metadata": {
      "needs_background": "light"
     },
     "output_type": "display_data"
    }
   ],
   "source": [
    "plt.figure(figsize=(16,5))\n",
    "plt.axvline(df['load_weight'].mean(), color='red', linewidth=2, label='Load Weight Mean')\n",
    "plt.axvline(ci[1], color='green', linestyle='dashed', linewidth=2, label='CI 95%')\n",
    "plt.axvline(ci[0], color='green', linestyle='dashed', linewidth=2, label='CI 95%')\n",
    "plt.legend()"
   ]
  },
  {
   "cell_type": "markdown",
   "metadata": {},
   "source": [
    "---"
   ]
  },
  {
   "cell_type": "markdown",
   "metadata": {},
   "source": [
    "We know that in our data `df` has been cleaned from any outliers. Now, I want to know is the average `load_weight` on the `df` data significantly different from 11000 kg?"
   ]
  },
  {
   "cell_type": "markdown",
   "metadata": {},
   "source": [
    "From that case we may find the answer by using hypothesis testing. Hypothesis testing is a formal procedure for investigating our ideas about the world using statistics. It is most often used by scientists to test specific predictions, called hypotheses, that arise from theories.\n",
    "\n",
    "There are 5 main steps in hypothesis testing:\n",
    "\n",
    "- State your research hypothesis as a null hypothesis and alternate hypothesis (Ho) and (Ha or H1).\n",
    "- Collect data in a way designed to test the hypothesis.\n",
    "- Perform an appropriate statistical test.\n",
    "- Decide whether to reject or fail to reject your null hypothesis.\n",
    "- Present the findings in your results and discussion section."
   ]
  },
  {
   "cell_type": "markdown",
   "metadata": {},
   "source": [
    "Here's my case : is the average `load_weight` on the `df` data significantly different from 11000 kg?\n",
    "\n",
    "- Ho : Mean `df` = 11000 kg\n",
    "- H1 : Mean `df` != 11000 kg"
   ]
  },
  {
   "cell_type": "markdown",
   "metadata": {},
   "source": [
    "Note that 11000 kg is the median of `load_weight` from data `df`."
   ]
  },
  {
   "cell_type": "markdown",
   "metadata": {},
   "source": [
    "I am going to use T-Test 1 sample 2 tailed method for the hypothesis testing"
   ]
  },
  {
   "cell_type": "code",
   "execution_count": 118,
   "metadata": {},
   "outputs": [
    {
     "name": "stdout",
     "output_type": "stream",
     "text": [
      "P-value: 7.20869387944671e-59\n",
      "t-statistics: 16.2187211478769\n"
     ]
    }
   ],
   "source": [
    "# ttest 1 sample 2 tailed\n",
    "t_stat,p_val = stats.ttest_1samp(df['load_weight'], 11000)\n",
    "\n",
    "print('P-value:',p_val)\n",
    "print('t-statistics:',t_stat)"
   ]
  },
  {
   "cell_type": "markdown",
   "metadata": {},
   "source": [
    "Based on the results of calculation above, it can be indicated that H0 is rejected so that it can be concluded that the average `load_weight` on `df` is significantly different from 11000 kg (median of `load_weight`).\n",
    "\n",
    "From this hypothesis testing test, it can provide information such as there will be differences in data analysis based on the average and data analysis based on the median and the data is not distributed evenly. This is because **the mean and median have significant differences**."
   ]
  },
  {
   "cell_type": "markdown",
   "metadata": {},
   "source": [
    "---"
   ]
  },
  {
   "cell_type": "markdown",
   "metadata": {},
   "source": [
    "#### Answering Questions\n",
    "\n",
    "1. What technique did you choose for handling outliers? Explain why!\n",
    "\n",
    "    - To handle outliers, I chose the capping method for both `tds_landfill` data and `df` data. This is because I want to avoid losing important data or having a significant influence on the characteristics of the data.\n",
    "\n",
    "\n",
    "2. What is the concept behind the confidence interval so that we can use it to complete step 7?\n",
    "\n",
    "    - A confidence interval is a range of values that describes the uncertainty surrounding an estimate. In my case, I set my confidence interval level to 95%, this indicates a level of certainty about our estimate. If we were to repeatedly make new estimates using exactly the same procedure, the confidence intervals would contain the average of all the estimates 95% of the time.\n",
    "    - Simpler meaning is confidence intervals are one way to represent how \"good\" an estimate is; the larger a 90% confidence interval for a particular estimate, the more caution is required when using the estimate.\n",
    "\n",
    "\n",
    "3. Explain what type of hypothesis test you used and why?\n",
    "\n",
    "    - I used the T-test One Sample method because the one sample t test compares the mean of your sample data to a known value."
   ]
  },
  {
   "cell_type": "markdown",
   "metadata": {},
   "source": [
    "## Working Station Problem 2 (Math / Calculus)"
   ]
  },
  {
   "cell_type": "markdown",
   "metadata": {},
   "source": [
    "### Problem Statement\n",
    "\n",
    "The government wants to know how much garbage is loaded in kg in Austin the next day (10 July 2021). In this case, the government wants you to do forecasting to predict future values. There are many forecasting techniques that can be done but you don't need to worry, we will use a very simple method, namely using the velocity formula.\n",
    "\n",
    "Assume that the rate of daily addition of waste can be written using the following formula:\n",
    "\n",
    "<img src=\"https://latex2png.com/pngs/d095b902113a1ef68d07fd786e4be428.png\"></img>\n",
    "\n",
    "where `1` is today's notation and `0` is yesterday's notation.\n",
    "\n",
    "If we want to predict the amount of garbage load tomorrow, we can use the formula:\n",
    "\n",
    "<img src=\"https://latex2png.com/pngs/50dc63299a1860b10a15346a9ca3a42e.png\"></img>\n",
    "\n",
    "Where `v` will be calculated using the first derivative of the `load_weight` data which previously had to be grouped by `report_date` and don't forget after that `report_date` must be sorted from the smallest to the largest date. `Δt` **values 1** because it only wants to predict the value in one day ahead.\n",
    "\n",
    "**Additional note**: To calculate the derivative, the x and y axes must be determined first. Set `load_weight` as the y-axis and for the x-axis, you can use the index of the groupby result dataframe if the index is a sequence number from 0 to N-1. If not, you can create it using `range()`."
   ]
  },
  {
   "cell_type": "markdown",
   "metadata": {},
   "source": [
    "To simplify it, the problem statement in this second math problem is to predict the `load_weight` value for 10 July 2021 by using the provided formula."
   ]
  },
  {
   "cell_type": "markdown",
   "metadata": {},
   "source": [
    "### Libraries and Data"
   ]
  },
  {
   "cell_type": "markdown",
   "metadata": {},
   "source": [
    "We are still going to use the same libraries and dataset from the previous part."
   ]
  },
  {
   "cell_type": "markdown",
   "metadata": {},
   "source": [
    "---"
   ]
  },
  {
   "cell_type": "markdown",
   "metadata": {},
   "source": [
    "First of all, we will group by `report_date` column and add up the total load weight for each day and convert the grouping results into a dataframe which is then stored in the `forecasting` variable"
   ]
  },
  {
   "cell_type": "code",
   "execution_count": 119,
   "metadata": {},
   "outputs": [
    {
     "data": {
      "text/html": [
       "<div>\n",
       "<style scoped>\n",
       "    .dataframe tbody tr th:only-of-type {\n",
       "        vertical-align: middle;\n",
       "    }\n",
       "\n",
       "    .dataframe tbody tr th {\n",
       "        vertical-align: top;\n",
       "    }\n",
       "\n",
       "    .dataframe thead th {\n",
       "        text-align: right;\n",
       "    }\n",
       "</style>\n",
       "<table border=\"1\" class=\"dataframe\">\n",
       "  <thead>\n",
       "    <tr style=\"text-align: right;\">\n",
       "      <th></th>\n",
       "      <th>load_weight</th>\n",
       "    </tr>\n",
       "    <tr>\n",
       "      <th>report_date</th>\n",
       "      <th></th>\n",
       "    </tr>\n",
       "  </thead>\n",
       "  <tbody>\n",
       "    <tr>\n",
       "      <th>2021-01-01</th>\n",
       "      <td>0.0</td>\n",
       "    </tr>\n",
       "    <tr>\n",
       "      <th>2021-01-02</th>\n",
       "      <td>2168970.0</td>\n",
       "    </tr>\n",
       "    <tr>\n",
       "      <th>2021-01-04</th>\n",
       "      <td>2920260.0</td>\n",
       "    </tr>\n",
       "    <tr>\n",
       "      <th>2021-01-05</th>\n",
       "      <td>2386480.0</td>\n",
       "    </tr>\n",
       "    <tr>\n",
       "      <th>2021-01-06</th>\n",
       "      <td>2396470.0</td>\n",
       "    </tr>\n",
       "    <tr>\n",
       "      <th>...</th>\n",
       "      <td>...</td>\n",
       "    </tr>\n",
       "    <tr>\n",
       "      <th>2021-07-05</th>\n",
       "      <td>1895650.0</td>\n",
       "    </tr>\n",
       "    <tr>\n",
       "      <th>2021-07-06</th>\n",
       "      <td>1917880.0</td>\n",
       "    </tr>\n",
       "    <tr>\n",
       "      <th>2021-07-07</th>\n",
       "      <td>1553080.0</td>\n",
       "    </tr>\n",
       "    <tr>\n",
       "      <th>2021-07-08</th>\n",
       "      <td>1417650.0</td>\n",
       "    </tr>\n",
       "    <tr>\n",
       "      <th>2021-07-09</th>\n",
       "      <td>120340.0</td>\n",
       "    </tr>\n",
       "  </tbody>\n",
       "</table>\n",
       "<p>166 rows × 1 columns</p>\n",
       "</div>"
      ],
      "text/plain": [
       "             load_weight\n",
       "report_date             \n",
       "2021-01-01           0.0\n",
       "2021-01-02     2168970.0\n",
       "2021-01-04     2920260.0\n",
       "2021-01-05     2386480.0\n",
       "2021-01-06     2396470.0\n",
       "...                  ...\n",
       "2021-07-05     1895650.0\n",
       "2021-07-06     1917880.0\n",
       "2021-07-07     1553080.0\n",
       "2021-07-08     1417650.0\n",
       "2021-07-09      120340.0\n",
       "\n",
       "[166 rows x 1 columns]"
      ]
     },
     "execution_count": 119,
     "metadata": {},
     "output_type": "execute_result"
    }
   ],
   "source": [
    "forecasting = df.groupby('report_date')['load_weight'].sum().to_frame()\n",
    "forecasting"
   ]
  },
  {
   "cell_type": "markdown",
   "metadata": {},
   "source": [
    "After that, according to the instructions described in the problem statement section, the next step is to differentiate `load_weight` against `Δt`."
   ]
  },
  {
   "cell_type": "code",
   "execution_count": 120,
   "metadata": {},
   "outputs": [
    {
     "data": {
      "text/plain": [
       "array([ 2.16897000e+06,  7.51290000e+05, -5.33780000e+05,  9.99000000e+03,\n",
       "        2.73400000e+04, -5.78860000e+05, -1.81681000e+06,  2.46847000e+06,\n",
       "       -4.22690000e+05, -5.34000000e+03, -3.57300000e+04, -3.15860000e+05,\n",
       "       -1.68213000e+06,  2.40679000e+06, -2.67790000e+05, -7.87300000e+04,\n",
       "       -2.97600000e+04, -2.86770000e+05, -1.59572000e+06,  2.31477000e+06,\n",
       "       -4.40200000e+05,  3.03900000e+04,  3.62200000e+04, -3.88890000e+05,\n",
       "       -1.73503000e+06,  2.43934000e+06, -3.60920000e+05, -8.66800000e+04,\n",
       "        1.16700000e+05, -3.72670000e+05, -1.73345000e+06,  1.17200000e+04,\n",
       "        2.60815000e+06, -5.67170000e+05,  3.83400000e+04, -1.31158000e+06,\n",
       "        1.08996000e+06, -1.83900000e+06,  1.04962000e+06,  2.64604000e+06,\n",
       "       -4.98040000e+05,  6.87700000e+04,  6.19100000e+04, -9.55240000e+05,\n",
       "       -2.16796000e+06,  1.59200000e+04,  2.95084000e+06, -2.95220000e+05,\n",
       "       -1.06840000e+05, -3.83200000e+04, -3.55245000e+05, -2.17379500e+06,\n",
       "       -5.08200000e+04,  3.08313000e+06, -3.93430000e+05, -8.39700000e+04,\n",
       "       -1.69280000e+05, -2.62150000e+05, -2.10616000e+06,  3.72080000e+05,\n",
       "        2.20590000e+06, -1.49780000e+05, -2.20640000e+05,  6.34900000e+04,\n",
       "       -4.19990000e+05, -1.92788000e+06,  1.61740000e+05,  2.63209012e+06,\n",
       "       -3.12690009e+05,  5.49598836e+04,  2.58000000e+03, -3.80160000e+05,\n",
       "       -1.78233200e+06, -2.99468000e+05,  2.70060000e+06, -1.42060000e+05,\n",
       "       -4.43660000e+05,  1.67560000e+05, -6.81950000e+05, -1.84285000e+06,\n",
       "        2.07841000e+06,  3.40330000e+05, -2.77200000e+05,  4.97480000e+04,\n",
       "       -2.45228000e+05, -1.84880000e+06,  2.56385000e+06,  2.48500000e+04,\n",
       "       -1.58680000e+05, -1.33730000e+05, -3.93670000e+05, -1.73158000e+06,\n",
       "       -2.76060000e+05,  2.70263000e+06, -3.44430000e+05, -1.30000000e+04,\n",
       "       -1.42960000e+05, -3.44820000e+05, -1.55664000e+06,  2.21009800e+06,\n",
       "       -2.19418000e+05,  1.01080000e+05, -2.67740000e+05, -2.88780000e+05,\n",
       "       -1.68574000e+06,  2.44013000e+06, -3.20490000e+05,  1.15350000e+05,\n",
       "       -1.49190000e+05, -2.00850000e+05, -1.76581000e+06,  2.31266000e+06,\n",
       "       -2.78750000e+05, -1.21300000e+04,  2.06500000e+04, -4.27050000e+05,\n",
       "       -1.77570000e+06,  2.55128000e+06, -4.19200000e+05, -3.32000000e+03,\n",
       "       -1.94690000e+05, -2.85600000e+05, -1.75635000e+06,  2.32110900e+06,\n",
       "       -1.34619000e+05,  2.24700000e+04, -1.19530000e+05, -3.53600000e+05,\n",
       "       -1.72889000e+06, -8.54000000e+03,  2.59943000e+06, -2.38490000e+05,\n",
       "        7.95300000e+04, -2.15100000e+04, -4.22240000e+05, -1.74630000e+06,\n",
       "        2.52416000e+06, -3.36650000e+05, -9.94997020e+04, -3.48029800e+03,\n",
       "       -4.79440000e+05, -1.65831000e+06,  2.43545000e+06, -4.89190000e+05,\n",
       "        3.20600000e+04, -3.01700000e+04, -4.03210000e+05, -1.69620000e+06,\n",
       "        2.33779000e+06, -2.70080000e+05,  2.23500000e+04, -9.48500000e+04,\n",
       "       -5.45780000e+05, -1.49161000e+06,  2.49019000e+06, -4.96800000e+05,\n",
       "       -3.38700000e+04,  6.90000000e+02, -3.39290000e+05, -1.41848000e+06,\n",
       "        1.68741000e+06,  2.22300000e+04, -3.64800000e+05, -1.35430000e+05,\n",
       "       -1.29731000e+06])"
      ]
     },
     "execution_count": 120,
     "metadata": {},
     "output_type": "execute_result"
    }
   ],
   "source": [
    "v = np.diff(forecasting['load_weight'])/np.diff(range(166))\n",
    "v"
   ]
  },
  {
   "cell_type": "markdown",
   "metadata": {},
   "source": [
    "And If I want to predict the amount of garbage load tomorrow, below here is the formula:"
   ]
  },
  {
   "cell_type": "code",
   "execution_count": 121,
   "metadata": {},
   "outputs": [
    {
     "data": {
      "text/plain": [
       "1176970.0"
      ]
     },
     "execution_count": 121,
     "metadata": {},
     "output_type": "execute_result"
    }
   ],
   "source": [
    "W_tomorrow = forecasting['load_weight'][-1] + v[-1] * 1\n",
    "abs(W_tomorrow)"
   ]
  },
  {
   "cell_type": "markdown",
   "metadata": {},
   "source": [
    "By the calculation above, in 10th July 2021 is predicted will be having **1176970.0.0 kg** of garbage."
   ]
  },
  {
   "cell_type": "markdown",
   "metadata": {},
   "source": [
    "---"
   ]
  },
  {
   "cell_type": "markdown",
   "metadata": {},
   "source": [
    "#### Answering Questions\n",
    "\n"
   ]
  },
  {
   "cell_type": "markdown",
   "metadata": {},
   "source": [
    "1. To calculate the first derivative can be used symbolic and numerical methods, for this case, what technique do you use?\n",
    "    - I used numerical method to calculate the first derivative.\n",
    "2. Do you need a mathematical function to calculate the derivative? (yes/no) give your reasons!\n",
    "    - Yes. Because the derivative is the instantaneous rate of change of a function with respect to one of its variables.\n",
    "3. How much load weight do you expect tomorrow (10 July 2021)?\n",
    "    - I estimate there will be **1176970.0.0 kg** of garbage"
   ]
  },
  {
   "cell_type": "markdown",
   "metadata": {},
   "source": [
    "## Analysis Points"
   ]
  },
  {
   "cell_type": "markdown",
   "metadata": {},
   "source": [
    "- The method I used to handle the null value is filling with 0 because I assume the `SWEEPING` category in `load_type` is an activity such as sweeping the streets or sweeping a certain site.\n",
    "- Central tendency gives us an information about a glimpse of the data distribution.\n",
    "- By analyzing `TDS Landfill` site, it tells us that it is the most frequently dumped destination for landfills in Austin. Before censoring extreme values the data of `TDS Landfill`, it has a right skewed distribution. And after censoring the extreme values, the load weight that is dumped in `TDS Landfill` differs because :\n",
    "    - Range = 40920.0 kg\n",
    "    - Standard deviation = 7882.3780 kg\n",
    "    - Variance = 621318843887 kg\n",
    "- If the government wants to add a new dropoff site, i suggest that the new site has a capacity greater equal to 25458.86 kg. This was done by calculating the confidence interval of the average load weight of all dropoff sites that have been cleaned of extreme values.\n",
    "- The results of the hypothesis test that I did provide information that the average and median load weight values in all dropoff sites are significantly different.\n",
    "- I estimate there will be 1176970.0.0 kg of garbage in 10th July 2021."
   ]
  }
 ],
 "metadata": {
  "kernelspec": {
   "display_name": "Python 3.9.6 64-bit",
   "language": "python",
   "name": "python3"
  },
  "language_info": {
   "codemirror_mode": {
    "name": "ipython",
    "version": 3
   },
   "file_extension": ".py",
   "mimetype": "text/x-python",
   "name": "python",
   "nbconvert_exporter": "python",
   "pygments_lexer": "ipython3",
   "version": "3.9.6"
  },
  "orig_nbformat": 4,
  "vscode": {
   "interpreter": {
    "hash": "f3d42ad487b2b2994e012ab0306cc0a65d83ea9d079e1ade1e8453053e613de7"
   }
  }
 },
 "nbformat": 4,
 "nbformat_minor": 2
}
