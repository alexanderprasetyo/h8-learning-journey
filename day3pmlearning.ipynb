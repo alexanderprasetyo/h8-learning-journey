{
 "cells": [
  {
   "cell_type": "code",
   "execution_count": 1,
   "metadata": {},
   "outputs": [
    {
     "name": "stdout",
     "output_type": "stream",
     "text": [
      "Hello\n",
      "How are you good sir?\n"
     ]
    }
   ],
   "source": [
    "def hello_function():\n",
    "    print (\"Hello\")\n",
    "    print (\"How are you good sir?\")\n",
    "\n",
    "hello_function()"
   ]
  },
  {
   "cell_type": "code",
   "execution_count": 4,
   "metadata": {},
   "outputs": [
    {
     "name": "stdout",
     "output_type": "stream",
     "text": [
      "Hello g\n",
      "How are you good sir?\n"
     ]
    }
   ],
   "source": [
    "def hello_function(name):\n",
    "    print (\"Hello\", name)\n",
    "    print (\"How are you good sir?\")\n",
    "\n",
    "hello_function(name = 'g')"
   ]
  },
  {
   "cell_type": "code",
   "execution_count": 7,
   "metadata": {},
   "outputs": [
    {
     "name": "stdout",
     "output_type": "stream",
     "text": [
      "Nama : alex\n",
      "Pekerjaan : pengangguran\n"
     ]
    }
   ],
   "source": [
    "#required function\n",
    "\n",
    "def profil (nama, pekerjaan):\n",
    "    print('Nama :', nama)\n",
    "    print('Pekerjaan :', pekerjaan)\n",
    "\n",
    "profil ('alex' , 'pengangguran')"
   ]
  },
  {
   "cell_type": "code",
   "execution_count": 8,
   "metadata": {},
   "outputs": [
    {
     "name": "stdout",
     "output_type": "stream",
     "text": [
      "Nama : pengangguran\n",
      "Pekerjaan : alex\n"
     ]
    }
   ],
   "source": [
    "#keyword argument function\n",
    "\n",
    "def profil (nama, pekerjaan):\n",
    "    print('Nama :', nama)\n",
    "    print('Pekerjaan :', pekerjaan)\n",
    "\n",
    "profil (pekerjaan='alex' , nama='pengangguran')"
   ]
  },
  {
   "cell_type": "code",
   "execution_count": 12,
   "metadata": {},
   "outputs": [
    {
     "name": "stdout",
     "output_type": "stream",
     "text": [
      "Nama : alex\n",
      "Pekerjaan : nganggur\n",
      "Nama : dyan\n",
      "Pekerjaan : gamer\n"
     ]
    }
   ],
   "source": [
    "#default argument function\n",
    "\n",
    "#keyword argument function\n",
    "\n",
    "def profil (nama, pekerjaan = 'nganggur'):\n",
    "    print('Nama :', nama)\n",
    "    print('Pekerjaan :', pekerjaan)\n",
    "\n",
    "profil ('alex')\n",
    "\n",
    "#apabila input tetap dimasukkan saat pemanggilan function maka akan tetap overswrite default argument\n",
    "#default argument hrs diletakkan setelah non-default argument\n",
    "\n",
    "\n",
    "profil ('dyan', 'gamer')"
   ]
  },
  {
   "cell_type": "code",
   "execution_count": 15,
   "metadata": {},
   "outputs": [
    {
     "name": "stdout",
     "output_type": "stream",
     "text": [
      "Argument Args (1, 23, 25, 57)\n",
      "Argument kwargs {'data 1': 70, 'data 2': 51}\n"
     ]
    }
   ],
   "source": [
    "# variable-length argument\n",
    "# * -> args (tuple/argument)\n",
    "# ** -> kwargs (keyword argument)\n",
    "\n",
    "def contoh (*args, **kwargs):\n",
    "    print ('Argument Args', args)\n",
    "    print ('Argument kwargs', kwargs)\n",
    "\n",
    "contoh (1,23,25,57, **{'data 1' : 70, 'data 2': 51})"
   ]
  },
  {
   "cell_type": "code",
   "execution_count": 16,
   "metadata": {},
   "outputs": [
    {
     "name": "stdout",
     "output_type": "stream",
     "text": [
      "nilai total dalam variabel: 5\n",
      "5\n",
      "nilai total di luar variabel: 0\n"
     ]
    }
   ],
   "source": [
    "total = 0\n",
    "\n",
    "def tambah(var1, var2):\n",
    "    total = var1 + var2\n",
    "    print('nilai total dalam variabel:', total)\n",
    "    return total\n",
    "\n",
    "hasil = tambah (2,3)\n",
    "print(hasil)\n",
    "print('nilai total di luar variabel:', total)"
   ]
  },
  {
   "cell_type": "code",
   "execution_count": 17,
   "metadata": {},
   "outputs": [],
   "source": [
    "import pandas as pd"
   ]
  },
  {
   "cell_type": "code",
   "execution_count": 18,
   "metadata": {},
   "outputs": [],
   "source": [
    "import numpy as np"
   ]
  },
  {
   "cell_type": "code",
   "execution_count": null,
   "metadata": {},
   "outputs": [],
   "source": []
  }
 ],
 "metadata": {
  "kernelspec": {
   "display_name": "Python 3.9.6 64-bit",
   "language": "python",
   "name": "python3"
  },
  "language_info": {
   "codemirror_mode": {
    "name": "ipython",
    "version": 3
   },
   "file_extension": ".py",
   "mimetype": "text/x-python",
   "name": "python",
   "nbconvert_exporter": "python",
   "pygments_lexer": "ipython3",
   "version": "3.9.6"
  },
  "orig_nbformat": 4,
  "vscode": {
   "interpreter": {
    "hash": "f3d42ad487b2b2994e012ab0306cc0a65d83ea9d079e1ade1e8453053e613de7"
   }
  }
 },
 "nbformat": 4,
 "nbformat_minor": 2
}
