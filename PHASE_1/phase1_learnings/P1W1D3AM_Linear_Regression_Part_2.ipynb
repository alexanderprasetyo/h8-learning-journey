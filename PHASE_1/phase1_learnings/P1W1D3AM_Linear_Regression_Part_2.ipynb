{
  "cells": [
    {
      "cell_type": "markdown",
      "metadata": {
        "id": "ncG5Jb3FMnYP"
      },
      "source": [
        "# Linear Regression"
      ]
    },
    {
      "cell_type": "markdown",
      "metadata": {
        "id": "4Q-XtLyjNx9y"
      },
      "source": [
        "## Import Library"
      ]
    },
    {
      "cell_type": "code",
      "execution_count": null,
      "metadata": {
        "id": "lIYdn1woOS1n"
      },
      "outputs": [],
      "source": [
        "import numpy as np\n",
        "import pandas as pd\n",
        "import matplotlib.pyplot as plt\n",
        "import seaborn as sns"
      ]
    },
    {
      "cell_type": "markdown",
      "metadata": {
        "id": "HLfqBER1N6Ve"
      },
      "source": [
        "## Loading Dataset"
      ]
    },
    {
      "cell_type": "code",
      "execution_count": null,
      "metadata": {
        "id": "HYPu_37ZNi-0"
      },
      "outputs": [],
      "source": [
        "df = pd.read_csv(\"/content/Advertising.csv\")"
      ]
    },
    {
      "cell_type": "code",
      "execution_count": null,
      "metadata": {
        "colab": {
          "base_uri": "https://localhost:8080/",
          "height": 206
        },
        "id": "w6SvxsrONwzD",
        "outputId": "7e959041-1334-498d-ba63-dd57faebfcf2"
      },
      "outputs": [
        {
          "data": {
            "text/html": [
              "\n",
              "  <div id=\"df-f4f4b59a-d2d7-45e9-a939-49cb6fdfe805\">\n",
              "    <div class=\"colab-df-container\">\n",
              "      <div>\n",
              "<style scoped>\n",
              "    .dataframe tbody tr th:only-of-type {\n",
              "        vertical-align: middle;\n",
              "    }\n",
              "\n",
              "    .dataframe tbody tr th {\n",
              "        vertical-align: top;\n",
              "    }\n",
              "\n",
              "    .dataframe thead th {\n",
              "        text-align: right;\n",
              "    }\n",
              "</style>\n",
              "<table border=\"1\" class=\"dataframe\">\n",
              "  <thead>\n",
              "    <tr style=\"text-align: right;\">\n",
              "      <th></th>\n",
              "      <th>TV</th>\n",
              "      <th>radio</th>\n",
              "      <th>newspaper</th>\n",
              "      <th>sales</th>\n",
              "    </tr>\n",
              "  </thead>\n",
              "  <tbody>\n",
              "    <tr>\n",
              "      <th>0</th>\n",
              "      <td>230.1</td>\n",
              "      <td>37.8</td>\n",
              "      <td>69.2</td>\n",
              "      <td>22.1</td>\n",
              "    </tr>\n",
              "    <tr>\n",
              "      <th>1</th>\n",
              "      <td>44.5</td>\n",
              "      <td>39.3</td>\n",
              "      <td>45.1</td>\n",
              "      <td>10.4</td>\n",
              "    </tr>\n",
              "    <tr>\n",
              "      <th>2</th>\n",
              "      <td>17.2</td>\n",
              "      <td>45.9</td>\n",
              "      <td>69.3</td>\n",
              "      <td>9.3</td>\n",
              "    </tr>\n",
              "    <tr>\n",
              "      <th>3</th>\n",
              "      <td>151.5</td>\n",
              "      <td>41.3</td>\n",
              "      <td>58.5</td>\n",
              "      <td>18.5</td>\n",
              "    </tr>\n",
              "    <tr>\n",
              "      <th>4</th>\n",
              "      <td>180.8</td>\n",
              "      <td>10.8</td>\n",
              "      <td>58.4</td>\n",
              "      <td>12.9</td>\n",
              "    </tr>\n",
              "  </tbody>\n",
              "</table>\n",
              "</div>\n",
              "      <button class=\"colab-df-convert\" onclick=\"convertToInteractive('df-f4f4b59a-d2d7-45e9-a939-49cb6fdfe805')\"\n",
              "              title=\"Convert this dataframe to an interactive table.\"\n",
              "              style=\"display:none;\">\n",
              "        \n",
              "  <svg xmlns=\"http://www.w3.org/2000/svg\" height=\"24px\"viewBox=\"0 0 24 24\"\n",
              "       width=\"24px\">\n",
              "    <path d=\"M0 0h24v24H0V0z\" fill=\"none\"/>\n",
              "    <path d=\"M18.56 5.44l.94 2.06.94-2.06 2.06-.94-2.06-.94-.94-2.06-.94 2.06-2.06.94zm-11 1L8.5 8.5l.94-2.06 2.06-.94-2.06-.94L8.5 2.5l-.94 2.06-2.06.94zm10 10l.94 2.06.94-2.06 2.06-.94-2.06-.94-.94-2.06-.94 2.06-2.06.94z\"/><path d=\"M17.41 7.96l-1.37-1.37c-.4-.4-.92-.59-1.43-.59-.52 0-1.04.2-1.43.59L10.3 9.45l-7.72 7.72c-.78.78-.78 2.05 0 2.83L4 21.41c.39.39.9.59 1.41.59.51 0 1.02-.2 1.41-.59l7.78-7.78 2.81-2.81c.8-.78.8-2.07 0-2.86zM5.41 20L4 18.59l7.72-7.72 1.47 1.35L5.41 20z\"/>\n",
              "  </svg>\n",
              "      </button>\n",
              "      \n",
              "  <style>\n",
              "    .colab-df-container {\n",
              "      display:flex;\n",
              "      flex-wrap:wrap;\n",
              "      gap: 12px;\n",
              "    }\n",
              "\n",
              "    .colab-df-convert {\n",
              "      background-color: #E8F0FE;\n",
              "      border: none;\n",
              "      border-radius: 50%;\n",
              "      cursor: pointer;\n",
              "      display: none;\n",
              "      fill: #1967D2;\n",
              "      height: 32px;\n",
              "      padding: 0 0 0 0;\n",
              "      width: 32px;\n",
              "    }\n",
              "\n",
              "    .colab-df-convert:hover {\n",
              "      background-color: #E2EBFA;\n",
              "      box-shadow: 0px 1px 2px rgba(60, 64, 67, 0.3), 0px 1px 3px 1px rgba(60, 64, 67, 0.15);\n",
              "      fill: #174EA6;\n",
              "    }\n",
              "\n",
              "    [theme=dark] .colab-df-convert {\n",
              "      background-color: #3B4455;\n",
              "      fill: #D2E3FC;\n",
              "    }\n",
              "\n",
              "    [theme=dark] .colab-df-convert:hover {\n",
              "      background-color: #434B5C;\n",
              "      box-shadow: 0px 1px 3px 1px rgba(0, 0, 0, 0.15);\n",
              "      filter: drop-shadow(0px 1px 2px rgba(0, 0, 0, 0.3));\n",
              "      fill: #FFFFFF;\n",
              "    }\n",
              "  </style>\n",
              "\n",
              "      <script>\n",
              "        const buttonEl =\n",
              "          document.querySelector('#df-f4f4b59a-d2d7-45e9-a939-49cb6fdfe805 button.colab-df-convert');\n",
              "        buttonEl.style.display =\n",
              "          google.colab.kernel.accessAllowed ? 'block' : 'none';\n",
              "\n",
              "        async function convertToInteractive(key) {\n",
              "          const element = document.querySelector('#df-f4f4b59a-d2d7-45e9-a939-49cb6fdfe805');\n",
              "          const dataTable =\n",
              "            await google.colab.kernel.invokeFunction('convertToInteractive',\n",
              "                                                     [key], {});\n",
              "          if (!dataTable) return;\n",
              "\n",
              "          const docLinkHtml = 'Like what you see? Visit the ' +\n",
              "            '<a target=\"_blank\" href=https://colab.research.google.com/notebooks/data_table.ipynb>data table notebook</a>'\n",
              "            + ' to learn more about interactive tables.';\n",
              "          element.innerHTML = '';\n",
              "          dataTable['output_type'] = 'display_data';\n",
              "          await google.colab.output.renderOutput(dataTable, element);\n",
              "          const docLink = document.createElement('div');\n",
              "          docLink.innerHTML = docLinkHtml;\n",
              "          element.appendChild(docLink);\n",
              "        }\n",
              "      </script>\n",
              "    </div>\n",
              "  </div>\n",
              "  "
            ],
            "text/plain": [
              "      TV  radio  newspaper  sales\n",
              "0  230.1   37.8       69.2   22.1\n",
              "1   44.5   39.3       45.1   10.4\n",
              "2   17.2   45.9       69.3    9.3\n",
              "3  151.5   41.3       58.5   18.5\n",
              "4  180.8   10.8       58.4   12.9"
            ]
          },
          "execution_count": 3,
          "metadata": {},
          "output_type": "execute_result"
        }
      ],
      "source": [
        "df.head()"
      ]
    },
    {
      "cell_type": "code",
      "execution_count": null,
      "metadata": {
        "colab": {
          "base_uri": "https://localhost:8080/"
        },
        "id": "dOdGsfF-emOJ",
        "outputId": "fd012771-7ec9-446e-f1e0-aa44ee1e1e00"
      },
      "outputs": [
        {
          "name": "stdout",
          "output_type": "stream",
          "text": [
            "<class 'pandas.core.frame.DataFrame'>\n",
            "RangeIndex: 200 entries, 0 to 199\n",
            "Data columns (total 4 columns):\n",
            " #   Column     Non-Null Count  Dtype  \n",
            "---  ------     --------------  -----  \n",
            " 0   TV         200 non-null    float64\n",
            " 1   radio      200 non-null    float64\n",
            " 2   newspaper  200 non-null    float64\n",
            " 3   sales      200 non-null    float64\n",
            "dtypes: float64(4)\n",
            "memory usage: 6.4 KB\n"
          ]
        }
      ],
      "source": [
        "df.info()"
      ]
    },
    {
      "cell_type": "code",
      "execution_count": null,
      "metadata": {
        "colab": {
          "base_uri": "https://localhost:8080/"
        },
        "id": "rR57d0qH91R0",
        "outputId": "cd9d66bf-7adb-4eda-cee9-1414427318c6"
      },
      "outputs": [
        {
          "data": {
            "text/plain": [
              "14.0225"
            ]
          },
          "execution_count": 5,
          "metadata": {},
          "output_type": "execute_result"
        }
      ],
      "source": [
        "df.sales.mean()"
      ]
    },
    {
      "cell_type": "markdown",
      "metadata": {
        "id": "dc-uBUlKODeQ"
      },
      "source": [
        "The basic assumptions for the linear regression model are the following:\n",
        "\n",
        "1) A linear relationship exists between the independent variable (X) and dependent variable (y)\n",
        "\n",
        "2) Little or no multicollinearity between the different features\n",
        "\n",
        "3) Residuals should be normally distributed (multi-variate normality)\n",
        "\n",
        "4) Little or no autocorrelation among residues\n",
        "\n",
        "5) Homoscedasticity of the errors. error should be random to all your predicted values\n",
        "\n",
        "source : https://towardsdatascience.com/linear-regression-and-its-assumptions-ef6e8db4904d"
      ]
    },
    {
      "cell_type": "code",
      "execution_count": null,
      "metadata": {
        "id": "rEWaRttnN_8X"
      },
      "outputs": [],
      "source": [
        "df['total_spend'] = df['TV'] + df['radio'] + df['newspaper']"
      ]
    },
    {
      "cell_type": "code",
      "execution_count": null,
      "metadata": {
        "colab": {
          "base_uri": "https://localhost:8080/",
          "height": 206
        },
        "id": "Z6jldYusWxTD",
        "outputId": "896035a6-328a-465b-f382-79f2e7be878e"
      },
      "outputs": [
        {
          "data": {
            "text/html": [
              "\n",
              "  <div id=\"df-c992a0ba-8c62-4217-bfc7-8609a1fc98ab\">\n",
              "    <div class=\"colab-df-container\">\n",
              "      <div>\n",
              "<style scoped>\n",
              "    .dataframe tbody tr th:only-of-type {\n",
              "        vertical-align: middle;\n",
              "    }\n",
              "\n",
              "    .dataframe tbody tr th {\n",
              "        vertical-align: top;\n",
              "    }\n",
              "\n",
              "    .dataframe thead th {\n",
              "        text-align: right;\n",
              "    }\n",
              "</style>\n",
              "<table border=\"1\" class=\"dataframe\">\n",
              "  <thead>\n",
              "    <tr style=\"text-align: right;\">\n",
              "      <th></th>\n",
              "      <th>total_spend</th>\n",
              "      <th>sales</th>\n",
              "    </tr>\n",
              "  </thead>\n",
              "  <tbody>\n",
              "    <tr>\n",
              "      <th>0</th>\n",
              "      <td>337.1</td>\n",
              "      <td>22.1</td>\n",
              "    </tr>\n",
              "    <tr>\n",
              "      <th>1</th>\n",
              "      <td>128.9</td>\n",
              "      <td>10.4</td>\n",
              "    </tr>\n",
              "    <tr>\n",
              "      <th>2</th>\n",
              "      <td>132.4</td>\n",
              "      <td>9.3</td>\n",
              "    </tr>\n",
              "    <tr>\n",
              "      <th>3</th>\n",
              "      <td>251.3</td>\n",
              "      <td>18.5</td>\n",
              "    </tr>\n",
              "    <tr>\n",
              "      <th>4</th>\n",
              "      <td>250.0</td>\n",
              "      <td>12.9</td>\n",
              "    </tr>\n",
              "  </tbody>\n",
              "</table>\n",
              "</div>\n",
              "      <button class=\"colab-df-convert\" onclick=\"convertToInteractive('df-c992a0ba-8c62-4217-bfc7-8609a1fc98ab')\"\n",
              "              title=\"Convert this dataframe to an interactive table.\"\n",
              "              style=\"display:none;\">\n",
              "        \n",
              "  <svg xmlns=\"http://www.w3.org/2000/svg\" height=\"24px\"viewBox=\"0 0 24 24\"\n",
              "       width=\"24px\">\n",
              "    <path d=\"M0 0h24v24H0V0z\" fill=\"none\"/>\n",
              "    <path d=\"M18.56 5.44l.94 2.06.94-2.06 2.06-.94-2.06-.94-.94-2.06-.94 2.06-2.06.94zm-11 1L8.5 8.5l.94-2.06 2.06-.94-2.06-.94L8.5 2.5l-.94 2.06-2.06.94zm10 10l.94 2.06.94-2.06 2.06-.94-2.06-.94-.94-2.06-.94 2.06-2.06.94z\"/><path d=\"M17.41 7.96l-1.37-1.37c-.4-.4-.92-.59-1.43-.59-.52 0-1.04.2-1.43.59L10.3 9.45l-7.72 7.72c-.78.78-.78 2.05 0 2.83L4 21.41c.39.39.9.59 1.41.59.51 0 1.02-.2 1.41-.59l7.78-7.78 2.81-2.81c.8-.78.8-2.07 0-2.86zM5.41 20L4 18.59l7.72-7.72 1.47 1.35L5.41 20z\"/>\n",
              "  </svg>\n",
              "      </button>\n",
              "      \n",
              "  <style>\n",
              "    .colab-df-container {\n",
              "      display:flex;\n",
              "      flex-wrap:wrap;\n",
              "      gap: 12px;\n",
              "    }\n",
              "\n",
              "    .colab-df-convert {\n",
              "      background-color: #E8F0FE;\n",
              "      border: none;\n",
              "      border-radius: 50%;\n",
              "      cursor: pointer;\n",
              "      display: none;\n",
              "      fill: #1967D2;\n",
              "      height: 32px;\n",
              "      padding: 0 0 0 0;\n",
              "      width: 32px;\n",
              "    }\n",
              "\n",
              "    .colab-df-convert:hover {\n",
              "      background-color: #E2EBFA;\n",
              "      box-shadow: 0px 1px 2px rgba(60, 64, 67, 0.3), 0px 1px 3px 1px rgba(60, 64, 67, 0.15);\n",
              "      fill: #174EA6;\n",
              "    }\n",
              "\n",
              "    [theme=dark] .colab-df-convert {\n",
              "      background-color: #3B4455;\n",
              "      fill: #D2E3FC;\n",
              "    }\n",
              "\n",
              "    [theme=dark] .colab-df-convert:hover {\n",
              "      background-color: #434B5C;\n",
              "      box-shadow: 0px 1px 3px 1px rgba(0, 0, 0, 0.15);\n",
              "      filter: drop-shadow(0px 1px 2px rgba(0, 0, 0, 0.3));\n",
              "      fill: #FFFFFF;\n",
              "    }\n",
              "  </style>\n",
              "\n",
              "      <script>\n",
              "        const buttonEl =\n",
              "          document.querySelector('#df-c992a0ba-8c62-4217-bfc7-8609a1fc98ab button.colab-df-convert');\n",
              "        buttonEl.style.display =\n",
              "          google.colab.kernel.accessAllowed ? 'block' : 'none';\n",
              "\n",
              "        async function convertToInteractive(key) {\n",
              "          const element = document.querySelector('#df-c992a0ba-8c62-4217-bfc7-8609a1fc98ab');\n",
              "          const dataTable =\n",
              "            await google.colab.kernel.invokeFunction('convertToInteractive',\n",
              "                                                     [key], {});\n",
              "          if (!dataTable) return;\n",
              "\n",
              "          const docLinkHtml = 'Like what you see? Visit the ' +\n",
              "            '<a target=\"_blank\" href=https://colab.research.google.com/notebooks/data_table.ipynb>data table notebook</a>'\n",
              "            + ' to learn more about interactive tables.';\n",
              "          element.innerHTML = '';\n",
              "          dataTable['output_type'] = 'display_data';\n",
              "          await google.colab.output.renderOutput(dataTable, element);\n",
              "          const docLink = document.createElement('div');\n",
              "          docLink.innerHTML = docLinkHtml;\n",
              "          element.appendChild(docLink);\n",
              "        }\n",
              "      </script>\n",
              "    </div>\n",
              "  </div>\n",
              "  "
            ],
            "text/plain": [
              "   total_spend  sales\n",
              "0        337.1   22.1\n",
              "1        128.9   10.4\n",
              "2        132.4    9.3\n",
              "3        251.3   18.5\n",
              "4        250.0   12.9"
            ]
          },
          "execution_count": 7,
          "metadata": {},
          "output_type": "execute_result"
        }
      ],
      "source": [
        "df[['total_spend','sales']].head()"
      ]
    },
    {
      "cell_type": "code",
      "execution_count": null,
      "metadata": {
        "colab": {
          "base_uri": "https://localhost:8080/",
          "height": 297
        },
        "id": "zOeFnQiISUWd",
        "outputId": "e85a6823-0df6-4666-e221-65b03c266089"
      },
      "outputs": [
        {
          "data": {
            "text/plain": [
              "<matplotlib.axes._subplots.AxesSubplot at 0x7f3a48d1d210>"
            ]
          },
          "execution_count": 8,
          "metadata": {},
          "output_type": "execute_result"
        },
        {
          "data": {
            "image/png": "[encoded data removed]",
            "text/plain": [
              "<Figure size 432x288 with 1 Axes>"
            ]
          },
          "metadata": {
            "needs_background": "light"
          },
          "output_type": "display_data"
        }
      ],
      "source": [
        "sns.scatterplot(x='total_spend',y='sales',data=df)"
      ]
    },
    {
      "cell_type": "code",
      "execution_count": null,
      "metadata": {
        "colab": {
          "base_uri": "https://localhost:8080/",
          "height": 297
        },
        "id": "p2FFLIQUS-Rw",
        "outputId": "ca30770c-23dd-44cd-bbcd-fadcec9da3fa"
      },
      "outputs": [
        {
          "data": {
            "text/plain": [
              "<matplotlib.axes._subplots.AxesSubplot at 0x7f3a483b9810>"
            ]
          },
          "execution_count": 9,
          "metadata": {},
          "output_type": "execute_result"
        },
        {
          "data": {
            "image/png": "[encoded data removed]",
            "text/plain": [
              "<Figure size 432x288 with 1 Axes>"
            ]
          },
          "metadata": {
            "needs_background": "light"
          },
          "output_type": "display_data"
        }
      ],
      "source": [
        "sns.regplot(x='total_spend',y='sales',data=df)"
      ]
    },
    {
      "cell_type": "markdown",
      "metadata": {
        "id": "dkz7k3xwTjpU"
      },
      "source": [
        "Let's go ahead and start solving: $$y=wx+c$$"
      ]
    },
    {
      "cell_type": "code",
      "execution_count": null,
      "metadata": {
        "id": "pM4xcaNETSC5"
      },
      "outputs": [],
      "source": [
        "X = df['total_spend']\n",
        "y = df['sales']"
      ]
    },
    {
      "cell_type": "markdown",
      "metadata": {
        "id": "EyVVNIuDT6WP"
      },
      "source": [
        "## Train Model"
      ]
    },
    {
      "cell_type": "code",
      "execution_count": null,
      "metadata": {
        "colab": {
          "base_uri": "https://localhost:8080/"
        },
        "id": "eXu4be4ETpQt",
        "outputId": "08d779fb-2e49-46c3-ab5a-1f56cf8ddde7"
      },
      "outputs": [
        {
          "data": {
            "text/plain": [
              "array([0.04868788, 4.24302822])"
            ]
          },
          "execution_count": 11,
          "metadata": {},
          "output_type": "execute_result"
        }
      ],
      "source": [
        "np.polyfit(X,y,1)"
      ]
    },
    {
      "cell_type": "markdown",
      "metadata": {
        "id": "nsLWYVRrUsom"
      },
      "source": [
        "implement the formula: $$y=mx+b$$"
      ]
    },
    {
      "cell_type": "code",
      "execution_count": null,
      "metadata": {
        "id": "pQOQsu_bUFte"
      },
      "outputs": [],
      "source": [
        "y =  0.04868788*X + 4.24302822"
      ]
    },
    {
      "cell_type": "markdown",
      "metadata": {
        "id": "MsTnsKcBZAnX"
      },
      "source": [
        "## Result"
      ]
    },
    {
      "cell_type": "code",
      "execution_count": null,
      "metadata": {
        "colab": {
          "base_uri": "https://localhost:8080/",
          "height": 297
        },
        "id": "_IPm1NHlUizK",
        "outputId": "48f989c9-dc1d-4380-c2b6-8eaf3a30bfc5"
      },
      "outputs": [
        {
          "data": {
            "text/plain": [
              "[<matplotlib.lines.Line2D at 0x7f3a47ebb890>]"
            ]
          },
          "execution_count": 13,
          "metadata": {},
          "output_type": "execute_result"
        },
        {
          "data": {
            "image/png": "[encoded data removed]",
            "text/plain": [
              "<Figure size 432x288 with 1 Axes>"
            ]
          },
          "metadata": {
            "needs_background": "light"
          },
          "output_type": "display_data"
        }
      ],
      "source": [
        "sns.scatterplot(x='total_spend',y='sales',data=df)\n",
        "plt.plot(X,y,color='red')"
      ]
    },
    {
      "cell_type": "markdown",
      "metadata": {
        "id": "MmulsGAgbsJL"
      },
      "source": [
        "# Linear Regression with Scikit Learn"
      ]
    },
    {
      "cell_type": "code",
      "execution_count": null,
      "metadata": {
        "colab": {
          "base_uri": "https://localhost:8080/",
          "height": 920
        },
        "id": "Lgsp48PVaI98",
        "outputId": "51831de5-695f-40c7-c59d-dcc9502ed59b"
      },
      "outputs": [
        {
          "data": {
            "text/plain": [
              "<seaborn.axisgrid.PairGrid at 0x7f3a47ed8850>"
            ]
          },
          "execution_count": 14,
          "metadata": {},
          "output_type": "execute_result"
        },
        {
          "data": {
            "image/png": "[encoded data removed]",
            "text/plain": [
              "<Figure size 900x900 with 30 Axes>"
            ]
          },
          "metadata": {
            "needs_background": "light"
          },
          "output_type": "display_data"
        }
      ],
      "source": [
        "sns.pairplot(df,diag_kind='kde')"
      ]
    },
    {
      "cell_type": "code",
      "execution_count": null,
      "metadata": {
        "colab": {
          "base_uri": "https://localhost:8080/",
          "height": 325
        },
        "id": "EJ6eYA6HhMTm",
        "outputId": "5cecb4ba-5863-43ed-bdf3-cc0113051349"
      },
      "outputs": [
        {
          "data": {
            "image/png": "[encoded data removed]",
            "text/plain": [
              "<Figure size 720x360 with 2 Axes>"
            ]
          },
          "metadata": {
            "needs_background": "light"
          },
          "output_type": "display_data"
        }
      ],
      "source": [
        "corr = df.corr()\n",
        "\n",
        "plt.figure(figsize=(10, 5))\n",
        "sns.heatmap(corr, annot= True, vmin=0, vmax=1)\n",
        "plt.show()"
      ]
    },
    {
      "cell_type": "code",
      "execution_count": null,
      "metadata": {
        "id": "h_Oy_gpqbzBT"
      },
      "outputs": [],
      "source": [
        "X = df.drop(['sales','total_spend'],axis=1)\n",
        "y = df['sales']"
      ]
    },
    {
      "cell_type": "markdown",
      "metadata": {
        "id": "uTnphS0xEmGp"
      },
      "source": [
        "## VIF \n",
        "multicollinearity test"
      ]
    },
    {
      "cell_type": "code",
      "execution_count": null,
      "metadata": {
        "id": "ywqNFwi2ElZS"
      },
      "outputs": [],
      "source": [
        "from statsmodels.stats.outliers_influence import variance_inflation_factor\n",
        "\n",
        "def calc_vif(X):\n",
        "\n",
        "    # Calculating VIF\n",
        "    vif = pd.DataFrame()\n",
        "    vif[\"variables\"] = X.columns\n",
        "    vif[\"VIF\"] = [variance_inflation_factor(X.values, i) for i in range(X.shape[1])]\n",
        "\n",
        "    return(vif)"
      ]
    },
    {
      "cell_type": "markdown",
      "metadata": {
        "id": "1R-HJlL7FIRL"
      },
      "source": [
        "VIF exceeding 5 or 10 indicates high multicollinearity between this independent variable and the others"
      ]
    },
    {
      "cell_type": "code",
      "execution_count": null,
      "metadata": {
        "colab": {
          "base_uri": "https://localhost:8080/",
          "height": 143
        },
        "id": "KtPh0JmOE2bi",
        "outputId": "cf5735a5-d4af-4c8e-fa7c-a3a91415c149"
      },
      "outputs": [
        {
          "data": {
            "text/html": [
              "\n",
              "  <div id=\"df-a840d1f1-76ad-49e2-bad3-1f272a9ebd63\">\n",
              "    <div class=\"colab-df-container\">\n",
              "      <div>\n",
              "<style scoped>\n",
              "    .dataframe tbody tr th:only-of-type {\n",
              "        vertical-align: middle;\n",
              "    }\n",
              "\n",
              "    .dataframe tbody tr th {\n",
              "        vertical-align: top;\n",
              "    }\n",
              "\n",
              "    .dataframe thead th {\n",
              "        text-align: right;\n",
              "    }\n",
              "</style>\n",
              "<table border=\"1\" class=\"dataframe\">\n",
              "  <thead>\n",
              "    <tr style=\"text-align: right;\">\n",
              "      <th></th>\n",
              "      <th>variables</th>\n",
              "      <th>VIF</th>\n",
              "    </tr>\n",
              "  </thead>\n",
              "  <tbody>\n",
              "    <tr>\n",
              "      <th>0</th>\n",
              "      <td>TV</td>\n",
              "      <td>2.486772</td>\n",
              "    </tr>\n",
              "    <tr>\n",
              "      <th>1</th>\n",
              "      <td>radio</td>\n",
              "      <td>3.285462</td>\n",
              "    </tr>\n",
              "    <tr>\n",
              "      <th>2</th>\n",
              "      <td>newspaper</td>\n",
              "      <td>3.055245</td>\n",
              "    </tr>\n",
              "  </tbody>\n",
              "</table>\n",
              "</div>\n",
              "      <button class=\"colab-df-convert\" onclick=\"convertToInteractive('df-a840d1f1-76ad-49e2-bad3-1f272a9ebd63')\"\n",
              "              title=\"Convert this dataframe to an interactive table.\"\n",
              "              style=\"display:none;\">\n",
              "        \n",
              "  <svg xmlns=\"http://www.w3.org/2000/svg\" height=\"24px\"viewBox=\"0 0 24 24\"\n",
              "       width=\"24px\">\n",
              "    <path d=\"M0 0h24v24H0V0z\" fill=\"none\"/>\n",
              "    <path d=\"M18.56 5.44l.94 2.06.94-2.06 2.06-.94-2.06-.94-.94-2.06-.94 2.06-2.06.94zm-11 1L8.5 8.5l.94-2.06 2.06-.94-2.06-.94L8.5 2.5l-.94 2.06-2.06.94zm10 10l.94 2.06.94-2.06 2.06-.94-2.06-.94-.94-2.06-.94 2.06-2.06.94z\"/><path d=\"M17.41 7.96l-1.37-1.37c-.4-.4-.92-.59-1.43-.59-.52 0-1.04.2-1.43.59L10.3 9.45l-7.72 7.72c-.78.78-.78 2.05 0 2.83L4 21.41c.39.39.9.59 1.41.59.51 0 1.02-.2 1.41-.59l7.78-7.78 2.81-2.81c.8-.78.8-2.07 0-2.86zM5.41 20L4 18.59l7.72-7.72 1.47 1.35L5.41 20z\"/>\n",
              "  </svg>\n",
              "      </button>\n",
              "      \n",
              "  <style>\n",
              "    .colab-df-container {\n",
              "      display:flex;\n",
              "      flex-wrap:wrap;\n",
              "      gap: 12px;\n",
              "    }\n",
              "\n",
              "    .colab-df-convert {\n",
              "      background-color: #E8F0FE;\n",
              "      border: none;\n",
              "      border-radius: 50%;\n",
              "      cursor: pointer;\n",
              "      display: none;\n",
              "      fill: #1967D2;\n",
              "      height: 32px;\n",
              "      padding: 0 0 0 0;\n",
              "      width: 32px;\n",
              "    }\n",
              "\n",
              "    .colab-df-convert:hover {\n",
              "      background-color: #E2EBFA;\n",
              "      box-shadow: 0px 1px 2px rgba(60, 64, 67, 0.3), 0px 1px 3px 1px rgba(60, 64, 67, 0.15);\n",
              "      fill: #174EA6;\n",
              "    }\n",
              "\n",
              "    [theme=dark] .colab-df-convert {\n",
              "      background-color: #3B4455;\n",
              "      fill: #D2E3FC;\n",
              "    }\n",
              "\n",
              "    [theme=dark] .colab-df-convert:hover {\n",
              "      background-color: #434B5C;\n",
              "      box-shadow: 0px 1px 3px 1px rgba(0, 0, 0, 0.15);\n",
              "      filter: drop-shadow(0px 1px 2px rgba(0, 0, 0, 0.3));\n",
              "      fill: #FFFFFF;\n",
              "    }\n",
              "  </style>\n",
              "\n",
              "      <script>\n",
              "        const buttonEl =\n",
              "          document.querySelector('#df-a840d1f1-76ad-49e2-bad3-1f272a9ebd63 button.colab-df-convert');\n",
              "        buttonEl.style.display =\n",
              "          google.colab.kernel.accessAllowed ? 'block' : 'none';\n",
              "\n",
              "        async function convertToInteractive(key) {\n",
              "          const element = document.querySelector('#df-a840d1f1-76ad-49e2-bad3-1f272a9ebd63');\n",
              "          const dataTable =\n",
              "            await google.colab.kernel.invokeFunction('convertToInteractive',\n",
              "                                                     [key], {});\n",
              "          if (!dataTable) return;\n",
              "\n",
              "          const docLinkHtml = 'Like what you see? Visit the ' +\n",
              "            '<a target=\"_blank\" href=https://colab.research.google.com/notebooks/data_table.ipynb>data table notebook</a>'\n",
              "            + ' to learn more about interactive tables.';\n",
              "          element.innerHTML = '';\n",
              "          dataTable['output_type'] = 'display_data';\n",
              "          await google.colab.output.renderOutput(dataTable, element);\n",
              "          const docLink = document.createElement('div');\n",
              "          docLink.innerHTML = docLinkHtml;\n",
              "          element.appendChild(docLink);\n",
              "        }\n",
              "      </script>\n",
              "    </div>\n",
              "  </div>\n",
              "  "
            ],
            "text/plain": [
              "   variables       VIF\n",
              "0         TV  2.486772\n",
              "1      radio  3.285462\n",
              "2  newspaper  3.055245"
            ]
          },
          "execution_count": 18,
          "metadata": {},
          "output_type": "execute_result"
        }
      ],
      "source": [
        "X = df.iloc[:,:-2]\n",
        "calc_vif(X)"
      ]
    },
    {
      "cell_type": "markdown",
      "metadata": {
        "id": "vEIj1j_wfkJQ"
      },
      "source": [
        "## Train Test Split"
      ]
    },
    {
      "cell_type": "code",
      "execution_count": null,
      "metadata": {
        "id": "MwsLkKkCdEWr"
      },
      "outputs": [],
      "source": [
        "from sklearn.model_selection import train_test_split\n",
        "X_train, X_test, y_train, y_test = train_test_split(X, y, test_size=0.2, random_state=101)"
      ]
    },
    {
      "cell_type": "markdown",
      "metadata": {
        "id": "iaSJ6xyDgTst"
      },
      "source": [
        "## Scaling"
      ]
    },
    {
      "cell_type": "code",
      "execution_count": null,
      "metadata": {
        "id": "KE94ifCbgXbo"
      },
      "outputs": [],
      "source": [
        "from sklearn.preprocessing import StandardScaler,MinMaxScaler,RobustScaler\n",
        "\n",
        "scaler = StandardScaler()\n",
        "scaler.fit(X_train)\n",
        "\n",
        "X_train_scaled = scaler.transform(X_train)\n",
        "X_test_scaled = scaler.transform(X_test)"
      ]
    },
    {
      "cell_type": "markdown",
      "metadata": {
        "id": "rHVBQS1cjzhw"
      },
      "source": [
        "<img src='https://sphweb.bumc.bu.edu/otlt/MPH-Modules/PH717-QuantCore/PH717-Module6-RandomError/Normal%20Distribution%20deviations.png'>\n"
      ]
    },
    {
      "cell_type": "markdown",
      "metadata": {
        "id": "kXTF9CIeqV0A"
      },
      "source": [
        "Z-score formula :     \n",
        "\n",
        "$$\n",
        "\\begin{equation}Z = \\frac{x - \\bar{x}}{s}\\end{equation}\n",
        "$$"
      ]
    },
    {
      "cell_type": "code",
      "execution_count": null,
      "metadata": {
        "colab": {
          "base_uri": "https://localhost:8080/"
        },
        "id": "VzjBEGLTq4Ec",
        "outputId": "990b8906-9a12-4bfb-9cfa-0436939361fa"
      },
      "outputs": [
        {
          "name": "stdout",
          "output_type": "stream",
          "text": [
            "[[-1.  1.  4.]\n",
            " [-0. -1. -0.]\n",
            " [-1. -1.  0.]\n",
            " [-2. -0.  1.]\n",
            " [-1.  0. -0.]\n",
            " [-1. -0. -1.]\n",
            " [-2.  0. -1.]\n",
            " [ 1. -1.  1.]\n",
            " [ 0. -1.  1.]\n",
            " [ 1.  2.  1.]\n",
            " [-1.  1.  1.]\n",
            " [ 1. -1. -0.]\n",
            " [ 2. -1. -0.]\n",
            " [-0. -1. -1.]\n",
            " [ 1. -1. -0.]\n",
            " [-2. -1. -1.]\n",
            " [ 1.  1. -1.]\n",
            " [-1.  1. -1.]\n",
            " [ 1. -0. -1.]\n",
            " [ 0. -0.  0.]\n",
            " [ 1. -0.  2.]\n",
            " [ 2.  1.  2.]\n",
            " [-1. -2. -1.]\n",
            " [ 0.  2.  1.]\n",
            " [ 1. -1.  1.]\n",
            " [ 1.  1.  2.]\n",
            " [ 0. -0. -1.]\n",
            " [-1.  2.  0.]\n",
            " [-0.  1.  2.]\n",
            " [-0.  1. -0.]\n",
            " [ 1. -1.  2.]\n",
            " [-1. -1. -1.]\n",
            " [ 2. -1. -1.]\n",
            " [-1. -2. -1.]\n",
            " [-1. -1. -1.]\n",
            " [ 1.  1.  0.]\n",
            " [-1.  1.  1.]\n",
            " [ 1.  2.  1.]\n",
            " [-2.  0.  0.]\n",
            " [ 1. -1. -1.]\n",
            " [ 2. -1.  0.]\n",
            " [-0. -0.  0.]\n",
            " [-1. -1. -0.]\n",
            " [ 1.  1. -1.]\n",
            " [ 0.  1. -1.]\n",
            " [ 1. -0. -0.]\n",
            " [-2. -1.  0.]\n",
            " [ 1. -1. -1.]\n",
            " [ 1.  1. -1.]\n",
            " [ 0. -1. -1.]\n",
            " [-1. -1.  0.]\n",
            " [ 1. -1. -0.]\n",
            " [-1.  2. -1.]\n",
            " [-1. -0.  0.]\n",
            " [ 1. -1. -1.]\n",
            " [-0.  0.  1.]\n",
            " [-1. -1.  0.]\n",
            " [-0.  0. -1.]\n",
            " [-0. -0. -1.]\n",
            " [-1. -0.  0.]\n",
            " [-0. -1. -1.]\n",
            " [ 2.  1.  1.]\n",
            " [-0. -1. -0.]\n",
            " [-1.  1.  2.]\n",
            " [ 1. -0. -0.]\n",
            " [ 1.  0. -1.]\n",
            " [-2. -2. -0.]\n",
            " [ 1.  0. -1.]\n",
            " [ 2.  1.  3.]\n",
            " [ 0. -1.  0.]\n",
            " [-1.  0.  2.]\n",
            " [-1.  1. -0.]\n",
            " [-1. -1. -1.]\n",
            " [ 1.  0. -0.]\n",
            " [ 0.  0. -1.]\n",
            " [ 1.  1. -0.]\n",
            " [ 1.  1.  1.]\n",
            " [ 1. -1.  1.]\n",
            " [ 1.  1.  0.]\n",
            " [ 1. -1. -0.]\n",
            " [ 0.  1.  1.]\n",
            " [ 0. -0. -0.]\n",
            " [ 2. -1. -1.]\n",
            " [-0. -1. -1.]\n",
            " [ 1. -0. -1.]\n",
            " [ 0.  1. -1.]\n",
            " [-0.  1. -1.]\n",
            " [ 2.  1.  2.]\n",
            " [ 1.  1.  1.]\n",
            " [ 1.  2.  0.]\n",
            " [-2.  1. -1.]\n",
            " [ 1.  1. -1.]\n",
            " [-2.  1. -0.]\n",
            " [-0.  0. -1.]\n",
            " [ 1. -1. -1.]\n",
            " [-1.  0. -1.]\n",
            " [ 0.  1. -1.]\n",
            " [ 1.  0.  1.]\n",
            " [-0. -1.  1.]\n",
            " [-1. -1. -0.]\n",
            " [ 2.  0.  1.]\n",
            " [ 0. -0.  1.]\n",
            " [ 1.  1.  2.]\n",
            " [ 0. -0. -0.]\n",
            " [ 2.  1.  1.]\n",
            " [ 1. -0. -0.]\n",
            " [-1. -1. -0.]\n",
            " [-0. -1. -0.]\n",
            " [ 1.  1.  2.]\n",
            " [ 0. -1. -1.]\n",
            " [-1. -1.  0.]\n",
            " [-1.  1.  1.]\n",
            " [-0. -1.  0.]\n",
            " [ 1. -1. -1.]\n",
            " [-0. -1.  0.]\n",
            " [-1.  0.  0.]\n",
            " [ 0. -0. -1.]\n",
            " [ 2. -1. -1.]\n",
            " [-0. -0. -1.]\n",
            " [-2. -1. -0.]\n",
            " [ 1.  0. -0.]\n",
            " [-0.  1.  1.]\n",
            " [ 1. -1. -0.]\n",
            " [-2. -1. -1.]\n",
            " [-0.  2.  1.]\n",
            " [ 1.  2. -1.]\n",
            " [ 0.  1. -1.]\n",
            " [-1. -2. -0.]\n",
            " [-1. -1. -0.]\n",
            " [-1.  0. -0.]\n",
            " [-2.  1.  1.]\n",
            " [-0.  0. -1.]\n",
            " [-1.  1. -1.]\n",
            " [-1.  0.  1.]\n",
            " [ 0. -0. -0.]\n",
            " [ 1.  0. -1.]\n",
            " [ 1. -1. -0.]\n",
            " [ 0. -2. -0.]\n",
            " [-1.  1.  1.]\n",
            " [-1.  1. -1.]\n",
            " [ 1.  1. -0.]\n",
            " [-1.  1.  0.]\n",
            " [-1. -1.  0.]\n",
            " [-1. -1. -1.]\n",
            " [-1. -0. -1.]\n",
            " [-2.  2.  2.]\n",
            " [ 1. -1.  1.]\n",
            " [-1. -1. -0.]\n",
            " [ 1.  0.  1.]\n",
            " [-1. -1. -1.]\n",
            " [-2.  0. -1.]\n",
            " [ 1. -0.  0.]\n",
            " [ 1.  0.  1.]\n",
            " [-2.  1.  3.]\n",
            " [-0.  1.  1.]\n",
            " [-1.  0. -1.]\n",
            " [ 1.  1.  0.]\n",
            " [ 1. -1.  0.]\n",
            " [ 1.  0. -1.]\n",
            " [ 0.  1.  1.]]\n"
          ]
        }
      ],
      "source": [
        "print(np.round_(X_train_scaled))"
      ]
    },
    {
      "cell_type": "markdown",
      "metadata": {
        "id": "3BreJxAbxru8"
      },
      "source": [
        "## No Autocorrelation Test"
      ]
    },
    {
      "cell_type": "markdown",
      "metadata": {
        "id": "YtPAHZ4enri_"
      },
      "source": [
        "Linear regression model assumes that error terms are independent. This means that the error term of one observation is not influenced by the error term of another observation. In case it is not so, it is termed as autocorrelation.\n",
        "\n",
        "It is generally observed in time series data. Time series data consists of observations for which data is collected at discrete points in time. Usually, observations at adjacent time intervals will have correlated errors."
      ]
    },
    {
      "cell_type": "code",
      "execution_count": null,
      "metadata": {
        "colab": {
          "base_uri": "https://localhost:8080/"
        },
        "id": "7J5bFzqQVkUk",
        "outputId": "b1d8fc3c-82ea-4632-d1bf-1b14e79dbacc"
      },
      "outputs": [
        {
          "name": "stdout",
          "output_type": "stream",
          "text": [
            "                            OLS Regression Results                            \n",
            "==============================================================================\n",
            "Dep. Variable:                  sales   R-squared:                       0.897\n",
            "Model:                            OLS   Adj. R-squared:                  0.896\n",
            "Method:                 Least Squares   F-statistic:                     570.3\n",
            "Date:                Tue, 06 Sep 2022   Prob (F-statistic):           1.58e-96\n",
            "Time:                        16:01:18   Log-Likelihood:                -386.18\n",
            "No. Observations:                 200   AIC:                             780.4\n",
            "Df Residuals:                     196   BIC:                             793.6\n",
            "Df Model:                           3                                         \n",
            "Covariance Type:            nonrobust                                         \n",
            "==============================================================================\n",
            "                 coef    std err          t      P>|t|      [0.025      0.975]\n",
            "------------------------------------------------------------------------------\n",
            "const          2.9389      0.312      9.422      0.000       2.324       3.554\n",
            "TV             0.0458      0.001     32.809      0.000       0.043       0.049\n",
            "radio          0.1885      0.009     21.893      0.000       0.172       0.206\n",
            "newspaper     -0.0010      0.006     -0.177      0.860      -0.013       0.011\n",
            "==============================================================================\n",
            "Omnibus:                       60.414   Durbin-Watson:                   2.084\n",
            "Prob(Omnibus):                  0.000   Jarque-Bera (JB):              151.241\n",
            "Skew:                          -1.327   Prob(JB):                     1.44e-33\n",
            "Kurtosis:                       6.332   Cond. No.                         454.\n",
            "==============================================================================\n",
            "\n",
            "Notes:\n",
            "[1] Standard Errors assume that the covariance matrix of the errors is correctly specified.\n"
          ]
        },
        {
          "name": "stderr",
          "output_type": "stream",
          "text": [
            "/usr/local/lib/python3.7/dist-packages/statsmodels/tsa/tsatools.py:142: FutureWarning: In a future version of pandas all arguments of concat except for the argument 'objs' will be keyword-only\n",
            "  x = pd.concat(x[::order], 1)\n"
          ]
        }
      ],
      "source": [
        "import statsmodels.api as sm\n",
        "\n",
        "# Define the modell\n",
        "feature = sm.add_constant(X)\n",
        "mod = sm.OLS(y, feature)\n",
        "\n",
        "# Fit the model\n",
        "result = mod.fit()\n",
        "\n",
        "# Print the model summary\n",
        "print(result.summary())"
      ]
    },
    {
      "cell_type": "markdown",
      "metadata": {
        "id": "4voy_ypDfnNL"
      },
      "source": [
        "<img src='https://www.researchgate.net/profile/Sc-Thushara/post/How-to-choose-significance-level-for-Durbin-Watson-Statistics/attachment/5a52bbd6b53d2f0bba499b3b/AS%3A580324195553280%401515371478750/image/DW.jpg'>"
      ]
    },
    {
      "cell_type": "markdown",
      "metadata": {
        "id": "iOog0XNfJFeY"
      },
      "source": [
        "## ACF Plot (Autocorrelation Test)"
      ]
    },
    {
      "cell_type": "code",
      "execution_count": null,
      "metadata": {
        "id": "wylsMpj9Gd3i"
      },
      "outputs": [],
      "source": [
        "df.sample(200)"
      ]
    },
    {
      "cell_type": "code",
      "execution_count": null,
      "metadata": {
        "colab": {
          "base_uri": "https://localhost:8080/",
          "height": 601
        },
        "id": "FYDTEfivIiIs",
        "outputId": "6937b213-c2e9-4460-860b-85ad82e8528a"
      },
      "outputs": [
        {
          "data": {
            "image/png": "[encoded data removed]",
            "text/plain": [
              "<Figure size 720x360 with 1 Axes>"
            ]
          },
          "metadata": {
            "needs_background": "light"
          },
          "output_type": "display_data"
        },
        {
          "data": {
            "text/plain": [
              "<Figure size 720x360 with 0 Axes>"
            ]
          },
          "metadata": {},
          "output_type": "display_data"
        },
        {
          "data": {
            "image/png": "[encoded data removed]",
            "text/plain": [
              "<Figure size 432x288 with 1 Axes>"
            ]
          },
          "metadata": {
            "needs_background": "light"
          },
          "output_type": "display_data"
        }
      ],
      "source": [
        "from statsmodels.graphics.tsaplots import plot_acf\n",
        "\n",
        "plt.figure(figsize=(10,5))\n",
        "plt.plot(X.TV)\n",
        "\n",
        "plt.figure(figsize=(10,5))\n",
        "plot_acf(X.TV, lags=90)\n",
        "plt.show()\n"
      ]
    },
    {
      "cell_type": "markdown",
      "metadata": {
        "id": "Wzp1X274UJsN"
      },
      "source": [
        "What you can see here are bars and a horizontal cone. This cone pictures the confidence level (by default set to 95%). In other words, if the point is outside the cone (on white) you may say that with 95% probability is has a certain impact on values. If the bar is inside the cone (on blue) you may ignore this particular lag as most likely it is not relevant"
      ]
    },
    {
      "cell_type": "markdown",
      "metadata": {
        "id": "wu_py35gXAMc"
      },
      "source": [
        "https://www.alpharithms.com/autocorrelation-time-series-python-432909/"
      ]
    },
    {
      "cell_type": "markdown",
      "metadata": {
        "id": "X9WiJ6JXfqdO"
      },
      "source": [
        "## Model Definition"
      ]
    },
    {
      "cell_type": "code",
      "execution_count": null,
      "metadata": {
        "id": "PHYbzAepeStk"
      },
      "outputs": [],
      "source": [
        "from sklearn.linear_model import LinearRegression\n",
        "\n",
        "model = LinearRegression()"
      ]
    },
    {
      "cell_type": "markdown",
      "metadata": {
        "id": "xtcR6wlCf5sg"
      },
      "source": [
        "## Train Model"
      ]
    },
    {
      "cell_type": "code",
      "execution_count": null,
      "metadata": {
        "colab": {
          "base_uri": "https://localhost:8080/"
        },
        "id": "asaXOLznfxse",
        "outputId": "58d9febc-f993-4e74-e8a3-76b1db4d111a"
      },
      "outputs": [
        {
          "data": {
            "text/plain": [
              "LinearRegression()"
            ]
          },
          "execution_count": 25,
          "metadata": {},
          "output_type": "execute_result"
        }
      ],
      "source": [
        "model.fit(X_train_scaled,y_train)"
      ]
    },
    {
      "cell_type": "code",
      "execution_count": null,
      "metadata": {
        "id": "kqR2Ivzyf8Hd"
      },
      "outputs": [],
      "source": [
        "y_pred_train = model.predict(X_train_scaled)\n",
        "y_pred_test = model.predict(X_test_scaled)"
      ]
    },
    {
      "cell_type": "code",
      "execution_count": null,
      "metadata": {
        "colab": {
          "base_uri": "https://localhost:8080/"
        },
        "id": "PEAvAWL5gLX8",
        "outputId": "c4447af0-9d86-43e2-d3ba-7dbd36125002"
      },
      "outputs": [
        {
          "data": {
            "text/plain": [
              "array([15.68292592, 19.58907536, 11.33442246, 16.97160642,  9.00229777,\n",
              "        6.8258424 , 20.28370847, 17.25050474,  9.62422935, 19.21261943,\n",
              "       12.28165709, 13.79124205, 13.63171832, 21.3166205 , 18.4260183 ,\n",
              "        9.83360121, 15.48826256,  7.50717778,  7.37608168, 20.40569824,\n",
              "        7.61221263, 18.21702553, 24.75227276, 22.87105326,  7.79566192,\n",
              "       12.55620637, 21.47155589,  7.89397664, 12.3119109 , 12.41822104,\n",
              "       10.6650977 , 19.23984433,  9.92216352,  6.53329195, 17.27904496,\n",
              "        7.60035587,  9.1023379 ,  8.10416927, 10.45284718, 10.49584758])"
            ]
          },
          "execution_count": 27,
          "metadata": {},
          "output_type": "execute_result"
        }
      ],
      "source": [
        "y_pred_test"
      ]
    },
    {
      "cell_type": "markdown",
      "metadata": {
        "id": "BWwo41txiebE"
      },
      "source": [
        "## Evaluation Model"
      ]
    },
    {
      "cell_type": "markdown",
      "metadata": {
        "id": "kCf1fCPGil9l"
      },
      "source": [
        "**Mean Absolute Error** (MAE) is the mean of the absolute value of the errors:\n",
        "\n",
        "$$\\frac 1n\\sum_{i=1}^n|y_i-\\hat{y}_i|$$\n",
        "\n",
        "**Mean Squared Error** (MSE) is the mean of the squared errors:\n",
        "\n",
        "$$\\frac 1n\\sum_{i=1}^n(y_i-\\hat{y}_i)^2$$\n",
        "\n",
        "**Root Mean Squared Error** (RMSE) is the square root of the mean of the squared errors:\n",
        "\n",
        "$$\\sqrt{\\frac 1n\\sum_{i=1}^n(y_i-\\hat{y}_i)^2}$$\n",
        "\n",
        "Comparing these metrics:\n",
        "\n",
        "- **MAE** is the easiest to understand, because it's the average error, however MAE won't punish large error.\n",
        "- **MSE** is more popular than MAE, because MSE \"punishes\" larger errors, which tends to be useful in the real world (the issue with MSE : different units than y, it reports units of y squared.)\n",
        "- **RMSE** is even more popular than MSE, because RMSE is interpretable in the \"y\" units.\n",
        "- **R2** R-squared evaluates the scatter of the data points around the fitted regression line, determine how well the model fits the data."
      ]
    },
    {
      "cell_type": "code",
      "execution_count": null,
      "metadata": {
        "colab": {
          "base_uri": "https://localhost:8080/"
        },
        "id": "GY1ZET_viZXt",
        "outputId": "993060ae-af96-4e1d-9c58-d3697e5abfca"
      },
      "outputs": [
        {
          "name": "stdout",
          "output_type": "stream",
          "text": [
            "MAE train =  1.2907218211025215\n",
            "MAE test =  1.1244750006255653\n",
            "MSE train =  2.968918089281973\n",
            "MSE test =  2.0634188501214767\n",
            "RMSE train =  1.723054871233639\n",
            "RMSE test =  1.4364605285636904\n",
            "r2score train =  0.8876537266968315\n",
            "r2score test =  0.9303140201228004\n"
          ]
        }
      ],
      "source": [
        "from sklearn.metrics import mean_absolute_error,mean_squared_error,r2_score\n",
        "\n",
        "print('MAE train = ', mean_absolute_error(y_train, y_pred_train))\n",
        "print('MAE test = ', mean_absolute_error(y_test, y_pred_test))\n",
        "\n",
        "print('MSE train = ', mean_squared_error(y_train, y_pred_train))\n",
        "print('MSE test = ', mean_squared_error(y_test, y_pred_test))\n",
        "\n",
        "print('RMSE train = ', np.sqrt(mean_squared_error(y_train, y_pred_train)))\n",
        "print('RMSE test = ', np.sqrt(mean_squared_error(y_test, y_pred_test)))\n",
        "\n",
        "print('r2score train = ', r2_score(y_train, y_pred_train))\n",
        "print('r2score test = ', r2_score(y_test, y_pred_test))"
      ]
    },
    {
      "cell_type": "code",
      "execution_count": null,
      "metadata": {
        "colab": {
          "base_uri": "https://localhost:8080/"
        },
        "id": "wGwzYbmdugfC",
        "outputId": "ccdae860-7297-4532-c981-d0e6c70becb6"
      },
      "outputs": [
        {
          "data": {
            "text/plain": [
              "14.0225"
            ]
          },
          "execution_count": 29,
          "metadata": {},
          "output_type": "execute_result"
        }
      ],
      "source": [
        "df['sales'].mean()"
      ]
    },
    {
      "cell_type": "markdown",
      "metadata": {
        "id": "NWroeZcL0BTA"
      },
      "source": [
        "## Anscombe's Quartet"
      ]
    },
    {
      "cell_type": "markdown",
      "metadata": {
        "id": "IhGufCjtz8gB"
      },
      "source": [
        "<img src=\"https://upload.wikimedia.org/wikipedia/commons/thumb/e/ec/Anscombe%27s_quartet_3.svg/850px-Anscombe%27s_quartet_3.svg.png\">"
      ]
    },
    {
      "cell_type": "markdown",
      "metadata": {
        "id": "FVVQ0l1xBLK9"
      },
      "source": [
        "## Residual PLot (Homoscedasticity of the errors)"
      ]
    },
    {
      "cell_type": "code",
      "execution_count": null,
      "metadata": {
        "id": "JsQg0VeoxCD7"
      },
      "outputs": [],
      "source": [
        "df_x = pd.DataFrame(data=X_test_scaled,columns=X.columns)"
      ]
    },
    {
      "cell_type": "code",
      "execution_count": null,
      "metadata": {
        "colab": {
          "base_uri": "https://localhost:8080/",
          "height": 689
        },
        "id": "9bRVHkLxvhI1",
        "outputId": "5217dd9b-5310-4ae7-8ea6-d78760293b7b"
      },
      "outputs": [
        {
          "data": {
            "image/png": "[encoded data removed]",
            "text/plain": [
              "<Figure size 360x216 with 1 Axes>"
            ]
          },
          "metadata": {
            "needs_background": "light"
          },
          "output_type": "display_data"
        },
        {
          "data": {
            "image/png": "[encoded data removed]",
            "text/plain": [
              "<Figure size 360x216 with 1 Axes>"
            ]
          },
          "metadata": {
            "needs_background": "light"
          },
          "output_type": "display_data"
        },
        {
          "data": {
            "image/png": "[encoded data removed]",
            "text/plain": [
              "<Figure size 360x216 with 1 Axes>"
            ]
          },
          "metadata": {
            "needs_background": "light"
          },
          "output_type": "display_data"
        }
      ],
      "source": [
        "for col in df_x.columns:\n",
        "  plt.figure(figsize=(5,3))\n",
        "  plt.scatter(x=df_x[col],y=y_test-y_pred_test)\n",
        "  plt.title('Residual Plot')\n",
        "  plt.xlabel(col)\n",
        "  plt.ylabel('residuals')\n",
        "  plt.axhline(y=0, color='r', linestyle='--')\n",
        "  plt.show()"
      ]
    },
    {
      "cell_type": "code",
      "execution_count": null,
      "metadata": {
        "id": "KO2k7j4YwwPV"
      },
      "outputs": [],
      "source": [
        "test_res = y_test - y_pred_test"
      ]
    },
    {
      "cell_type": "code",
      "execution_count": null,
      "metadata": {
        "colab": {
          "base_uri": "https://localhost:8080/",
          "height": 296
        },
        "id": "W5EAad1D_atP",
        "outputId": "979c8223-f4f1-4bf9-e010-5776b41bf56e"
      },
      "outputs": [
        {
          "data": {
            "text/plain": [
              "<matplotlib.lines.Line2D at 0x7f3a433816d0>"
            ]
          },
          "execution_count": 33,
          "metadata": {},
          "output_type": "execute_result"
        },
        {
          "data": {
            "image/png": "[encoded data removed]",
            "text/plain": [
              "<Figure size 432x288 with 1 Axes>"
            ]
          },
          "metadata": {
            "needs_background": "light"
          },
          "output_type": "display_data"
        }
      ],
      "source": [
        "sns.scatterplot(x=y_test,y=test_res)\n",
        "plt.axhline(y=0, color='r', linestyle='--')"
      ]
    },
    {
      "cell_type": "markdown",
      "metadata": {
        "id": "Vrwv3F2jBlX-"
      },
      "source": [
        "It's should look random and no clear pattern in order to understand the dataset is valid for linear regression model"
      ]
    },
    {
      "cell_type": "markdown",
      "metadata": {
        "id": "PiA8eYn4l0xI"
      },
      "source": [
        "## Multivariate Normality Test"
      ]
    },
    {
      "cell_type": "markdown",
      "metadata": {
        "id": "7o2PkyzmmzQX"
      },
      "source": [
        "The residuals should be normally distributed. This can be easily checked by plotting QQ plot. We will use statsmodels, qqplot for plotting it. We first import the qqplot attribute and then feed it with residue values. "
      ]
    },
    {
      "cell_type": "code",
      "execution_count": null,
      "metadata": {
        "colab": {
          "base_uri": "https://localhost:8080/",
          "height": 856
        },
        "id": "Yx8RAY0rl74B",
        "outputId": "3f767b17-bb0d-4647-91fb-901c5f155244"
      },
      "outputs": [
        {
          "data": {
            "text/plain": [
              "<Figure size 360x216 with 0 Axes>"
            ]
          },
          "metadata": {},
          "output_type": "display_data"
        },
        {
          "data": {
            "image/png": "[encoded data removed]",
            "text/plain": [
              "<Figure size 432x288 with 1 Axes>"
            ]
          },
          "metadata": {
            "needs_background": "light"
          },
          "output_type": "display_data"
        },
        {
          "data": {
            "text/plain": [
              "<Figure size 360x216 with 0 Axes>"
            ]
          },
          "metadata": {},
          "output_type": "display_data"
        },
        {
          "data": {
            "image/png": "[encoded data removed]",
            "text/plain": [
              "<Figure size 432x288 with 1 Axes>"
            ]
          },
          "metadata": {
            "needs_background": "light"
          },
          "output_type": "display_data"
        },
        {
          "data": {
            "text/plain": [
              "<Figure size 360x216 with 0 Axes>"
            ]
          },
          "metadata": {},
          "output_type": "display_data"
        },
        {
          "data": {
            "image/png": "[encoded data removed]",
            "text/plain": [
              "<Figure size 432x288 with 1 Axes>"
            ]
          },
          "metadata": {
            "needs_background": "light"
          },
          "output_type": "display_data"
        }
      ],
      "source": [
        "from statsmodels.graphics.gofplots import qqplot\n",
        "for col in X.columns:\n",
        "  plt.figure(figsize=(5,3))\n",
        "  qqplot(X[col],line='45',fit='True')\n",
        "  plt.xlabel(col)\n",
        "  plt.show()"
      ]
    },
    {
      "cell_type": "markdown",
      "metadata": {
        "id": "zigqKmsImsdE"
      },
      "source": [
        "Ideally, it should have been a straight line. This pattern shows that there is something seriously wrong with our model. We can not rely on this regression model. Let’s check if other assumption holds true or not."
      ]
    },
    {
      "cell_type": "markdown",
      "metadata": {
        "id": "SBtOXmxHDFPP"
      },
      "source": [
        "## Coefficients"
      ]
    },
    {
      "cell_type": "markdown",
      "metadata": {
        "id": "njeTTYy_IVG-"
      },
      "source": [
        "experiment build new model and fit it without scaling data"
      ]
    },
    {
      "cell_type": "code",
      "execution_count": null,
      "metadata": {
        "id": "Crecyah6G-bQ"
      },
      "outputs": [],
      "source": [
        "model_unscaled = LinearRegression()"
      ]
    },
    {
      "cell_type": "code",
      "execution_count": null,
      "metadata": {
        "id": "w4KWN5IiHkPE"
      },
      "outputs": [],
      "source": [
        "model_unscaled.fit(X,y)"
      ]
    },
    {
      "cell_type": "code",
      "execution_count": null,
      "metadata": {
        "id": "9Wrw7x7pH0kc"
      },
      "outputs": [],
      "source": [
        "model_unscaled.coef_"
      ]
    },
    {
      "cell_type": "markdown",
      "metadata": {
        "id": "vCiD-7hHIgXe"
      },
      "source": [
        "model fit with scaling data"
      ]
    },
    {
      "cell_type": "code",
      "execution_count": null,
      "metadata": {
        "id": "zXneW6yYDJV-"
      },
      "outputs": [],
      "source": [
        "coeff_df = pd.DataFrame(model.coef_,X.columns,columns=['Coefficient'])\n",
        "coeff_df"
      ]
    },
    {
      "cell_type": "code",
      "execution_count": null,
      "metadata": {
        "id": "jVDRapqyDOfg"
      },
      "outputs": [],
      "source": [
        "X.head()"
      ]
    },
    {
      "cell_type": "code",
      "execution_count": null,
      "metadata": {
        "id": "0XHu9D5aLBh4"
      },
      "outputs": [],
      "source": [
        "print(df.sales[df.sales == y.max()].index.tolist())"
      ]
    },
    {
      "cell_type": "code",
      "execution_count": null,
      "metadata": {
        "id": "4hien2fpKl5j"
      },
      "outputs": [],
      "source": [
        "df.iloc[175]"
      ]
    },
    {
      "cell_type": "markdown",
      "metadata": {
        "id": "Xj-rkBnmKLkx"
      },
      "source": [
        "## Model Inference"
      ]
    },
    {
      "cell_type": "code",
      "execution_count": null,
      "metadata": {
        "id": "g1Ilv4oTEag1"
      },
      "outputs": [],
      "source": [
        "new_data = [300,58,5]\n",
        "new_data_scaled = scaler.transform([new_data])\n",
        "pred_res = model.predict(new_data_scaled)\n",
        "print('model predict is : ',pred_res)"
      ]
    },
    {
      "cell_type": "markdown",
      "metadata": {
        "id": "izzWEX6Mqs4X"
      },
      "source": [
        "# Polynomial Regression"
      ]
    },
    {
      "cell_type": "code",
      "execution_count": null,
      "metadata": {
        "id": "hdZL1sqnEmVy"
      },
      "outputs": [],
      "source": [
        "from sklearn.preprocessing import PolynomialFeatures"
      ]
    },
    {
      "cell_type": "code",
      "execution_count": null,
      "metadata": {
        "id": "FNQYjM1KqzQb"
      },
      "outputs": [],
      "source": [
        "polynomial_converter = PolynomialFeatures(degree=2)"
      ]
    },
    {
      "cell_type": "code",
      "execution_count": null,
      "metadata": {
        "id": "7dUjd9veq81q"
      },
      "outputs": [],
      "source": [
        "X_train"
      ]
    },
    {
      "cell_type": "code",
      "execution_count": null,
      "metadata": {
        "id": "4iEawZSgq3pU"
      },
      "outputs": [],
      "source": [
        "poly_features = polynomial_converter.fit_transform(X_train)"
      ]
    },
    {
      "cell_type": "code",
      "execution_count": null,
      "metadata": {
        "id": "Eqz_rYOMw6uh"
      },
      "outputs": [],
      "source": [
        "poly_feature_test = polynomial_converter.transform(X_test)"
      ]
    },
    {
      "cell_type": "code",
      "execution_count": null,
      "metadata": {
        "id": "oHmZ6NLErFON"
      },
      "outputs": [],
      "source": [
        "poly_features.shape"
      ]
    },
    {
      "cell_type": "code",
      "execution_count": null,
      "metadata": {
        "id": "1bCVQNEDrICf"
      },
      "outputs": [],
      "source": [
        "X_train.shape"
      ]
    },
    {
      "cell_type": "code",
      "execution_count": null,
      "metadata": {
        "id": "H4iQfDzarKhQ"
      },
      "outputs": [],
      "source": [
        "X_train.iloc[0]"
      ]
    },
    {
      "cell_type": "code",
      "execution_count": null,
      "metadata": {
        "id": "W38cl7tDvd6C"
      },
      "outputs": [],
      "source": [
        "poly_features[0]"
      ]
    },
    {
      "cell_type": "code",
      "execution_count": null,
      "metadata": {
        "id": "2q6AVXNjsvHb"
      },
      "outputs": [],
      "source": [
        "67.8**2"
      ]
    },
    {
      "cell_type": "code",
      "execution_count": null,
      "metadata": {
        "id": "-A2SmNN3rfxI"
      },
      "outputs": [],
      "source": [
        "67.8*36.6"
      ]
    },
    {
      "cell_type": "code",
      "execution_count": null,
      "metadata": {
        "id": "CrXy_aKTHNui"
      },
      "outputs": [],
      "source": [
        "2.48148*10**3"
      ]
    },
    {
      "cell_type": "code",
      "execution_count": null,
      "metadata": {
        "id": "izxa6nViIxCy"
      },
      "outputs": [],
      "source": [
        "67.8*114"
      ]
    },
    {
      "cell_type": "code",
      "execution_count": null,
      "metadata": {
        "id": "wm-oAUixI1KM"
      },
      "outputs": [],
      "source": [
        "36.6**2"
      ]
    },
    {
      "cell_type": "code",
      "execution_count": null,
      "metadata": {
        "id": "2foNizx_IlW5"
      },
      "outputs": [],
      "source": [
        "36.6*114"
      ]
    },
    {
      "cell_type": "code",
      "execution_count": null,
      "metadata": {
        "id": "kblx3C77JbNr"
      },
      "outputs": [],
      "source": [
        "114**2"
      ]
    },
    {
      "cell_type": "markdown",
      "metadata": {
        "id": "sZoTgsxqQb52"
      },
      "source": [
        "experiment using interaction_only=True and include_bias=False"
      ]
    },
    {
      "cell_type": "code",
      "execution_count": null,
      "metadata": {
        "id": "RFulAhp6J19N"
      },
      "outputs": [],
      "source": [
        "polynomial_converter2 = PolynomialFeatures(degree=2,interaction_only=True, include_bias=False)\n",
        "poly_features2 = polynomial_converter2.fit_transform(X_train)\n",
        "poly_feature_test2 = polynomial_converter2.transform(X_test)"
      ]
    },
    {
      "cell_type": "code",
      "execution_count": null,
      "metadata": {
        "id": "CNqkVBPxJ-UR"
      },
      "outputs": [],
      "source": [
        "poly_features2[0]"
      ]
    },
    {
      "cell_type": "markdown",
      "metadata": {
        "id": "MFfK7oWKyldX"
      },
      "source": [
        "## Model Definition & Train Model"
      ]
    },
    {
      "cell_type": "markdown",
      "metadata": {
        "id": "yZ0PHIwvQxB4"
      },
      "source": [
        "fit & predict with default model"
      ]
    },
    {
      "cell_type": "code",
      "execution_count": null,
      "metadata": {
        "id": "6IssBRiKwNKd"
      },
      "outputs": [],
      "source": [
        "poly_model = LinearRegression()\n",
        "poly_model.fit(poly_features,y_train)"
      ]
    },
    {
      "cell_type": "code",
      "execution_count": null,
      "metadata": {
        "id": "JpqkPkxryY3b"
      },
      "outputs": [],
      "source": [
        "poly_predict_train = poly_model.predict(poly_features)\n",
        "poly_predict_test = poly_model.predict(poly_feature_test)"
      ]
    },
    {
      "cell_type": "markdown",
      "metadata": {
        "id": "HrQvcJa7Q7hc"
      },
      "source": [
        "fit & predict with interaction_only=True and include_bias=False"
      ]
    },
    {
      "cell_type": "code",
      "execution_count": null,
      "metadata": {
        "id": "yH7ztDt3Pz8H"
      },
      "outputs": [],
      "source": [
        "poly_model2 = LinearRegression()\n",
        "poly_model2.fit(poly_features2,y_train)\n",
        "poly_predict_train2 = poly_model2.predict(poly_features2)\n",
        "poly_predict_test2 = poly_model2.predict(poly_feature_test2)"
      ]
    },
    {
      "cell_type": "markdown",
      "metadata": {
        "id": "hIv9K3dO4DjX"
      },
      "source": [
        "## Evaluation Model"
      ]
    },
    {
      "cell_type": "markdown",
      "metadata": {
        "id": "7WUQCn0z4Lvn"
      },
      "source": [
        "matrics with polynomial default model result"
      ]
    },
    {
      "cell_type": "code",
      "execution_count": null,
      "metadata": {
        "id": "jFxMoyDezKzs"
      },
      "outputs": [],
      "source": [
        "from sklearn.metrics import mean_absolute_error,mean_squared_error,r2_score\n",
        "\n",
        "print('MAE train = ', mean_absolute_error(y_train, poly_predict_train))\n",
        "print('MAE test = ', mean_absolute_error(y_test, poly_predict_test))\n",
        "\n",
        "print('MSE train = ', mean_squared_error(y_train, poly_predict_train))\n",
        "print('MSE test = ', mean_squared_error(y_test, poly_predict_test))\n",
        "\n",
        "print('RMSE train = ', np.sqrt(mean_squared_error(y_train, poly_predict_train)))\n",
        "print('RMSE test = ', np.sqrt(mean_squared_error(y_test, poly_predict_test)))\n",
        "\n",
        "print('r2score train = ', r2_score(y_train, poly_predict_train))\n",
        "print('r2score test = ', r2_score(y_test, poly_predict_test))"
      ]
    },
    {
      "cell_type": "markdown",
      "metadata": {
        "id": "khj2Oe4QRJ4S"
      },
      "source": [
        "matrics with experiment model"
      ]
    },
    {
      "cell_type": "code",
      "execution_count": null,
      "metadata": {
        "id": "YrJgMMnRPM6h"
      },
      "outputs": [],
      "source": [
        "from sklearn.metrics import mean_absolute_error,mean_squared_error,r2_score\n",
        "\n",
        "print('MAE train = ', mean_absolute_error(y_train, poly_predict_train2))\n",
        "print('MAE test = ', mean_absolute_error(y_test, poly_predict_test2))\n",
        "\n",
        "print('MSE train = ', mean_squared_error(y_train, poly_predict_train2))\n",
        "print('MSE test = ', mean_squared_error(y_test, poly_predict_test2))\n",
        "\n",
        "print('RMSE train = ', np.sqrt(mean_squared_error(y_train, poly_predict_train2)))\n",
        "print('RMSE test = ', np.sqrt(mean_squared_error(y_test, poly_predict_test2)))\n",
        "\n",
        "print('r2score train = ', r2_score(y_train, poly_predict_train2))\n",
        "print('r2score test = ', r2_score(y_test, poly_predict_test2))"
      ]
    },
    {
      "cell_type": "markdown",
      "metadata": {
        "id": "I3v5atPx4P0N"
      },
      "source": [
        "matrics with linear regression"
      ]
    },
    {
      "cell_type": "code",
      "execution_count": null,
      "metadata": {
        "id": "R3GCJ4ly36ai"
      },
      "outputs": [],
      "source": [
        "from sklearn.metrics import mean_absolute_error,mean_squared_error,r2_score\n",
        "\n",
        "print('MAE train = ', mean_absolute_error(y_train, y_pred_train))\n",
        "print('MAE test = ', mean_absolute_error(y_test, y_pred_test))\n",
        "\n",
        "print('MSE train = ', mean_squared_error(y_train, y_pred_train))\n",
        "print('MSE test = ', mean_squared_error(y_test, y_pred_test))\n",
        "\n",
        "print('RMSE train = ', np.sqrt(mean_squared_error(y_train, y_pred_train)))\n",
        "print('RMSE test = ', np.sqrt(mean_squared_error(y_test, y_pred_test)))\n",
        "\n",
        "print('r2score train = ', r2_score(y_train, y_pred_train))\n",
        "print('r2score test = ', r2_score(y_test, y_pred_test))"
      ]
    },
    {
      "cell_type": "code",
      "execution_count": null,
      "metadata": {
        "id": "O8bNBN07WK3x"
      },
      "outputs": [],
      "source": [
        "compare_matrics = pd.DataFrame({'Data': ['Train', 'Test','Difference']\n",
        "                        ,'MAE Polynomial': [mean_absolute_error(y_train, poly_predict_train), mean_absolute_error(y_test, poly_predict_test),mean_absolute_error(y_train, poly_predict_train) - mean_absolute_error(y_test, poly_predict_test)]\n",
        "                        ,'RMSE Polynomial': [np.sqrt(mean_squared_error(y_train, poly_predict_train)), np.sqrt(mean_squared_error(y_test, poly_predict_test)),np.sqrt(mean_squared_error(y_train, poly_predict_train)) - np.sqrt(mean_squared_error(y_test, poly_predict_test))]\n",
        "                        ,'r2score Polynomial':[r2_score(y_train, poly_predict_train),r2_score(y_test, poly_predict_test),r2_score(y_train, poly_predict_train) - r2_score(y_test, poly_predict_test)]\n",
        "                        ,'MAE Modify Polynomial': [mean_absolute_error(y_train, poly_predict_train2), mean_absolute_error(y_test, poly_predict_test2),mean_absolute_error(y_train, poly_predict_train2) - mean_absolute_error(y_test, poly_predict_test2)]\n",
        "                        ,'RMSE Modify Polynomial': [np.sqrt(mean_squared_error(y_train, poly_predict_train2)), np.sqrt(mean_squared_error(y_test, poly_predict_test2)),np.sqrt(mean_squared_error(y_train, poly_predict_train2)) - np.sqrt(mean_squared_error(y_test, poly_predict_test2))]\n",
        "                        ,'r2score Modify Polynomial':[r2_score(y_train, poly_predict_train2),r2_score(y_test, poly_predict_test2),r2_score(y_train, poly_predict_train2) - r2_score(y_test, poly_predict_test2)]\n",
        "                        ,'MAE Linear Reg': [mean_absolute_error(y_train, y_pred_train), mean_absolute_error(y_test, y_pred_test),mean_absolute_error(y_train, y_pred_train) - mean_absolute_error(y_test, y_pred_test)]\n",
        "                        ,'RMSE Linear Reg': [np.sqrt(mean_squared_error(y_train, y_pred_train)), np.sqrt(mean_squared_error(y_test, y_pred_test)),np.sqrt(mean_squared_error(y_train, y_pred_train)) - np.sqrt(mean_squared_error(y_test, y_pred_test))]\n",
        "                        ,'r2score Linear Reg':[r2_score(y_train, y_pred_train),r2_score(y_test, y_pred_test),r2_score(y_train, y_pred_train) - r2_score(y_test, y_pred_test)]\n",
        "                          })  "
      ]
    },
    {
      "cell_type": "code",
      "execution_count": null,
      "metadata": {
        "id": "nhgEmDAwWiPF"
      },
      "outputs": [],
      "source": [
        "compare_matrics.T"
      ]
    },
    {
      "cell_type": "markdown",
      "metadata": {
        "id": "7Zy4_R3b8ABQ"
      },
      "source": [
        "# Ridge Regression (L2)"
      ]
    },
    {
      "cell_type": "code",
      "execution_count": null,
      "metadata": {
        "id": "GE6Ggb0a4CDf"
      },
      "outputs": [],
      "source": [
        "from sklearn.linear_model import Ridge\n",
        "ridge_model = Ridge(alpha=5)"
      ]
    },
    {
      "cell_type": "code",
      "execution_count": null,
      "metadata": {
        "id": "FQPqlET78HYL"
      },
      "outputs": [],
      "source": [
        "ridge_model.fit(X_train_scaled,y_train)"
      ]
    },
    {
      "cell_type": "code",
      "execution_count": null,
      "metadata": {
        "id": "QTuuP0x78ckz"
      },
      "outputs": [],
      "source": [
        "ridge_pred_train = ridge_model.predict(X_train_scaled)\n",
        "ridge_pred_test = ridge_model.predict(X_test_scaled)"
      ]
    },
    {
      "cell_type": "code",
      "execution_count": null,
      "metadata": {
        "id": "U9tQUm-W_lHS"
      },
      "outputs": [],
      "source": [
        "model.coef_"
      ]
    },
    {
      "cell_type": "code",
      "execution_count": null,
      "metadata": {
        "id": "5lf3aFZ5FJV3"
      },
      "outputs": [],
      "source": [
        "ridge_model.coef_"
      ]
    },
    {
      "cell_type": "markdown",
      "metadata": {
        "id": "CS1p0quV8pYL"
      },
      "source": [
        "## Model Evaluation"
      ]
    },
    {
      "cell_type": "code",
      "execution_count": null,
      "metadata": {
        "id": "oav_l2Nk8m93"
      },
      "outputs": [],
      "source": [
        "from sklearn.metrics import mean_absolute_error,mean_squared_error,r2_score\n",
        "\n",
        "print('MAE train = ', mean_absolute_error(y_train, ridge_pred_train))\n",
        "print('MAE test = ', mean_absolute_error(y_test, ridge_pred_test))\n",
        "\n",
        "print('MSE train = ', mean_squared_error(y_train, ridge_pred_train))\n",
        "print('MSE test = ', mean_squared_error(y_test, ridge_pred_test))\n",
        "\n",
        "print('RMSE train = ', np.sqrt(mean_squared_error(y_train, ridge_pred_train)))\n",
        "print('RMSE test = ', np.sqrt(mean_squared_error(y_test, ridge_pred_test)))\n",
        "\n",
        "print('r2score train = ', r2_score(y_train, ridge_pred_train))\n",
        "print('r2score test = ', r2_score(y_test, ridge_pred_test))"
      ]
    },
    {
      "cell_type": "markdown",
      "metadata": {
        "id": "GFt-jTku_htg"
      },
      "source": [
        "# Lasso Regerssion (L1)"
      ]
    },
    {
      "cell_type": "code",
      "execution_count": null,
      "metadata": {
        "id": "PLb2VaQ585tW"
      },
      "outputs": [],
      "source": [
        "from sklearn.linear_model import Lasso"
      ]
    },
    {
      "cell_type": "code",
      "execution_count": null,
      "metadata": {
        "id": "2bj7xCOA_oSq"
      },
      "outputs": [],
      "source": [
        "lasso_model = Lasso()"
      ]
    },
    {
      "cell_type": "code",
      "execution_count": null,
      "metadata": {
        "id": "DLGfdzGz_u6l"
      },
      "outputs": [],
      "source": [
        "lasso_model.fit(X_train_scaled,y_train)"
      ]
    },
    {
      "cell_type": "code",
      "execution_count": null,
      "metadata": {
        "id": "jQYDQbrj_yGH"
      },
      "outputs": [],
      "source": [
        "lasso_pred_train = lasso_model.predict(X_train_scaled)\n",
        "lasso_pred_test = lasso_model.predict(X_test_scaled)"
      ]
    },
    {
      "cell_type": "code",
      "execution_count": null,
      "metadata": {
        "id": "XIOk2XxQOXFn"
      },
      "outputs": [],
      "source": [
        "model.coef_"
      ]
    },
    {
      "cell_type": "code",
      "execution_count": null,
      "metadata": {
        "id": "8zikWgqOFX0b"
      },
      "outputs": [],
      "source": [
        "lasso_model.coef_"
      ]
    },
    {
      "cell_type": "markdown",
      "metadata": {
        "id": "2Fu5Cb9q_8oR"
      },
      "source": [
        "## Model Evaluation"
      ]
    },
    {
      "cell_type": "code",
      "execution_count": null,
      "metadata": {
        "id": "El1dPdR7_6f-"
      },
      "outputs": [],
      "source": [
        "from sklearn.metrics import mean_absolute_error,mean_squared_error,r2_score\n",
        "\n",
        "print('MAE train = ', mean_absolute_error(y_train, lasso_pred_train))\n",
        "print('MAE test = ', mean_absolute_error(y_test, lasso_pred_test))\n",
        "\n",
        "print('MSE train = ', mean_squared_error(y_train, lasso_pred_train))\n",
        "print('MSE test = ', mean_squared_error(y_test, lasso_pred_test))\n",
        "\n",
        "print('RMSE train = ', np.sqrt(mean_squared_error(y_train, lasso_pred_train)))\n",
        "print('RMSE test = ', np.sqrt(mean_squared_error(y_test, lasso_pred_test)))\n",
        "\n",
        "print('r2score train = ', r2_score(y_train, lasso_pred_train))\n",
        "print('r2score test = ', r2_score(y_test, lasso_pred_test))"
      ]
    },
    {
      "cell_type": "code",
      "execution_count": null,
      "metadata": {
        "id": "ZyFGaI98ALn-"
      },
      "outputs": [],
      "source": [
        "lasso_model.coef_"
      ]
    },
    {
      "cell_type": "markdown",
      "metadata": {
        "id": "l75nxKg2AaRR"
      },
      "source": [
        "# Elastic Net (L3)"
      ]
    },
    {
      "cell_type": "code",
      "execution_count": null,
      "metadata": {
        "id": "ZYlVW-z_AVN1"
      },
      "outputs": [],
      "source": [
        "from sklearn.linear_model import ElasticNet"
      ]
    },
    {
      "cell_type": "code",
      "execution_count": null,
      "metadata": {
        "id": "KjnkWaKKAfzD"
      },
      "outputs": [],
      "source": [
        "elastic_model = ElasticNet()"
      ]
    },
    {
      "cell_type": "code",
      "execution_count": null,
      "metadata": {
        "id": "6v3pqI-pAjH0"
      },
      "outputs": [],
      "source": [
        "elastic_model.fit(X_train_scaled,y_train)"
      ]
    },
    {
      "cell_type": "code",
      "execution_count": null,
      "metadata": {
        "id": "cfUy8tGAApQo"
      },
      "outputs": [],
      "source": [
        "elastic_pred_train = elastic_model.predict(X_train_scaled)\n",
        "elastic_pred_test = elastic_model.predict(X_test_scaled)"
      ]
    },
    {
      "cell_type": "code",
      "execution_count": null,
      "metadata": {
        "id": "bX0juq8TA18e"
      },
      "outputs": [],
      "source": [
        "from sklearn.metrics import mean_absolute_error,mean_squared_error,r2_score\n",
        "\n",
        "print('MAE train = ', mean_absolute_error(y_train, elastic_pred_train))\n",
        "print('MAE test = ', mean_absolute_error(y_test, elastic_pred_test))\n",
        "\n",
        "print('MSE train = ', mean_squared_error(y_train, elastic_pred_train))\n",
        "print('MSE test = ', mean_squared_error(y_test, elastic_pred_test))\n",
        "\n",
        "print('RMSE train = ', np.sqrt(mean_squared_error(y_train, elastic_pred_train)))\n",
        "print('RMSE test = ', np.sqrt(mean_squared_error(y_test, elastic_pred_test)))\n",
        "\n",
        "print('r2score train = ', r2_score(y_train, elastic_pred_train))\n",
        "print('r2score test = ', r2_score(y_test, elastic_pred_test))"
      ]
    },
    {
      "cell_type": "code",
      "execution_count": null,
      "metadata": {
        "id": "LVD2wf5OOfM6"
      },
      "outputs": [],
      "source": [
        "model.coef_"
      ]
    },
    {
      "cell_type": "code",
      "execution_count": null,
      "metadata": {
        "id": "jHXPpDX_BOM7"
      },
      "outputs": [],
      "source": [
        "elastic_model.coef_"
      ]
    },
    {
      "cell_type": "markdown",
      "metadata": {
        "id": "QIBZQW3NBcme"
      },
      "source": [
        "# Logistic Regression"
      ]
    },
    {
      "cell_type": "code",
      "execution_count": null,
      "metadata": {
        "id": "GFCYeKVEBS3g"
      },
      "outputs": [],
      "source": [
        "df = pd.read_csv('/content/hearing_test.csv')"
      ]
    },
    {
      "cell_type": "code",
      "execution_count": null,
      "metadata": {
        "id": "GWCButuLCQly"
      },
      "outputs": [],
      "source": [
        "df.head()"
      ]
    },
    {
      "cell_type": "code",
      "execution_count": null,
      "metadata": {
        "id": "JrbgtcIACVtm"
      },
      "outputs": [],
      "source": [
        "df.info()"
      ]
    },
    {
      "cell_type": "code",
      "execution_count": null,
      "metadata": {
        "id": "9OR0kfntCYJ8"
      },
      "outputs": [],
      "source": [
        "sns.countplot(data=df,x='test_result')"
      ]
    },
    {
      "cell_type": "code",
      "execution_count": null,
      "metadata": {
        "id": "BAaGJF1_Cbzx"
      },
      "outputs": [],
      "source": [
        "sns.boxplot(x='test_result',y='age',data=df)"
      ]
    },
    {
      "cell_type": "code",
      "execution_count": null,
      "metadata": {
        "id": "BPj73aFXCfaK"
      },
      "outputs": [],
      "source": [
        "sns.boxplot(x='test_result',y='physical_score',data=df)"
      ]
    },
    {
      "cell_type": "code",
      "execution_count": null,
      "metadata": {
        "id": "V0Yaj3BkCqI8"
      },
      "outputs": [],
      "source": [
        "sns.scatterplot(x='age',y='physical_score',data=df,hue='test_result')"
      ]
    },
    {
      "cell_type": "code",
      "execution_count": null,
      "metadata": {
        "id": "G888c5jJCu-3"
      },
      "outputs": [],
      "source": [
        "sns.pairplot(df,hue='test_result')"
      ]
    },
    {
      "cell_type": "code",
      "execution_count": null,
      "metadata": {
        "id": "tgxLAcgrCyHF"
      },
      "outputs": [],
      "source": [
        "sns.heatmap(df.corr(),annot=True)"
      ]
    },
    {
      "cell_type": "code",
      "execution_count": null,
      "metadata": {
        "id": "9fzuE3sfDIAz"
      },
      "outputs": [],
      "source": [
        "X = df.drop('test_result',axis=1)\n",
        "y = df['test_result']"
      ]
    },
    {
      "cell_type": "markdown",
      "metadata": {
        "id": "AmIfNmTWDvX6"
      },
      "source": [
        "## Train Test Split & Scaling"
      ]
    },
    {
      "cell_type": "code",
      "execution_count": null,
      "metadata": {
        "id": "ecVg9LFhDVpy"
      },
      "outputs": [],
      "source": [
        "from sklearn.model_selection import train_test_split\n",
        "from sklearn.preprocessing import MinMaxScaler"
      ]
    },
    {
      "cell_type": "code",
      "execution_count": null,
      "metadata": {
        "id": "PzzvtT6zDfVB"
      },
      "outputs": [],
      "source": [
        "X_train, X_test, y_train, y_test = train_test_split(X, y, test_size=0.2, random_state=101)"
      ]
    },
    {
      "cell_type": "code",
      "execution_count": null,
      "metadata": {
        "id": "TyJIckzEDi2M"
      },
      "outputs": [],
      "source": [
        "scaler = MinMaxScaler()"
      ]
    },
    {
      "cell_type": "code",
      "execution_count": null,
      "metadata": {
        "id": "lcjRV0icDoys"
      },
      "outputs": [],
      "source": [
        "scaled_X_train = scaler.fit_transform(X_train)\n",
        "scaled_X_test = scaler.transform(X_test)"
      ]
    },
    {
      "cell_type": "markdown",
      "metadata": {
        "id": "ExFCnDsmD157"
      },
      "source": [
        "## Model Definition"
      ]
    },
    {
      "cell_type": "code",
      "execution_count": null,
      "metadata": {
        "id": "5divAsj9Dq2J"
      },
      "outputs": [],
      "source": [
        "from sklearn.linear_model import LogisticRegression"
      ]
    },
    {
      "cell_type": "code",
      "execution_count": null,
      "metadata": {
        "id": "C1rjq1jVD6k1"
      },
      "outputs": [],
      "source": [
        "log_model = LogisticRegression()"
      ]
    },
    {
      "cell_type": "code",
      "execution_count": null,
      "metadata": {
        "id": "cYW4gnw2D87w"
      },
      "outputs": [],
      "source": [
        "log_model.fit(scaled_X_train,y_train)"
      ]
    },
    {
      "cell_type": "markdown",
      "metadata": {
        "id": "SU3B6g4hEGNi"
      },
      "source": [
        "## Model Evaluation"
      ]
    },
    {
      "cell_type": "code",
      "execution_count": null,
      "metadata": {
        "id": "ADcmw4y8gisI"
      },
      "outputs": [],
      "source": [
        "pred_prob = log_model.predict_proba(scaled_X_train)"
      ]
    },
    {
      "cell_type": "code",
      "execution_count": null,
      "metadata": {
        "id": "dq53z-E3hEW4"
      },
      "outputs": [],
      "source": [
        "pred_prob"
      ]
    },
    {
      "cell_type": "code",
      "execution_count": null,
      "metadata": {
        "id": "gWGlrfzPEAqL"
      },
      "outputs": [],
      "source": [
        "from sklearn.metrics import accuracy_score,classification_report,ConfusionMatrixDisplay,confusion_matrix"
      ]
    },
    {
      "cell_type": "code",
      "execution_count": null,
      "metadata": {
        "id": "SvgkDgnyEj8V"
      },
      "outputs": [],
      "source": [
        "y_pred_train = log_model.predict(scaled_X_train)\n",
        "y_pred_test = log_model.predict(scaled_X_test)"
      ]
    },
    {
      "cell_type": "code",
      "execution_count": null,
      "metadata": {
        "id": "HnEBsSwphMgl"
      },
      "outputs": [],
      "source": [
        "y_pred_train"
      ]
    },
    {
      "cell_type": "code",
      "execution_count": null,
      "metadata": {
        "id": "9j-Hj8QMEmpF"
      },
      "outputs": [],
      "source": [
        "print('accuracy score train : ',accuracy_score(y_train,y_pred_train))\n",
        "print('accuracy score test : ',accuracy_score(y_test,y_pred_test))"
      ]
    },
    {
      "cell_type": "code",
      "execution_count": null,
      "metadata": {
        "id": "4__zKyPeFfWx"
      },
      "outputs": [],
      "source": [
        "cm = confusion_matrix(y_test, y_pred_test, labels=log_model.classes_)\n",
        "disp = ConfusionMatrixDisplay(confusion_matrix=cm,display_labels=log_model.classes_)\n",
        "\n",
        "disp.plot()\n",
        "plt.show()"
      ]
    },
    {
      "cell_type": "code",
      "execution_count": null,
      "metadata": {
        "id": "CyqUQYmXF7ga"
      },
      "outputs": [],
      "source": [
        "print(classification_report(y_test,y_pred_test))"
      ]
    },
    {
      "cell_type": "code",
      "execution_count": null,
      "metadata": {
        "id": "GFftRJttGWrt"
      },
      "outputs": [],
      "source": [
        "print(classification_report(y_train,y_pred_train))"
      ]
    },
    {
      "cell_type": "markdown",
      "metadata": {
        "id": "5Q3I7l6myBQi"
      },
      "source": [
        "# Multiclass LogReg"
      ]
    },
    {
      "cell_type": "code",
      "execution_count": null,
      "metadata": {
        "id": "JLmsjR5WH4Vc"
      },
      "outputs": [],
      "source": [
        "df = pd.read_csv('/content/iris.csv')"
      ]
    },
    {
      "cell_type": "code",
      "execution_count": null,
      "metadata": {
        "id": "HKw5w57c0qVr"
      },
      "outputs": [],
      "source": [
        "df.head()"
      ]
    },
    {
      "cell_type": "code",
      "execution_count": null,
      "metadata": {
        "id": "4Mebz5Gi0yrC"
      },
      "outputs": [],
      "source": [
        "sns.scatterplot(x='petal_length',y='petal_width',data=df,hue='species')"
      ]
    },
    {
      "cell_type": "code",
      "execution_count": null,
      "metadata": {
        "id": "M6MkYn_v00P3"
      },
      "outputs": [],
      "source": [
        "sns.heatmap(df.corr(),annot=True)"
      ]
    },
    {
      "cell_type": "code",
      "execution_count": null,
      "metadata": {
        "id": "-onDQ_WjyyZp"
      },
      "outputs": [],
      "source": [
        "X = df.drop('species',axis=1)\n",
        "y = df['species']"
      ]
    },
    {
      "cell_type": "markdown",
      "metadata": {
        "id": "Vn3K8-AQ094y"
      },
      "source": [
        "## Model Definition"
      ]
    },
    {
      "cell_type": "code",
      "execution_count": null,
      "metadata": {
        "id": "v5yUJI0myLwE"
      },
      "outputs": [],
      "source": [
        "from sklearn.linear_model import LogisticRegression"
      ]
    },
    {
      "cell_type": "code",
      "execution_count": null,
      "metadata": {
        "id": "O9CCSbFqykHr"
      },
      "outputs": [],
      "source": [
        "logreg_model = LogisticRegression()"
      ]
    },
    {
      "cell_type": "markdown",
      "metadata": {
        "id": "fUPhNKtB1BFh"
      },
      "source": [
        "## Train Test Split & Scaling"
      ]
    },
    {
      "cell_type": "code",
      "execution_count": null,
      "metadata": {
        "id": "FXDywEYOyr-k"
      },
      "outputs": [],
      "source": [
        "from sklearn.model_selection import train_test_split\n",
        "from sklearn.preprocessing import RobustScaler"
      ]
    },
    {
      "cell_type": "code",
      "execution_count": null,
      "metadata": {
        "id": "0IbYXKLMy6-M"
      },
      "outputs": [],
      "source": [
        "X_train, X_test, y_train, y_test = train_test_split(X, y, test_size=0.25, random_state=101)"
      ]
    },
    {
      "cell_type": "code",
      "execution_count": null,
      "metadata": {
        "id": "oJwDlXZgzAWh"
      },
      "outputs": [],
      "source": [
        "scaler = RobustScaler()\n",
        "scaled_X_train = scaler.fit_transform(X_train)\n",
        "scaled_X_test = scaler.transform(X_test)"
      ]
    },
    {
      "cell_type": "code",
      "execution_count": null,
      "metadata": {
        "id": "3CqLPzotzGuQ"
      },
      "outputs": [],
      "source": [
        "logreg_model.fit(X_train,y_train)"
      ]
    },
    {
      "cell_type": "code",
      "execution_count": null,
      "metadata": {
        "id": "bLghnX7bzUOF"
      },
      "outputs": [],
      "source": [
        "logreg_pred_train = logreg_model.predict(X_train)\n",
        "logreg_pred_test = logreg_model.predict(X_test)"
      ]
    },
    {
      "cell_type": "code",
      "execution_count": null,
      "metadata": {
        "id": "-0NV2Gb50TXs"
      },
      "outputs": [],
      "source": [
        "logreg_pred_test"
      ]
    },
    {
      "cell_type": "markdown",
      "metadata": {
        "id": "fgnpShWt1Mrh"
      },
      "source": [
        "## Evaluation Model"
      ]
    },
    {
      "cell_type": "code",
      "execution_count": null,
      "metadata": {
        "id": "n_rHu3-Jzq5f"
      },
      "outputs": [],
      "source": [
        "print('accuracy score train : ',accuracy_score(y_train,logreg_pred_train))\n",
        "print('accuracy score test : ',accuracy_score(y_test,logreg_pred_test))"
      ]
    },
    {
      "cell_type": "code",
      "execution_count": null,
      "metadata": {
        "id": "n8A95Lu9z2-4"
      },
      "outputs": [],
      "source": [
        "cm = confusion_matrix(y_test, logreg_pred_test, labels=logreg_model.classes_)\n",
        "disp = ConfusionMatrixDisplay(confusion_matrix=cm,display_labels=logreg_model.classes_)\n",
        "\n",
        "disp.plot()\n",
        "plt.show()"
      ]
    },
    {
      "cell_type": "code",
      "execution_count": null,
      "metadata": {
        "id": "QUBc3qMm0Gx1"
      },
      "outputs": [],
      "source": [
        "cm = confusion_matrix(y_train, logreg_pred_train, labels=logreg_model.classes_)\n",
        "disp = ConfusionMatrixDisplay(confusion_matrix=cm,display_labels=logreg_model.classes_)\n",
        "\n",
        "disp.plot()\n",
        "plt.show()"
      ]
    },
    {
      "cell_type": "code",
      "execution_count": null,
      "metadata": {
        "id": "Q3Rqp4nx0PNS"
      },
      "outputs": [],
      "source": [
        "print(classification_report(y_train,logreg_pred_train))"
      ]
    },
    {
      "cell_type": "code",
      "execution_count": null,
      "metadata": {
        "id": "WPxXipOq0gBR"
      },
      "outputs": [],
      "source": [
        "print(classification_report(y_test,logreg_pred_test))"
      ]
    },
    {
      "cell_type": "code",
      "execution_count": null,
      "metadata": {
        "id": "-BiEZllM0lYK"
      },
      "outputs": [],
      "source": []
    }
  ],
  "metadata": {
    "colab": {
      "collapsed_sections": [
        "cwN1CcneY8bn",
        "vEIj1j_wfkJQ",
        "iaSJ6xyDgTst",
        "BWwo41txiebE",
        "NWroeZcL0BTA",
        "FVVQ0l1xBLK9",
        "SBtOXmxHDFPP",
        "Xj-rkBnmKLkx",
        "izzWEX6Mqs4X",
        "MFfK7oWKyldX",
        "hIv9K3dO4DjX",
        "7Zy4_R3b8ABQ",
        "CS1p0quV8pYL",
        "GFt-jTku_htg",
        "2Fu5Cb9q_8oR",
        "l75nxKg2AaRR",
        "QIBZQW3NBcme",
        "AmIfNmTWDvX6",
        "ExFCnDsmD157",
        "SU3B6g4hEGNi",
        "5Q3I7l6myBQi",
        "Vn3K8-AQ094y",
        "fUPhNKtB1BFh",
        "fgnpShWt1Mrh"
      ],
      "provenance": []
    },
    "kernelspec": {
      "display_name": "Python 3.9.6 64-bit",
      "language": "python",
      "name": "python3"
    },
    "language_info": {
      "name": "python",
      "version": "3.9.6"
    },
    "vscode": {
      "interpreter": {
        "hash": "f3d42ad487b2b2994e012ab0306cc0a65d83ea9d079e1ade1e8453053e613de7"
      }
    }
  },
  "nbformat": 4,
  "nbformat_minor": 0
}
