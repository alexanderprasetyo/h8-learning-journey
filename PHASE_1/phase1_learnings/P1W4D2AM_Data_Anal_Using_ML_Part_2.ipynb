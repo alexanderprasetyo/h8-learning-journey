{
  "nbformat": 4,
  "nbformat_minor": 0,
  "metadata": {
    "colab": {
      "provenance": [],
      "collapsed_sections": []
    },
    "kernelspec": {
      "name": "python3",
      "display_name": "Python 3"
    },
    "language_info": {
      "name": "python"
    }
  },
  "cells": [
    {
      "cell_type": "markdown",
      "source": [
        "# E-Commerce Predictive Analytics Cases\n",
        "\n",
        "Let's playing a role that you are a Data Analyst at an E-Commerce platform company. Your company have BigQuery database contains few tabels which named `thelook_ecommerce`. One day, your CEO challenges you to give him/her some insights from their database.\n",
        "\n",
        "To do the analysis, you have to breakdown or determine what points that you want to analyze, since the data is huge and you might get a little bit confused.\n",
        "\n",
        "You need to take a note that, the insights will be delivered to your CEO. So, he/she only need general information.\n",
        "\n",
        "First of all, we might check the data to take a picture of what the data tell about. **To ease you, let see the Google Cloud Platform**."
      ],
      "metadata": {
        "id": "arjNmfqMVTpZ"
      }
    },
    {
      "cell_type": "markdown",
      "source": [
        "## Problems breakdown\n",
        "\n",
        "Since you have seen the dataset on GCP, so next we will breakdown and make a list what points that we want to analyze.\n",
        "\n",
        "**You have to take a note that you're in the Phase 1, so we scope our problem which can be solved by machine learning model.**\n",
        "\n",
        "You realize that, sometimes the CEO takes the decisions based on his/her intuitive especially to determine the KPI for the next period. So, you might want to give an insight `How much the sales KPI that we can reach in the next period`.\n",
        "\n"
      ],
      "metadata": {
        "id": "OjAQfwHCKM9a"
      }
    },
    {
      "cell_type": "code",
      "execution_count": null,
      "metadata": {
        "colab": {
          "base_uri": "https://localhost:8080/"
        },
        "id": "nQKTiZCeS6Oi",
        "outputId": "534744b5-9f3a-43da-cbf6-3124d9ec3b45"
      },
      "outputs": [
        {
          "output_type": "stream",
          "name": "stdout",
          "text": [
            "Authenticated\n"
          ]
        }
      ],
      "source": [
        "from google.colab import auth\n",
        "auth.authenticate_user()\n",
        "print('Authenticated')"
      ]
    },
    {
      "cell_type": "code",
      "source": [
        "from google.cloud import bigquery\n",
        "\n",
        "project_id = \"phonic-chemist-352703\" #Please change with your GCP project-id. Without it, the queries don't run well.\n",
        "client = bigquery.Client(project=project_id)"
      ],
      "metadata": {
        "id": "3DQDIFMBTN6o"
      },
      "execution_count": null,
      "outputs": []
    },
    {
      "cell_type": "code",
      "source": [
        "import pandas as pd\n",
        "\n",
        "df = client.query('''\n",
        "SELECT extract(year from created_at) as year, extract(month from created_at) as month, count(order_id) as sales\n",
        "FROM `bigquery-public-data.thelook_ecommerce.orders`\n",
        "WHERE status='Shipped' and created_at<\"2022-07-01\"\n",
        "GROUP BY year,month\n",
        "ORDER BY year,month ASC\n",
        "''').to_dataframe()\n",
        "\n",
        "df.head()"
      ],
      "metadata": {
        "colab": {
          "base_uri": "https://localhost:8080/",
          "height": 206
        },
        "id": "V4G85giGUJEc",
        "outputId": "e5d39612-5d58-4b52-b97a-14bea8c7d409"
      },
      "execution_count": null,
      "outputs": [
        {
          "output_type": "execute_result",
          "data": {
            "text/plain": [
              "   year  month  sales\n",
              "0  2019      1     14\n",
              "1  2019      2     23\n",
              "2  2019      3     50\n",
              "3  2019      4     62\n",
              "4  2019      5     98"
            ],
            "text/html": [
              "\n",
              "  <div id=\"df-032dcae1-3a86-4718-b36a-1e475bf68694\">\n",
              "    <div class=\"colab-df-container\">\n",
              "      <div>\n",
              "<style scoped>\n",
              "    .dataframe tbody tr th:only-of-type {\n",
              "        vertical-align: middle;\n",
              "    }\n",
              "\n",
              "    .dataframe tbody tr th {\n",
              "        vertical-align: top;\n",
              "    }\n",
              "\n",
              "    .dataframe thead th {\n",
              "        text-align: right;\n",
              "    }\n",
              "</style>\n",
              "<table border=\"1\" class=\"dataframe\">\n",
              "  <thead>\n",
              "    <tr style=\"text-align: right;\">\n",
              "      <th></th>\n",
              "      <th>year</th>\n",
              "      <th>month</th>\n",
              "      <th>sales</th>\n",
              "    </tr>\n",
              "  </thead>\n",
              "  <tbody>\n",
              "    <tr>\n",
              "      <th>0</th>\n",
              "      <td>2019</td>\n",
              "      <td>1</td>\n",
              "      <td>14</td>\n",
              "    </tr>\n",
              "    <tr>\n",
              "      <th>1</th>\n",
              "      <td>2019</td>\n",
              "      <td>2</td>\n",
              "      <td>23</td>\n",
              "    </tr>\n",
              "    <tr>\n",
              "      <th>2</th>\n",
              "      <td>2019</td>\n",
              "      <td>3</td>\n",
              "      <td>50</td>\n",
              "    </tr>\n",
              "    <tr>\n",
              "      <th>3</th>\n",
              "      <td>2019</td>\n",
              "      <td>4</td>\n",
              "      <td>62</td>\n",
              "    </tr>\n",
              "    <tr>\n",
              "      <th>4</th>\n",
              "      <td>2019</td>\n",
              "      <td>5</td>\n",
              "      <td>98</td>\n",
              "    </tr>\n",
              "  </tbody>\n",
              "</table>\n",
              "</div>\n",
              "      <button class=\"colab-df-convert\" onclick=\"convertToInteractive('df-032dcae1-3a86-4718-b36a-1e475bf68694')\"\n",
              "              title=\"Convert this dataframe to an interactive table.\"\n",
              "              style=\"display:none;\">\n",
              "        \n",
              "  <svg xmlns=\"http://www.w3.org/2000/svg\" height=\"24px\"viewBox=\"0 0 24 24\"\n",
              "       width=\"24px\">\n",
              "    <path d=\"M0 0h24v24H0V0z\" fill=\"none\"/>\n",
              "    <path d=\"M18.56 5.44l.94 2.06.94-2.06 2.06-.94-2.06-.94-.94-2.06-.94 2.06-2.06.94zm-11 1L8.5 8.5l.94-2.06 2.06-.94-2.06-.94L8.5 2.5l-.94 2.06-2.06.94zm10 10l.94 2.06.94-2.06 2.06-.94-2.06-.94-.94-2.06-.94 2.06-2.06.94z\"/><path d=\"M17.41 7.96l-1.37-1.37c-.4-.4-.92-.59-1.43-.59-.52 0-1.04.2-1.43.59L10.3 9.45l-7.72 7.72c-.78.78-.78 2.05 0 2.83L4 21.41c.39.39.9.59 1.41.59.51 0 1.02-.2 1.41-.59l7.78-7.78 2.81-2.81c.8-.78.8-2.07 0-2.86zM5.41 20L4 18.59l7.72-7.72 1.47 1.35L5.41 20z\"/>\n",
              "  </svg>\n",
              "      </button>\n",
              "      \n",
              "  <style>\n",
              "    .colab-df-container {\n",
              "      display:flex;\n",
              "      flex-wrap:wrap;\n",
              "      gap: 12px;\n",
              "    }\n",
              "\n",
              "    .colab-df-convert {\n",
              "      background-color: #E8F0FE;\n",
              "      border: none;\n",
              "      border-radius: 50%;\n",
              "      cursor: pointer;\n",
              "      display: none;\n",
              "      fill: #1967D2;\n",
              "      height: 32px;\n",
              "      padding: 0 0 0 0;\n",
              "      width: 32px;\n",
              "    }\n",
              "\n",
              "    .colab-df-convert:hover {\n",
              "      background-color: #E2EBFA;\n",
              "      box-shadow: 0px 1px 2px rgba(60, 64, 67, 0.3), 0px 1px 3px 1px rgba(60, 64, 67, 0.15);\n",
              "      fill: #174EA6;\n",
              "    }\n",
              "\n",
              "    [theme=dark] .colab-df-convert {\n",
              "      background-color: #3B4455;\n",
              "      fill: #D2E3FC;\n",
              "    }\n",
              "\n",
              "    [theme=dark] .colab-df-convert:hover {\n",
              "      background-color: #434B5C;\n",
              "      box-shadow: 0px 1px 3px 1px rgba(0, 0, 0, 0.15);\n",
              "      filter: drop-shadow(0px 1px 2px rgba(0, 0, 0, 0.3));\n",
              "      fill: #FFFFFF;\n",
              "    }\n",
              "  </style>\n",
              "\n",
              "      <script>\n",
              "        const buttonEl =\n",
              "          document.querySelector('#df-032dcae1-3a86-4718-b36a-1e475bf68694 button.colab-df-convert');\n",
              "        buttonEl.style.display =\n",
              "          google.colab.kernel.accessAllowed ? 'block' : 'none';\n",
              "\n",
              "        async function convertToInteractive(key) {\n",
              "          const element = document.querySelector('#df-032dcae1-3a86-4718-b36a-1e475bf68694');\n",
              "          const dataTable =\n",
              "            await google.colab.kernel.invokeFunction('convertToInteractive',\n",
              "                                                     [key], {});\n",
              "          if (!dataTable) return;\n",
              "\n",
              "          const docLinkHtml = 'Like what you see? Visit the ' +\n",
              "            '<a target=\"_blank\" href=https://colab.research.google.com/notebooks/data_table.ipynb>data table notebook</a>'\n",
              "            + ' to learn more about interactive tables.';\n",
              "          element.innerHTML = '';\n",
              "          dataTable['output_type'] = 'display_data';\n",
              "          await google.colab.output.renderOutput(dataTable, element);\n",
              "          const docLink = document.createElement('div');\n",
              "          docLink.innerHTML = docLinkHtml;\n",
              "          element.appendChild(docLink);\n",
              "        }\n",
              "      </script>\n",
              "    </div>\n",
              "  </div>\n",
              "  "
            ]
          },
          "metadata": {},
          "execution_count": 3
        }
      ]
    },
    {
      "cell_type": "code",
      "source": [
        "from datetime import datetime\n",
        "df['date'] = df.apply(lambda x: datetime(x[0],x[1],1),axis=1)"
      ],
      "metadata": {
        "id": "rXFPNeZRUhem"
      },
      "execution_count": null,
      "outputs": []
    },
    {
      "cell_type": "code",
      "source": [
        "sales = df.set_index('date')['sales']\n",
        "sales.head()"
      ],
      "metadata": {
        "colab": {
          "base_uri": "https://localhost:8080/"
        },
        "id": "75wLV61IJFx-",
        "outputId": "3cdbf69c-0e3f-4523-f203-68ecb7bac867"
      },
      "execution_count": null,
      "outputs": [
        {
          "output_type": "execute_result",
          "data": {
            "text/plain": [
              "date\n",
              "2019-01-01    14\n",
              "2019-02-01    23\n",
              "2019-03-01    50\n",
              "2019-04-01    62\n",
              "2019-05-01    98\n",
              "Name: sales, dtype: int64"
            ]
          },
          "metadata": {},
          "execution_count": 5
        }
      ]
    },
    {
      "cell_type": "code",
      "source": [
        "sales.tail()"
      ],
      "metadata": {
        "colab": {
          "base_uri": "https://localhost:8080/"
        },
        "id": "ZknREhTd3NGF",
        "outputId": "0400cb07-748b-43cf-cc74-b89b23e7e383"
      },
      "execution_count": null,
      "outputs": [
        {
          "output_type": "execute_result",
          "data": {
            "text/plain": [
              "date\n",
              "2022-02-01    1366\n",
              "2022-03-01    1681\n",
              "2022-04-01    1739\n",
              "2022-05-01    1950\n",
              "2022-06-01    2132\n",
              "Name: sales, dtype: int64"
            ]
          },
          "metadata": {},
          "execution_count": 7
        }
      ]
    },
    {
      "cell_type": "code",
      "source": [
        "sales.plot(figsize=(20,5))"
      ],
      "metadata": {
        "colab": {
          "base_uri": "https://localhost:8080/",
          "height": 290
        },
        "id": "uxaZSGCUIV-v",
        "outputId": "875736c2-81a3-4c2b-a415-6058caeea9b5"
      },
      "execution_count": null,
      "outputs": [
        {
          "output_type": "execute_result",
          "data": {
            "text/plain": [
              "<matplotlib.axes._subplots.AxesSubplot at 0x7f2a2779ba10>"
            ]
          },
          "metadata": {},
          "execution_count": 6
        },
        {
          "output_type": "display_data",
          "data": {
            "text/plain": [
              "<Figure size 1440x360 with 1 Axes>"
            ],
            "image/png": "[encoded data removed]"
          },
          "metadata": {
            "needs_background": "light"
          }
        }
      ]
    },
    {
      "cell_type": "markdown",
      "source": [
        "## Data Preprocessing"
      ],
      "metadata": {
        "id": "HUCQAUlgoRwB"
      }
    },
    {
      "cell_type": "code",
      "source": [
        "import numpy as np\n",
        "\n",
        "window = 2\n",
        "X = []\n",
        "y = []\n",
        "for i in range(window,len(sales)):\n",
        "  if window+i<len(sales):\n",
        "    X.append(sales[i:window+i].values.tolist())\n",
        "    try:\n",
        "      y.append(sales[window+i])\n",
        "    except:\n",
        "      pass\n",
        "  else:\n",
        "    break\n",
        "\n",
        "X = np.array(X)\n",
        "y = np.array(y)"
      ],
      "metadata": {
        "id": "Nql01UYMIYvf"
      },
      "execution_count": null,
      "outputs": []
    },
    {
      "cell_type": "code",
      "source": [
        "X"
      ],
      "metadata": {
        "colab": {
          "base_uri": "https://localhost:8080/"
        },
        "id": "PVFMOVX0VeQj",
        "outputId": "785339c8-e045-4a79-fd4b-a84528066f04"
      },
      "execution_count": null,
      "outputs": [
        {
          "output_type": "execute_result",
          "data": {
            "text/plain": [
              "array([[  50,   62],\n",
              "       [  62,   98],\n",
              "       [  98,   98],\n",
              "       [  98,  129],\n",
              "       [ 129,  150],\n",
              "       [ 150,  153],\n",
              "       [ 153,  178],\n",
              "       [ 178,  209],\n",
              "       [ 209,  279],\n",
              "       [ 279,  275],\n",
              "       [ 275,  279],\n",
              "       [ 279,  324],\n",
              "       [ 324,  330],\n",
              "       [ 330,  380],\n",
              "       [ 380,  394],\n",
              "       [ 394,  412],\n",
              "       [ 412,  449],\n",
              "       [ 449,  505],\n",
              "       [ 505,  533],\n",
              "       [ 533,  526],\n",
              "       [ 526,  545],\n",
              "       [ 545,  653],\n",
              "       [ 653,  669],\n",
              "       [ 669,  764],\n",
              "       [ 764,  758],\n",
              "       [ 758,  865],\n",
              "       [ 865,  846],\n",
              "       [ 846,  939],\n",
              "       [ 939,  994],\n",
              "       [ 994, 1041],\n",
              "       [1041, 1173],\n",
              "       [1173, 1217],\n",
              "       [1217, 1274],\n",
              "       [1274, 1380],\n",
              "       [1380, 1366],\n",
              "       [1366, 1681],\n",
              "       [1681, 1739],\n",
              "       [1739, 1950]])"
            ]
          },
          "metadata": {},
          "execution_count": 9
        }
      ]
    },
    {
      "cell_type": "code",
      "source": [
        "y"
      ],
      "metadata": {
        "id": "Zp1Ag5No32Lb"
      },
      "execution_count": null,
      "outputs": []
    },
    {
      "cell_type": "code",
      "source": [
        "train_size = round(len(X)*0.8)\n",
        "X_train = X[:train_size]\n",
        "y_train = y[:train_size]\n",
        "\n",
        "X_test = X[train_size:]\n",
        "y_test = y[train_size:]"
      ],
      "metadata": {
        "id": "t4D6lUy8r2Fr"
      },
      "execution_count": null,
      "outputs": []
    },
    {
      "cell_type": "code",
      "source": [
        "sales[:train_size].plot()\n",
        "sales[train_size:].plot()"
      ],
      "metadata": {
        "colab": {
          "base_uri": "https://localhost:8080/",
          "height": 309
        },
        "id": "L1HFLHT9zFUP",
        "outputId": "f6118343-d982-45d7-bc07-1ce189a63dc7"
      },
      "execution_count": null,
      "outputs": [
        {
          "output_type": "execute_result",
          "data": {
            "text/plain": [
              "<matplotlib.axes._subplots.AxesSubplot at 0x7fd7d1088950>"
            ]
          },
          "metadata": {},
          "execution_count": 140
        },
        {
          "output_type": "display_data",
          "data": {
            "text/plain": [
              "<Figure size 432x288 with 1 Axes>"
            ],
            "image/png": "[encoded data removed]"
          },
          "metadata": {
            "needs_background": "light"
          }
        }
      ]
    },
    {
      "cell_type": "code",
      "source": [
        "from sklearn.preprocessing import MinMaxScaler\n",
        "\n",
        "scaler = MinMaxScaler()\n",
        "X_train_scaled = scaler.fit_transform(X_train)\n",
        "X_test_scaled = scaler.transform(X_test)"
      ],
      "metadata": {
        "id": "WU8olZ_iwhE4"
      },
      "execution_count": null,
      "outputs": []
    },
    {
      "cell_type": "code",
      "source": [
        "from sklearn.linear_model import LinearRegression\n",
        "from sklearn.metrics import mean_absolute_error\n",
        "\n",
        "model_lr = LinearRegression(fit_intercept=True)\n",
        "model_lr.fit(X_train_scaled,y_train)\n",
        "\n",
        "y_pred_train = model_lr.predict(X_train_scaled)\n",
        "y_pred_test = model_lr.predict(X_test_scaled)\n",
        "\n",
        "print('Train MAE:',mean_absolute_error(y_train,y_pred_train))\n",
        "print('Test MAE:',mean_absolute_error(y_test,y_pred_test))"
      ],
      "metadata": {
        "colab": {
          "base_uri": "https://localhost:8080/"
        },
        "id": "nKQkfZmWw0VS",
        "outputId": "e5ffcabb-b6d3-490e-e440-b085da2620f5"
      },
      "execution_count": null,
      "outputs": [
        {
          "output_type": "stream",
          "name": "stdout",
          "text": [
            "Train MAE: 28.266233166321552\n",
            "Test MAE: 281.4702307900982\n"
          ]
        }
      ]
    },
    {
      "cell_type": "code",
      "source": [
        "import matplotlib.pyplot as plt\n",
        "\n",
        "plt.plot(sales.index[window:-window],np.append(y_pred_train,y_pred_test))\n",
        "sales.plot(color='red')"
      ],
      "metadata": {
        "colab": {
          "base_uri": "https://localhost:8080/",
          "height": 296
        },
        "id": "NbeJEY220Z2e",
        "outputId": "cb6a82b9-191b-43d6-c3e2-14d716da7e25"
      },
      "execution_count": null,
      "outputs": [
        {
          "output_type": "execute_result",
          "data": {
            "text/plain": [
              "<matplotlib.axes._subplots.AxesSubplot at 0x7fd7d07721d0>"
            ]
          },
          "metadata": {},
          "execution_count": 155
        },
        {
          "output_type": "display_data",
          "data": {
            "text/plain": [
              "<Figure size 432x288 with 1 Axes>"
            ],
            "image/png": "[encoded data removed]"
          },
          "metadata": {
            "needs_background": "light"
          }
        }
      ]
    },
    {
      "cell_type": "markdown",
      "source": [
        "## Model Inference"
      ],
      "metadata": {
        "id": "gY1J6XW58IQf"
      }
    },
    {
      "cell_type": "code",
      "source": [
        "from datetime import datetime \n",
        "\n",
        "def forecasting(month):\n",
        "  sales_forecast = sales.copy()\n",
        "  window=2\n",
        "  for i in range(month):\n",
        "    X = sales_forecast[-window:].values.reshape(1,-1)\n",
        "    X_scaled = scaler.transform(X)\n",
        "    new_idx = datetime(sales_forecast.index.year[-1],sales_forecast.index.month[-1]+1,1)\n",
        "    sales_forecast[new_idx] = round(model_lr.predict(X_scaled)[0])\n",
        "  return sales_forecast"
      ],
      "metadata": {
        "id": "9chVAysq7hwR"
      },
      "execution_count": null,
      "outputs": []
    },
    {
      "cell_type": "code",
      "source": [
        "sales_forecast = forecasting(6)\n",
        "sales_forecast.plot(color='blue',label='forecast',figsize=(20,5))\n",
        "sales.plot(color='red',label='real')\n",
        "plt.legend()"
      ],
      "metadata": {
        "colab": {
          "base_uri": "https://localhost:8080/",
          "height": 362
        },
        "id": "YlS-V90P8clt",
        "outputId": "696261cc-1d37-4db3-e19c-f4f4399299a8"
      },
      "execution_count": null,
      "outputs": [
        {
          "output_type": "execute_result",
          "data": {
            "text/plain": [
              "<matplotlib.legend.Legend at 0x7fd7d0b83490>"
            ]
          },
          "metadata": {},
          "execution_count": 185
        },
        {
          "output_type": "display_data",
          "data": {
            "text/plain": [
              "<Figure size 1440x360 with 1 Axes>"
            ],
            "image/png": "[encoded data removed]"
          },
          "metadata": {
            "needs_background": "light"
          }
        }
      ]
    },
    {
      "cell_type": "code",
      "source": [
        "sales_forecast['2022-04':'2022-10']"
      ],
      "metadata": {
        "colab": {
          "base_uri": "https://localhost:8080/"
        },
        "id": "gq2VqV6z_zvF",
        "outputId": "f2448b00-b121-4d6a-960f-65e24e392c64"
      },
      "execution_count": null,
      "outputs": [
        {
          "output_type": "execute_result",
          "data": {
            "text/plain": [
              "date\n",
              "2022-04-01    2433\n",
              "2022-05-01    2919\n",
              "2022-06-01    3863\n",
              "2022-07-01    3563\n",
              "2022-08-01    4184\n",
              "2022-09-01    4165\n",
              "2022-10-01    4634\n",
              "Name: sales, dtype: int64"
            ]
          },
          "metadata": {},
          "execution_count": 188
        }
      ]
    },
    {
      "cell_type": "markdown",
      "source": [
        "We can see that our sales on July 2022 is predicted by 3563 orders. So, we need to set that **our target on July 2022 is that have to reach 3563 orders**.\n",
        "\n",
        "However, July 2022 has already running up to July 5th. So, we need to check the performance of our KPI today."
      ],
      "metadata": {
        "id": "Lp1FPlxYBYYA"
      }
    },
    {
      "cell_type": "code",
      "source": [
        "july = client.query('''\n",
        "SELECT extract(year from created_at) as year, extract(month from created_at) as month, count(order_id) as sales\n",
        "FROM `bigquery-public-data.thelook_ecommerce.orders`\n",
        "WHERE status='Shipped' and created_at between \"2022-07-01\" and \"2022-07-05\"\n",
        "GROUP BY year,month\n",
        "ORDER BY year,month ASC\n",
        "''').to_dataframe()\n",
        "\n",
        "july"
      ],
      "metadata": {
        "colab": {
          "base_uri": "https://localhost:8080/",
          "height": 80
        },
        "id": "xxlqnMK9CIUk",
        "outputId": "88387d35-a94c-459d-d395-7ef12efdf511"
      },
      "execution_count": null,
      "outputs": [
        {
          "output_type": "execute_result",
          "data": {
            "text/plain": [
              "   year  month  sales\n",
              "0  2022      7   1390"
            ],
            "text/html": [
              "\n",
              "  <div id=\"df-8346ae09-2086-42f4-9e87-f2c218d427d4\">\n",
              "    <div class=\"colab-df-container\">\n",
              "      <div>\n",
              "<style scoped>\n",
              "    .dataframe tbody tr th:only-of-type {\n",
              "        vertical-align: middle;\n",
              "    }\n",
              "\n",
              "    .dataframe tbody tr th {\n",
              "        vertical-align: top;\n",
              "    }\n",
              "\n",
              "    .dataframe thead th {\n",
              "        text-align: right;\n",
              "    }\n",
              "</style>\n",
              "<table border=\"1\" class=\"dataframe\">\n",
              "  <thead>\n",
              "    <tr style=\"text-align: right;\">\n",
              "      <th></th>\n",
              "      <th>year</th>\n",
              "      <th>month</th>\n",
              "      <th>sales</th>\n",
              "    </tr>\n",
              "  </thead>\n",
              "  <tbody>\n",
              "    <tr>\n",
              "      <th>0</th>\n",
              "      <td>2022</td>\n",
              "      <td>7</td>\n",
              "      <td>1390</td>\n",
              "    </tr>\n",
              "  </tbody>\n",
              "</table>\n",
              "</div>\n",
              "      <button class=\"colab-df-convert\" onclick=\"convertToInteractive('df-8346ae09-2086-42f4-9e87-f2c218d427d4')\"\n",
              "              title=\"Convert this dataframe to an interactive table.\"\n",
              "              style=\"display:none;\">\n",
              "        \n",
              "  <svg xmlns=\"http://www.w3.org/2000/svg\" height=\"24px\"viewBox=\"0 0 24 24\"\n",
              "       width=\"24px\">\n",
              "    <path d=\"M0 0h24v24H0V0z\" fill=\"none\"/>\n",
              "    <path d=\"M18.56 5.44l.94 2.06.94-2.06 2.06-.94-2.06-.94-.94-2.06-.94 2.06-2.06.94zm-11 1L8.5 8.5l.94-2.06 2.06-.94-2.06-.94L8.5 2.5l-.94 2.06-2.06.94zm10 10l.94 2.06.94-2.06 2.06-.94-2.06-.94-.94-2.06-.94 2.06-2.06.94z\"/><path d=\"M17.41 7.96l-1.37-1.37c-.4-.4-.92-.59-1.43-.59-.52 0-1.04.2-1.43.59L10.3 9.45l-7.72 7.72c-.78.78-.78 2.05 0 2.83L4 21.41c.39.39.9.59 1.41.59.51 0 1.02-.2 1.41-.59l7.78-7.78 2.81-2.81c.8-.78.8-2.07 0-2.86zM5.41 20L4 18.59l7.72-7.72 1.47 1.35L5.41 20z\"/>\n",
              "  </svg>\n",
              "      </button>\n",
              "      \n",
              "  <style>\n",
              "    .colab-df-container {\n",
              "      display:flex;\n",
              "      flex-wrap:wrap;\n",
              "      gap: 12px;\n",
              "    }\n",
              "\n",
              "    .colab-df-convert {\n",
              "      background-color: #E8F0FE;\n",
              "      border: none;\n",
              "      border-radius: 50%;\n",
              "      cursor: pointer;\n",
              "      display: none;\n",
              "      fill: #1967D2;\n",
              "      height: 32px;\n",
              "      padding: 0 0 0 0;\n",
              "      width: 32px;\n",
              "    }\n",
              "\n",
              "    .colab-df-convert:hover {\n",
              "      background-color: #E2EBFA;\n",
              "      box-shadow: 0px 1px 2px rgba(60, 64, 67, 0.3), 0px 1px 3px 1px rgba(60, 64, 67, 0.15);\n",
              "      fill: #174EA6;\n",
              "    }\n",
              "\n",
              "    [theme=dark] .colab-df-convert {\n",
              "      background-color: #3B4455;\n",
              "      fill: #D2E3FC;\n",
              "    }\n",
              "\n",
              "    [theme=dark] .colab-df-convert:hover {\n",
              "      background-color: #434B5C;\n",
              "      box-shadow: 0px 1px 3px 1px rgba(0, 0, 0, 0.15);\n",
              "      filter: drop-shadow(0px 1px 2px rgba(0, 0, 0, 0.3));\n",
              "      fill: #FFFFFF;\n",
              "    }\n",
              "  </style>\n",
              "\n",
              "      <script>\n",
              "        const buttonEl =\n",
              "          document.querySelector('#df-8346ae09-2086-42f4-9e87-f2c218d427d4 button.colab-df-convert');\n",
              "        buttonEl.style.display =\n",
              "          google.colab.kernel.accessAllowed ? 'block' : 'none';\n",
              "\n",
              "        async function convertToInteractive(key) {\n",
              "          const element = document.querySelector('#df-8346ae09-2086-42f4-9e87-f2c218d427d4');\n",
              "          const dataTable =\n",
              "            await google.colab.kernel.invokeFunction('convertToInteractive',\n",
              "                                                     [key], {});\n",
              "          if (!dataTable) return;\n",
              "\n",
              "          const docLinkHtml = 'Like what you see? Visit the ' +\n",
              "            '<a target=\"_blank\" href=https://colab.research.google.com/notebooks/data_table.ipynb>data table notebook</a>'\n",
              "            + ' to learn more about interactive tables.';\n",
              "          element.innerHTML = '';\n",
              "          dataTable['output_type'] = 'display_data';\n",
              "          await google.colab.output.renderOutput(dataTable, element);\n",
              "          const docLink = document.createElement('div');\n",
              "          docLink.innerHTML = docLinkHtml;\n",
              "          element.appendChild(docLink);\n",
              "        }\n",
              "      </script>\n",
              "    </div>\n",
              "  </div>\n",
              "  "
            ]
          },
          "metadata": {},
          "execution_count": 191
        }
      ]
    },
    {
      "cell_type": "code",
      "source": [
        "print('Sales KPI Achievement: {:.2f} %'.format(july.sales[0]*100/sales_forecast['2022-07-01']))"
      ],
      "metadata": {
        "colab": {
          "base_uri": "https://localhost:8080/"
        },
        "id": "INTBPsspCfZf",
        "outputId": "76e16359-8c1c-42b0-dabc-697274162ada"
      },
      "execution_count": null,
      "outputs": [
        {
          "output_type": "stream",
          "name": "stdout",
          "text": [
            "Sales KPI Achievement: 39.01 %\n"
          ]
        }
      ]
    }
  ]
}