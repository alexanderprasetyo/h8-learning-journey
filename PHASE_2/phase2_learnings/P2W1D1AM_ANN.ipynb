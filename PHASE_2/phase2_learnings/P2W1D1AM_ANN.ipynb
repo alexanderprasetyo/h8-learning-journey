{
  "nbformat": 4,
  "nbformat_minor": 0,
  "metadata": {
    "orig_nbformat": 2,
    "colab": {
      "name": "d1am.ipynb",
      "provenance": []
    },
    "language_info": {
      "name": "python"
    },
    "kernelspec": {
      "name": "python3",
      "display_name": "Python 3"
    }
  },
  "cells": [
    {
      "cell_type": "markdown",
      "metadata": {
        "id": "AZHepuOHNJft"
      },
      "source": [
        "# Week 1: Day 1 AM // Artificial Neural Network Landscape"
      ]
    },
    {
      "cell_type": "markdown",
      "metadata": {
        "id": "CgzX4razl9EB"
      },
      "source": [
        "Today morning session, we will learn about:\n",
        "\n",
        "\n",
        "* Simple model of biological neuron\n",
        "* Perceptron\n",
        "* NN Structure and elements\n",
        "* Network for classification\n",
        "\n"
      ]
    },
    {
      "cell_type": "markdown",
      "metadata": {
        "id": "YSa4aQHpvRCC"
      },
      "source": [
        "## Setup"
      ]
    },
    {
      "cell_type": "code",
      "metadata": {
        "id": "HfegH_qsNJf6"
      },
      "source": [
        "# Python ≥3.5 is required\n",
        "import sys\n",
        "\n",
        "\n",
        "# Scikit-Learn ≥0.20 is required\n",
        "import sklearn\n",
        "\n",
        "\n",
        "import tensorflow as tf\n",
        "\n",
        "# Common imports\n",
        "import numpy as np\n",
        "import os\n",
        "\n",
        "# to make this notebook's output stable across runs\n",
        "np.random.seed(42)\n",
        "\n",
        "# To plot pretty figures\n",
        "%matplotlib inline\n",
        "import matplotlib.pyplot as plt"
      ],
      "execution_count": null,
      "outputs": []
    },
    {
      "cell_type": "markdown",
      "metadata": {
        "id": "REBVx8TMRm2q"
      },
      "source": [
        "# Perceptrons"
      ]
    },
    {
      "cell_type": "markdown",
      "metadata": {
        "id": "ijyzN4Togq_J"
      },
      "source": [
        "Perceptron take a weighted summation of inputs, and apply an activation function to produce the output. Simplistically, we can think Perceptron unit as a Logistic classifier."
      ]
    },
    {
      "cell_type": "markdown",
      "metadata": {
        "id": "oVXzsgrGRm2r"
      },
      "source": [
        "**Note**: we set `max_iter` and `tol` explicitly to avoid warnings about the fact that their default value will change in future versions of Scikit-Learn."
      ]
    },
    {
      "cell_type": "markdown",
      "metadata": {
        "id": "flyQbenBhHxh"
      },
      "source": [
        "For this experiment, we use the Iris dataset and convert it into a binary classifier."
      ]
    },
    {
      "cell_type": "code",
      "metadata": {
        "id": "-P0sBM9LRm2r",
        "colab": {
          "base_uri": "https://localhost:8080/"
        },
        "outputId": "135ec077-dad9-4c0a-9be6-0cac32e7c787"
      },
      "source": [
        "import numpy as np\n",
        "from sklearn.datasets import load_iris\n",
        "from sklearn.linear_model import Perceptron\n",
        "\n",
        "iris = load_iris()\n",
        "X = iris.data[:, (2, 3)]  # petal length, petal width\n",
        "y = (iris.target == 0).astype(np.int)\n",
        "\n",
        "per_clf = Perceptron(max_iter=1000, tol=1e-3, random_state=42)\n",
        "per_clf.fit(X, y)\n",
        "\n",
        "#y_pred = per_clf.predict([[2, 0.5]])"
      ],
      "execution_count": null,
      "outputs": [
        {
          "output_type": "execute_result",
          "data": {
            "text/plain": [
              "Perceptron(alpha=0.0001, class_weight=None, early_stopping=False, eta0=1.0,\n",
              "           fit_intercept=True, max_iter=1000, n_iter_no_change=5, n_jobs=None,\n",
              "           penalty=None, random_state=42, shuffle=True, tol=0.001,\n",
              "           validation_fraction=0.1, verbose=0, warm_start=False)"
            ]
          },
          "metadata": {
            "tags": []
          },
          "execution_count": 2
        }
      ]
    },
    {
      "cell_type": "code",
      "metadata": {
        "id": "3Ljm9DG7Rm2s"
      },
      "source": [
        "#y_pred"
      ],
      "execution_count": null,
      "outputs": []
    },
    {
      "cell_type": "code",
      "metadata": {
        "id": "0YmjfH9VRm2t",
        "colab": {
          "base_uri": "https://localhost:8080/",
          "height": 287
        },
        "outputId": "81ecf21f-564e-4b05-82b3-9df793061476"
      },
      "source": [
        "a = -per_clf.coef_[0][0] / per_clf.coef_[0][1]\n",
        "b = -per_clf.intercept_ / per_clf.coef_[0][1]\n",
        "\n",
        "axes = [0, 5, 0, 2]\n",
        "\n",
        "x0, x1 = np.meshgrid(\n",
        "        np.linspace(axes[0], axes[1], 500).reshape(-1, 1),\n",
        "        np.linspace(axes[2], axes[3], 200).reshape(-1, 1),\n",
        "    )\n",
        "X_new = np.c_[x0.ravel(), x1.ravel()]\n",
        "y_predict = per_clf.predict(X_new)\n",
        "zz = y_predict.reshape(x0.shape)\n",
        "\n",
        "plt.figure(figsize=(10, 4))\n",
        "plt.plot(X[y==0, 0], X[y==0, 1], \"bs\", label=\"Not Iris-Setosa\")\n",
        "plt.plot(X[y==1, 0], X[y==1, 1], \"yo\", label=\"Iris-Setosa\")\n",
        "\n",
        "plt.plot([axes[0], axes[1]], [a * axes[0] + b, a * axes[1] + b], \"k-\", linewidth=3)\n",
        "from matplotlib.colors import ListedColormap\n",
        "custom_cmap = ListedColormap(['#9898ff', '#fafab0'])\n",
        "\n",
        "plt.contourf(x0, x1, zz, cmap=custom_cmap)\n",
        "plt.xlabel(\"Petal length\", fontsize=14)\n",
        "plt.ylabel(\"Petal width\", fontsize=14)\n",
        "plt.legend(loc=\"lower right\", fontsize=14)\n",
        "plt.axis(axes)\n",
        "\n",
        "plt.show()"
      ],
      "execution_count": null,
      "outputs": [
        {
          "output_type": "display_data",
          "data": {
            "image/png": "[encoded data removed]",
            "text/plain": [
              "<Figure size 720x288 with 1 Axes>"
            ]
          },
          "metadata": {
            "tags": [],
            "needs_background": "light"
          }
        }
      ]
    },
    {
      "cell_type": "markdown",
      "metadata": {
        "id": "_SwXxY3yq2m-"
      },
      "source": [
        "## ANN Structure and Elements"
      ]
    },
    {
      "cell_type": "markdown",
      "metadata": {
        "id": "UVQc2uBBq5EB"
      },
      "source": [
        "Artificial Neural Network (ANN or simply called NN) is a mathematical model that tries to mimic how brain works. It is a further development of perceptron, where NN consist of perceptrons stacked together into a layer, and multiple layers are cascaded sequentially to build a network."
      ]
    },
    {
      "cell_type": "markdown",
      "metadata": {
        "id": "HyIXzvhErV8X"
      },
      "source": [
        "### Network Architecture"
      ]
    },
    {
      "cell_type": "markdown",
      "metadata": {
        "id": "cxuPGxI8JCLU"
      },
      "source": [
        "Network Architecture define how the layers and the neurons are constructed in our network."
      ]
    },
    {
      "cell_type": "markdown",
      "metadata": {
        "id": "1tmXo9wCRm2u"
      },
      "source": [
        "### Activation functions"
      ]
    },
    {
      "cell_type": "markdown",
      "metadata": {
        "id": "6JGKTbmbh1IB"
      },
      "source": [
        "Activation function is an important part of neural network. Activation function enable us to introduce non-linearity to the model, and as we already learned that non-linearity enable more complex with better capacity to learn."
      ]
    },
    {
      "cell_type": "code",
      "metadata": {
        "id": "tCJCGteORm2u"
      },
      "source": [
        "def sigmoid(z):\n",
        "    return 1 / (1 + np.exp(-z))\n",
        "\n",
        "def relu(z):\n",
        "    return np.maximum(0, z)\n",
        "\n",
        "def derivative(f, z, eps=0.000001):\n",
        "    return (f(z + eps) - f(z - eps))/(2 * eps)"
      ],
      "execution_count": null,
      "outputs": []
    },
    {
      "cell_type": "code",
      "metadata": {
        "id": "4EpHXCs8Rm2v",
        "colab": {
          "base_uri": "https://localhost:8080/",
          "height": 285
        },
        "outputId": "f4a1a0f9-adec-42ec-b0ac-c53b1e57add9"
      },
      "source": [
        "z = np.linspace(-5, 5, 200)\n",
        "\n",
        "plt.figure(figsize=(11,4))\n",
        "\n",
        "plt.subplot(121)\n",
        "plt.plot(z, np.sign(z), \"r-\", linewidth=1, label=\"Step\")\n",
        "plt.plot(z, sigmoid(z), \"g--\", linewidth=2, label=\"Sigmoid\")\n",
        "plt.plot(z, np.tanh(z), \"b-\", linewidth=2, label=\"Tanh\")\n",
        "plt.plot(z, relu(z), \"m-.\", linewidth=2, label=\"ReLU\")\n",
        "plt.grid(True)\n",
        "plt.legend(loc=\"center right\", fontsize=14)\n",
        "plt.title(\"Activation functions\", fontsize=14)\n",
        "plt.axis([-5, 5, -1.2, 1.2])\n",
        "\n",
        "plt.subplot(122)\n",
        "plt.plot(z, derivative(np.sign, z), \"r-\", linewidth=1, label=\"Step\")\n",
        "plt.plot(0, 0, \"ro\", markersize=5)\n",
        "plt.plot(0, 0, \"rx\", markersize=10)\n",
        "plt.plot(z, derivative(sigmoid, z), \"g--\", linewidth=2, label=\"Sigmoid\")\n",
        "plt.plot(z, derivative(np.tanh, z), \"b-\", linewidth=2, label=\"Tanh\")\n",
        "plt.plot(z, derivative(relu, z), \"m-.\", linewidth=2, label=\"ReLU\")\n",
        "plt.grid(True)\n",
        "#plt.legend(loc=\"center right\", fontsize=14)\n",
        "plt.title(\"Derivatives\", fontsize=14)\n",
        "plt.axis([-5, 5, -0.2, 1.2])\n",
        "\n",
        "#save_fig(\"activation_functions_plot\")\n",
        "plt.show()"
      ],
      "execution_count": null,
      "outputs": [
        {
          "output_type": "display_data",
          "data": {
            "image/png": "[encoded data removed]",
            "text/plain": [
              "<Figure size 792x288 with 2 Axes>"
            ]
          },
          "metadata": {
            "tags": [],
            "needs_background": "light"
          }
        }
      ]
    },
    {
      "cell_type": "markdown",
      "metadata": {
        "id": "AuNwvJgnwga8"
      },
      "source": [
        "Sigmoid activation function is intended to mimic the Heaviside function in a derivable function."
      ]
    },
    {
      "cell_type": "code",
      "metadata": {
        "id": "73gT_OX_Rm2v"
      },
      "source": [
        "def heaviside(z):\n",
        "    return (z >= 0).astype(z.dtype)\n",
        "\n",
        "def mlp_xor(x1, x2, activation=heaviside):\n",
        "    return activation(-activation(x1 + x2 - 1.5) + activation(x1 + x2 - 0.5) - 0.5)"
      ],
      "execution_count": null,
      "outputs": []
    },
    {
      "cell_type": "code",
      "metadata": {
        "scrolled": true,
        "id": "2721rewJRm2w",
        "colab": {
          "base_uri": "https://localhost:8080/",
          "height": 285
        },
        "outputId": "68aef43a-a9bd-45fa-c28b-c3470218a12f"
      },
      "source": [
        "x1s = np.linspace(-0.2, 1.2, 100)\n",
        "x2s = np.linspace(-0.2, 1.2, 100)\n",
        "x1, x2 = np.meshgrid(x1s, x2s)\n",
        "\n",
        "z1 = mlp_xor(x1, x2, activation=heaviside)\n",
        "z2 = mlp_xor(x1, x2, activation=sigmoid)\n",
        "\n",
        "plt.figure(figsize=(10,4))\n",
        "\n",
        "plt.subplot(121)\n",
        "plt.contourf(x1, x2, z1)\n",
        "plt.plot([0, 1], [0, 1], \"gs\", markersize=20)\n",
        "plt.plot([0, 1], [1, 0], \"y^\", markersize=20)\n",
        "plt.title(\"Activation function: heaviside\", fontsize=14)\n",
        "plt.grid(True)\n",
        "\n",
        "plt.subplot(122)\n",
        "plt.contourf(x1, x2, z2)\n",
        "plt.plot([0, 1], [0, 1], \"gs\", markersize=20)\n",
        "plt.plot([0, 1], [1, 0], \"y^\", markersize=20)\n",
        "plt.title(\"Activation function: sigmoid\", fontsize=14)\n",
        "plt.grid(True)"
      ],
      "execution_count": null,
      "outputs": [
        {
          "output_type": "display_data",
          "data": {
            "image/png": "[encoded data removed]",
            "text/plain": [
              "<Figure size 720x288 with 2 Axes>"
            ]
          },
          "metadata": {
            "tags": [],
            "needs_background": "light"
          }
        }
      ]
    },
    {
      "cell_type": "markdown",
      "metadata": {
        "id": "lBUFfdauqg6n"
      },
      "source": [
        "Now, let's try to create a network that we can use as image classifier."
      ]
    },
    {
      "cell_type": "markdown",
      "metadata": {
        "id": "KIK9Mz1sqwXa"
      },
      "source": []
    },
    {
      "cell_type": "code",
      "metadata": {
        "id": "FfShzs55qv3y"
      },
      "source": [],
      "execution_count": null,
      "outputs": []
    },
    {
      "cell_type": "markdown",
      "metadata": {
        "id": "xZYd6sE1Rm2w"
      },
      "source": [
        "# Building an Image Classifier"
      ]
    },
    {
      "cell_type": "markdown",
      "metadata": {
        "id": "xo9ud3aARm2w"
      },
      "source": [
        "First let's import TensorFlow and Keras."
      ]
    },
    {
      "cell_type": "code",
      "metadata": {
        "id": "twGHHhEPRm2x"
      },
      "source": [
        "import tensorflow as tf\n",
        "from tensorflow import keras"
      ],
      "execution_count": null,
      "outputs": []
    },
    {
      "cell_type": "code",
      "metadata": {
        "id": "q-QoODV7Rm2x",
        "colab": {
          "base_uri": "https://localhost:8080/",
          "height": 35
        },
        "outputId": "2d3f785c-9caa-4ae2-b4dd-f61ba30964bd"
      },
      "source": [
        "tf.__version__"
      ],
      "execution_count": null,
      "outputs": [
        {
          "output_type": "execute_result",
          "data": {
            "application/vnd.google.colaboratory.intrinsic+json": {
              "type": "string"
            },
            "text/plain": [
              "'2.4.1'"
            ]
          },
          "metadata": {
            "tags": []
          },
          "execution_count": 10
        }
      ]
    },
    {
      "cell_type": "code",
      "metadata": {
        "id": "EG84Ch9yRm2x",
        "colab": {
          "base_uri": "https://localhost:8080/",
          "height": 35
        },
        "outputId": "2fb898a7-cb51-467d-e091-a355e1988336"
      },
      "source": [
        "keras.__version__"
      ],
      "execution_count": null,
      "outputs": [
        {
          "output_type": "execute_result",
          "data": {
            "application/vnd.google.colaboratory.intrinsic+json": {
              "type": "string"
            },
            "text/plain": [
              "'2.4.0'"
            ]
          },
          "metadata": {
            "tags": []
          },
          "execution_count": 11
        }
      ]
    },
    {
      "cell_type": "markdown",
      "metadata": {
        "id": "szRy0MsCUYGH"
      },
      "source": [
        "The second version is the version of the Keras API implemented by tf.keras. Note that\n",
        "it ends with -tf, highlighting the fact that tf.keras implements the Keras API, plus\n",
        "some extra TensorFlow-specific features.\n",
        "\n",
        "Now let’s use tf.keras! We’ll start by building a simple image classifier."
      ]
    },
    {
      "cell_type": "markdown",
      "metadata": {
        "id": "o-B1cjN_UiYg"
      },
      "source": [
        "## Building an Image Classifier Using the Sequential API\n",
        "\n",
        "First, we need to load a dataset. In this chapter we will tackle Fashion MNIST, which\n",
        "is a drop-in replacement of MNIST. It has the exact same\n",
        "format as MNIST (70,000 grayscale images of 28 × 28 pixels each, with 10 classes),\n",
        "but the images represent fashion items rather than handwritten digits, so each class is\n",
        "more diverse, and the problem turns out to be significantly more challenging than\n",
        "MNIST. For example, a simple linear model reaches about 92% accuracy on MNIST,\n",
        "but only about 83% on Fashion MNIST."
      ]
    },
    {
      "cell_type": "markdown",
      "metadata": {
        "id": "P6FhNnqzRm2y"
      },
      "source": [
        "Let's start by loading the fashion MNIST dataset. Keras has a number of functions to load popular datasets in `keras.datasets`. The dataset is already split for you between a training set and a test set, but it can be useful to split the training set further to have a validation set:"
      ]
    },
    {
      "cell_type": "code",
      "metadata": {
        "id": "U7KSraJ2Rm2y",
        "colab": {
          "base_uri": "https://localhost:8080/"
        },
        "outputId": "ee9af16c-9677-4387-aab9-052de68c41f3"
      },
      "source": [
        "fashion_mnist = keras.datasets.fashion_mnist\n",
        "(X_train_full, y_train_full), (X_test, y_test) = fashion_mnist.load_data()"
      ],
      "execution_count": null,
      "outputs": [
        {
          "output_type": "stream",
          "text": [
            "Downloading data from https://storage.googleapis.com/tensorflow/tf-keras-datasets/train-labels-idx1-ubyte.gz\n",
            "32768/29515 [=================================] - 0s 0us/step\n",
            "Downloading data from https://storage.googleapis.com/tensorflow/tf-keras-datasets/train-images-idx3-ubyte.gz\n",
            "26427392/26421880 [==============================] - 0s 0us/step\n",
            "Downloading data from https://storage.googleapis.com/tensorflow/tf-keras-datasets/t10k-labels-idx1-ubyte.gz\n",
            "8192/5148 [===============================================] - 0s 0us/step\n",
            "Downloading data from https://storage.googleapis.com/tensorflow/tf-keras-datasets/t10k-images-idx3-ubyte.gz\n",
            "4423680/4422102 [==============================] - 0s 0us/step\n"
          ],
          "name": "stdout"
        }
      ]
    },
    {
      "cell_type": "markdown",
      "metadata": {
        "id": "zPaWi7Y6Rm2z"
      },
      "source": [
        "When loading MNIST or Fashion MNIST using Keras rather than Scikit-Learn, one\n",
        "important difference is that every image is represented as a 28 × 28 array rather than\n",
        "a 1D array of size 784. Moreover, the pixel intensities are represented as integers\n",
        "(from 0 to 255) rather than floats (from 0.0 to 255.0). Let’s take a look at the shape\n",
        "and data type of the training set:"
      ]
    },
    {
      "cell_type": "code",
      "metadata": {
        "id": "QuuS28l6Rm2z",
        "colab": {
          "base_uri": "https://localhost:8080/"
        },
        "outputId": "caabf812-c302-42ad-a0d1-4fd9deadbe35"
      },
      "source": [
        "X_train_full.shape"
      ],
      "execution_count": null,
      "outputs": [
        {
          "output_type": "execute_result",
          "data": {
            "text/plain": [
              "(60000, 28, 28)"
            ]
          },
          "metadata": {
            "tags": []
          },
          "execution_count": 13
        }
      ]
    },
    {
      "cell_type": "markdown",
      "metadata": {
        "id": "eZXNRw88Rm20"
      },
      "source": [
        "Each pixel intensity is represented as a byte (0 to 255):"
      ]
    },
    {
      "cell_type": "code",
      "metadata": {
        "id": "GNuLxZdCRm20",
        "colab": {
          "base_uri": "https://localhost:8080/"
        },
        "outputId": "ae553b6f-19d8-45a3-ee07-07d9a321a41e"
      },
      "source": [
        "X_train_full.dtype"
      ],
      "execution_count": null,
      "outputs": [
        {
          "output_type": "execute_result",
          "data": {
            "text/plain": [
              "dtype('uint8')"
            ]
          },
          "metadata": {
            "tags": []
          },
          "execution_count": 14
        }
      ]
    },
    {
      "cell_type": "markdown",
      "metadata": {
        "id": "y1AaGdjbRm21"
      },
      "source": [
        "Note that the dataset is already split into a training set and a test set, but there is no\n",
        "validation set, so we’ll create one now. Additionally, since we are going to train the\n",
        "neural network using Gradient Descent, we must scale the input features. For simplic‐\n",
        "ity, we’ll scale the pixel intensities down to the 0–1 range by dividing them by 255.0\n",
        "(this also converts them to floats):"
      ]
    },
    {
      "cell_type": "code",
      "metadata": {
        "id": "a3bOz1QKRm21"
      },
      "source": [
        "X_valid, X_train = X_train_full[:5000] / 255., X_train_full[5000:] / 255.\n",
        "y_valid, y_train = y_train_full[:5000], y_train_full[5000:]\n",
        "X_test = X_test / 255."
      ],
      "execution_count": null,
      "outputs": []
    },
    {
      "cell_type": "markdown",
      "metadata": {
        "id": "oSlmipj_Rm21"
      },
      "source": [
        "You can plot an image using Matplotlib's `imshow()` function, with a `'binary'`\n",
        " color map:"
      ]
    },
    {
      "cell_type": "code",
      "metadata": {
        "id": "nFEU8KBMRm22",
        "colab": {
          "base_uri": "https://localhost:8080/",
          "height": 248
        },
        "outputId": "c1da4206-80e2-43e5-8c20-3fb942798797"
      },
      "source": [
        "plt.imshow(X_train[0], cmap=\"binary\")\n",
        "plt.axis('off')\n",
        "plt.show()"
      ],
      "execution_count": null,
      "outputs": [
        {
          "output_type": "display_data",
          "data": {
            "image/png": "[encoded data removed]",
            "text/plain": [
              "<Figure size 432x288 with 1 Axes>"
            ]
          },
          "metadata": {
            "tags": [],
            "needs_background": "light"
          }
        }
      ]
    },
    {
      "cell_type": "markdown",
      "metadata": {
        "id": "7j91hNSvRm22"
      },
      "source": [
        "The labels are the class IDs (represented as uint8), from 0 to 9:"
      ]
    },
    {
      "cell_type": "code",
      "metadata": {
        "id": "l52jwm9wRm22",
        "colab": {
          "base_uri": "https://localhost:8080/"
        },
        "outputId": "a88d3b6b-191f-4111-93f9-fe03d1943530"
      },
      "source": [
        "y_train"
      ],
      "execution_count": null,
      "outputs": [
        {
          "output_type": "execute_result",
          "data": {
            "text/plain": [
              "array([4, 0, 7, ..., 3, 0, 5], dtype=uint8)"
            ]
          },
          "metadata": {
            "tags": []
          },
          "execution_count": 17
        }
      ]
    },
    {
      "cell_type": "markdown",
      "metadata": {
        "id": "M_5vdfQXRm22"
      },
      "source": [
        "Here are the corresponding class names:"
      ]
    },
    {
      "cell_type": "code",
      "metadata": {
        "id": "LoPmnYgGRm23"
      },
      "source": [
        "class_names = [\"T-shirt/top\", \"Trouser\", \"Pullover\", \"Dress\", \"Coat\",\n",
        "               \"Sandal\", \"Shirt\", \"Sneaker\", \"Bag\", \"Ankle boot\"]"
      ],
      "execution_count": null,
      "outputs": []
    },
    {
      "cell_type": "markdown",
      "metadata": {
        "id": "tnfA-rNVRm23"
      },
      "source": [
        "So the first image in the training set is a coat:"
      ]
    },
    {
      "cell_type": "code",
      "metadata": {
        "id": "ypJwpohFRm23",
        "colab": {
          "base_uri": "https://localhost:8080/",
          "height": 35
        },
        "outputId": "b5e186e1-4980-4731-d4c6-bfcc1b7a2192"
      },
      "source": [
        "class_names[y_train[0]]"
      ],
      "execution_count": null,
      "outputs": [
        {
          "output_type": "execute_result",
          "data": {
            "application/vnd.google.colaboratory.intrinsic+json": {
              "type": "string"
            },
            "text/plain": [
              "'Coat'"
            ]
          },
          "metadata": {
            "tags": []
          },
          "execution_count": 19
        }
      ]
    },
    {
      "cell_type": "markdown",
      "metadata": {
        "id": "sh0oH789Rm23"
      },
      "source": [
        "The validation set contains 5,000 images, and the test set contains 10,000 images:"
      ]
    },
    {
      "cell_type": "code",
      "metadata": {
        "id": "dvHzqbJBRm24",
        "colab": {
          "base_uri": "https://localhost:8080/"
        },
        "outputId": "964be951-4211-48aa-e1b9-3dd9902b9d89"
      },
      "source": [
        "X_valid.shape"
      ],
      "execution_count": null,
      "outputs": [
        {
          "output_type": "execute_result",
          "data": {
            "text/plain": [
              "(5000, 28, 28)"
            ]
          },
          "metadata": {
            "tags": []
          },
          "execution_count": 20
        }
      ]
    },
    {
      "cell_type": "code",
      "metadata": {
        "id": "3038XYi4Rm24",
        "colab": {
          "base_uri": "https://localhost:8080/"
        },
        "outputId": "34c60254-31e2-4503-a328-810fb268d292"
      },
      "source": [
        "X_test.shape"
      ],
      "execution_count": null,
      "outputs": [
        {
          "output_type": "execute_result",
          "data": {
            "text/plain": [
              "(10000, 28, 28)"
            ]
          },
          "metadata": {
            "tags": []
          },
          "execution_count": 21
        }
      ]
    },
    {
      "cell_type": "markdown",
      "metadata": {
        "id": "rawdeVyVRm24"
      },
      "source": [
        "Let's take a look at a sample of the images in the dataset:"
      ]
    },
    {
      "cell_type": "code",
      "metadata": {
        "id": "f6kfsBM5Rm24",
        "colab": {
          "base_uri": "https://localhost:8080/",
          "height": 325
        },
        "outputId": "5ad02a6e-2431-4212-e5b5-c6d943e143c1"
      },
      "source": [
        "n_rows = 4\n",
        "n_cols = 10\n",
        "plt.figure(figsize=(n_cols * 1.2, n_rows * 1.2))\n",
        "for row in range(n_rows):\n",
        "    for col in range(n_cols):\n",
        "        index = n_cols * row + col\n",
        "        plt.subplot(n_rows, n_cols, index + 1)\n",
        "        plt.imshow(X_train[index], cmap=\"binary\", interpolation=\"nearest\")\n",
        "        plt.axis('off')\n",
        "        plt.title(class_names[y_train[index]], fontsize=12)\n",
        "plt.subplots_adjust(wspace=0.2, hspace=0.5)\n",
        "save_fig('fashion_mnist_plot', tight_layout=False)\n",
        "plt.show()"
      ],
      "execution_count": null,
      "outputs": [
        {
          "output_type": "stream",
          "text": [
            "Saving figure fashion_mnist_plot\n"
          ],
          "name": "stdout"
        },
        {
          "output_type": "display_data",
          "data": {
            "image/png": "[encoded data removed]",
            "text/plain": [
              "<Figure size 864x345.6 with 40 Axes>"
            ]
          },
          "metadata": {
            "tags": [],
            "needs_background": "light"
          }
        }
      ]
    },
    {
      "cell_type": "markdown",
      "metadata": {
        "id": "_b3sspCtYvwM"
      },
      "source": [
        "## Creating the model using the Sequential API\n",
        "\n",
        "Now let’s build the neural network! Here is a classification MLP with two hidden\n",
        "layers:"
      ]
    },
    {
      "cell_type": "code",
      "metadata": {
        "id": "Dk-ELOiORm25"
      },
      "source": [
        "model = keras.models.Sequential()\n",
        "model.add(keras.layers.Flatten(input_shape=[28, 28]))\n",
        "model.add(keras.layers.Dense(300, activation=\"relu\"))\n",
        "model.add(keras.layers.Dense(100, activation=\"relu\"))\n",
        "model.add(keras.layers.Dense(10, activation=\"softmax\"))"
      ],
      "execution_count": null,
      "outputs": []
    },
    {
      "cell_type": "markdown",
      "metadata": {
        "id": "oVx9l_frYzHt"
      },
      "source": [
        "Let’s go through this code line by line:\n",
        "\n",
        "- The first line creates a Sequential model. This is the simplest kind of Keras\n",
        "model for neural networks that are just composed of a single stack of layers connected sequentially. This is called the Sequential API.\n",
        "- Next, we build the first layer and add it to the model. It is a Flatten layer whose\n",
        "role is to convert each input image into a 1D array: if it receives input data X, it\n",
        "computes X.reshape(-1, 1). This layer does not have any parameters; it is just\n",
        "there to do some simple preprocessing. Since it is the first layer in the model, you\n",
        "should specify the input_shape, which doesn’t include the batch size, only the\n",
        "shape of the instances. Alternatively, you could add a keras.layers.InputLayer\n",
        "as the first layer, setting input_shape=[28,28].\n",
        "- Next we add a Dense hidden layer with 300 neurons. It will use the ReLU activation function. Each Dense layer manages its own weight matrix, containing all the\n",
        "connection weights between the neurons and their inputs. It also manages a vector of bias terms (one per neuron).\n",
        "- Then we add a second Dense hidden layer with 100 neurons, also using the ReLU\n",
        "activation function.\n",
        "- Finally, we add a Dense output layer with 10 neurons (one per class), using the\n",
        "softmax activation function (because the classes are exclusive)."
      ]
    },
    {
      "cell_type": "code",
      "metadata": {
        "id": "mwt29kUfRm25"
      },
      "source": [
        "keras.backend.clear_session()\n",
        "np.random.seed(42)\n",
        "tf.random.set_seed(42)"
      ],
      "execution_count": null,
      "outputs": []
    },
    {
      "cell_type": "markdown",
      "metadata": {
        "id": "sejSj5KzZKES"
      },
      "source": [
        "Instead of adding the layers one by one as we just did, you can pass a list of layers\n",
        "when creating the Sequential model:"
      ]
    },
    {
      "cell_type": "code",
      "metadata": {
        "id": "FtdTteP8Rm25"
      },
      "source": [
        "model = keras.models.Sequential([\n",
        "    keras.layers.Flatten(input_shape=[28, 28]),\n",
        "    keras.layers.Dense(300, activation=\"relu\"),\n",
        "    keras.layers.Dense(100, activation=\"relu\"),\n",
        "    keras.layers.Dense(10, activation=\"softmax\")\n",
        "])"
      ],
      "execution_count": null,
      "outputs": []
    },
    {
      "cell_type": "code",
      "metadata": {
        "id": "lVYENwUFRm25",
        "colab": {
          "base_uri": "https://localhost:8080/"
        },
        "outputId": "427b5c31-ceda-4997-f204-2947cf87ef6f"
      },
      "source": [
        "model.layers"
      ],
      "execution_count": null,
      "outputs": [
        {
          "output_type": "execute_result",
          "data": {
            "text/plain": [
              "[<tensorflow.python.keras.layers.core.Flatten at 0x7fe5a8f6f410>,\n",
              " <tensorflow.python.keras.layers.core.Dense at 0x7fe5a8f6f6d0>,\n",
              " <tensorflow.python.keras.layers.core.Dense at 0x7fe5a8f6fa90>,\n",
              " <tensorflow.python.keras.layers.core.Dense at 0x7fe5a8f6fe90>]"
            ]
          },
          "metadata": {
            "tags": []
          },
          "execution_count": 26
        }
      ]
    },
    {
      "cell_type": "markdown",
      "metadata": {
        "id": "nUR1F8gMZSJH"
      },
      "source": [
        "The model’s summary() method displays all the model’s layers, including each layer’s\n",
        "name (which is automatically generated unless you set it when creating the layer), its\n",
        "output shape (None means the batch size can be anything), and its number of parameters. The summary ends with the total number of parameters, including trainable and\n",
        "non-trainable parameters. Here we only have trainable parameters."
      ]
    },
    {
      "cell_type": "code",
      "metadata": {
        "id": "2NPQu3dsRm25",
        "colab": {
          "base_uri": "https://localhost:8080/"
        },
        "outputId": "c2a69d81-e26b-4465-884d-bd2a8f5f3b81"
      },
      "source": [
        "model.summary()"
      ],
      "execution_count": null,
      "outputs": [
        {
          "output_type": "stream",
          "text": [
            "Model: \"sequential\"\n",
            "_________________________________________________________________\n",
            "Layer (type)                 Output Shape              Param #   \n",
            "=================================================================\n",
            "flatten (Flatten)            (None, 784)               0         \n",
            "_________________________________________________________________\n",
            "dense (Dense)                (None, 300)               235500    \n",
            "_________________________________________________________________\n",
            "dense_1 (Dense)              (None, 100)               30100     \n",
            "_________________________________________________________________\n",
            "dense_2 (Dense)              (None, 10)                1010      \n",
            "=================================================================\n",
            "Total params: 266,610\n",
            "Trainable params: 266,610\n",
            "Non-trainable params: 0\n",
            "_________________________________________________________________\n"
          ],
          "name": "stdout"
        }
      ]
    },
    {
      "cell_type": "markdown",
      "metadata": {
        "id": "t2DEfmM6Zrxb"
      },
      "source": [
        "Note that Dense layers often have a lot of parameters. For example, the first hidden\n",
        "layer has 784 × 300 connection weights, plus 300 bias terms, which adds up to\n",
        "235,500 parameters! This gives the model quite a lot of flexibility to fit the training\n",
        "data, but it also means that the model runs the risk of overfitting, especially when you\n",
        "do not have a lot of training data."
      ]
    },
    {
      "cell_type": "code",
      "metadata": {
        "id": "jhm0I42rRm26",
        "colab": {
          "base_uri": "https://localhost:8080/",
          "height": 533
        },
        "outputId": "fae91ac4-1f5a-41c2-d6c4-e79979fb2a3a"
      },
      "source": [
        "keras.utils.plot_model(model, \"my_fashion_mnist_model.png\", show_shapes=True)"
      ],
      "execution_count": null,
      "outputs": [
        {
          "output_type": "execute_result",
          "data": {
            "image/png": "[encoded data removed]",
            "text/plain": [
              "<IPython.core.display.Image object>"
            ]
          },
          "metadata": {
            "tags": []
          },
          "execution_count": 28
        }
      ]
    },
    {
      "cell_type": "code",
      "metadata": {
        "id": "wE07IM4_Rm26",
        "colab": {
          "base_uri": "https://localhost:8080/",
          "height": 35
        },
        "outputId": "3f37c2b1-ee61-4740-ef06-78c4aba9fe71"
      },
      "source": [
        "hidden1 = model.layers[1]\n",
        "hidden1.name"
      ],
      "execution_count": null,
      "outputs": [
        {
          "output_type": "execute_result",
          "data": {
            "application/vnd.google.colaboratory.intrinsic+json": {
              "type": "string"
            },
            "text/plain": [
              "'dense'"
            ]
          },
          "metadata": {
            "tags": []
          },
          "execution_count": 29
        }
      ]
    },
    {
      "cell_type": "code",
      "metadata": {
        "id": "54kiPSOSRm26",
        "colab": {
          "base_uri": "https://localhost:8080/"
        },
        "outputId": "a86a0b1c-cc15-44ab-8ad1-7563a65461bb"
      },
      "source": [
        "model.get_layer(hidden1.name) is hidden1"
      ],
      "execution_count": null,
      "outputs": [
        {
          "output_type": "execute_result",
          "data": {
            "text/plain": [
              "True"
            ]
          },
          "metadata": {
            "tags": []
          },
          "execution_count": 30
        }
      ]
    },
    {
      "cell_type": "code",
      "metadata": {
        "id": "bCTlSb5tRm26"
      },
      "source": [
        "weights, biases = hidden1.get_weights()"
      ],
      "execution_count": null,
      "outputs": []
    },
    {
      "cell_type": "code",
      "metadata": {
        "id": "lBCEOJD-Rm26",
        "colab": {
          "base_uri": "https://localhost:8080/"
        },
        "outputId": "697b611f-d9c1-4ac8-e6c6-b1ff118602e8"
      },
      "source": [
        "weights"
      ],
      "execution_count": null,
      "outputs": [
        {
          "output_type": "execute_result",
          "data": {
            "text/plain": [
              "array([[ 0.02448617, -0.00877795, -0.02189048, ..., -0.02766046,\n",
              "         0.03859074, -0.06889391],\n",
              "       [ 0.00476504, -0.03105379, -0.0586676 , ...,  0.00602964,\n",
              "        -0.02763776, -0.04165364],\n",
              "       [-0.06189284, -0.06901957,  0.07102345, ..., -0.04238207,\n",
              "         0.07121518, -0.07331658],\n",
              "       ...,\n",
              "       [-0.03048757,  0.02155137, -0.05400612, ..., -0.00113463,\n",
              "         0.00228987,  0.05581069],\n",
              "       [ 0.07061854, -0.06960931,  0.07038955, ..., -0.00384101,\n",
              "         0.00034875,  0.02878492],\n",
              "       [-0.06022581,  0.01577859, -0.02585464, ..., -0.00527829,\n",
              "         0.00272203, -0.06793761]], dtype=float32)"
            ]
          },
          "metadata": {
            "tags": []
          },
          "execution_count": 32
        }
      ]
    },
    {
      "cell_type": "code",
      "metadata": {
        "id": "k8TO-EYORm27",
        "colab": {
          "base_uri": "https://localhost:8080/"
        },
        "outputId": "46c608ee-8ab9-4a96-97a3-36d619661cf3"
      },
      "source": [
        "weights.shape"
      ],
      "execution_count": null,
      "outputs": [
        {
          "output_type": "execute_result",
          "data": {
            "text/plain": [
              "(784, 300)"
            ]
          },
          "metadata": {
            "tags": []
          },
          "execution_count": 33
        }
      ]
    },
    {
      "cell_type": "code",
      "metadata": {
        "id": "WCaxsFvzRm27",
        "colab": {
          "base_uri": "https://localhost:8080/"
        },
        "outputId": "2f5c4aac-2f06-45f5-daf2-281713830215"
      },
      "source": [
        "biases"
      ],
      "execution_count": null,
      "outputs": [
        {
          "output_type": "execute_result",
          "data": {
            "text/plain": [
              "array([0., 0., 0., 0., 0., 0., 0., 0., 0., 0., 0., 0., 0., 0., 0., 0., 0.,\n",
              "       0., 0., 0., 0., 0., 0., 0., 0., 0., 0., 0., 0., 0., 0., 0., 0., 0.,\n",
              "       0., 0., 0., 0., 0., 0., 0., 0., 0., 0., 0., 0., 0., 0., 0., 0., 0.,\n",
              "       0., 0., 0., 0., 0., 0., 0., 0., 0., 0., 0., 0., 0., 0., 0., 0., 0.,\n",
              "       0., 0., 0., 0., 0., 0., 0., 0., 0., 0., 0., 0., 0., 0., 0., 0., 0.,\n",
              "       0., 0., 0., 0., 0., 0., 0., 0., 0., 0., 0., 0., 0., 0., 0., 0., 0.,\n",
              "       0., 0., 0., 0., 0., 0., 0., 0., 0., 0., 0., 0., 0., 0., 0., 0., 0.,\n",
              "       0., 0., 0., 0., 0., 0., 0., 0., 0., 0., 0., 0., 0., 0., 0., 0., 0.,\n",
              "       0., 0., 0., 0., 0., 0., 0., 0., 0., 0., 0., 0., 0., 0., 0., 0., 0.,\n",
              "       0., 0., 0., 0., 0., 0., 0., 0., 0., 0., 0., 0., 0., 0., 0., 0., 0.,\n",
              "       0., 0., 0., 0., 0., 0., 0., 0., 0., 0., 0., 0., 0., 0., 0., 0., 0.,\n",
              "       0., 0., 0., 0., 0., 0., 0., 0., 0., 0., 0., 0., 0., 0., 0., 0., 0.,\n",
              "       0., 0., 0., 0., 0., 0., 0., 0., 0., 0., 0., 0., 0., 0., 0., 0., 0.,\n",
              "       0., 0., 0., 0., 0., 0., 0., 0., 0., 0., 0., 0., 0., 0., 0., 0., 0.,\n",
              "       0., 0., 0., 0., 0., 0., 0., 0., 0., 0., 0., 0., 0., 0., 0., 0., 0.,\n",
              "       0., 0., 0., 0., 0., 0., 0., 0., 0., 0., 0., 0., 0., 0., 0., 0., 0.,\n",
              "       0., 0., 0., 0., 0., 0., 0., 0., 0., 0., 0., 0., 0., 0., 0., 0., 0.,\n",
              "       0., 0., 0., 0., 0., 0., 0., 0., 0., 0., 0.], dtype=float32)"
            ]
          },
          "metadata": {
            "tags": []
          },
          "execution_count": 34
        }
      ]
    },
    {
      "cell_type": "code",
      "metadata": {
        "id": "LkJKEGoZRm27",
        "colab": {
          "base_uri": "https://localhost:8080/"
        },
        "outputId": "d7fb6735-2e3f-4d6c-f55d-9fb8fe67778c"
      },
      "source": [
        "biases.shape"
      ],
      "execution_count": null,
      "outputs": [
        {
          "output_type": "execute_result",
          "data": {
            "text/plain": [
              "(300,)"
            ]
          },
          "metadata": {
            "tags": []
          },
          "execution_count": 35
        }
      ]
    },
    {
      "cell_type": "markdown",
      "metadata": {
        "id": "l-lQ3bUaZ6Q0"
      },
      "source": [
        "## Compiling the model\n",
        "\n",
        "After a model is created, you must call its compile() method to specify the loss function and the optimizer to use. Optionally, you can specify a list of extra metrics to\n",
        "compute during training and evaluation:"
      ]
    },
    {
      "cell_type": "code",
      "metadata": {
        "id": "kGV69DuxRm27"
      },
      "source": [
        "model.compile(loss=\"sparse_categorical_crossentropy\",\n",
        "              optimizer=\"sgd\",\n",
        "              metrics=[\"accuracy\"])"
      ],
      "execution_count": null,
      "outputs": []
    },
    {
      "cell_type": "markdown",
      "metadata": {
        "id": "lqGNd4g6Rm28"
      },
      "source": [
        "This is equivalent to:"
      ]
    },
    {
      "cell_type": "markdown",
      "metadata": {
        "id": "T7-FjGQaRm28"
      },
      "source": [
        "```python\n",
        "model.compile(loss=keras.losses.sparse_categorical_crossentropy,\n",
        "              optimizer=keras.optimizers.SGD(),\n",
        "              metrics=[keras.metrics.sparse_categorical_accuracy])\n",
        "```"
      ]
    },
    {
      "cell_type": "markdown",
      "metadata": {
        "id": "iu2GvG1qaWYn"
      },
      "source": [
        "This code requires some explanation. First, we use the \"sparse_categorical_cross\n",
        "entropy\" loss because we have sparse labels (i.e., for each instance, there is just a target class index, from 0 to 9 in this case), and the classes are exclusive. If instead we\n",
        "had one target probability per class for each instance (such as one-hot vectors, e.g.\n",
        "`[0., 0., 0., 1., 0., 0., 0., 0., 0., 0.]` to represent class 3), then we would\n",
        "need to use the \"categorical_crossentropy\" loss instead. If we were doing binary\n",
        "classification (with one or more binary labels), then we would use the \"sigmoid\" (i.e.,\n",
        "logistic) activation function in the output layer instead of the \"softmax\" activation\n",
        "function, and we would use the \"binary_crossentropy\" loss.\n",
        "\n",
        "Regarding the optimizer, \"sgd\" means that we will train the model using simple Stochastic Gradient Descent. In other words, Keras will perform the backpropagation\n",
        "algorithm described earlier (i.e., reverse-mode autodiff plus Gradient Descent)."
      ]
    },
    {
      "cell_type": "markdown",
      "metadata": {
        "id": "4VeBPULTak8C"
      },
      "source": [
        "Finally, since this is a classifier, it’s useful to measure its \"accuracy\" during training\n",
        "and evaluation.\n",
        "\n",
        "## Training and evaluating the model\n",
        "\n",
        "Now the model is ready to be trained. For this we simply need to call its fit()\n",
        "method:"
      ]
    },
    {
      "cell_type": "code",
      "metadata": {
        "id": "G9CJ7mOkRm28",
        "colab": {
          "base_uri": "https://localhost:8080/"
        },
        "outputId": "4a6212ff-6c65-4a6e-f084-4b638239cd6c"
      },
      "source": [
        "history = model.fit(X_train, y_train, epochs=30,\n",
        "                    validation_data=(X_valid, y_valid))"
      ],
      "execution_count": null,
      "outputs": [
        {
          "output_type": "stream",
          "text": [
            "Epoch 1/30\n",
            "1719/1719 [==============================] - 5s 3ms/step - loss: 1.0187 - accuracy: 0.6805 - val_loss: 0.5213 - val_accuracy: 0.8226\n",
            "Epoch 2/30\n",
            "1719/1719 [==============================] - 4s 2ms/step - loss: 0.5027 - accuracy: 0.8262 - val_loss: 0.4353 - val_accuracy: 0.8526\n",
            "Epoch 3/30\n",
            "1719/1719 [==============================] - 4s 2ms/step - loss: 0.4483 - accuracy: 0.8428 - val_loss: 0.5304 - val_accuracy: 0.7996\n",
            "Epoch 4/30\n",
            "1719/1719 [==============================] - 4s 2ms/step - loss: 0.4209 - accuracy: 0.8532 - val_loss: 0.3916 - val_accuracy: 0.8650\n",
            "Epoch 5/30\n",
            "1719/1719 [==============================] - 4s 2ms/step - loss: 0.4061 - accuracy: 0.8583 - val_loss: 0.3745 - val_accuracy: 0.8690\n",
            "Epoch 6/30\n",
            "1719/1719 [==============================] - 4s 2ms/step - loss: 0.3754 - accuracy: 0.8673 - val_loss: 0.3718 - val_accuracy: 0.8724\n",
            "Epoch 7/30\n",
            "1719/1719 [==============================] - 4s 2ms/step - loss: 0.3652 - accuracy: 0.8705 - val_loss: 0.3616 - val_accuracy: 0.8736\n",
            "Epoch 8/30\n",
            "1719/1719 [==============================] - 4s 2ms/step - loss: 0.3478 - accuracy: 0.8755 - val_loss: 0.3853 - val_accuracy: 0.8608\n",
            "Epoch 9/30\n",
            "1719/1719 [==============================] - 4s 2ms/step - loss: 0.3482 - accuracy: 0.8761 - val_loss: 0.3573 - val_accuracy: 0.8718\n",
            "Epoch 10/30\n",
            "1719/1719 [==============================] - 4s 2ms/step - loss: 0.3293 - accuracy: 0.8835 - val_loss: 0.3420 - val_accuracy: 0.8786\n",
            "Epoch 11/30\n",
            "1719/1719 [==============================] - 4s 2ms/step - loss: 0.3215 - accuracy: 0.8839 - val_loss: 0.3450 - val_accuracy: 0.8770\n",
            "Epoch 12/30\n",
            "1719/1719 [==============================] - 4s 2ms/step - loss: 0.3119 - accuracy: 0.8873 - val_loss: 0.3306 - val_accuracy: 0.8832\n",
            "Epoch 13/30\n",
            "1719/1719 [==============================] - 4s 2ms/step - loss: 0.3050 - accuracy: 0.8895 - val_loss: 0.3274 - val_accuracy: 0.8868\n",
            "Epoch 14/30\n",
            "1719/1719 [==============================] - 4s 2ms/step - loss: 0.2990 - accuracy: 0.8920 - val_loss: 0.3420 - val_accuracy: 0.8772\n",
            "Epoch 15/30\n",
            "1719/1719 [==============================] - 4s 2ms/step - loss: 0.2932 - accuracy: 0.8950 - val_loss: 0.3222 - val_accuracy: 0.8842\n",
            "Epoch 16/30\n",
            "1719/1719 [==============================] - 4s 2ms/step - loss: 0.2858 - accuracy: 0.8979 - val_loss: 0.3090 - val_accuracy: 0.8906\n",
            "Epoch 17/30\n",
            "1719/1719 [==============================] - 4s 2ms/step - loss: 0.2776 - accuracy: 0.9004 - val_loss: 0.3546 - val_accuracy: 0.8736\n",
            "Epoch 18/30\n",
            "1719/1719 [==============================] - 4s 2ms/step - loss: 0.2774 - accuracy: 0.9002 - val_loss: 0.3136 - val_accuracy: 0.8902\n",
            "Epoch 19/30\n",
            "1719/1719 [==============================] - 4s 2ms/step - loss: 0.2739 - accuracy: 0.9026 - val_loss: 0.3110 - val_accuracy: 0.8904\n",
            "Epoch 20/30\n",
            "1719/1719 [==============================] - 4s 2ms/step - loss: 0.2694 - accuracy: 0.9037 - val_loss: 0.3271 - val_accuracy: 0.8818\n",
            "Epoch 21/30\n",
            "1719/1719 [==============================] - 4s 2ms/step - loss: 0.2667 - accuracy: 0.9053 - val_loss: 0.3066 - val_accuracy: 0.8926\n",
            "Epoch 22/30\n",
            "1719/1719 [==============================] - 4s 2ms/step - loss: 0.2612 - accuracy: 0.9053 - val_loss: 0.2968 - val_accuracy: 0.8972\n",
            "Epoch 23/30\n",
            "1719/1719 [==============================] - 4s 2ms/step - loss: 0.2546 - accuracy: 0.9078 - val_loss: 0.2997 - val_accuracy: 0.8936\n",
            "Epoch 24/30\n",
            "1719/1719 [==============================] - 4s 2ms/step - loss: 0.2447 - accuracy: 0.9121 - val_loss: 0.3079 - val_accuracy: 0.8890\n",
            "Epoch 25/30\n",
            "1719/1719 [==============================] - 4s 2ms/step - loss: 0.2490 - accuracy: 0.9117 - val_loss: 0.2977 - val_accuracy: 0.8948\n",
            "Epoch 26/30\n",
            "1719/1719 [==============================] - 4s 2ms/step - loss: 0.2423 - accuracy: 0.9139 - val_loss: 0.3069 - val_accuracy: 0.8906\n",
            "Epoch 27/30\n",
            "1719/1719 [==============================] - 4s 2ms/step - loss: 0.2371 - accuracy: 0.9159 - val_loss: 0.3040 - val_accuracy: 0.8940\n",
            "Epoch 28/30\n",
            "1719/1719 [==============================] - 4s 2ms/step - loss: 0.2313 - accuracy: 0.9173 - val_loss: 0.3003 - val_accuracy: 0.8934\n",
            "Epoch 29/30\n",
            "1719/1719 [==============================] - 4s 2ms/step - loss: 0.2279 - accuracy: 0.9179 - val_loss: 0.3050 - val_accuracy: 0.8908\n",
            "Epoch 30/30\n",
            "1719/1719 [==============================] - 4s 2ms/step - loss: 0.2248 - accuracy: 0.9217 - val_loss: 0.3055 - val_accuracy: 0.8934\n"
          ],
          "name": "stdout"
        }
      ]
    },
    {
      "cell_type": "markdown",
      "metadata": {
        "id": "N3lR7NJjrOgV"
      },
      "source": [
        "We pass it the input features (X_train) and the target classes (y_train), as well as the\n",
        "number of epochs to train (or else it would default to just 1, which would definitely\n",
        "not be enough to converge to a good solution). We also pass a validation set (this is\n",
        "optional). Keras will measure the loss and the extra metrics on this set at the end of\n",
        "each epoch, which is very useful to see how well the model really performs. If the performance on the training set is much better than on the validation set, your model is probably overfitting the training set (or there is a bug, such as a data mismatch\n",
        "between the training set and the validation set).\n",
        "\n",
        "And that’s it! The neural network is trained. At each epoch during training, Keras\n",
        "displays the number of instances processed so far (along with a progress bar), the\n",
        "mean training time per sample, and the loss and accuracy (or any other extra metrics\n",
        "you asked for) on both the training set and the validation set. You can see that the\n",
        "training loss went down, which is a good sign, and the validation accuracy reached\n",
        "89.26% after 30 epochs. That’s not too far from the training accuracy, so there does\n",
        "not seem to be much overfitting going on.\n",
        "\n",
        "If the training set was very skewed, with some classes being overrepresented and others underrepresented, it would be useful to set the class_weight argument when\n",
        "calling the fit() method, which would give a larger weight to underrepresented\n",
        "classes and a lower weight to overrepresented classes. These weights would be used by\n",
        "Keras when computing the loss. If you need per-instance weights, set the sam\n",
        "ple_weight argument (if both class_weight and sample_weight are provided, Keras\n",
        "multiplies them). Per-instance weights could be useful if some instances were labeled\n",
        "by experts while others were labeled using a crowdsourcing platform: you might want\n",
        "to give more weight to the former. You can also provide sample weights (but not class\n",
        "weights) for the validation set by adding them as a third item in the validation_data\n",
        "tuple."
      ]
    },
    {
      "cell_type": "code",
      "metadata": {
        "id": "2mLmuhAQRm28",
        "colab": {
          "base_uri": "https://localhost:8080/"
        },
        "outputId": "958b8819-8f11-4f76-aa52-349b02a078dd"
      },
      "source": [
        "history.params"
      ],
      "execution_count": null,
      "outputs": [
        {
          "output_type": "execute_result",
          "data": {
            "text/plain": [
              "{'epochs': 30, 'steps': 1719, 'verbose': 1}"
            ]
          },
          "metadata": {
            "tags": []
          },
          "execution_count": 38
        }
      ]
    },
    {
      "cell_type": "markdown",
      "metadata": {
        "id": "vKdsofOmrMmP"
      },
      "source": [
        "The fit() method returns a History object containing the training parameters\n",
        "(history.params), the list of epochs it went through (history.epoch), and most\n",
        "importantly a dictionary (history.history) containing the loss and extra metrics it\n",
        "measured at the end of each epoch on the training set and on the validation set (if\n",
        "any). If you use this dictionary to create a pandas DataFrame and call its plot()\n",
        "method,"
      ]
    },
    {
      "cell_type": "code",
      "metadata": {
        "id": "0Juv5gWsRm29",
        "colab": {
          "base_uri": "https://localhost:8080/"
        },
        "outputId": "376bf794-a677-4e12-e86c-a07c2430efbb"
      },
      "source": [
        "print(history.epoch)"
      ],
      "execution_count": null,
      "outputs": [
        {
          "output_type": "stream",
          "text": [
            "[0, 1, 2, 3, 4, 5, 6, 7, 8, 9, 10, 11, 12, 13, 14, 15, 16, 17, 18, 19, 20, 21, 22, 23, 24, 25, 26, 27, 28, 29]\n"
          ],
          "name": "stdout"
        }
      ]
    },
    {
      "cell_type": "code",
      "metadata": {
        "id": "_fEkSf3hRm29",
        "colab": {
          "base_uri": "https://localhost:8080/"
        },
        "outputId": "8521093b-a118-4a7a-c6fd-251a5d2bddee"
      },
      "source": [
        "history.history.keys()"
      ],
      "execution_count": null,
      "outputs": [
        {
          "output_type": "execute_result",
          "data": {
            "text/plain": [
              "dict_keys(['loss', 'accuracy', 'val_loss', 'val_accuracy'])"
            ]
          },
          "metadata": {
            "tags": []
          },
          "execution_count": 40
        }
      ]
    },
    {
      "cell_type": "code",
      "metadata": {
        "id": "Nz4XBuLdRm29",
        "colab": {
          "base_uri": "https://localhost:8080/",
          "height": 386
        },
        "outputId": "ea829ea4-4b1b-4740-c4c4-a60d299a4035"
      },
      "source": [
        "import pandas as pd\n",
        "\n",
        "pd.DataFrame(history.history).plot(figsize=(8, 5))\n",
        "plt.grid(True)\n",
        "plt.gca().set_ylim(0, 1)\n",
        "save_fig(\"keras_learning_curves_plot\")\n",
        "plt.show()"
      ],
      "execution_count": null,
      "outputs": [
        {
          "output_type": "stream",
          "text": [
            "Saving figure keras_learning_curves_plot\n"
          ],
          "name": "stdout"
        },
        {
          "output_type": "display_data",
          "data": {
            "image/png": "[encoded data removed]",
            "text/plain": [
              "<Figure size 576x360 with 1 Axes>"
            ]
          },
          "metadata": {
            "tags": [],
            "needs_background": "light"
          }
        }
      ]
    },
    {
      "cell_type": "markdown",
      "metadata": {
        "id": "u9wlUe1Xa5sD"
      },
      "source": [
        "You can see that both the training accuracy and the validation accuracy steadily\n",
        "increase during training, while the training loss and the validation loss decrease.\n",
        "Good! Moreover, the validation curves are close to the training curves, which means\n",
        "that there is not too much overfitting. In this particular case, the model looks like it\n",
        "performed better on the validation set than on the training set at the beginning of\n",
        "training. But that’s not the case: indeed, the validation error is computed at the end of\n",
        "each epoch, while the training error is computed using a running mean during each\n",
        "epoch. So the training curve should be shifted by half an epoch to the left. If you do\n",
        "that, you will see that the training and validation curves overlap almost perfectly at\n",
        "the beginning of training.\n",
        "\n",
        "The training set performance ends up beating the validation performance, as is gen‐\n",
        "erally the case when you train for long enough. You can tell that the model has not\n",
        "quite converged yet, as the validation loss is still going down, so you should probably\n",
        "continue training. It’s as simple as calling the fit() method again, since Keras just\n",
        "continues training where it left off (you should be able to reach close to 89% validation accuracy).\n",
        "If you are not satisfied with the performance of your model, you should go back and\n",
        "tune the hyperparameters. The first one to check is the learning rate. If that doesn’t\n",
        "help, try another optimizer (and always retune the learning rate after changing any\n",
        "hyperparameter). If the performance is still not great, then try tuning model hyperparameters such as the number of layers, the number of neurons per layer, and the\n",
        "types of activation functions to use for each hidden layer. You can also try tuning\n",
        "other hyperparameters, such as the batch size (it can be set in the fit() method using\n",
        "the batch_size argument, which defaults to 32). We will get back to hyperparameter\n",
        "tuning at the end of this chapter. Once you are satisfied with your model’s validation\n",
        "accuracy, you should evaluate it on the test set to estimate the generalization error\n",
        "before you deploy the model to production. You can easily do this using the evalu\n",
        "ate() method (it also supports several other arguments, such as batch_size and\n",
        "sample_weight; please check the documentation for more details):"
      ]
    },
    {
      "cell_type": "code",
      "metadata": {
        "id": "a0MERkYIRm2-",
        "colab": {
          "base_uri": "https://localhost:8080/"
        },
        "outputId": "bb02a60e-2387-4248-c34c-e22be8f13621"
      },
      "source": [
        "model.evaluate(X_test, y_test)"
      ],
      "execution_count": null,
      "outputs": [
        {
          "output_type": "stream",
          "text": [
            "313/313 [==============================] - 0s 1ms/step - loss: 0.3382 - accuracy: 0.8822\n"
          ],
          "name": "stdout"
        },
        {
          "output_type": "execute_result",
          "data": {
            "text/plain": [
              "[0.3381877839565277, 0.8822000026702881]"
            ]
          },
          "metadata": {
            "tags": []
          },
          "execution_count": 42
        }
      ]
    },
    {
      "cell_type": "markdown",
      "metadata": {
        "id": "yMSsy7t-bV3g"
      },
      "source": [
        "it is common to get slightly lower performance on the test set\n",
        "than on the validation set, because the hyperparameters are tuned on the validation\n",
        "set, not the test set (however, in this example, we did not do any hyperparameter tun‐\n",
        "ing, so the lower accuracy is just bad luck). Remember to resist the temptation to\n",
        "tweak the hyperparameters on the test set, or else your estimate of the generalization\n",
        "error will be too optimistic.\n",
        "\n",
        "## Using the model to make predictions\n",
        "\n",
        "Next, we can use the model’s predict() method to make predictions on new instan‐\n",
        "ces. Since we don’t have actual new instances, we will just use the first three instances\n",
        "of the test set:"
      ]
    },
    {
      "cell_type": "code",
      "metadata": {
        "id": "ZsUgghftRm2-",
        "colab": {
          "base_uri": "https://localhost:8080/"
        },
        "outputId": "be3a4aed-30d4-47a2-ac5e-38294f6e2b82"
      },
      "source": [
        "X_new = X_test[:3]\n",
        "y_proba = model.predict(X_new)\n",
        "y_proba.round(2)"
      ],
      "execution_count": null,
      "outputs": [
        {
          "output_type": "execute_result",
          "data": {
            "text/plain": [
              "array([[0.  , 0.  , 0.  , 0.  , 0.  , 0.01, 0.  , 0.03, 0.  , 0.96],\n",
              "       [0.  , 0.  , 0.99, 0.  , 0.01, 0.  , 0.  , 0.  , 0.  , 0.  ],\n",
              "       [0.  , 1.  , 0.  , 0.  , 0.  , 0.  , 0.  , 0.  , 0.  , 0.  ]],\n",
              "      dtype=float32)"
            ]
          },
          "metadata": {
            "tags": []
          },
          "execution_count": 43
        }
      ]
    },
    {
      "cell_type": "markdown",
      "metadata": {
        "id": "Wq8YhGPGqnFq"
      },
      "source": [
        "As you can see, for each instance the model estimates one probability per class, from\n",
        "class 0 to class 9. For example, for the first image it estimates that the probability of\n",
        "class 9 (ankle boot) is 96%, the probability of class 5 (sandal) is 3%, the probability of\n",
        "class 7 (sneaker) is 1%, and the probabilities of the other classes are negligible. In\n",
        "other words, it “believes” the first image is footwear, most likely ankle boots but possibly sandals or sneakers. If you only care about the class with the highest estimated\n",
        "probability (even if that probability is quite low), then you can use the pre\n",
        "dict_classes() method instead:"
      ]
    },
    {
      "cell_type": "markdown",
      "metadata": {
        "id": "uNjP9wB0Rm2-"
      },
      "source": [
        "**Warning**: `model.predict_classes(X_new)` is deprecated. It is replaced with `np.argmax(model.predict(X_new), axis=-1)`."
      ]
    },
    {
      "cell_type": "code",
      "metadata": {
        "id": "mNlmxbJZRm2_",
        "colab": {
          "base_uri": "https://localhost:8080/"
        },
        "outputId": "a615cd1f-5cf3-4e64-bdc1-3a48bd50f903"
      },
      "source": [
        "#y_pred = model.predict_classes(X_new) # deprecated\n",
        "y_pred = np.argmax(model.predict(X_new), axis=-1)\n",
        "y_pred"
      ],
      "execution_count": null,
      "outputs": [
        {
          "output_type": "execute_result",
          "data": {
            "text/plain": [
              "array([9, 2, 1])"
            ]
          },
          "metadata": {
            "tags": []
          },
          "execution_count": 44
        }
      ]
    },
    {
      "cell_type": "code",
      "metadata": {
        "id": "s5OBT96sRm2_",
        "colab": {
          "base_uri": "https://localhost:8080/"
        },
        "outputId": "589abc70-b21b-4fab-88b2-78eb19ae39e4"
      },
      "source": [
        "np.array(class_names)[y_pred]"
      ],
      "execution_count": null,
      "outputs": [
        {
          "output_type": "execute_result",
          "data": {
            "text/plain": [
              "array(['Ankle boot', 'Pullover', 'Trouser'], dtype='<U11')"
            ]
          },
          "metadata": {
            "tags": []
          },
          "execution_count": 45
        }
      ]
    },
    {
      "cell_type": "markdown",
      "metadata": {
        "id": "nL9CucRzq2Gc"
      },
      "source": [
        "Here, the classifier actually classified all three images correctly."
      ]
    },
    {
      "cell_type": "code",
      "metadata": {
        "id": "ynkR-b0ORm2_",
        "colab": {
          "base_uri": "https://localhost:8080/"
        },
        "outputId": "15dc6e5b-c006-4f70-b6f6-06b395d91e9d"
      },
      "source": [
        "y_new = y_test[:3]\n",
        "y_new"
      ],
      "execution_count": null,
      "outputs": [
        {
          "output_type": "execute_result",
          "data": {
            "text/plain": [
              "array([9, 2, 1], dtype=uint8)"
            ]
          },
          "metadata": {
            "tags": []
          },
          "execution_count": 46
        }
      ]
    },
    {
      "cell_type": "code",
      "metadata": {
        "id": "RTv8eKGgRm2_",
        "colab": {
          "base_uri": "https://localhost:8080/",
          "height": 182
        },
        "outputId": "f2a2cac4-cee3-4c53-8061-08a489c59f4d"
      },
      "source": [
        "plt.figure(figsize=(7.2, 2.4))\n",
        "for index, image in enumerate(X_new):\n",
        "    plt.subplot(1, 3, index + 1)\n",
        "    plt.imshow(image, cmap=\"binary\", interpolation=\"nearest\")\n",
        "    plt.axis('off')\n",
        "    plt.title(class_names[y_test[index]], fontsize=12)\n",
        "plt.subplots_adjust(wspace=0.2, hspace=0.5)\n",
        "save_fig('fashion_mnist_images_plot', tight_layout=False)\n",
        "plt.show()"
      ],
      "execution_count": null,
      "outputs": [
        {
          "output_type": "stream",
          "text": [
            "Saving figure fashion_mnist_images_plot\n"
          ],
          "name": "stdout"
        },
        {
          "output_type": "display_data",
          "data": {
            "image/png": "[encoded data removed]",
            "text/plain": [
              "<Figure size 518.4x172.8 with 3 Axes>"
            ]
          },
          "metadata": {
            "tags": [],
            "needs_background": "light"
          }
        }
      ]
    }
  ]
}