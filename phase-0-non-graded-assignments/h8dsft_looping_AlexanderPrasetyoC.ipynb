{
  "nbformat": 4,
  "nbformat_minor": 0,
  "metadata": {
    "colab": {
      "name": "h8dsft_looping_AlexanderPrasetyoC.ipynb",
      "provenance": [],
      "collapsed_sections": []
    },
    "kernelspec": {
      "name": "python3",
      "display_name": "Python 3"
    },
    "language_info": {
      "name": "python"
    }
  },
  "cells": [
    {
      "cell_type": "markdown",
      "source": [
        "# NON GRADED CHALLENGE 2\n",
        "\n",
        "## DESCRIPTION\n",
        "\n",
        "This is a simple python assignment to exercise about looping using for and if statement. The assignment can be done in several ways by using nested if, elif, break and continue.\n",
        "\n",
        "In this assignment, i am given a list containing odd and even numbers. From the list 'numbers', i need to print out all even numbers and stop at number '918' and print done.\n",
        "\n",
        "Below is my code to complete the assignment."
      ],
      "metadata": {
        "id": "tsekq0pPdPNc"
      }
    },
    {
      "cell_type": "markdown",
      "source": [
        "## WORKSPACE"
      ],
      "metadata": {
        "id": "VVWSD3qweqUW"
      }
    },
    {
      "cell_type": "markdown",
      "source": [
        "First, we need to define our list."
      ],
      "metadata": {
        "id": "lmNKAuQfeURk"
      }
    },
    {
      "cell_type": "code",
      "execution_count": 2,
      "metadata": {
        "id": "lWE9B8NwWin8"
      },
      "outputs": [],
      "source": [
        "  numbers = [\n",
        "  951, 402, 984, 651, 360, 69, 408, 319, 601, 485, 980, 507, 725, 547, 544, 615, 83, 165, 141, 501, 263, 617, 865, 575, 219, 390, 984, 592, 236, 105, 942, 941, 386, 462, 47, 418, 907, 344, 236, 375, 823, 566, 597, 978, 328, 615, 953, 345, 399, 162, 758, 219, 918, 237, 412, 566, 826, 248, 866, 950, 626, 949\n",
        "  ]"
      ]
    },
    {
      "cell_type": "markdown",
      "source": [
        "After we define the list, what i am doing below is printing all numbers in the list 'numbers' if each element fulfill the if statement in the for statement."
      ],
      "metadata": {
        "id": "Ti8OOHVjewqo"
      }
    },
    {
      "cell_type": "code",
      "source": [
        "for i in numbers:\n",
        "\n",
        "   if i % 2 == 0:\n",
        "    print (i, end = \" \")"
      ],
      "metadata": {
        "colab": {
          "base_uri": "https://localhost:8080/"
        },
        "id": "5lxfVH0cXLSR",
        "outputId": "ade7fe12-aa7c-4e9a-e360-f5fc47ac5a45"
      },
      "execution_count": 3,
      "outputs": [
        {
          "output_type": "stream",
          "name": "stdout",
          "text": [
            "402 984 360 408 980 544 390 984 592 236 942 386 462 418 344 236 566 978 328 162 758 918 412 566 826 248 866 950 626 "
          ]
        }
      ]
    },
    {
      "cell_type": "markdown",
      "source": [
        "You may notice that numbers that comes after '918' is still printed out. Next step is to break the loop on the number '918'. To break the loop i used break command combined with elif. Below is how i do it."
      ],
      "metadata": {
        "id": "efGi3v_jfRI6"
      }
    },
    {
      "cell_type": "code",
      "source": [
        "for i in numbers:\n",
        "  if i == 237:\n",
        "    break\n",
        "  elif i % 2 == 0:\n",
        "    print (i)"
      ],
      "metadata": {
        "colab": {
          "base_uri": "https://localhost:8080/"
        },
        "id": "KNdH5M93aqjr",
        "outputId": "0bceae7f-3289-414c-9e60-10db3f366a33"
      },
      "execution_count": 4,
      "outputs": [
        {
          "output_type": "stream",
          "name": "stdout",
          "text": [
            "402\n",
            "984\n",
            "360\n",
            "408\n",
            "980\n",
            "544\n",
            "390\n",
            "984\n",
            "592\n",
            "236\n",
            "942\n",
            "386\n",
            "462\n",
            "418\n",
            "344\n",
            "236\n",
            "566\n",
            "978\n",
            "328\n",
            "162\n",
            "758\n",
            "918\n"
          ]
        }
      ]
    },
    {
      "cell_type": "markdown",
      "source": [
        "The last step is to print the \"Done\". So i added \"Done\" at the end of for loop."
      ],
      "metadata": {
        "id": "DBxhryQIigu8"
      }
    },
    {
      "cell_type": "code",
      "source": [
        "for i in numbers:\n",
        "  if i == 237:\n",
        "    break\n",
        "  elif i % 2 == 0:\n",
        "    print (i)\n",
        "print(\"Done\")"
      ],
      "metadata": {
        "colab": {
          "base_uri": "https://localhost:8080/"
        },
        "id": "hOkefk_QboWp",
        "outputId": "9db47576-0403-4d7d-a232-23542361b3e1"
      },
      "execution_count": 5,
      "outputs": [
        {
          "output_type": "stream",
          "name": "stdout",
          "text": [
            "402\n",
            "984\n",
            "360\n",
            "408\n",
            "980\n",
            "544\n",
            "390\n",
            "984\n",
            "592\n",
            "236\n",
            "942\n",
            "386\n",
            "462\n",
            "418\n",
            "344\n",
            "236\n",
            "566\n",
            "978\n",
            "328\n",
            "162\n",
            "758\n",
            "918\n",
            "Done\n"
          ]
        }
      ]
    },
    {
      "cell_type": "markdown",
      "source": [
        "And that's it. A nice little exercise to jog your knowledge about looping in python. I hope you like it!"
      ],
      "metadata": {
        "id": "_av331Syip9Y"
      }
    }
  ]
}